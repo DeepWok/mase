{
 "cells": [
  {
   "cell_type": "code",
   "execution_count": 10,
   "metadata": {},
   "outputs": [],
   "source": [
    "# TODO:\n",
    "# check the transformer ViT result\n",
    "import sys\n",
    "import time\n",
    "from pathlib import Path\n",
    "import torch\n",
    "import argparse\n",
    "from datetime import datetime\n",
    "\n",
    "ROOT = \"/mnt/data/cx922/past/mase-tools\"\n",
    "sys.path.append(ROOT)\n",
    "sys.path.append(ROOT + \"/machop\")\n",
    "from machop.chop.dataset import get_dataset_info, MaseDataModule"
   ]
  },
  {
   "cell_type": "code",
   "execution_count": 6,
   "metadata": {},
   "outputs": [],
   "source": [
    "dataset_name = \"imagenet\"\n",
    "batch_size = 32\n",
    "data_module = MaseDataModule(\n",
    "    name=dataset_name,\n",
    "    batch_size=batch_size,\n",
    "    num_workers=56,\n",
    "    tokenizer=None,\n",
    "    max_token_len=512,\n",
    "    load_from_cache_file=True,\n",
    "    model_name=\"vit_base_patch16\",\n",
    ")\n",
    "data_module.prepare_data()\n",
    "data_module.setup()"
   ]
  },
  {
   "cell_type": "code",
   "execution_count": 13,
   "metadata": {},
   "outputs": [],
   "source": [
    "from utils import acc_cal\n",
    "\n",
    "from transformers import ViTForImageClassification\n",
    "model = ViTForImageClassification.from_pretrained(\"google/vit-base-patch16-224\", attn_implementation=\"sdpa\", torch_dtype=torch.float16)"
   ]
  },
  {
   "cell_type": "code",
   "execution_count": 14,
   "metadata": {},
   "outputs": [
    {
     "name": "stderr",
     "output_type": "stream",
     "text": [
      "  0%|          | 0/1563 [00:00<?, ?it/s]"
     ]
    },
    {
     "name": "stderr",
     "output_type": "stream",
     "text": [
      "  0%|          | 0/1563 [00:02<?, ?it/s]\n"
     ]
    },
    {
     "ename": "AttributeError",
     "evalue": "'ImageClassifierOutput' object has no attribute 'argmax'",
     "output_type": "error",
     "traceback": [
      "\u001b[0;31m---------------------------------------------------------------------------\u001b[0m",
      "\u001b[0;31mAttributeError\u001b[0m                            Traceback (most recent call last)",
      "Cell \u001b[0;32mIn[14], line 2\u001b[0m\n\u001b[1;32m      1\u001b[0m test_dataloader \u001b[38;5;241m=\u001b[39m data_module\u001b[38;5;241m.\u001b[39mtest_dataloader()\n\u001b[0;32m----> 2\u001b[0m acc_after \u001b[38;5;241m=\u001b[39m \u001b[43macc_cal\u001b[49m\u001b[43m(\u001b[49m\u001b[43mmodel\u001b[49m\u001b[43m,\u001b[49m\u001b[43m \u001b[49m\u001b[43mtest_dataloader\u001b[49m\u001b[43m)\u001b[49m\n",
      "File \u001b[0;32m/mnt/data/cx922/past/mase-tools/a4cirrus/utils.py:147\u001b[0m, in \u001b[0;36macc_cal\u001b[0;34m(model, test_loader, max_iteration, description, accelerator)\u001b[0m\n\u001b[1;32m    145\u001b[0m target \u001b[38;5;241m=\u001b[39m target\u001b[38;5;241m.\u001b[39mto(accelerator)\n\u001b[1;32m    146\u001b[0m out \u001b[38;5;241m=\u001b[39m model(inp)\n\u001b[0;32m--> 147\u001b[0m pos_num \u001b[38;5;241m=\u001b[39m torch\u001b[38;5;241m.\u001b[39msum(\u001b[43mout\u001b[49m\u001b[38;5;241;43m.\u001b[39;49m\u001b[43margmax\u001b[49m(\u001b[38;5;241m1\u001b[39m) \u001b[38;5;241m==\u001b[39m target)\u001b[38;5;241m.\u001b[39mitem()\n\u001b[1;32m    148\u001b[0m pos \u001b[38;5;241m+\u001b[39m\u001b[38;5;241m=\u001b[39m pos_num\n\u001b[1;32m    149\u001b[0m tot \u001b[38;5;241m+\u001b[39m\u001b[38;5;241m=\u001b[39m inp\u001b[38;5;241m.\u001b[39msize(\u001b[38;5;241m0\u001b[39m)\n",
      "\u001b[0;31mAttributeError\u001b[0m: 'ImageClassifierOutput' object has no attribute 'argmax'"
     ]
    }
   ],
   "source": [
    "\n",
    "test_dataloader = data_module.test_dataloader()\n",
    "acc_after = acc_cal(model, test_dataloader)"
   ]
  }
 ],
 "metadata": {
  "kernelspec": {
   "display_name": "mase",
   "language": "python",
   "name": "python3"
  },
  "language_info": {
   "codemirror_mode": {
    "name": "ipython",
    "version": 3
   },
   "file_extension": ".py",
   "mimetype": "text/x-python",
   "name": "python",
   "nbconvert_exporter": "python",
   "pygments_lexer": "ipython3",
   "version": "3.11.4"
  }
 },
 "nbformat": 4,
 "nbformat_minor": 2
}
