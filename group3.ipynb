{
  "cells": [
    {
      "cell_type": "code",
      "execution_count": null,
      "metadata": {
        "id": "XKTqvbDubL_N"
      },
      "outputs": [],
      "source": [
        "!git clone https://github.com/Ruiqi-Shen/mase.git"
      ]
    },
    {
      "cell_type": "code",
      "execution_count": null,
      "metadata": {
        "id": "285XpUtObPU0"
      },
      "outputs": [],
      "source": [
        "%cd /content/mase/machop"
      ]
    },
    {
      "cell_type": "code",
      "execution_count": null,
      "metadata": {
        "id": "JCGegQN-bRXr"
      },
      "outputs": [],
      "source": [
        "!python -m pip install -r requirements.txt"
      ]
    },
    {
      "cell_type": "code",
      "execution_count": null,
      "metadata": {
        "id": "a7u8QudQbUR7"
      },
      "outputs": [],
      "source": [
        "from google.colab import drive\n",
        "drive.mount(\"/content/drive\")"
      ]
    },
    {
      "cell_type": "code",
      "execution_count": null,
      "metadata": {
        "id": "bB_rmYEAbV9N"
      },
      "outputs": [],
      "source": [
        "'''\n",
        "Download the pre-trained VGG7 model(called test-accu-0.9332.ckpt)\n",
        "Save it to /content/drive/MyDrive/test-accu-0.9332.ckpt\n",
        "'''"
      ]
    },
    {
      "cell_type": "code",
      "execution_count": null,
      "metadata": {
        "id": "QGoY_VbMbyv7"
      },
      "outputs": [],
      "source": [
        "'''\n",
        "Change the toml file at chop/configs/example/group3.toml:\n",
        "load_model = \"/content/drive/MyDrive/test-accu-0.9332.ckpt\"\n",
        "'''"
      ]
    },
    {
      "cell_type": "code",
      "execution_count": null,
      "metadata": {
        "id": "ZLw1kXGUcTmj"
      },
      "outputs": [],
      "source": [
        "# transform\n",
        "!./ch transform --config configs/examples/group3.toml"
      ]
    },
    {
      "cell_type": "code",
      "execution_count": null,
      "metadata": {
        "id": "Q4jeMrXvcYqb"
      },
      "outputs": [],
      "source": [
        "# test\n",
        "!python test/passes/graph/transforms/prune/test_group3.py"
      ]
    }
  ],
  "metadata": {
    "accelerator": "GPU",
    "colab": {
      "gpuType": "T4",
      "provenance": []
    },
    "kernelspec": {
      "display_name": "Python 3",
      "name": "python3"
    },
    "language_info": {
      "name": "python"
    }
  },
  "nbformat": 4,
  "nbformat_minor": 0
}
