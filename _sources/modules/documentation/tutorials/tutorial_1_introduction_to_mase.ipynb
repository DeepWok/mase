{
 "cells": [
  {
   "cell_type": "markdown",
   "metadata": {},
   "source": [
    "# Tutorial 1: Introduction to the Mase IR, MaseGraph and Torch FX passes"
   ]
  },
  {
   "cell_type": "markdown",
   "metadata": {},
   "source": [
    "In this tutorial, we'll see how to import a model into Mase by generating a compute graph using the [MaseGraph](https://github.com/DeepWok/mase/blob/adls_2024/src/chop/ir/graph/mase_graph.py) API and how to start optimizing models using analysis and transform passes. First, we'll import a pretrained model directly from [HuggingFace Transformers](https://github.com/huggingface/transformers). For this example, we'll use Bert for sequence classification. You can read the [Bert paper](https://arxiv.org/abs/1810.04805) for information regarding the architecture.\n",
    "\n",
    "We get a warning saying that some weights were not initialized, since only the weights in the decoder are pretrained and included in the HuggingFace Hub. When we use the [AutoModelForSequenceClassification](https://huggingface.co/docs/transformers/model_doc/auto) API, a classification head is added at the end of the model, with randomly initialized weights."
   ]
  },
  {
   "cell_type": "code",
   "execution_count": 1,
   "metadata": {},
   "outputs": [
    {
     "name": "stderr",
     "output_type": "stream",
     "text": [
      "/Users/yz10513/anaconda3/envs/mase/lib/python3.11/site-packages/tqdm/auto.py:21: TqdmWarning: IProgress not found. Please update jupyter and ipywidgets. See https://ipywidgets.readthedocs.io/en/stable/user_install.html\n",
      "  from .autonotebook import tqdm as notebook_tqdm\n",
      "Some weights of BertForSequenceClassification were not initialized from the model checkpoint at prajjwal1/bert-tiny and are newly initialized: ['classifier.bias', 'classifier.weight']\n",
      "You should probably TRAIN this model on a down-stream task to be able to use it for predictions and inference.\n"
     ]
    },
    {
     "name": "stdout",
     "output_type": "stream",
     "text": [
      "BertForSequenceClassification(\n",
      "  (bert): BertModel(\n",
      "    (embeddings): BertEmbeddings(\n",
      "      (word_embeddings): Embedding(30522, 128, padding_idx=0)\n",
      "      (position_embeddings): Embedding(512, 128)\n",
      "      (token_type_embeddings): Embedding(2, 128)\n",
      "      (LayerNorm): LayerNorm((128,), eps=1e-12, elementwise_affine=True)\n",
      "      (dropout): Dropout(p=0.1, inplace=False)\n",
      "    )\n",
      "    (encoder): BertEncoder(\n",
      "      (layer): ModuleList(\n",
      "        (0-1): 2 x BertLayer(\n",
      "          (attention): BertAttention(\n",
      "            (self): BertSdpaSelfAttention(\n",
      "              (query): Linear(in_features=128, out_features=128, bias=True)\n",
      "              (key): Linear(in_features=128, out_features=128, bias=True)\n",
      "              (value): Linear(in_features=128, out_features=128, bias=True)\n",
      "              (dropout): Dropout(p=0.1, inplace=False)\n",
      "            )\n",
      "            (output): BertSelfOutput(\n",
      "              (dense): Linear(in_features=128, out_features=128, bias=True)\n",
      "              (LayerNorm): LayerNorm((128,), eps=1e-12, elementwise_affine=True)\n",
      "              (dropout): Dropout(p=0.1, inplace=False)\n",
      "            )\n",
      "          )\n",
      "          (intermediate): BertIntermediate(\n",
      "            (dense): Linear(in_features=128, out_features=512, bias=True)\n",
      "            (intermediate_act_fn): GELUActivation()\n",
      "          )\n",
      "          (output): BertOutput(\n",
      "            (dense): Linear(in_features=512, out_features=128, bias=True)\n",
      "            (LayerNorm): LayerNorm((128,), eps=1e-12, elementwise_affine=True)\n",
      "            (dropout): Dropout(p=0.1, inplace=False)\n",
      "          )\n",
      "        )\n",
      "      )\n",
      "    )\n",
      "    (pooler): BertPooler(\n",
      "      (dense): Linear(in_features=128, out_features=128, bias=True)\n",
      "      (activation): Tanh()\n",
      "    )\n",
      "  )\n",
      "  (dropout): Dropout(p=0.1, inplace=False)\n",
      "  (classifier): Linear(in_features=128, out_features=2, bias=True)\n",
      ")\n"
     ]
    }
   ],
   "source": [
    "from transformers import AutoModelForSequenceClassification\n",
    "\n",
    "model = AutoModelForSequenceClassification.from_pretrained(\"prajjwal1/bert-tiny\")\n",
    "\n",
    "print(model)"
   ]
  },
  {
   "cell_type": "markdown",
   "metadata": {},
   "source": [
    "## Generate an FX graph for the model"
   ]
  },
  {
   "cell_type": "markdown",
   "metadata": {},
   "source": [
    "To import a model into Mase, we need to generate a compute graph. In the Machine Learning community, there are several ways of capturing and representing a compute graph, such as [ONNX](https://onnx.ai/), [Torchscript](https://pytorch.org/docs/stable/jit.html), [MLIR](https://mlir.llvm.org/), [TVM](https://tvm.apache.org/), etc. Mase relies on [Torch FX](https://pytorch.org/docs/stable/fx.html), which has the following features and benefits:\n",
    "\n",
    "- **High-level IR**: unlike `LLVM` or `MLIR`, `FX` offers a high-level representation of the computation which enables fast optimizations.\n",
    "\n",
    "- **Pytorch native**: every operator in the FX graph correlates to a Python object or callable, meaning we can transform and optimize the graph, then simply regenerate the Python code required to run it. Unlike ONNX, there is no requirement for a dedicated runtime: all you need is Python.\n",
    "\n",
    "When you call `MaseGraph(model)`, the [MaseTracer](https://github.com/DeepWok/mase/blob/main/src/chop/ir/graph/mase_graph.py) class runs a forward pass of the model with `Proxy` objects instead of the regular `Tensor` objects. These Proxies record every operation performed on them, which is then used to generate the compute graph. The following cell generates the graph and generates a drawing of the result."
   ]
  },
  {
   "cell_type": "code",
   "execution_count": 2,
   "metadata": {},
   "outputs": [
    {
     "name": "stderr",
     "output_type": "stream",
     "text": [
      "`past_key_values` were not specified as input names, but model.config.use_cache = True. Setting model.config.use_cache = False.\n"
     ]
    }
   ],
   "source": [
    "from chop import MaseGraph\n",
    "\n",
    "mg = MaseGraph(model)\n",
    "mg.draw(\"bert-base-uncased.svg\")"
   ]
  },
  {
   "cell_type": "markdown",
   "metadata": {},
   "source": [
    "There are 6 different types of nodes in an FX graph: `placeholder`, `get_attr`, `call_function`, `call_module`, `call_method`, `output`. Each node has several associated attributes, such as `name`, `args`/`kwargs` and `target`. These have different contents and meaning depending on the node type. We provide a summary below, but for more details, see the [FX documentation](https://pytorch.org/docs/stable/fx.html). \n",
    "\n",
    "- **placeholder**: represents a function input, which can be a `Tensor` or another Python object.\n",
    "\n",
    "- **get_attr**: retrieves a parameter from the Pytorch module hierarchy. `target` is the fully-qualified string name of the parameter’s position in the module hierarchy.\n",
    "\n",
    "- **call_function**: applies a free function to some values. `target` is a handle to the Python callable. `args` and `kwargs` represent the arguments to the function, following the Python calling convention.\n",
    "\n",
    "- **call_module**: applies a module in the module hierarchy’s `forward()` method with the given arguments. `target` is the fully-qualified string name of the module in the module hierarchy to call.\n",
    "\n",
    "- **call_method**: calls a method on a value. `target` is the string name of the method to apply to the self argument.\n",
    "\n",
    "- **output**: contains the output of the traced function in its args[0] attribute. This corresponds to the `return` statement in the Graph printout.\n",
    "\n",
    "You may be wondering the difference between `call_function`, `call_method` and `call_module` nodes: `call_function` nodes can have arbitrary Python callable as targets, while the target for `call_method` nodes must be a `Tensor` class method. `call_module` nodes refer to `torch.nn.Module` objects which must be included in the Pytorch module hierarchy. For example, the Pytorch ReLU activation function can be seen any of these node types:\n",
    "\n"
   ]
  },
  {
   "cell_type": "code",
   "execution_count": 3,
   "metadata": {},
   "outputs": [],
   "source": [
    "import torch\n",
    "\n",
    "random_tensor = torch.randn(2, 2)\n",
    "\n",
    "function_relu = torch.relu(random_tensor)\n",
    "method_relu = random_tensor.relu()\n",
    "module_relu = torch.nn.ReLU()(random_tensor)\n",
    "\n",
    "assert torch.equal(function_relu, method_relu)\n",
    "assert torch.equal(function_relu, module_relu)"
   ]
  },
  {
   "cell_type": "markdown",
   "metadata": {},
   "source": [
    "Open the generated SVG file (you may find this [VSCode extension](https://marketplace.visualstudio.com/items?itemName=SimonSiefke.svg-preview) useful) and inspect each node. If you can't generate the image, we show below a segment of the graph that corresponds to the first attention layer of the Bert encoder. If you also inspect the [Bert implementation](https://github.com/huggingface/transformers/blob/main/src/transformers/models/bert/modeling_bert.py) in the HuggingFace repository, you can see how each node in the generated graph corresponds to lines in the Python code. For example, the `bert_encoder_layer_0_attention_self_<query/key/value>` nodes correspond to the calls to the Query/Key/Value linear layers defined in the `BertSelfAttention` class. You can also see how not every piece of code has an associated node in the graph - when the code is being symbolically traced, parts of the code that aren't executed (for example, if statements which never yield `True`) don't interact with the `Proxy` objects, hence they're not included in the graph.\n",
    "\n",
    "<img src=\"imgs/fx_graph_bert_base_uncased_num_hidden_layers_1_segment.png\" alt=\"drawing\" width=\"1200\"/>"
   ]
  },
  {
   "cell_type": "markdown",
   "metadata": {},
   "source": [
    "## Understanding the Mase IR"
   ]
  },
  {
   "cell_type": "markdown",
   "metadata": {},
   "source": [
    "As previously mentioned, the Mase IR is built on top of Torch FX. However, the FX operator associated with each node in the graph refers broadly to Python semantics, such as how to execute code generation for a transformed graph. For example, when the FX code generator encounters a `call_function` node, it would know to generate code equivalent to `node.target(*node.args, **node.kwargs)`, while for `call_method` nodes, the code would correspond to `getattr(node.args[0], node.target)(*args[1:], **kwargs)`. However, beyond code generation, the FX IR has no information regarding the workload being executed by the graph - that's where the Mase IR comes in. \n",
    "\n",
    "As described in previous publications, the major benefit of the Mase IR is in offering a common abstraction layer for both hardware and software workloads (see [here](https://arxiv.org/abs/2307.15517), [here](https://openreview.net/forum?id=Z7v6mxNVdU)). You can find a list of Mase operators under the [IR definition file](https://github.com/DeepWok/mase/blob/main/src/chop/ir/common.py). You can see that most operators correspond strongly with either Pytorch or ONNX operators. Each operator is also associated with a node type, which can be one of the following. \n",
    "\n",
    "-  ``module_related_func``: includes functions under ``torch.nn.functional`` and the ``torch.nn.Module`` that wraps them. For example, ``torch.nn.functional.relu`` and ``torch.nn.ReLU`` both fall under this category.\n",
    "\n",
    "-  ``module``: a MASE module is a subclass of ``torch.nn.Module`` that does not have corresponding ``torch.nn.functional`` counterpart. For example, ``torch.nn.BatchNorm2D`` is a MASE module because ``torch.nn.functional.batch_norm_2d`` does not exist.\n",
    "\n",
    "-  ``builtin_func``: MASE builtin_func includes functions under ``torch`` that are not ``torch.nn.functional`` and ``torch.nn.Module``, such as ``torch.cat`` and ``torch.bmm``.\n",
    "\n",
    "The following types are also present, which have the same meaning as in Torch FX.\n",
    "\n",
    "-  ``placeholder``: input node of a MASEGraph.\n",
    "\n",
    "-  ``get_attr``: represents the attribute of a MASE module.\n",
    "\n",
    "-  ``output``: equivalent to the return statement in the forward function."
   ]
  },
  {
   "cell_type": "markdown",
   "metadata": {},
   "source": [
    "## Understanding the Pass System"
   ]
  },
  {
   "cell_type": "markdown",
   "metadata": {},
   "source": [
    "If you have worked with compilers, you might be familiar with the concept of a pass, which is a function that iterates over each node in the graph to perform some task. In Mase, there are two categories of passes: analysis and transform passes. \n",
    "\n",
    "- **Analysis passes**: extract some information about each node, annotate nodes with relevant data, and generate payloads to be used by subsequent passes.\n",
    "- **Transform passes**: change the topology of the graph by inserting, removing or replacing nodes.\n",
    "\n",
    "All passes, whether analysis or transform, have the following structure. Every pass accepts a dictionary `pass_args` containing required arguments, and outputs a tuple of the output graph (which can be annotated or transformed) and a `pass_outputs` dictionary. A pass doesn't need to use any arguments or generate any outputs (other than the output graph), however the argument and return signatures must follow this standard such that passes can be chained together.\n",
    "\n",
    "```python\n",
    "\n",
    "def dummy_pass(mg, pass_args={}):\n",
    "    \n",
    "    # ... do some setup \n",
    "    pass_outputs = {}\n",
    "\n",
    "    for node in mg.fx_graph.nodes:\n",
    "        # ... do stuff\n",
    "\n",
    "    return mg, pass_outputs\n",
    "\n",
    "```\n",
    "\n",
    "Next, we'll show how to run some analysis passes required to raise the generated FX graph to the Mase IR. Then, we'll come back to see how to write some simple analysis passes to do useful things."
   ]
  },
  {
   "cell_type": "markdown",
   "metadata": {},
   "source": [
    "## Raising the FX graph to the Mase IR"
   ]
  },
  {
   "cell_type": "markdown",
   "metadata": {},
   "source": [
    "To convert the simple FX graph we generated into the Mase IR, we must run the following analysis passes, which annotate each node with relevant metadata. Note that metadata follows under three categories: `common`, `hardware` and `software`. Hardware metadata is used for generating FPGA accelerators in the [emit Verilog toolflow](https://github.com/DeepWok/mase/tree/adls_2024/src/chop/passes/graph/transforms/verilog) (see Lab 4), while software metadata is used by passes such as [autosharding](https://github.com/DeepWok/mase/tree/main/src/chop/passes/graph/analysis/autosharding), which automatically finds a model parallelism configuration in a GPU cluster. Common metadata is generally required by all workflows in Mase.\n",
    "\n",
    "- **init_metadata_analysis_pass**: initializes a `MaseMetadata` object for each node in the graph, which behaves like a dictionary and is stored under `node.meta[\"mase\"]`. Each metadata instance has the following structure, which is empty at initialization. See [here](https://deepwok.github.io/mase/modules/api/analysis/init_metadata.html) for details on the implementation.\n",
    "\n",
    "```python\n",
    "        node.meta[\"mase\"] = {\n",
    "            \"common\": {},\n",
    "            \"hardware\": {},\n",
    "            \"software\": {},\n",
    "        }\n",
    "```\n",
    "\n",
    "- **add_common_metadata_analysis_pass**: populates the `node.meta[\"mase\"][\"common\"]` dictionary by executing the following two steps. See [here](https://deepwok.github.io/mase/modules/api/analysis/add_metadata.html) for details on the implementation.\n",
    "    - **Operator inference**: determine the operator associated with each node in the graph from its fx operator and target, and annotate under `node.meta[\"mase\"][\"common\"][\"mase_op\"]`\n",
    "    - **Shape Propagation**: similarly to the [Interpreter Pattern](https://pytorch.org/docs/stable/fx.html#the-interpreter-pattern) in the FX documentation, this involves running a forward pass of the entire model with a provided dummy input, and observing the Tensor metadata (shape, data type, stride, etc) of each argument and result for every node in the graph. This is then annotated under `node.meta[\"mase\"][\"common\"][\"args\"]` and `node.meta[\"mase\"][\"common\"][\"results\"]`.\n",
    "\n",
    "The `add_common_metadata_analysis_pass` requires a dummy Tensor input to run the shape propagation step. In the following cell, we show how this can be done using the HuggingFace tokenizer, to which we pass two truthful statements."
   ]
  },
  {
   "cell_type": "code",
   "execution_count": 4,
   "metadata": {},
   "outputs": [],
   "source": [
    "import torch\n",
    "import chop.passes as passes\n",
    "from transformers import AutoTokenizer\n",
    "\n",
    "tokenizer = AutoTokenizer.from_pretrained(\"bert-base-uncased\")\n",
    "\n",
    "dummy_input = tokenizer(\n",
    "    [\n",
    "        \"AI may take over the world one day\",\n",
    "        \"This is why you should learn ADLS\",\n",
    "    ],\n",
    "    return_tensors=\"pt\",\n",
    ")\n",
    "\n",
    "mg, _ = passes.init_metadata_analysis_pass(mg)\n",
    "mg, _ = passes.add_common_metadata_analysis_pass(\n",
    "    mg,\n",
    "    pass_args={\n",
    "        \"dummy_in\": dummy_input,\n",
    "        \"add_value\": False,\n",
    "    },\n",
    ")"
   ]
  },
  {
   "cell_type": "markdown",
   "metadata": {},
   "source": [
    "## Example: writing an analysis pass"
   ]
  },
  {
   "cell_type": "markdown",
   "metadata": {},
   "source": [
    "Writing an analysis pass is often simple - in the following example, we implement a pass which counts the number of dropout layers in the graph. We also show how to use the `get_logger` API from `chop.tools` to provide information about the graph to the user at runtime."
   ]
  },
  {
   "cell_type": "code",
   "execution_count": null,
   "metadata": {},
   "outputs": [],
   "source": [
    "from chop.tools import get_logger\n",
    "\n",
    "logger = get_logger(\"mase_logger\")\n",
    "logger.setLevel(\"INFO\")\n",
    "\n",
    "\n",
    "def count_dropout_analysis_pass(mg, pass_args={}):\n",
    "\n",
    "    dropout_modules = 0\n",
    "    dropout_functions = 0\n",
    "\n",
    "    for node in mg.fx_graph.nodes:\n",
    "        if node.op == \"call_module\" and \"dropout\" in node.target:\n",
    "            logger.info(f\"Found dropout module: {node.target}\")\n",
    "            dropout_modules += 1\n",
    "        else:\n",
    "            logger.debug(f\"Skipping node: {node.target}\")\n",
    "\n",
    "    return mg, {\"dropout_count\": dropout_modules + dropout_functions}\n",
    "\n",
    "\n",
    "mg, pass_out = count_dropout_analysis_pass(mg)\n",
    "\n",
    "logger.info(f\"Dropout count is: {pass_out['dropout_count']}\")"
   ]
  },
  {
   "cell_type": "markdown",
   "metadata": {},
   "source": [
    "## Example: writing a transform pass\n"
   ]
  },
  {
   "cell_type": "markdown",
   "metadata": {},
   "source": [
    "In this example, we delete all dropout nodes from the graph. Dropout is a useful training technique, but it doesn't have any effect on the activations at inference time, hence these nodes can be removed to simplify the graph. Transform passes may involve deleting, inserting, or replacing nodes in the graph. When doing this, we must carefully handle the arguments to ensure the graph topology is valid after transformation. Before erasing the dropout nodes, we must first find all other nodes that take the output of the dropout node as arguments, by running `node.replace_all_uses_with`. Without doing this, there would still be nodes that require arguments that no longer exist. \n",
    "\n",
    "> **Task**: Delete the call to `replace_all_uses_with` to verify that FX will report a RuntimeError.\n",
    "\n",
    "Finally, we rerun the analysis pass previously implemented to recount the number of dropout modules, and verify this is now zero."
   ]
  },
  {
   "cell_type": "code",
   "execution_count": null,
   "metadata": {},
   "outputs": [],
   "source": [
    "import torch.fx as fx\n",
    "\n",
    "\n",
    "def remove_dropout_transform_pass(mg, pass_args={}):\n",
    "\n",
    "    for node in mg.fx_graph.nodes:\n",
    "        if node.op == \"call_module\" and \"dropout\" in node.target:\n",
    "            logger.info(f\"Removing dropout module: {node.target}\")\n",
    "\n",
    "            # Replace all users of the dropout node with its parent node\n",
    "            parent_node = node.args[0]\n",
    "            logger.debug(f\"This dropout module has parent node: {parent_node}\")\n",
    "            node.replace_all_uses_with(parent_node)\n",
    "\n",
    "            # Erase the dropout node\n",
    "            mg.fx_graph.erase_node(node)\n",
    "        else:\n",
    "            logger.debug(f\"Skipping node: {node.target}\")\n",
    "\n",
    "    return mg, {}\n",
    "\n",
    "\n",
    "mg, _ = remove_dropout_transform_pass(mg)\n",
    "mg, pass_out = count_dropout_analysis_pass(mg)\n",
    "\n",
    "assert pass_out[\"dropout_count\"] == 0"
   ]
  },
  {
   "cell_type": "markdown",
   "metadata": {},
   "source": [
    "## Exporting the MaseGraph"
   ]
  },
  {
   "cell_type": "markdown",
   "metadata": {},
   "source": [
    "You can export the transformed MaseGraph to be shared and used in future tutorials, by running the `mg.export()` command."
   ]
  },
  {
   "cell_type": "code",
   "execution_count": null,
   "metadata": {},
   "outputs": [],
   "source": [
    "from pathlib import Path\n",
    "\n",
    "mg.export(f\"{Path.home()}/tutorial_1\")"
   ]
  },
  {
   "cell_type": "markdown",
   "metadata": {},
   "source": [
    "After exporting, you can pick up where you left off by running the `MaseGraph.from_checkpoint` constructor."
   ]
  },
  {
   "cell_type": "code",
   "execution_count": null,
   "metadata": {},
   "outputs": [],
   "source": [
    "new_mg = MaseGraph.from_checkpoint(f\"{Path.home()}/tutorial_1\")"
   ]
  }
 ],
 "metadata": {
  "kernelspec": {
   "display_name": "mase",
   "language": "python",
   "name": "python3"
  },
  "language_info": {
   "codemirror_mode": {
    "name": "ipython",
    "version": 3
   },
   "file_extension": ".py",
   "mimetype": "text/x-python",
   "name": "python",
   "nbconvert_exporter": "python",
   "pygments_lexer": "ipython3",
   "version": "3.11.9"
  }
 },
 "nbformat": 4,
 "nbformat_minor": 2
}
