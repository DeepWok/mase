{
 "cells": [
  {
   "cell_type": "code",
   "execution_count": 2,
   "metadata": {},
   "outputs": [
    {
     "name": "stderr",
     "output_type": "stream",
     "text": [
      "/home/xz2723/miniforge3/envs/mase/lib/python3.11/site-packages/tqdm/auto.py:21: TqdmWarning: IProgress not found. Please update jupyter and ipywidgets. See https://ipywidgets.readthedocs.io/en/stable/user_install.html\n",
      "  from .autonotebook import tqdm as notebook_tqdm\n"
     ]
    }
   ],
   "source": [
    "# mase_xinyi/machop/chop/actions/search/search_space/zero_cost/xautodl\n",
    "import os\n",
    "os.chdir(\"/home/xz2723/mase_xinyi/machop\")\n",
    "# /home/xz2723/mase_xinyi/machop/chop/actions/search/strategies/runners/software\n",
    "from chop.actions.search.search_space.zero_cost.xautodl.models import get_cell_based_tiny_net\n",
    "from chop.actions.search.search_space.zero_cost_nas.pruners.predictive import find_measures\n",
    "# from xautodl.models import get_cell_based_tiny_net\n",
    "from nas_201_api import NASBench201API as API"
   ]
  },
  {
   "cell_type": "code",
   "execution_count": 3,
   "metadata": {},
   "outputs": [],
   "source": [
    "from chop.dataset import MaseDataModule, get_dataset_info\n",
    "from chop.tools.logger import set_logging_verbosity\n",
    "\n",
    "from chop.passes.graph import (\n",
    "    save_node_meta_param_interface_pass,\n",
    "    report_node_meta_param_analysis_pass,\n",
    "    profile_statistics_analysis_pass,\n",
    "    add_common_metadata_analysis_pass,\n",
    "    init_metadata_analysis_pass,\n",
    "    add_software_metadata_analysis_pass,\n",
    ")\n",
    "from chop.tools.get_input import InputGenerator\n",
    "from chop.tools.checkpoint_load import load_model\n",
    "from chop.ir import MaseGraph\n",
    "\n",
    "from chop.models import get_model_info, get_model\n",
    "\n",
    "import torch.nn.functional as F\n",
    "\n",
    "from chop.ir import MaseGraph"
   ]
  },
  {
   "cell_type": "code",
   "execution_count": 4,
   "metadata": {},
   "outputs": [
    {
     "name": "stdout",
     "output_type": "stream",
     "text": [
      "Files already downloaded and verified\n",
      "Files already downloaded and verified\n",
      "Files already downloaded and verified\n",
      "Files already downloaded and verified\n",
      "Files already downloaded and verified\n",
      "Files already downloaded and verified\n",
      "Files already downloaded and verified\n",
      "Files already downloaded and verified\n"
     ]
    }
   ],
   "source": [
    "batch_size = 8\n",
    "model_name = \"vgg7\"\n",
    "dataset_name = \"cifar10\"\n",
    "\n",
    "data_module = MaseDataModule(\n",
    "    name=dataset_name,\n",
    "    batch_size=batch_size,\n",
    "    model_name=model_name,\n",
    "    num_workers=0,\n",
    ")\n",
    "\n",
    "data_module.prepare_data()\n",
    "data_module.setup()\n",
    "\n",
    "model_info = get_model_info(model_name)\n",
    "\n",
    "model = get_model(\n",
    "    model_name,\n",
    "    task=\"cls\",\n",
    "    dataset_info=data_module.dataset_info,\n",
    "    pretrained=False,\n",
    ")\n",
    "\n",
    "input_generator = InputGenerator(\n",
    "    data_module=data_module,\n",
    "    model_info=model_info,\n",
    "    task=\"cls\",\n",
    "    which_dataloader=\"train\",\n",
    ")\n",
    "\n",
    "# a demonstration of how to feed an input value to the model\n",
    "dummy_in = next(iter(input_generator))\n",
    "_ = model(**dummy_in)\n"
   ]
  },
  {
   "cell_type": "code",
   "execution_count": 9,
   "metadata": {},
   "outputs": [],
   "source": [
    "mg = MaseGraph(model=model)\n",
    "mg, _ = init_metadata_analysis_pass(mg, None)\n",
    "mg, _ = add_common_metadata_analysis_pass(mg, {\"dummy_in\": dummy_in})\n",
    "mg, _ = add_software_metadata_analysis_pass(mg, None)"
   ]
  },
  {
   "cell_type": "code",
   "execution_count": 12,
   "metadata": {},
   "outputs": [
    {
     "name": "stdout",
     "output_type": "stream",
     "text": [
      "{'common': {'mase_type': 'placeholder', 'mase_op': 'placeholder', 'args': {}, 'results': {'data_out_0': {'type': 'float', 'precision': [32], 'shape': [8, 3, 32, 32], 'torch_dtype': torch.float32, 'value': tensor([[[[ 0.0741,  0.1083,  0.0056,  ...,  1.5639,  0.7933,  0.4851],\n",
      "          [ 0.0056,  0.1254,  0.0741,  ...,  0.2453,  0.7077,  0.2967],\n",
      "          [ 0.0569,  0.1254,  0.1254,  ..., -0.6400,  0.3309,  0.1083],\n",
      "          ...,\n",
      "          [-0.3883, -0.3883, -0.3883,  ..., -0.3883, -0.3883, -0.3883],\n",
      "          [-0.3883, -0.3883, -0.3883,  ..., -0.3883, -0.3883, -0.3883],\n",
      "          [-0.3883, -0.3883, -0.3883,  ..., -0.3883, -0.3883, -0.3883]],\n",
      "\n",
      "         [[ 0.4678,  0.4853,  0.3452,  ...,  0.2227,  1.2731,  0.8704],\n",
      "          [ 0.4153,  0.5203,  0.4153,  ...,  0.5378,  1.0980,  0.6254],\n",
      "          [ 0.5028,  0.5553,  0.5728,  ...,  0.7406,  0.6078,  0.3803],\n",
      "          ...,\n",
      "          [-0.2675, -0.2675, -0.2675,  ..., -0.2675, -0.2675, -0.2675],\n",
      "          [-0.2675, -0.2675, -0.2675,  ..., -0.2675, -0.2675, -0.2675],\n",
      "          [-0.2675, -0.2675, -0.2675,  ..., -0.2675, -0.2675, -0.2675]],\n",
      "\n",
      "         [[ 0.3393,  0.4091,  0.4091,  ...,  1.9080,  1.0191,  0.6008],\n",
      "          [ 0.3568,  0.5136,  0.4788,  ...,  0.6182,  1.0539,  0.5485],\n",
      "          [ 0.4439,  0.4962,  0.5136,  ..., -0.7133,  0.6879,  0.4614],\n",
      "          ...,\n",
      "          [-0.0441, -0.0441, -0.0441,  ..., -0.0441, -0.0441, -0.0441],\n",
      "          [-0.0441, -0.0441, -0.0441,  ..., -0.0441, -0.0441, -0.0441],\n",
      "          [-0.0441, -0.0441, -0.0441,  ..., -0.0441, -0.0441, -0.0441]]],\n",
      "\n",
      "\n",
      "        [[[-1.8782, -1.9809, -1.9809,  ...,  0.6563, -2.1179, -2.1179],\n",
      "          [-1.9124, -1.9638, -1.9467,  ...,  0.5193, -2.1179, -2.1179],\n",
      "          [-1.9467, -1.9124, -1.8953,  ...,  0.5536, -2.1179, -2.1179],\n",
      "          ...,\n",
      "          [ 1.8037,  1.5297,  1.3413,  ...,  2.2318, -2.1179, -2.1179],\n",
      "          [-2.1179, -2.1179, -2.1179,  ..., -2.1179, -2.1179, -2.1179],\n",
      "          [-2.1179, -2.1179, -2.1179,  ..., -2.1179, -2.1179, -2.1179]],\n",
      "\n",
      "         [[-1.8081, -1.8081, -1.8256,  ...,  0.7654, -2.0357, -2.0357],\n",
      "          [-1.8081, -1.8256, -1.8782,  ...,  0.6254, -2.0357, -2.0357],\n",
      "          [-1.8431, -1.8782, -1.8782,  ...,  0.6254, -2.0357, -2.0357],\n",
      "          ...,\n",
      "          [ 1.6057,  1.2031,  1.0105,  ...,  2.2360, -2.0357, -2.0357],\n",
      "          [-2.0357, -2.0357, -2.0357,  ..., -2.0357, -2.0357, -2.0357],\n",
      "          [-2.0357, -2.0357, -2.0357,  ..., -2.0357, -2.0357, -2.0357]],\n",
      "\n",
      "         [[-1.4559, -1.5604, -1.6127,  ...,  0.2696, -1.8044, -1.8044],\n",
      "          [-1.5430, -1.6824, -1.6127,  ...,  0.0256, -1.8044, -1.8044],\n",
      "          [-1.5779, -1.6127, -1.6302,  ...,  0.0779, -1.8044, -1.8044],\n",
      "          ...,\n",
      "          [ 1.2980,  0.8448,  0.5659,  ...,  2.5877, -1.8044, -1.8044],\n",
      "          [-1.8044, -1.8044, -1.8044,  ..., -1.8044, -1.8044, -1.8044],\n",
      "          [-1.8044, -1.8044, -1.8044,  ..., -1.8044, -1.8044, -1.8044]]],\n",
      "\n",
      "\n",
      "        [[[ 0.0056,  0.0056,  0.0056,  ...,  0.7077,  0.6906,  0.4508],\n",
      "          [ 0.0056,  0.0056,  0.0056,  ...,  0.7762,  0.8618,  0.5193],\n",
      "          [ 0.0056,  0.0056,  0.0056,  ...,  0.2111,  0.3994,  0.5878],\n",
      "          ...,\n",
      "          [ 0.0056,  0.0056,  0.0056,  ...,  0.0569,  0.0056,  0.0569],\n",
      "          [ 0.0056,  0.0056,  0.0056,  ..., -0.1314, -0.0801,  0.0227],\n",
      "          [ 0.0056,  0.0056,  0.0056,  ..., -2.1179, -2.1179, -2.1179]],\n",
      "\n",
      "         [[-0.0049, -0.0049, -0.0049,  ...,  1.0105,  0.9405,  0.6954],\n",
      "          [-0.0049, -0.0049, -0.0049,  ...,  0.9930,  1.0280,  0.7479],\n",
      "          [-0.0049, -0.0049, -0.0049,  ...,  0.3277,  0.4678,  0.8004],\n",
      "          ...,\n",
      "          [-0.0049, -0.0049, -0.0049,  ..., -0.1275, -0.1800, -0.1275],\n",
      "          [-0.0049, -0.0049, -0.0049,  ..., -0.2675, -0.2325, -0.1275],\n",
      "          [-0.0049, -0.0049, -0.0049,  ..., -2.0357, -2.0357, -2.0357]],\n",
      "\n",
      "         [[ 0.0082,  0.0082,  0.0082,  ...,  1.4025,  1.2631,  1.0365],\n",
      "          [ 0.0082,  0.0082,  0.0082,  ...,  1.3677,  1.3677,  1.0888],\n",
      "          [ 0.0082,  0.0082,  0.0082,  ...,  0.6356,  0.8622,  1.1237],\n",
      "          ...,\n",
      "          [ 0.0082,  0.0082,  0.0082,  ..., -0.3055, -0.3404, -0.2881],\n",
      "          [ 0.0082,  0.0082,  0.0082,  ..., -0.3753, -0.3230, -0.2532],\n",
      "          [ 0.0082,  0.0082,  0.0082,  ..., -1.8044, -1.8044, -1.8044]]],\n",
      "\n",
      "\n",
      "        ...,\n",
      "\n",
      "\n",
      "        [[[-2.1179, -2.1179, -2.1179,  ..., -2.1179, -2.1179, -2.1179],\n",
      "          [-2.1179, -2.1179, -2.1179,  ..., -2.1179, -2.1179, -2.1179],\n",
      "          [-2.1179, -1.5870, -1.3302,  ..., -1.5699, -1.6555, -2.1179],\n",
      "          ...,\n",
      "          [-2.1179, -1.0562, -0.8678,  ..., -0.4054, -0.3369,  0.2624],\n",
      "          [-2.1179, -0.7993, -0.5424,  ..., -0.3883, -0.4739, -0.3027],\n",
      "          [-2.1179, -0.4568, -0.4739,  ..., -0.4226, -0.5938, -0.3883]],\n",
      "\n",
      "         [[-2.0357, -2.0357, -2.0357,  ..., -2.0357, -2.0357, -2.0357],\n",
      "          [-2.0357, -2.0357, -2.0357,  ..., -2.0357, -2.0357, -2.0357],\n",
      "          [-2.0357, -1.4930, -1.2129,  ..., -1.6331, -1.7031, -2.0357],\n",
      "          ...,\n",
      "          [-2.0357, -0.6352, -0.3901,  ..., -0.1099,  0.0126,  0.6779],\n",
      "          [-2.0357, -0.3200,  0.0301,  ..., -0.0049, -0.0924,  0.1352],\n",
      "          [-2.0357,  0.1352,  0.1001,  ...,  0.0651, -0.1450,  0.0651]],\n",
      "\n",
      "         [[-1.8044, -1.8044, -1.8044,  ..., -1.8044, -1.8044, -1.8044],\n",
      "          [-1.8044, -1.8044, -1.8044,  ..., -1.8044, -1.8044, -1.8044],\n",
      "          [-1.8044, -1.2641, -0.9853,  ..., -1.4036, -1.4559, -1.8044],\n",
      "          ...,\n",
      "          [-1.8044, -1.1247, -0.9853,  ..., -0.5147, -0.4101, -0.1661],\n",
      "          [-1.8044, -1.1421, -0.9853,  ..., -0.6193, -0.6541, -0.6541],\n",
      "          [-1.8044, -1.0724, -1.0898,  ..., -0.8458, -0.8458, -0.7064]]],\n",
      "\n",
      "\n",
      "        [[[-2.1179, -2.1179, -2.1179,  ..., -2.1179, -2.1179, -2.1179],\n",
      "          [ 0.5536,  0.6221,  0.5878,  ...,  0.5536, -2.1179, -2.1179],\n",
      "          [ 0.5193,  0.5536,  0.5364,  ...,  0.5707, -2.1179, -2.1179],\n",
      "          ...,\n",
      "          [ 0.1768,  0.3481,  0.3309,  ...,  0.2796, -2.1179, -2.1179],\n",
      "          [ 0.3652,  0.3823,  0.3652,  ...,  0.5536, -2.1179, -2.1179],\n",
      "          [ 0.5707,  0.8104,  0.8789,  ...,  0.6734, -2.1179, -2.1179]],\n",
      "\n",
      "         [[-2.0357, -2.0357, -2.0357,  ..., -2.0357, -2.0357, -2.0357],\n",
      "          [ 0.5553,  0.6254,  0.5903,  ...,  0.5728, -2.0357, -2.0357],\n",
      "          [ 0.5203,  0.5553,  0.5378,  ...,  0.5903, -2.0357, -2.0357],\n",
      "          ...,\n",
      "          [ 0.2227,  0.3803,  0.3627,  ...,  0.3627, -2.0357, -2.0357],\n",
      "          [ 0.3978,  0.4153,  0.3978,  ...,  0.6078, -2.0357, -2.0357],\n",
      "          [ 0.5728,  0.8179,  0.8880,  ...,  0.7129, -2.0357, -2.0357]],\n",
      "\n",
      "         [[-1.8044, -1.8044, -1.8044,  ..., -1.8044, -1.8044, -1.8044],\n",
      "          [ 0.6531,  0.7228,  0.7054,  ...,  0.6879, -1.8044, -1.8044],\n",
      "          [ 0.6182,  0.6531,  0.6531,  ...,  0.7054, -1.8044, -1.8044],\n",
      "          ...,\n",
      "          [ 0.4091,  0.5485,  0.5136,  ...,  0.5311, -1.8044, -1.8044],\n",
      "          [ 0.5485,  0.5659,  0.5311,  ...,  0.7751, -1.8044, -1.8044],\n",
      "          [ 0.6705,  0.9145,  1.0017,  ...,  0.8622, -1.8044, -1.8044]]],\n",
      "\n",
      "\n",
      "        [[[-2.1179, -2.1179,  0.0056,  ...,  0.0056,  0.0056,  0.0056],\n",
      "          [-0.0116, -0.7308, -1.3473,  ...,  0.0056,  0.0056,  0.0056],\n",
      "          [ 0.4508,  0.6221,  0.8789,  ...,  0.0056,  0.0056,  0.0056],\n",
      "          ...,\n",
      "          [ 0.2624, -0.0287, -0.8164,  ...,  1.6153,  0.7077, -2.1179],\n",
      "          [ 0.0912, -0.0287, -0.6965,  ...,  0.2111, -0.2856, -2.1179],\n",
      "          [-0.1486, -0.2856, -0.5253,  ..., -0.3883, -0.4739, -2.1179]],\n",
      "\n",
      "         [[-2.0357, -2.0357, -0.0049,  ..., -0.0049, -0.0049, -0.0049],\n",
      "          [-0.3200, -0.8978, -1.3880,  ..., -0.0049, -0.0049, -0.0049],\n",
      "          [ 0.0826,  0.2227,  0.5028,  ..., -0.0049, -0.0049, -0.0049],\n",
      "          ...,\n",
      "          [-0.1625, -0.4601, -0.8978,  ...,  1.7633,  0.6078, -2.0357],\n",
      "          [-0.3375, -0.4601, -1.1253,  ...,  0.0126, -0.6877, -2.0357],\n",
      "          [-0.5826, -0.7402, -0.9678,  ..., -0.9328, -1.0728, -2.0357]],\n",
      "\n",
      "         [[-1.8044, -1.8044,  0.0082,  ...,  0.0082,  0.0082,  0.0082],\n",
      "          [-0.3578, -0.8633, -1.2816,  ...,  0.0082,  0.0082,  0.0082],\n",
      "          [ 0.0082,  0.0605,  0.2871,  ...,  0.0082,  0.0082,  0.0082],\n",
      "          ...,\n",
      "          [-0.2881, -0.5844, -1.1770,  ...,  2.0125,  0.7576, -1.8044],\n",
      "          [-0.4624, -0.5844, -1.3687,  ...,  0.0082, -0.7064, -1.8044],\n",
      "          [-0.7064, -0.8458, -1.0201,  ..., -1.1596, -1.2293, -1.8044]]]])}}}, 'software': {'results': {'data_out_0': {'stat': {}}}}, 'hardware': {'is_implicit': True}}\n"
     ]
    }
   ],
   "source": [
    "for node in mg.fx_graph.nodes:\n",
    "    print(node.meta[\"mase\"].parameters)\n",
    "    break"
   ]
  },
  {
   "cell_type": "code",
   "execution_count": 5,
   "metadata": {},
   "outputs": [
    {
     "name": "stdout",
     "output_type": "stream",
     "text": [
      "api loaded\n"
     ]
    }
   ],
   "source": [
    "api = API('/home/xz2723/mase_xinyi/machop/third_party/NAS-Bench-201-v1_1-096897.pth', verbose=False)\n",
    "print(\"api loaded\")\n"
   ]
  },
  {
   "cell_type": "code",
   "execution_count": 7,
   "metadata": {},
   "outputs": [],
   "source": [
    "config = api.get_net_config(1, 'cifar10')\n",
    "model_nasbench = get_cell_based_tiny_net(config)\n",
    "dataload_info = ('random', 1, 10)\n",
    "device = \"cpu\"\n",
    "train_dataloader = data_module.train_dataloader()"
   ]
  },
  {
   "cell_type": "code",
   "execution_count": 8,
   "metadata": {},
   "outputs": [
    {
     "ename": "TypeError",
     "evalue": "'DataLoader' object is not an iterator",
     "output_type": "error",
     "traceback": [
      "\u001b[0;31m---------------------------------------------------------------------------\u001b[0m",
      "\u001b[0;31mTypeError\u001b[0m                                 Traceback (most recent call last)",
      "Cell \u001b[0;32mIn[8], line 2\u001b[0m\n\u001b[1;32m      1\u001b[0m iterator \u001b[38;5;241m=\u001b[39m \u001b[38;5;28miter\u001b[39m(train_dataloader)\n\u001b[0;32m----> 2\u001b[0m data \u001b[38;5;241m=\u001b[39m \u001b[38;5;28;43mnext\u001b[39;49m\u001b[43m(\u001b[49m\u001b[43mtrain_dataloader\u001b[49m\u001b[43m)\u001b[49m\n",
      "\u001b[0;31mTypeError\u001b[0m: 'DataLoader' object is not an iterator"
     ]
    }
   ],
   "source": [
    "iterator = iter(train_dataloader)\n",
    "data = next(train_dataloader)"
   ]
  },
  {
   "cell_type": "code",
   "execution_count": 1,
   "metadata": {},
   "outputs": [
    {
     "ename": "NameError",
     "evalue": "name 'find_measures' is not defined",
     "output_type": "error",
     "traceback": [
      "\u001b[0;31m---------------------------------------------------------------------------\u001b[0m",
      "\u001b[0;31mNameError\u001b[0m                                 Traceback (most recent call last)",
      "Cell \u001b[0;32mIn[1], line 3\u001b[0m\n\u001b[1;32m      1\u001b[0m \u001b[38;5;66;03m# network = get_cell_based_tiny_net(config)\u001b[39;00m\n\u001b[0;32m----> 3\u001b[0m value \u001b[38;5;241m=\u001b[39m \u001b[43mfind_measures\u001b[49m(model_nasbench, \n\u001b[1;32m      4\u001b[0m                     train_dataloader,\n\u001b[1;32m      5\u001b[0m                     dataload_info, \u001b[38;5;66;03m# a tuple with (dataload_type = {random, grasp}, number_of_batches_for_random_or_images_per_class_for_grasp, number of classes)\u001b[39;00m\n\u001b[1;32m      6\u001b[0m                     device, \n\u001b[1;32m      7\u001b[0m                     loss_fn\u001b[38;5;241m=\u001b[39mF\u001b[38;5;241m.\u001b[39mcross_entropy, \n\u001b[1;32m      8\u001b[0m                     measure_names\u001b[38;5;241m=\u001b[39m\u001b[38;5;124m'\u001b[39m\u001b[38;5;124mgrad_norm\u001b[39m\u001b[38;5;124m'\u001b[39m,\n\u001b[1;32m      9\u001b[0m                     measures_arr\u001b[38;5;241m=\u001b[39m\u001b[38;5;28;01mNone\u001b[39;00m)\n",
      "\u001b[0;31mNameError\u001b[0m: name 'find_measures' is not defined"
     ]
    }
   ],
   "source": [
    "# network = get_cell_based_tiny_net(config)\n",
    "\n",
    "value = find_measures(model_nasbench, \n",
    "                    train_dataloader,\n",
    "                    dataload_info, # a tuple with (dataload_type = {random, grasp}, number_of_batches_for_random_or_images_per_class_for_grasp, number of classes)\n",
    "                    device, \n",
    "                    loss_fn=F.cross_entropy, \n",
    "                    measure_names='grad_norm',\n",
    "                    measures_arr=None)"
   ]
  },
  {
   "cell_type": "code",
   "execution_count": 7,
   "metadata": {},
   "outputs": [
    {
     "ename": "UnboundLocalError",
     "evalue": "cannot access local variable 'config' where it is not associated with a value",
     "output_type": "error",
     "traceback": [
      "\u001b[0;31m---------------------------------------------------------------------------\u001b[0m",
      "\u001b[0;31mUnboundLocalError\u001b[0m                         Traceback (most recent call last)",
      "Cell \u001b[0;32mIn[7], line 33\u001b[0m\n\u001b[1;32m     30\u001b[0m     \u001b[38;5;28;01mreturn\u001b[39;00m config\n\u001b[1;32m     32\u001b[0m a \u001b[38;5;241m=\u001b[39m {\u001b[38;5;124m'\u001b[39m\u001b[38;5;124mnas_zero_cost\u001b[39m\u001b[38;5;124m'\u001b[39m: {\u001b[38;5;124m'\u001b[39m\u001b[38;5;124mname\u001b[39m\u001b[38;5;124m'\u001b[39m: \u001b[38;5;124m'\u001b[39m\u001b[38;5;124minfer.tiny\u001b[39m\u001b[38;5;124m'\u001b[39m, \u001b[38;5;124m'\u001b[39m\u001b[38;5;124mC\u001b[39m\u001b[38;5;124m'\u001b[39m: \u001b[38;5;241m16\u001b[39m, \u001b[38;5;124m'\u001b[39m\u001b[38;5;124mN\u001b[39m\u001b[38;5;124m'\u001b[39m: \u001b[38;5;241m5\u001b[39m, \u001b[38;5;124m'\u001b[39m\u001b[38;5;124mop_0_0\u001b[39m\u001b[38;5;124m'\u001b[39m: \u001b[38;5;241m0\u001b[39m, \u001b[38;5;124m'\u001b[39m\u001b[38;5;124mop_1_0\u001b[39m\u001b[38;5;124m'\u001b[39m: \u001b[38;5;241m0\u001b[39m, \u001b[38;5;124m'\u001b[39m\u001b[38;5;124mop_2_1\u001b[39m\u001b[38;5;124m'\u001b[39m: \u001b[38;5;241m1\u001b[39m, \u001b[38;5;124m'\u001b[39m\u001b[38;5;124mop_2_2\u001b[39m\u001b[38;5;124m'\u001b[39m: \u001b[38;5;241m1\u001b[39m, \u001b[38;5;124m'\u001b[39m\u001b[38;5;124mop_3_1\u001b[39m\u001b[38;5;124m'\u001b[39m: \u001b[38;5;241m0\u001b[39m, \u001b[38;5;124m'\u001b[39m\u001b[38;5;124mop_3_2\u001b[39m\u001b[38;5;124m'\u001b[39m: \u001b[38;5;241m0\u001b[39m, \u001b[38;5;124m'\u001b[39m\u001b[38;5;124mop_3_3\u001b[39m\u001b[38;5;124m'\u001b[39m: \u001b[38;5;241m0\u001b[39m, \u001b[38;5;124m'\u001b[39m\u001b[38;5;124mnumber_classes\u001b[39m\u001b[38;5;124m'\u001b[39m: \u001b[38;5;241m10\u001b[39m, \u001b[38;5;124m'\u001b[39m\u001b[38;5;124mop_2_0\u001b[39m\u001b[38;5;124m'\u001b[39m: \u001b[38;5;241m2\u001b[39m, \u001b[38;5;124m'\u001b[39m\u001b[38;5;124mop_3_0\u001b[39m\u001b[38;5;124m'\u001b[39m: \u001b[38;5;241m2\u001b[39m}}\n\u001b[0;32m---> 33\u001b[0m \u001b[43mgenerate_configs\u001b[49m\u001b[43m(\u001b[49m\u001b[43ma\u001b[49m\u001b[43m[\u001b[49m\u001b[38;5;124;43m\"\u001b[39;49m\u001b[38;5;124;43mnas_zero_cost\u001b[39;49m\u001b[38;5;124;43m\"\u001b[39;49m\u001b[43m]\u001b[49m\u001b[43m)\u001b[49m\n",
      "Cell \u001b[0;32mIn[7], line 16\u001b[0m, in \u001b[0;36mgenerate_configs\u001b[0;34m(config_dict)\u001b[0m\n\u001b[1;32m     14\u001b[0m \u001b[38;5;28;01mfor\u001b[39;00m exert_neuro \u001b[38;5;129;01min\u001b[39;00m \u001b[38;5;28mrange\u001b[39m(\u001b[38;5;241m0\u001b[39m, target_neuro):\n\u001b[1;32m     15\u001b[0m     op \u001b[38;5;241m=\u001b[39m \u001b[38;5;124mf\u001b[39m\u001b[38;5;124m\"\u001b[39m\u001b[38;5;124mop_\u001b[39m\u001b[38;5;132;01m{\u001b[39;00mtarget_neuro\u001b[38;5;132;01m}\u001b[39;00m\u001b[38;5;124m_\u001b[39m\u001b[38;5;132;01m{\u001b[39;00mexert_neuro\u001b[38;5;132;01m}\u001b[39;00m\u001b[38;5;124m\"\u001b[39m\n\u001b[0;32m---> 16\u001b[0m     op_str \u001b[38;5;241m=\u001b[39m op_map[\u001b[43mconfig\u001b[49m[op]]\n\u001b[1;32m     17\u001b[0m     op_str \u001b[38;5;241m+\u001b[39m\u001b[38;5;241m=\u001b[39m \u001b[38;5;124mf\u001b[39m\u001b[38;5;124m\"\u001b[39m\u001b[38;5;124m~\u001b[39m\u001b[38;5;132;01m{\u001b[39;00mexert_neuro\u001b[38;5;132;01m}\u001b[39;00m\u001b[38;5;124m\"\u001b[39m\n\u001b[1;32m     18\u001b[0m     arch_str \u001b[38;5;241m+\u001b[39m\u001b[38;5;241m=\u001b[39m (op_str \u001b[38;5;241m+\u001b[39m \u001b[38;5;124m\"\u001b[39m\u001b[38;5;124m|\u001b[39m\u001b[38;5;124m\"\u001b[39m)\n",
      "\u001b[0;31mUnboundLocalError\u001b[0m: cannot access local variable 'config' where it is not associated with a value"
     ]
    }
   ],
   "source": [
    "def generate_configs(config_dict):\n",
    "\n",
    "    name = config_dict['name'] # Assuming only one name option\n",
    "    C = config_dict['C']  # Assuming only one C option\n",
    "    N = config_dict['N']  # Assuming only one N option\n",
    "    number_classes = config_dict['number_classes']  # Assuming only one number_classes option\n",
    "\n",
    "    op_map = {0:'skip_connect', 1:'none', 2:'nor_conv_3x3', 3:'nor_conv_1x1', 4:'avg_pool_3x3'}\n",
    "\n",
    "    ### generate combination\n",
    "    arch_str = \"\"\n",
    "    for target_neuro in range(1, 4):\n",
    "        arch_str += \"|\"\n",
    "        for exert_neuro in range(0, target_neuro):\n",
    "            op = f\"op_{target_neuro}_{exert_neuro}\"\n",
    "            op_str = op_map[config[op]]\n",
    "            op_str += f\"~{exert_neuro}\"\n",
    "            arch_str += (op_str + \"|\")\n",
    "        if target_neuro < 3:\n",
    "            arch_str += \"+\"\n",
    "    \n",
    "    config = {\n",
    "        'name': name,\n",
    "        'C': C,\n",
    "        'N': N,\n",
    "        'arch_str': arch_str,\n",
    "        'num_classes': num_classes\n",
    "    }\n",
    "\n",
    "    return config\n",
    "\n",
    "a = {'nas_zero_cost': {'name': 'infer.tiny', 'C': 16, 'N': 5, 'op_0_0': 0, 'op_1_0': 0, 'op_2_1': 1, 'op_2_2': 1, 'op_3_1': 0, 'op_3_2': 0, 'op_3_3': 0, 'number_classes': 10, 'op_2_0': 2, 'op_3_0': 2}}\n",
    "generate_configs(a[\"nas_zero_cost\"])"
   ]
  },
  {
   "cell_type": "code",
   "execution_count": null,
   "metadata": {},
   "outputs": [],
   "source": []
  }
 ],
 "metadata": {
  "interpreter": {
   "hash": "e03edb7f0cd619cb53bc93230f5cff3bca784e2ea03e8114a3712bcaf11d10fd"
  },
  "kernelspec": {
   "display_name": "Python 3.11.4 ('mase')",
   "language": "python",
   "name": "python3"
  },
  "language_info": {
   "codemirror_mode": {
    "name": "ipython",
    "version": 3
   },
   "file_extension": ".py",
   "mimetype": "text/x-python",
   "name": "python",
   "nbconvert_exporter": "python",
   "pygments_lexer": "ipython3",
   "version": "3.11.4"
  }
 },
 "nbformat": 4,
 "nbformat_minor": 2
}
