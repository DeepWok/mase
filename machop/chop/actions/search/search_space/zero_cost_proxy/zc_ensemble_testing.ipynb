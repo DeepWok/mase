{
 "cells": [
  {
   "cell_type": "code",
   "execution_count": 4,
   "metadata": {},
   "outputs": [],
   "source": [
    "from torch.utils.data import Dataset, DataLoader\n",
    "import json\n",
    "from sklearn.model_selection import train_test_split\n",
    "import torch\n",
    "import torch.nn as nn\n",
    "import torch.optim as optim\n",
    "import numpy as np"
   ]
  },
  {
   "cell_type": "markdown",
   "metadata": {},
   "source": [
    "### Setting up inputs and outputs"
   ]
  },
  {
   "cell_type": "code",
   "execution_count": 5,
   "metadata": {},
   "outputs": [],
   "source": [
    "file = '/home/laurie2905/mase_ADL/mase/NASLib/naslib/data/zc_nasbench201.json'\n",
    "with open(file, 'r') as f:\n",
    "    data = json.load(f)\n",
    "    data = data['cifar10']\n",
    "\n",
    "\n",
    "targets = [data[arch]['val_accuracy'] for arch in data.keys()]\n",
    "inputs = []\n",
    "\n",
    "for arch in data.keys():\n",
    "\n",
    "    inputs.append([data[arch].get(metric_name, 0)['score'] for metric_name in ['epe_nas', 'fisher', 'grad_norm', 'grasp', 'jacov', 'l2_norm', 'nwot','plain','snip','synflow','zen','flops','params'] ])\n",
    "    "
   ]
  },
  {
   "cell_type": "markdown",
   "metadata": {},
   "source": [
    "### Defining dataloader with the capacity to only use a portion of data"
   ]
  },
  {
   "cell_type": "code",
   "execution_count": null,
   "metadata": {},
   "outputs": [],
   "source": [
    "import torch\n",
    "from torch.utils.data import Dataset, DataLoader\n",
    "from sklearn.model_selection import train_test_split\n",
    "\n",
    "class CustomDataset(Dataset):\n",
    "    def __init__(self, inputs, targets, use_percentage=1.0):\n",
    "        # Assuming inputs and targets are PyTorch tensors\n",
    "        assert 0 < use_percentage <= 1, \"use_percentage must be within (0, 1).\"\n",
    "        num_samples = int(len(inputs) * use_percentage)\n",
    "        self.inputs = inputs[:num_samples]\n",
    "        self.targets = targets[:num_samples]\n",
    "\n",
    "    def __len__(self):\n",
    "        return len(self.inputs)\n",
    "\n",
    "    def __getitem__(self, idx):\n",
    "        return self.inputs[idx], self.targets[idx]# Create dataset instances using a subset of the data\n",
    "use_percentage = 0.5  # Use 50% of the data\n",
    "train_dataset = CustomDataset(inputs_train, targets_train, use_percentage=use_percentage)\n",
    "test_dataset = CustomDataset(inputs_test, targets_test, use_percentage=use_percentage)\n",
    "\n",
    "batch_size = 32  # Adjustable batch size\n",
    "\n",
    "# Create data loaders\n",
    "train_loader = DataLoader(train_dataset, batch_size=batch_size, shuffle=True)\n",
    "test_loader = DataLoader(test_dataset, batch_size=batch_size, shuffle=False)"
   ]
  },
  {
   "cell_type": "markdown",
   "metadata": {},
   "source": [
    "### Setting up models and training"
   ]
  },
  {
   "cell_type": "code",
   "execution_count": null,
   "metadata": {},
   "outputs": [
    {
     "name": "stderr",
     "output_type": "stream",
     "text": [
      "/home/laurie2905/anaconda3/envs/mase/lib/python3.10/site-packages/transformers/utils/generic.py:441: UserWarning: torch.utils._pytree._register_pytree_node is deprecated. Please use torch.utils._pytree.register_pytree_node instead.\n",
      "  _torch_pytree._register_pytree_node(\n"
     ]
    },
    {
     "name": "stdout",
     "output_type": "stream",
     "text": [
      "Epoch [1/20], Train Loss: 12788.4919, Test Loss: 2.7769\n",
      "Epoch [2/20], Train Loss: 17.2696, Test Loss: 3.1204\n",
      "Epoch [3/20], Train Loss: 3.8678, Test Loss: 3.6419\n",
      "Epoch [4/20], Train Loss: 7.2464, Test Loss: 4.2269\n",
      "Epoch [5/20], Train Loss: 6.8410, Test Loss: 3.4413\n",
      "Epoch [6/20], Train Loss: 5.1343, Test Loss: 3.3806\n",
      "Epoch [7/20], Train Loss: 6.4803, Test Loss: 2.7586\n",
      "Epoch [8/20], Train Loss: 3.1365, Test Loss: 2.7217\n",
      "Epoch [9/20], Train Loss: 3.6400, Test Loss: 2.8081\n",
      "Epoch [10/20], Train Loss: 3.5173, Test Loss: 2.6237\n",
      "Epoch [11/20], Train Loss: 3.2921, Test Loss: 3.3744\n",
      "Epoch [12/20], Train Loss: 3.1732, Test Loss: 2.6979\n",
      "Epoch [13/20], Train Loss: 2.8853, Test Loss: 3.6632\n",
      "Epoch [14/20], Train Loss: 2.9659, Test Loss: 2.7698\n",
      "Epoch [15/20], Train Loss: 3.1040, Test Loss: 3.2178\n",
      "Epoch [16/20], Train Loss: 2.8204, Test Loss: 2.5021\n",
      "Epoch [17/20], Train Loss: 2.7375, Test Loss: 2.5736\n",
      "Epoch [18/20], Train Loss: 2.9664, Test Loss: 2.4657\n",
      "Epoch [19/20], Train Loss: 2.9674, Test Loss: 3.1304\n",
      "Epoch [20/20], Train Loss: 5.1843, Test Loss: 2.9923\n"
     ]
    }
   ],
   "source": [
    "# Define the linear model\n",
    "class LinearModel(nn.Module):\n",
    "    def __init__(self):\n",
    "        super(LinearModel, self).__init__()\n",
    "        self.linear = nn.Linear(13, 1)\n",
    "        # 3 inputs (zc metrics), 1 output (accuracy)\n",
    "\n",
    "    def forward(self, x):\n",
    "        return self.linear(x)\n",
    "    \n",
    "import torch.nn as nn\n",
    "import torch.nn.functional as F\n",
    "\n",
    "class NonLinearModel(nn.Module):\n",
    "    def __init__(self):\n",
    "        super(NonLinearModel, self).__init__()\n",
    "        self.linear1 = nn.Linear(13, 13)  # First linear layer\n",
    "        self.act1 = nn.ReLU()            # Non-linear activation function\n",
    "        self.linear2 = nn.Linear(13, 1)  # Second linear layer to produce 1 output\n",
    "\n",
    "    def forward(self, x):\n",
    "        x = self.linear1(x)  # Pass input through the first linear layer\n",
    "        x = self.act1(x)     # Apply non-linear activation\n",
    "        x = self.linear2(x)  # Pass through the second linear layer\n",
    "        return x\n",
    "\n",
    "# model = NonLinearModel()\n",
    "\n",
    "model = LinearModel()\n",
    "\n",
    "# Loss and optimizer\n",
    "criterion = nn.L1Loss()\n",
    "# criterion = nn.MSELoss()\n",
    "\n",
    "optimizer = optim.Adam(model.parameters(), lr=0.01)\n",
    "\n",
    "# Tracking loss for plotting\n",
    "train_losses = []\n",
    "test_losses = []\n",
    "\n",
    "epochs = 20\n",
    "for epoch in range(epochs):\n",
    "    model.train()\n",
    "    running_loss_train = 0.0\n",
    "    for inputs_batch, targets_batch in train_loader:\n",
    "        optimizer.zero_grad()\n",
    "        outputs_train = model(inputs_batch)\n",
    "        loss_train = criterion(outputs_train, targets_batch)\n",
    "        loss_train.backward()\n",
    "        optimizer.step()\n",
    "        running_loss_train += loss_train.item() * inputs_batch.size(0)\n",
    "    \n",
    "    epoch_loss_train = running_loss_train / len(train_loader.dataset)\n",
    "\n",
    "    # Evaluation mode (no gradients)\n",
    "    model.eval()\n",
    "    running_loss_test = 0.0\n",
    "    with torch.no_grad():\n",
    "        for inputs_batch, targets_batch in test_loader:\n",
    "            outputs_test = model(inputs_batch)\n",
    "            loss_test = criterion(outputs_test, targets_batch)\n",
    "            running_loss_test += loss_test.item() * inputs_batch.size(0)\n",
    "\n",
    "    epoch_loss_test = running_loss_test / len(test_loader.dataset)\n",
    "\n",
    "    # Save losses for plotting\n",
    "    train_losses.append(epoch_loss_train)\n",
    "    test_losses.append(epoch_loss_test)\n",
    "\n",
    "    if (epoch+1) % 1 == 0:\n",
    "        print(f'Epoch [{epoch+1}/{epochs}], Train Loss: {epoch_loss_train:.4f}, Test Loss: {epoch_loss_test:.4f}')\n"
   ]
  },
  {
   "cell_type": "markdown",
   "metadata": {},
   "source": [
    "### Training loss curve"
   ]
  },
  {
   "cell_type": "code",
   "execution_count": null,
   "metadata": {},
   "outputs": [
    {
     "data": {
      "image/png": "[encoded data removed]",
      "text/plain": [
       "<Figure size 1000x500 with 1 Axes>"
      ]
     },
     "metadata": {},
     "output_type": "display_data"
    }
   ],
   "source": [
    "import matplotlib.pyplot as plt\n",
    "import seaborn as sns\n",
    "\n",
    "# Set the Seaborn theme\n",
    "sns.set_theme(style=\"darkgrid\")\n",
    "\n",
    "# Create the plot\n",
    "plt.figure(figsize=(10, 5))\n",
    "plt.plot(train_losses, label='Training Loss')\n",
    "plt.plot(test_losses, label='Test Loss')\n",
    "\n",
    "# Add title and labels\n",
    "plt.title('Training and Test Loss', fontsize=14)\n",
    "plt.xlabel('Epoch', fontsize=12)\n",
    "plt.ylabel('Loss', fontsize=12)\n",
    "\n",
    "# Add legend\n",
    "plt.legend()\n",
    "\n",
    "# Optionally, set the ylim if you want to focus on a specific range of losses\n",
    "# plt.ylim([0, 10])\n",
    "\n",
    "# Show the plot\n",
    "plt.show()"
   ]
  },
  {
   "cell_type": "markdown",
   "metadata": {},
   "source": [
    "### Spearman rank coefficient"
   ]
  },
  {
   "cell_type": "code",
   "execution_count": null,
   "metadata": {},
   "outputs": [
    {
     "name": "stdout",
     "output_type": "stream",
     "text": [
      "[87.09816742 86.43510437 88.4156723  ... 88.40435028 85.05078888\n",
      " 45.30361176]\n"
     ]
    },
    {
     "data": {
      "image/png": "[encoded data removed]",
      "text/plain": [
       "<Figure size 1000x600 with 1 Axes>"
      ]
     },
     "metadata": {},
     "output_type": "display_data"
    }
   ],
   "source": [
    "model.eval()  # Set the model to evaluation mode\n",
    "predicted_accuracies = []\n",
    "actual_accuracies = []\n",
    "\n",
    "with torch.no_grad():  # No need to track gradients\n",
    "    for i in range(len(inputs_test)):  # Assuming you want to use all test inputs\n",
    "        predicted_accuracy = model(inputs_test[i].unsqueeze(0))  # Add batch dimension\n",
    "        predicted_accuracies.append(predicted_accuracy.item())\n",
    "        actual_accuracies.append(targets_test[i].item())\n",
    "        \n",
    "import matplotlib.pyplot as plt\n",
    "import seaborn as sns\n",
    "from scipy.stats import spearmanr\n",
    "\n",
    "# Assuming predicted_accuracies and actual_accuracies are available\n",
    "predicted_accuracies_np = np.array(predicted_accuracies)\n",
    "actual_accuracies_np = np.array(actual_accuracies)\n",
    "\n",
    "print(predicted_accuracies_np)\n",
    "\n",
    "# Calculate Spearman's rank correlation\n",
    "spearman_corr, _ = spearmanr(predicted_accuracies_np, actual_accuracies_np)\n",
    "\n",
    "# Set up the matplotlib figure\n",
    "plt.figure(figsize=(10, 6))\n",
    "\n",
    "# Generate a scatter plot\n",
    "sns.scatterplot(x=actual_accuracies_np, y=predicted_accuracies_np)\n",
    "\n",
    "# Beautify the plot\n",
    "plt.title(f'Predicted vs. Actual Test Accuracies\\nSpearman\\'s Rank Correlation: {spearman_corr:.2f}', fontsize=15)\n",
    "plt.xlabel('Actual Test Accuracy', fontsize=12)\n",
    "plt.ylabel('Predicted Test Accuracy', fontsize=12)\n",
    "plt.grid(True, which='both', linestyle='--', linewidth=0.5)\n",
    "\n",
    "# Optional: Plot a line of best fit\n",
    "sns.regplot(x=actual_accuracies_np, y=predicted_accuracies_np, scatter=False, ci=None, color=\"red\")\n",
    "plt.xlim([0, 100])\n",
    "plt.ylim([0, 100])\n",
    "plt.show()"
   ]
  },
  {
   "cell_type": "markdown",
   "metadata": {},
   "source": [
    "### Hyperparameter Tuner"
   ]
  },
  {
   "cell_type": "code",
   "execution_count": 39,
   "metadata": {},
   "outputs": [],
   "source": [
    "import torch\n",
    "from torch.utils.data import Dataset, DataLoader\n",
    "\n",
    "train_dataset = CustomDataset(inputs_train, targets_train, use_percentage= 1)\n",
    "test_dataset = CustomDataset(inputs_test, targets_test, use_percentage = 1)"
   ]
  },
  {
   "cell_type": "code",
   "execution_count": 39,
   "metadata": {},
   "outputs": [
    {
     "name": "stderr",
     "output_type": "stream",
     "text": [
      "[I 2024-03-16 21:31:57,602] A new study created in memory with name: no-name-6c8a9ec3-86e4-4943-8173-2c0919f441a2\n",
      "/var/folders/st/2r570j6x26l43xlczjpfdy7m0000gn/T/ipykernel_41476/3402095913.py:29: FutureWarning: suggest_loguniform has been deprecated in v3.0.0. This feature will be removed in v6.0.0. See https://github.com/optuna/optuna/releases/tag/v3.0.0. Use suggest_float(..., log=True) instead.\n",
      "  lr = trial.suggest_loguniform('lr', 1e-5, 1e-1)\n"
     ]
    },
    {
     "name": "stdout",
     "output_type": "stream",
     "text": [
      "=== Epoch 1 === Loss: 1861487804619.0415\n",
      "=== Epoch 2 === Loss: 27278512112.6810\n",
      "=== Epoch 3 === Loss: 186939030.8277\n",
      "=== Epoch 4 === Loss: 290508957.2220\n",
      "=== Epoch 5 === Loss: 46099147.9964\n",
      "=== Epoch 6 === Loss: 34649845.4930\n",
      "=== Epoch 7 === Loss: 13135824.8268\n",
      "=== Epoch 8 === Loss: 6386003.9695\n",
      "=== Epoch 9 === Loss: 3734291.4205\n",
      "=== Epoch 10 === Loss: 3486614.0780\n",
      "=== Epoch 11 === Loss: 4682217.0475\n",
      "=== Epoch 12 === Loss: 9173438.9630\n",
      "=== Epoch 13 === Loss: 40918582944.4807\n",
      "=== Epoch 14 === Loss: 48152127.4819\n",
      "=== Epoch 15 === Loss: 322334698.7801\n",
      "=== Epoch 16 === Loss: 423518539.0533\n",
      "=== Epoch 17 === Loss: 1848230.3884\n",
      "=== Epoch 18 === Loss: 42330.1272\n"
     ]
    },
    {
     "name": "stderr",
     "output_type": "stream",
     "text": [
      "[I 2024-03-16 21:31:58,917] Trial 0 finished with value: 20509.924143125 and parameters: {'lr': 0.05065600749039844, 'batch_size': 128, 'num_layers': 1, 'hidden_units': 64}. Best is trial 0 with value: 20509.924143125.\n"
     ]
    },
    {
     "name": "stdout",
     "output_type": "stream",
     "text": [
      "=== Epoch 19 === Loss: 24128.7778\n",
      "=== Epoch 20 === Loss: 17837.6539\n",
      "=== Epoch 1 === Loss: 1302775209922.6213\n",
      "=== Epoch 2 === Loss: 241261110.5543\n",
      "=== Epoch 3 === Loss: 10087102.1486\n",
      "=== Epoch 4 === Loss: 5232411.3006\n",
      "=== Epoch 5 === Loss: 550246799.5683\n",
      "=== Epoch 6 === Loss: 497389602.6258\n",
      "=== Epoch 7 === Loss: 8923480879.8349\n",
      "=== Epoch 8 === Loss: 4637421829.3993\n",
      "=== Epoch 9 === Loss: 579131720.6463\n",
      "=== Epoch 10 === Loss: 1909187150.8930\n",
      "=== Epoch 11 === Loss: 2226193.2541\n",
      "=== Epoch 12 === Loss: 864735.0490\n",
      "=== Epoch 13 === Loss: 807756.6543\n",
      "=== Epoch 14 === Loss: 267360.4791\n",
      "=== Epoch 15 === Loss: 129628.9369\n",
      "=== Epoch 16 === Loss: 74790.3047\n",
      "=== Epoch 17 === Loss: 53170.6857\n",
      "=== Epoch 18 === Loss: 46640.9675\n"
     ]
    },
    {
     "name": "stderr",
     "output_type": "stream",
     "text": [
      "[I 2024-03-16 21:32:00,085] Trial 1 finished with value: 10480.465851875 and parameters: {'lr': 0.046201811762831, 'batch_size': 128, 'num_layers': 1, 'hidden_units': 64}. Best is trial 1 with value: 10480.465851875.\n"
     ]
    },
    {
     "name": "stdout",
     "output_type": "stream",
     "text": [
      "=== Epoch 19 === Loss: 35240.8394\n",
      "=== Epoch 20 === Loss: 43319.8269\n",
      "=== Epoch 1 === Loss: 837341843.9693\n",
      "=== Epoch 2 === Loss: 105939.8132\n",
      "=== Epoch 3 === Loss: 5015570.8866\n",
      "=== Epoch 4 === Loss: 34478755.2928\n",
      "=== Epoch 5 === Loss: 81670400.0460\n",
      "=== Epoch 6 === Loss: 2327770.1194\n",
      "=== Epoch 7 === Loss: 5699.1323\n",
      "=== Epoch 8 === Loss: 1032.6670\n",
      "=== Epoch 9 === Loss: 3995.1366\n",
      "=== Epoch 10 === Loss: 152544.1879\n",
      "=== Epoch 11 === Loss: 21133420.7560\n",
      "=== Epoch 12 === Loss: 974031.7601\n",
      "=== Epoch 13 === Loss: 6377.8663\n",
      "=== Epoch 14 === Loss: 812156.4919\n",
      "=== Epoch 15 === Loss: 52782.0932\n",
      "=== Epoch 16 === Loss: 4227.7186\n",
      "=== Epoch 17 === Loss: 565.5746\n",
      "=== Epoch 18 === Loss: 92821.9653\n",
      "=== Epoch 19 === Loss: 13544046.5280\n"
     ]
    },
    {
     "name": "stderr",
     "output_type": "stream",
     "text": [
      "[I 2024-03-16 21:32:02,174] Trial 2 finished with value: 4795.100780751953 and parameters: {'lr': 0.0023973954986912177, 'batch_size': 64, 'num_layers': 3, 'hidden_units': 32}. Best is trial 2 with value: 4795.100780751953.\n"
     ]
    },
    {
     "name": "stdout",
     "output_type": "stream",
     "text": [
      "=== Epoch 20 === Loss: 217781.7952\n",
      "=== Epoch 1 === Loss: 10111762131.2808\n",
      "=== Epoch 2 === Loss: 8143510439.5656\n",
      "=== Epoch 3 === Loss: 6599112576.9272\n",
      "=== Epoch 4 === Loss: 5369841281.2118\n",
      "=== Epoch 5 === Loss: 4536835551.0226\n",
      "=== Epoch 6 === Loss: 3914048976.4078\n",
      "=== Epoch 7 === Loss: 3372177234.8148\n",
      "=== Epoch 8 === Loss: 2902747262.3952\n",
      "=== Epoch 9 === Loss: 2495573610.8967\n",
      "=== Epoch 10 === Loss: 2148235100.3653\n",
      "=== Epoch 11 === Loss: 1846766043.4851\n",
      "=== Epoch 12 === Loss: 1580791775.5526\n",
      "=== Epoch 13 === Loss: 1350091930.2122\n",
      "=== Epoch 14 === Loss: 1151013339.7380\n",
      "=== Epoch 15 === Loss: 977625583.0613\n",
      "=== Epoch 16 === Loss: 828813633.8772\n",
      "=== Epoch 17 === Loss: 699751098.0388\n",
      "=== Epoch 18 === Loss: 587923753.8766\n"
     ]
    },
    {
     "name": "stderr",
     "output_type": "stream",
     "text": [
      "[I 2024-03-16 21:32:05,682] Trial 3 finished with value: 262705492.99949095 and parameters: {'lr': 1.605594135358953e-05, 'batch_size': 32, 'num_layers': 3, 'hidden_units': 8}. Best is trial 2 with value: 4795.100780751953.\n"
     ]
    },
    {
     "name": "stdout",
     "output_type": "stream",
     "text": [
      "=== Epoch 19 === Loss: 491909901.2078\n",
      "=== Epoch 20 === Loss: 410006259.8802\n",
      "=== Epoch 1 === Loss: 4235595091255.6499\n",
      "=== Epoch 2 === Loss: 852159425760.2352\n",
      "=== Epoch 3 === Loss: 152837096217.5428\n",
      "=== Epoch 4 === Loss: 65837829831.0208\n",
      "=== Epoch 5 === Loss: 41968070981.4631\n",
      "=== Epoch 6 === Loss: 25959965018.3351\n",
      "=== Epoch 7 === Loss: 15216812889.5610\n",
      "=== Epoch 8 === Loss: 8350405552.2610\n",
      "=== Epoch 9 === Loss: 4370789819.1852\n",
      "=== Epoch 10 === Loss: 2131323069.5584\n",
      "=== Epoch 11 === Loss: 989300431.5608\n",
      "=== Epoch 12 === Loss: 424183246.8577\n",
      "=== Epoch 13 === Loss: 173541012.0904\n",
      "=== Epoch 14 === Loss: 65535109.2668\n",
      "=== Epoch 15 === Loss: 22995548.7305\n",
      "=== Epoch 16 === Loss: 7817504.6151\n"
     ]
    },
    {
     "name": "stderr",
     "output_type": "stream",
     "text": [
      "[I 2024-03-16 21:32:06,833] Trial 4 finished with value: 107146.60546 and parameters: {'lr': 0.00014402727086891182, 'batch_size': 128, 'num_layers': 1, 'hidden_units': 16}. Best is trial 2 with value: 4795.100780751953.\n"
     ]
    },
    {
     "name": "stdout",
     "output_type": "stream",
     "text": [
      "=== Epoch 17 === Loss: 2536848.8876\n",
      "=== Epoch 18 === Loss: 761788.0688\n",
      "=== Epoch 19 === Loss: 254721.4583\n",
      "=== Epoch 20 === Loss: 117836.1450\n",
      "=== Epoch 1 === Loss: 2716114883.5527\n",
      "=== Epoch 2 === Loss: 672.3242\n",
      "=== Epoch 3 === Loss: 480.9592\n",
      "=== Epoch 4 === Loss: 305.4944\n",
      "=== Epoch 5 === Loss: 231.2649\n",
      "=== Epoch 6 === Loss: 171.2784\n",
      "=== Epoch 7 === Loss: 121.8469\n",
      "=== Epoch 8 === Loss: 98.1104\n",
      "=== Epoch 9 === Loss: 30.5346\n",
      "=== Epoch 10 === Loss: 856.4762\n",
      "=== Epoch 11 === Loss: 56987650.7726\n",
      "=== Epoch 12 === Loss: 712.2095\n",
      "=== Epoch 13 === Loss: 25.2206\n",
      "=== Epoch 14 === Loss: 22.6096\n",
      "=== Epoch 15 === Loss: 55.2909\n",
      "=== Epoch 16 === Loss: 1257509.8410\n",
      "=== Epoch 17 === Loss: 51474571.5326\n",
      "=== Epoch 18 === Loss: 59.0694\n"
     ]
    },
    {
     "name": "stderr",
     "output_type": "stream",
     "text": [
      "[I 2024-03-16 21:32:10,304] Trial 5 finished with value: 2085002.5331232226 and parameters: {'lr': 0.000821781359061689, 'batch_size': 32, 'num_layers': 3, 'hidden_units': 8}. Best is trial 2 with value: 4795.100780751953.\n"
     ]
    },
    {
     "name": "stdout",
     "output_type": "stream",
     "text": [
      "=== Epoch 19 === Loss: 54.6337\n",
      "=== Epoch 20 === Loss: 340185.2598\n",
      "=== Epoch 1 === Loss: 1039023265.9937\n",
      "=== Epoch 2 === Loss: 21639170.3663\n",
      "=== Epoch 3 === Loss: 131125138.8048\n",
      "=== Epoch 4 === Loss: 340153077.3143\n",
      "=== Epoch 5 === Loss: 45758.4534\n",
      "=== Epoch 6 === Loss: 174791.3500\n",
      "=== Epoch 7 === Loss: 98395069.6304\n",
      "=== Epoch 8 === Loss: 118515.6131\n",
      "=== Epoch 9 === Loss: 446096.1396\n",
      "=== Epoch 10 === Loss: 61176489.2047\n",
      "=== Epoch 11 === Loss: 30071177.3762\n",
      "=== Epoch 12 === Loss: 22963.8543\n",
      "=== Epoch 13 === Loss: 96880.2994\n",
      "=== Epoch 14 === Loss: 7864380.2673\n",
      "=== Epoch 15 === Loss: 4380866.2299\n",
      "=== Epoch 16 === Loss: 16461663.9741\n",
      "=== Epoch 17 === Loss: 6333892.4830\n",
      "=== Epoch 18 === Loss: 42565813.5672\n",
      "=== Epoch 19 === Loss: 13873.4416\n"
     ]
    },
    {
     "name": "stderr",
     "output_type": "stream",
     "text": [
      "[I 2024-03-16 21:32:14,227] Trial 6 finished with value: 2430.7074409985353 and parameters: {'lr': 0.000445447401556128, 'batch_size': 32, 'num_layers': 3, 'hidden_units': 64}. Best is trial 6 with value: 2430.7074409985353.\n"
     ]
    },
    {
     "name": "stdout",
     "output_type": "stream",
     "text": [
      "=== Epoch 20 === Loss: 23288.4711\n",
      "=== Epoch 1 === Loss: 31804475440.9995\n",
      "=== Epoch 2 === Loss: 3779073.2800\n",
      "=== Epoch 3 === Loss: 26730.5337\n",
      "=== Epoch 4 === Loss: 1105109.6243\n",
      "=== Epoch 5 === Loss: 149327964.0269\n",
      "=== Epoch 6 === Loss: 107479455.1802\n",
      "=== Epoch 7 === Loss: 933332885.1191\n",
      "=== Epoch 8 === Loss: 996163277.7431\n",
      "=== Epoch 9 === Loss: 29137833.2572\n",
      "=== Epoch 10 === Loss: 45455830.8046\n",
      "=== Epoch 11 === Loss: 1611974173.2823\n",
      "=== Epoch 12 === Loss: 4051466561.4700\n",
      "=== Epoch 13 === Loss: 1367957062.1504\n",
      "=== Epoch 14 === Loss: 213071958.2291\n",
      "=== Epoch 15 === Loss: 1863214799.1168\n",
      "=== Epoch 16 === Loss: 490455031.8124\n",
      "=== Epoch 17 === Loss: 10330420.3827\n",
      "=== Epoch 18 === Loss: 11950405.7796\n",
      "=== Epoch 19 === Loss: 219150.8966\n"
     ]
    },
    {
     "name": "stderr",
     "output_type": "stream",
     "text": [
      "[I 2024-03-16 21:32:15,325] Trial 7 finished with value: 805870.685068125 and parameters: {'lr': 0.004968203643460623, 'batch_size': 128, 'num_layers': 1, 'hidden_units': 32}. Best is trial 6 with value: 2430.7074409985353.\n"
     ]
    },
    {
     "name": "stdout",
     "output_type": "stream",
     "text": [
      "=== Epoch 20 === Loss: 1159287.1561\n",
      "=== Epoch 1 === Loss: 6322687647.2894\n",
      "=== Epoch 2 === Loss: 209598.7156\n",
      "=== Epoch 3 === Loss: 1498588334.2270\n",
      "=== Epoch 4 === Loss: 27099.0752\n",
      "=== Epoch 5 === Loss: 71778.1393\n",
      "=== Epoch 6 === Loss: 2032.5239\n",
      "=== Epoch 7 === Loss: 156.4893\n",
      "=== Epoch 8 === Loss: 62.0285\n",
      "=== Epoch 9 === Loss: 54.2435\n",
      "=== Epoch 10 === Loss: 126.2157\n",
      "=== Epoch 11 === Loss: 141.8269\n",
      "=== Epoch 12 === Loss: 82.9473\n",
      "=== Epoch 13 === Loss: 68.4971\n",
      "=== Epoch 14 === Loss: 57.2587\n",
      "=== Epoch 15 === Loss: 57.3149\n",
      "=== Epoch 16 === Loss: 41.3075\n",
      "=== Epoch 17 === Loss: 33.7911\n",
      "=== Epoch 18 === Loss: 31.6486\n"
     ]
    },
    {
     "name": "stderr",
     "output_type": "stream",
     "text": [
      "[I 2024-03-16 21:32:18,556] Trial 8 finished with value: 28.058759296264647 and parameters: {'lr': 0.011361963305835639, 'batch_size': 32, 'num_layers': 2, 'hidden_units': 16}. Best is trial 8 with value: 28.058759296264647.\n"
     ]
    },
    {
     "name": "stdout",
     "output_type": "stream",
     "text": [
      "=== Epoch 19 === Loss: 31.7229\n",
      "=== Epoch 20 === Loss: 45.8921\n",
      "=== Epoch 1 === Loss: 4770306637223.8525\n",
      "=== Epoch 2 === Loss: 1289415555893.0662\n",
      "=== Epoch 3 === Loss: 278354667842.0286\n",
      "=== Epoch 4 === Loss: 64504187106.7835\n",
      "=== Epoch 5 === Loss: 24086647321.8315\n",
      "=== Epoch 6 === Loss: 10558516971.7175\n",
      "=== Epoch 7 === Loss: 4226313062.1774\n",
      "=== Epoch 8 === Loss: 1454047935.3523\n",
      "=== Epoch 9 === Loss: 413894684.5772\n",
      "=== Epoch 10 === Loss: 93220850.2570\n",
      "=== Epoch 11 === Loss: 16862844.9133\n",
      "=== Epoch 12 === Loss: 3948480.2370\n",
      "=== Epoch 13 === Loss: 2384666.2609\n",
      "=== Epoch 14 === Loss: 2141334.2601\n",
      "=== Epoch 15 === Loss: 1995516.4581\n",
      "=== Epoch 16 === Loss: 1865104.0426\n",
      "=== Epoch 17 === Loss: 1724654.1563\n",
      "=== Epoch 18 === Loss: 1586703.8419\n"
     ]
    },
    {
     "name": "stderr",
     "output_type": "stream",
     "text": [
      "[I 2024-03-16 21:32:21,007] Trial 9 finished with value: 16337.97700765625 and parameters: {'lr': 6.450165430954849e-05, 'batch_size': 32, 'num_layers': 1, 'hidden_units': 16}. Best is trial 8 with value: 28.058759296264647.\n"
     ]
    },
    {
     "name": "stdout",
     "output_type": "stream",
     "text": [
      "=== Epoch 19 === Loss: 1449325.4900\n",
      "=== Epoch 20 === Loss: 1331891.8121\n",
      "=== Epoch 1 === Loss: 17883202946.2281\n",
      "=== Epoch 2 === Loss: 220395.5758\n",
      "=== Epoch 3 === Loss: 1542251.9163\n",
      "=== Epoch 4 === Loss: 2372656496.5069\n",
      "=== Epoch 5 === Loss: 167.7691\n",
      "=== Epoch 6 === Loss: 946.1963\n",
      "=== Epoch 7 === Loss: 17958798.5852\n",
      "=== Epoch 8 === Loss: 40052.3587\n",
      "=== Epoch 9 === Loss: 41856.2650\n",
      "=== Epoch 10 === Loss: 20312.9749\n",
      "=== Epoch 11 === Loss: 16224.4449\n",
      "=== Epoch 12 === Loss: 4515.0843\n",
      "=== Epoch 13 === Loss: 1285.3726\n",
      "=== Epoch 14 === Loss: 407.0572\n",
      "=== Epoch 15 === Loss: 145.2901\n",
      "=== Epoch 16 === Loss: 181.7327\n",
      "=== Epoch 17 === Loss: 42.5732\n",
      "=== Epoch 18 === Loss: 62.2832\n",
      "=== Epoch 19 === Loss: 56.0457\n"
     ]
    },
    {
     "name": "stderr",
     "output_type": "stream",
     "text": [
      "[I 2024-03-16 21:32:26,262] Trial 10 finished with value: 32.95917542297363 and parameters: {'lr': 0.00848288613160803, 'batch_size': 16, 'num_layers': 2, 'hidden_units': 16}. Best is trial 8 with value: 28.058759296264647.\n"
     ]
    },
    {
     "name": "stdout",
     "output_type": "stream",
     "text": [
      "=== Epoch 20 === Loss: 46.4520\n",
      "=== Epoch 1 === Loss: 9167876497.3239\n",
      "=== Epoch 2 === Loss: 250250.6341\n",
      "=== Epoch 3 === Loss: 7445.2867\n",
      "=== Epoch 4 === Loss: 6408.1208\n",
      "=== Epoch 5 === Loss: 642.8443\n",
      "=== Epoch 6 === Loss: 5677.1138\n",
      "=== Epoch 7 === Loss: 148312.5589\n",
      "=== Epoch 8 === Loss: 4080.9442\n",
      "=== Epoch 9 === Loss: 2879538242.2053\n",
      "=== Epoch 10 === Loss: 299.6496\n",
      "=== Epoch 11 === Loss: 220.2509\n",
      "=== Epoch 12 === Loss: 207.5341\n",
      "=== Epoch 13 === Loss: 182.5718\n",
      "=== Epoch 14 === Loss: 169.1992\n",
      "=== Epoch 15 === Loss: 176.9975\n",
      "=== Epoch 16 === Loss: 176.0654\n",
      "=== Epoch 17 === Loss: 128.9921\n",
      "=== Epoch 18 === Loss: 151.5029\n",
      "=== Epoch 19 === Loss: 276.9509\n"
     ]
    },
    {
     "name": "stderr",
     "output_type": "stream",
     "text": [
      "[I 2024-03-16 21:32:31,647] Trial 11 finished with value: 160.23957357788086 and parameters: {'lr': 0.011514698837684245, 'batch_size': 16, 'num_layers': 2, 'hidden_units': 16}. Best is trial 8 with value: 28.058759296264647.\n"
     ]
    },
    {
     "name": "stdout",
     "output_type": "stream",
     "text": [
      "=== Epoch 20 === Loss: 165.2454\n",
      "=== Epoch 1 === Loss: 6802893250.1809\n",
      "=== Epoch 2 === Loss: 4933465.5559\n",
      "=== Epoch 3 === Loss: 168575.9345\n",
      "=== Epoch 4 === Loss: 88979.0537\n",
      "=== Epoch 5 === Loss: 36072.3557\n",
      "=== Epoch 6 === Loss: 725333.0864\n",
      "=== Epoch 7 === Loss: 8215.3591\n",
      "=== Epoch 8 === Loss: 4310300.3877\n",
      "=== Epoch 9 === Loss: 312.9717\n",
      "=== Epoch 10 === Loss: 284.2535\n",
      "=== Epoch 11 === Loss: 266.6720\n",
      "=== Epoch 12 === Loss: 15520.4391\n",
      "=== Epoch 13 === Loss: 29942.2839\n",
      "=== Epoch 14 === Loss: 79419.2084\n",
      "=== Epoch 15 === Loss: 226.0776\n",
      "=== Epoch 16 === Loss: 217.4802\n",
      "=== Epoch 17 === Loss: 230.5076\n",
      "=== Epoch 18 === Loss: 209.4389\n",
      "=== Epoch 19 === Loss: 208.4416\n"
     ]
    },
    {
     "name": "stderr",
     "output_type": "stream",
     "text": [
      "[I 2024-03-16 21:32:37,048] Trial 12 finished with value: 222.53419651245116 and parameters: {'lr': 0.011562259135312456, 'batch_size': 16, 'num_layers': 2, 'hidden_units': 16}. Best is trial 8 with value: 28.058759296264647.\n"
     ]
    },
    {
     "name": "stdout",
     "output_type": "stream",
     "text": [
      "=== Epoch 20 === Loss: 190.2622\n",
      "=== Epoch 1 === Loss: 2299679381.8791\n",
      "=== Epoch 2 === Loss: 192334371.3734\n",
      "=== Epoch 3 === Loss: 22496.0004\n",
      "=== Epoch 4 === Loss: 271237.3543\n",
      "=== Epoch 5 === Loss: 339.9922\n",
      "=== Epoch 6 === Loss: 1188.5981\n",
      "=== Epoch 7 === Loss: 285.9861\n",
      "=== Epoch 8 === Loss: 270.4658\n",
      "=== Epoch 9 === Loss: 257.3844\n",
      "=== Epoch 10 === Loss: 242.3502\n",
      "=== Epoch 11 === Loss: 227.7997\n",
      "=== Epoch 12 === Loss: 210.3762\n",
      "=== Epoch 13 === Loss: 189.5651\n",
      "=== Epoch 14 === Loss: 163.9563\n",
      "=== Epoch 15 === Loss: 141.2747\n",
      "=== Epoch 16 === Loss: 211.2507\n",
      "=== Epoch 17 === Loss: 133.9369\n",
      "=== Epoch 18 === Loss: 98.0520\n",
      "=== Epoch 19 === Loss: 90.7288\n"
     ]
    },
    {
     "name": "stderr",
     "output_type": "stream",
     "text": [
      "[I 2024-03-16 21:32:42,442] Trial 13 finished with value: 2055.010710581055 and parameters: {'lr': 0.016245724492268878, 'batch_size': 16, 'num_layers': 2, 'hidden_units': 16}. Best is trial 8 with value: 28.058759296264647.\n"
     ]
    },
    {
     "name": "stdout",
     "output_type": "stream",
     "text": [
      "=== Epoch 20 === Loss: 5030.4912\n",
      "=== Epoch 1 === Loss: 147686589160.4205\n",
      "=== Epoch 2 === Loss: 23387.6785\n",
      "=== Epoch 3 === Loss: 9600.0777\n",
      "=== Epoch 4 === Loss: 289307.2223\n",
      "=== Epoch 5 === Loss: 129898.1248\n",
      "=== Epoch 6 === Loss: 1398.6773\n",
      "=== Epoch 7 === Loss: 1284.0903\n",
      "=== Epoch 8 === Loss: 2807.4239\n",
      "=== Epoch 9 === Loss: 8375.8597\n",
      "=== Epoch 10 === Loss: 710073.6874\n",
      "=== Epoch 11 === Loss: 92336635.8977\n",
      "=== Epoch 12 === Loss: 165327467.2505\n",
      "=== Epoch 13 === Loss: 46972.9446\n",
      "=== Epoch 14 === Loss: 281.2315\n",
      "=== Epoch 15 === Loss: 299.7035\n",
      "=== Epoch 16 === Loss: 330.1853\n",
      "=== Epoch 17 === Loss: 507.9087\n"
     ]
    },
    {
     "name": "stderr",
     "output_type": "stream",
     "text": [
      "[I 2024-03-16 21:32:44,220] Trial 14 finished with value: 1199.2769055273438 and parameters: {'lr': 0.0027406794546165217, 'batch_size': 64, 'num_layers': 2, 'hidden_units': 16}. Best is trial 8 with value: 28.058759296264647.\n"
     ]
    },
    {
     "name": "stdout",
     "output_type": "stream",
     "text": [
      "=== Epoch 18 === Loss: 1165.9830\n",
      "=== Epoch 19 === Loss: 4029.0572\n",
      "=== Epoch 20 === Loss: 10794.1480\n",
      "=== Epoch 1 === Loss: 4222132567.7570\n",
      "=== Epoch 2 === Loss: 6630.1868\n",
      "=== Epoch 3 === Loss: 5933.5234\n",
      "=== Epoch 4 === Loss: 5552.0327\n",
      "=== Epoch 5 === Loss: 5176.3424\n",
      "=== Epoch 6 === Loss: 4966.8128\n",
      "=== Epoch 7 === Loss: 2989.2582\n",
      "=== Epoch 8 === Loss: 1079.1840\n",
      "=== Epoch 9 === Loss: 763.3354\n",
      "=== Epoch 10 === Loss: 610.3161\n",
      "=== Epoch 11 === Loss: 597.0488\n",
      "=== Epoch 12 === Loss: 474.4153\n",
      "=== Epoch 13 === Loss: 770.1038\n",
      "=== Epoch 14 === Loss: 1702.4591\n",
      "=== Epoch 15 === Loss: 1133.5877\n",
      "=== Epoch 16 === Loss: 265.6410\n",
      "=== Epoch 17 === Loss: 170.9428\n",
      "=== Epoch 18 === Loss: 167.1382\n",
      "=== Epoch 19 === Loss: 167.1117\n"
     ]
    },
    {
     "name": "stderr",
     "output_type": "stream",
     "text": [
      "[I 2024-03-16 21:32:49,561] Trial 15 finished with value: 143.09323886230467 and parameters: {'lr': 0.07683332618632342, 'batch_size': 16, 'num_layers': 2, 'hidden_units': 16}. Best is trial 8 with value: 28.058759296264647.\n"
     ]
    },
    {
     "name": "stdout",
     "output_type": "stream",
     "text": [
      "=== Epoch 20 === Loss: 167.1138\n",
      "=== Epoch 1 === Loss: 6493025449.7187\n",
      "=== Epoch 2 === Loss: 28576.6335\n",
      "=== Epoch 3 === Loss: 1204899.7606\n",
      "=== Epoch 4 === Loss: 1199.7383\n",
      "=== Epoch 5 === Loss: 1078.5488\n",
      "=== Epoch 6 === Loss: 82210091655.5738\n",
      "=== Epoch 7 === Loss: 14667.2678\n",
      "=== Epoch 8 === Loss: 13348.7997\n",
      "=== Epoch 9 === Loss: 12286.1971\n",
      "=== Epoch 10 === Loss: 11431.7498\n",
      "=== Epoch 11 === Loss: 10696.2481\n",
      "=== Epoch 12 === Loss: 10027.4055\n",
      "=== Epoch 13 === Loss: 9418.8017\n",
      "=== Epoch 14 === Loss: 8841.0870\n",
      "=== Epoch 15 === Loss: 8305.7056\n",
      "=== Epoch 16 === Loss: 7784.8753\n",
      "=== Epoch 17 === Loss: 7278.9099\n",
      "=== Epoch 18 === Loss: 6788.3269\n",
      "=== Epoch 19 === Loss: 6284.3849\n"
     ]
    },
    {
     "name": "stderr",
     "output_type": "stream",
     "text": [
      "[I 2024-03-16 21:32:52,535] Trial 16 finished with value: 12782.74379647461 and parameters: {'lr': 0.019815538194827086, 'batch_size': 32, 'num_layers': 2, 'hidden_units': 16}. Best is trial 8 with value: 28.058759296264647.\n"
     ]
    },
    {
     "name": "stdout",
     "output_type": "stream",
     "text": [
      "=== Epoch 20 === Loss: 5794.5257\n",
      "=== Epoch 1 === Loss: 3823843463.2840\n",
      "=== Epoch 2 === Loss: 30932.0588\n",
      "=== Epoch 3 === Loss: 5405509713.1538\n",
      "=== Epoch 4 === Loss: 363083.5711\n",
      "=== Epoch 5 === Loss: 21658.2255\n",
      "=== Epoch 6 === Loss: 6701.1217\n",
      "=== Epoch 7 === Loss: 1531.1721\n",
      "=== Epoch 8 === Loss: 531.5352\n",
      "=== Epoch 9 === Loss: 355.3850\n",
      "=== Epoch 10 === Loss: 302.6661\n",
      "=== Epoch 11 === Loss: 294.2317\n",
      "=== Epoch 12 === Loss: 290.6834\n",
      "=== Epoch 13 === Loss: 290.0235\n",
      "=== Epoch 14 === Loss: 293.9220\n",
      "=== Epoch 15 === Loss: 278.6375\n",
      "=== Epoch 16 === Loss: 274.4947\n",
      "=== Epoch 17 === Loss: 283.2434\n",
      "=== Epoch 18 === Loss: 21752.5046\n",
      "=== Epoch 19 === Loss: 917.8383\n"
     ]
    },
    {
     "name": "stderr",
     "output_type": "stream",
     "text": [
      "[I 2024-03-16 21:32:57,796] Trial 17 finished with value: 42.728891552734375 and parameters: {'lr': 0.0035521469478215053, 'batch_size': 16, 'num_layers': 2, 'hidden_units': 8}. Best is trial 8 with value: 28.058759296264647.\n"
     ]
    },
    {
     "name": "stdout",
     "output_type": "stream",
     "text": [
      "=== Epoch 20 === Loss: 15789.4473\n",
      "=== Epoch 1 === Loss: 687251040.3115\n",
      "=== Epoch 2 === Loss: 774277.9018\n",
      "=== Epoch 3 === Loss: 36604059.8128\n",
      "=== Epoch 4 === Loss: 429786344.5757\n",
      "=== Epoch 5 === Loss: 89179780.9475\n",
      "=== Epoch 6 === Loss: 42246.4088\n",
      "=== Epoch 7 === Loss: 5244.6570\n",
      "=== Epoch 8 === Loss: 1000.2652\n",
      "=== Epoch 9 === Loss: 928.4923\n",
      "=== Epoch 10 === Loss: 1105.4718\n",
      "=== Epoch 11 === Loss: 1439.1167\n",
      "=== Epoch 12 === Loss: 15828.0289\n",
      "=== Epoch 13 === Loss: 718954.6065\n",
      "=== Epoch 14 === Loss: 321032786.5582\n",
      "=== Epoch 15 === Loss: 23004.1210\n",
      "=== Epoch 16 === Loss: 57.9123\n",
      "=== Epoch 17 === Loss: 62.7606\n",
      "=== Epoch 18 === Loss: 48.9051\n",
      "=== Epoch 19 === Loss: 20.8998\n"
     ]
    },
    {
     "name": "stderr",
     "output_type": "stream",
     "text": [
      "[I 2024-03-16 21:32:59,880] Trial 18 finished with value: 23.77511182800293 and parameters: {'lr': 0.0007839735962018706, 'batch_size': 64, 'num_layers': 3, 'hidden_units': 32}. Best is trial 18 with value: 23.77511182800293.\n"
     ]
    },
    {
     "name": "stdout",
     "output_type": "stream",
     "text": [
      "=== Epoch 20 === Loss: 20.6453\n",
      "=== Epoch 1 === Loss: 1260742425.2449\n",
      "=== Epoch 2 === Loss: 398.7685\n",
      "=== Epoch 3 === Loss: 320.5567\n",
      "=== Epoch 4 === Loss: 539.4524\n",
      "=== Epoch 5 === Loss: 623.8117\n",
      "=== Epoch 6 === Loss: 954.4758\n",
      "=== Epoch 7 === Loss: 2097.3183\n",
      "=== Epoch 8 === Loss: 2599.4620\n",
      "=== Epoch 9 === Loss: 2920.7136\n",
      "=== Epoch 10 === Loss: 1567.0429\n",
      "=== Epoch 11 === Loss: 1238.8399\n",
      "=== Epoch 12 === Loss: 413.1939\n",
      "=== Epoch 13 === Loss: 852.5344\n",
      "=== Epoch 14 === Loss: 1456.4278\n",
      "=== Epoch 15 === Loss: 3821.7794\n",
      "=== Epoch 16 === Loss: 50890183.5611\n",
      "=== Epoch 17 === Loss: 174861932.3932\n",
      "=== Epoch 18 === Loss: 6733625.1379\n",
      "=== Epoch 19 === Loss: 249784.8877\n"
     ]
    },
    {
     "name": "stderr",
     "output_type": "stream",
     "text": [
      "[I 2024-03-16 21:33:01,988] Trial 19 finished with value: 1447.8814343457032 and parameters: {'lr': 0.0002946274597357467, 'batch_size': 64, 'num_layers': 3, 'hidden_units': 32}. Best is trial 18 with value: 23.77511182800293.\n"
     ]
    },
    {
     "name": "stdout",
     "output_type": "stream",
     "text": [
      "=== Epoch 20 === Loss: 7414.4344\n",
      "=== Epoch 1 === Loss: 4170183427.1413\n",
      "=== Epoch 2 === Loss: 638.3192\n",
      "=== Epoch 3 === Loss: 169.9360\n",
      "=== Epoch 4 === Loss: 45849.9063\n",
      "=== Epoch 5 === Loss: 55169.1176\n",
      "=== Epoch 6 === Loss: 985.3442\n",
      "=== Epoch 7 === Loss: 2959.4475\n",
      "=== Epoch 8 === Loss: 29491.3319\n",
      "=== Epoch 9 === Loss: 433638.1893\n",
      "=== Epoch 10 === Loss: 630086.7872\n",
      "=== Epoch 11 === Loss: 12437424.2012\n",
      "=== Epoch 12 === Loss: 195356360.7293\n",
      "=== Epoch 13 === Loss: 4126.9074\n",
      "=== Epoch 14 === Loss: 1605.8000\n",
      "=== Epoch 15 === Loss: 2113.1337\n",
      "=== Epoch 16 === Loss: 2963.5014\n",
      "=== Epoch 17 === Loss: 3052.8892\n",
      "=== Epoch 18 === Loss: 2849.7472\n"
     ]
    },
    {
     "name": "stderr",
     "output_type": "stream",
     "text": [
      "[I 2024-03-16 21:33:04,061] Trial 20 finished with value: 1005630.4539633204 and parameters: {'lr': 0.0010321242506037894, 'batch_size': 64, 'num_layers': 3, 'hidden_units': 32}. Best is trial 18 with value: 23.77511182800293.\n"
     ]
    },
    {
     "name": "stdout",
     "output_type": "stream",
     "text": [
      "=== Epoch 19 === Loss: 3251034.5141\n",
      "=== Epoch 20 === Loss: 8426590.1376\n",
      "=== Epoch 1 === Loss: 4419404460.9698\n",
      "=== Epoch 2 === Loss: 86568046.6322\n",
      "=== Epoch 3 === Loss: 11898.0319\n",
      "=== Epoch 4 === Loss: 38071.3941\n",
      "=== Epoch 5 === Loss: 60978.0293\n",
      "=== Epoch 6 === Loss: 380340.1273\n",
      "=== Epoch 7 === Loss: 1231537.4942\n",
      "=== Epoch 8 === Loss: 122970.8753\n",
      "=== Epoch 9 === Loss: 6627.5766\n",
      "=== Epoch 10 === Loss: 1825.1843\n",
      "=== Epoch 11 === Loss: 406.0903\n",
      "=== Epoch 12 === Loss: 7784.8711\n",
      "=== Epoch 13 === Loss: 12112.6490\n",
      "=== Epoch 14 === Loss: 657.9146\n",
      "=== Epoch 15 === Loss: 262.5594\n",
      "=== Epoch 16 === Loss: 201.1043\n",
      "=== Epoch 17 === Loss: 154764.5577\n"
     ]
    },
    {
     "name": "stderr",
     "output_type": "stream",
     "text": [
      "[I 2024-03-16 21:33:06,134] Trial 21 finished with value: 177.23840184570312 and parameters: {'lr': 0.0064019663897906635, 'batch_size': 64, 'num_layers': 2, 'hidden_units': 32}. Best is trial 18 with value: 23.77511182800293.\n"
     ]
    },
    {
     "name": "stdout",
     "output_type": "stream",
     "text": [
      "=== Epoch 18 === Loss: 37761316.2386\n",
      "=== Epoch 19 === Loss: 930068.4090\n",
      "=== Epoch 20 === Loss: 3123.8008\n",
      "=== Epoch 1 === Loss: 2447843469.2282\n",
      "=== Epoch 2 === Loss: 273110994.9930\n",
      "=== Epoch 3 === Loss: 1659944808.4371\n",
      "=== Epoch 4 === Loss: 324179101.6651\n",
      "=== Epoch 5 === Loss: 834561.1639\n",
      "=== Epoch 6 === Loss: 82139117.0758\n",
      "=== Epoch 7 === Loss: 1667920.3664\n",
      "=== Epoch 8 === Loss: 157058775.5072\n",
      "=== Epoch 9 === Loss: 31254530.2710\n",
      "=== Epoch 10 === Loss: 91080621.0390\n",
      "=== Epoch 11 === Loss: 507081740.8196\n",
      "=== Epoch 12 === Loss: 541641594.7101\n",
      "=== Epoch 13 === Loss: 152460.8336\n",
      "=== Epoch 14 === Loss: 17168.4735\n",
      "=== Epoch 15 === Loss: 4933.8785\n",
      "=== Epoch 16 === Loss: 2466.4768\n",
      "=== Epoch 17 === Loss: 1714.1783\n",
      "=== Epoch 18 === Loss: 56246.4664\n"
     ]
    },
    {
     "name": "stderr",
     "output_type": "stream",
     "text": [
      "[I 2024-03-16 21:33:07,997] Trial 22 finished with value: 267.32284482421875 and parameters: {'lr': 0.0017444479958132857, 'batch_size': 64, 'num_layers': 2, 'hidden_units': 32}. Best is trial 18 with value: 23.77511182800293.\n"
     ]
    },
    {
     "name": "stdout",
     "output_type": "stream",
     "text": [
      "=== Epoch 19 === Loss: 481603018.6808\n",
      "=== Epoch 20 === Loss: 337813865.4416\n",
      "=== Epoch 1 === Loss: 24899453573.8806\n",
      "=== Epoch 2 === Loss: 72.3589\n",
      "=== Epoch 3 === Loss: 50673.0439\n",
      "=== Epoch 4 === Loss: 87.8618\n",
      "=== Epoch 5 === Loss: 64.5071\n",
      "=== Epoch 6 === Loss: 44.3818\n",
      "=== Epoch 7 === Loss: 57.7730\n",
      "=== Epoch 8 === Loss: 33.6099\n",
      "=== Epoch 9 === Loss: 225.6044\n",
      "=== Epoch 10 === Loss: 785716.7773\n",
      "=== Epoch 11 === Loss: 65.7405\n",
      "=== Epoch 12 === Loss: 48.7588\n",
      "=== Epoch 13 === Loss: 109122.5634\n",
      "=== Epoch 14 === Loss: 104.5745\n",
      "=== Epoch 15 === Loss: 101.4997\n",
      "=== Epoch 16 === Loss: 96.9805\n",
      "=== Epoch 17 === Loss: 82.4617\n",
      "=== Epoch 18 === Loss: 88.8441\n",
      "=== Epoch 19 === Loss: 77.3255\n"
     ]
    },
    {
     "name": "stderr",
     "output_type": "stream",
     "text": [
      "[I 2024-03-16 21:33:14,470] Trial 23 finished with value: 73.12376076782226 and parameters: {'lr': 0.026912189664724393, 'batch_size': 16, 'num_layers': 3, 'hidden_units': 16}. Best is trial 18 with value: 23.77511182800293.\n"
     ]
    },
    {
     "name": "stdout",
     "output_type": "stream",
     "text": [
      "=== Epoch 20 === Loss: 115.0316\n",
      "=== Epoch 1 === Loss: 2292646489.9054\n",
      "=== Epoch 2 === Loss: 1413192.1602\n",
      "=== Epoch 3 === Loss: 2606.4029\n",
      "=== Epoch 4 === Loss: 1448.5839\n",
      "=== Epoch 5 === Loss: 413354.5334\n",
      "=== Epoch 6 === Loss: 469840539.2523\n",
      "=== Epoch 7 === Loss: 1821773.6856\n",
      "=== Epoch 8 === Loss: 142851772.2044\n",
      "=== Epoch 9 === Loss: 89870.7633\n",
      "=== Epoch 10 === Loss: 7177286.1312\n",
      "=== Epoch 11 === Loss: 956557197.2996\n",
      "=== Epoch 12 === Loss: 35601698.0870\n",
      "=== Epoch 13 === Loss: 7270.9704\n",
      "=== Epoch 14 === Loss: 84220.7225\n",
      "=== Epoch 15 === Loss: 38282.4504\n",
      "=== Epoch 16 === Loss: 5270.3260\n",
      "=== Epoch 17 === Loss: 119403.7362\n",
      "=== Epoch 18 === Loss: 195859220.3836\n",
      "=== Epoch 19 === Loss: 90.3342\n"
     ]
    },
    {
     "name": "stderr",
     "output_type": "stream",
     "text": [
      "[I 2024-03-16 21:33:17,539] Trial 24 finished with value: 73.43124162597657 and parameters: {'lr': 0.00106628974304957, 'batch_size': 32, 'num_layers': 2, 'hidden_units': 16}. Best is trial 18 with value: 23.77511182800293.\n"
     ]
    },
    {
     "name": "stdout",
     "output_type": "stream",
     "text": [
      "=== Epoch 20 === Loss: 1167.6536\n",
      "=== Epoch 1 === Loss: 5830853724.2690\n",
      "=== Epoch 2 === Loss: 1939835.3016\n",
      "=== Epoch 3 === Loss: 7756590.1898\n",
      "=== Epoch 4 === Loss: 42.6447\n",
      "=== Epoch 5 === Loss: 27356.2620\n",
      "=== Epoch 6 === Loss: 398933596.4346\n",
      "=== Epoch 7 === Loss: 92.9137\n",
      "=== Epoch 8 === Loss: 45.9436\n",
      "=== Epoch 9 === Loss: 35.0801\n",
      "=== Epoch 10 === Loss: 33.3995\n",
      "=== Epoch 11 === Loss: 29.5794\n",
      "=== Epoch 12 === Loss: 32.4558\n",
      "=== Epoch 13 === Loss: 1171.8657\n",
      "=== Epoch 14 === Loss: 44.1823\n",
      "=== Epoch 15 === Loss: 40.3691\n",
      "=== Epoch 16 === Loss: 33.3969\n",
      "=== Epoch 17 === Loss: 30.2319\n",
      "=== Epoch 18 === Loss: 28.7613\n",
      "=== Epoch 19 === Loss: 29.2980\n"
     ]
    },
    {
     "name": "stderr",
     "output_type": "stream",
     "text": [
      "[I 2024-03-16 21:33:20,617] Trial 25 finished with value: 28.057074078979493 and parameters: {'lr': 0.008001406799834361, 'batch_size': 32, 'num_layers': 2, 'hidden_units': 32}. Best is trial 18 with value: 23.77511182800293.\n"
     ]
    },
    {
     "name": "stdout",
     "output_type": "stream",
     "text": [
      "=== Epoch 20 === Loss: 31.6449\n",
      "=== Epoch 1 === Loss: 505909741.4261\n",
      "=== Epoch 2 === Loss: 11668.4400\n",
      "=== Epoch 3 === Loss: 22288.3482\n",
      "=== Epoch 4 === Loss: 82250.2068\n",
      "=== Epoch 5 === Loss: 232.9015\n",
      "=== Epoch 6 === Loss: 14284773.4064\n",
      "=== Epoch 7 === Loss: 7349060.2768\n",
      "=== Epoch 8 === Loss: 12369.0119\n",
      "=== Epoch 9 === Loss: 99632774.5920\n",
      "=== Epoch 10 === Loss: 3339.9315\n",
      "=== Epoch 11 === Loss: 4453.2622\n",
      "=== Epoch 12 === Loss: 25702.6085\n",
      "=== Epoch 13 === Loss: 1440.0113\n",
      "=== Epoch 14 === Loss: 15172.6124\n",
      "=== Epoch 15 === Loss: 60360760.2321\n",
      "=== Epoch 16 === Loss: 2954176.5559\n",
      "=== Epoch 17 === Loss: 308.1395\n",
      "=== Epoch 18 === Loss: 1215.6458\n"
     ]
    },
    {
     "name": "stderr",
     "output_type": "stream",
     "text": [
      "[I 2024-03-16 21:33:24,245] Trial 26 finished with value: 74487196.33598523 and parameters: {'lr': 0.0001914561653605946, 'batch_size': 32, 'num_layers': 3, 'hidden_units': 32}. Best is trial 18 with value: 23.77511182800293.\n"
     ]
    },
    {
     "name": "stdout",
     "output_type": "stream",
     "text": [
      "=== Epoch 19 === Loss: 10504.3915\n",
      "=== Epoch 20 === Loss: 466756.6988\n",
      "=== Epoch 1 === Loss: 3445924785.6241\n",
      "=== Epoch 2 === Loss: 53849.4626\n",
      "=== Epoch 3 === Loss: 2191.5551\n",
      "=== Epoch 4 === Loss: 1547.8250\n",
      "=== Epoch 5 === Loss: 2255.2489\n",
      "=== Epoch 6 === Loss: 3456.8486\n",
      "=== Epoch 7 === Loss: 1906.2621\n",
      "=== Epoch 8 === Loss: 1136.0680\n",
      "=== Epoch 9 === Loss: 934.5759\n",
      "=== Epoch 10 === Loss: 2429.6554\n",
      "=== Epoch 11 === Loss: 897.0684\n",
      "=== Epoch 12 === Loss: 845.0063\n",
      "=== Epoch 13 === Loss: 6548.1034\n",
      "=== Epoch 14 === Loss: 130725.7897\n",
      "=== Epoch 15 === Loss: 41618205.4012\n",
      "=== Epoch 16 === Loss: 6765.0407\n",
      "=== Epoch 17 === Loss: 830.0880\n",
      "=== Epoch 18 === Loss: 844.4501\n",
      "=== Epoch 19 === Loss: 615.0543\n"
     ]
    },
    {
     "name": "stderr",
     "output_type": "stream",
     "text": [
      "[I 2024-03-16 21:33:27,406] Trial 27 finished with value: 49.56253441955566 and parameters: {'lr': 4.2167777402294636e-05, 'batch_size': 32, 'num_layers': 2, 'hidden_units': 32}. Best is trial 18 with value: 23.77511182800293.\n"
     ]
    },
    {
     "name": "stdout",
     "output_type": "stream",
     "text": [
      "=== Epoch 20 === Loss: 896.4941\n",
      "=== Epoch 1 === Loss: 159250066.8912\n",
      "=== Epoch 2 === Loss: 2683.3567\n",
      "=== Epoch 3 === Loss: 205045.1609\n",
      "=== Epoch 4 === Loss: 106876095.7599\n",
      "=== Epoch 5 === Loss: 980.9397\n",
      "=== Epoch 6 === Loss: 2573.0744\n",
      "=== Epoch 7 === Loss: 266516.0730\n",
      "=== Epoch 8 === Loss: 108679465.0892\n",
      "=== Epoch 9 === Loss: 170287.5050\n",
      "=== Epoch 10 === Loss: 45.4344\n",
      "=== Epoch 11 === Loss: 164.2923\n",
      "=== Epoch 12 === Loss: 465.3560\n",
      "=== Epoch 13 === Loss: 2500.4479\n",
      "=== Epoch 14 === Loss: 6104.4601\n",
      "=== Epoch 15 === Loss: 2004341.1624\n",
      "=== Epoch 16 === Loss: 6570972.0704\n",
      "=== Epoch 17 === Loss: 401837.6822\n",
      "=== Epoch 18 === Loss: 3990161.3964\n"
     ]
    },
    {
     "name": "stderr",
     "output_type": "stream",
     "text": [
      "[I 2024-03-16 21:33:30,934] Trial 28 finished with value: 31.181003060302736 and parameters: {'lr': 0.0005359228371303492, 'batch_size': 32, 'num_layers': 3, 'hidden_units': 32}. Best is trial 18 with value: 23.77511182800293.\n"
     ]
    },
    {
     "name": "stdout",
     "output_type": "stream",
     "text": [
      "=== Epoch 19 === Loss: 14416330.5802\n",
      "=== Epoch 20 === Loss: 5127.4866\n",
      "=== Epoch 1 === Loss: 1451493365147.3833\n",
      "=== Epoch 2 === Loss: 157110371.6413\n",
      "=== Epoch 3 === Loss: 4581001.1831\n",
      "=== Epoch 4 === Loss: 3558562088.9083\n",
      "=== Epoch 5 === Loss: 2278912.3057\n",
      "=== Epoch 6 === Loss: 961723.7637\n",
      "=== Epoch 7 === Loss: 48017911.7006\n",
      "=== Epoch 8 === Loss: 227874716.7635\n",
      "=== Epoch 9 === Loss: 87753840.3490\n",
      "=== Epoch 10 === Loss: 342336.5152\n",
      "=== Epoch 11 === Loss: 13874.5083\n",
      "=== Epoch 12 === Loss: 23090.5624\n",
      "=== Epoch 13 === Loss: 90235.1828\n",
      "=== Epoch 14 === Loss: 126091.5347\n",
      "=== Epoch 15 === Loss: 257599.8502\n",
      "=== Epoch 16 === Loss: 2303564.3585\n",
      "=== Epoch 17 === Loss: 1442313.3937\n",
      "=== Epoch 18 === Loss: 12183193.4665\n"
     ]
    },
    {
     "name": "stderr",
     "output_type": "stream",
     "text": [
      "[I 2024-03-16 21:33:33,407] Trial 29 finished with value: 17438.7482275 and parameters: {'lr': 0.04391934961566936, 'batch_size': 32, 'num_layers': 1, 'hidden_units': 64}. Best is trial 18 with value: 23.77511182800293.\n"
     ]
    },
    {
     "name": "stdout",
     "output_type": "stream",
     "text": [
      "=== Epoch 19 === Loss: 27483142.7122\n",
      "=== Epoch 20 === Loss: 133675.9928\n",
      "=== Epoch 1 === Loss: 59775221154.6599\n",
      "=== Epoch 2 === Loss: 125519887.0806\n",
      "=== Epoch 3 === Loss: 4188153.2207\n",
      "=== Epoch 4 === Loss: 30454453.7728\n",
      "=== Epoch 5 === Loss: 3764885.9993\n",
      "=== Epoch 6 === Loss: 5406556.3966\n",
      "=== Epoch 7 === Loss: 1311175.1910\n",
      "=== Epoch 8 === Loss: 816990075.5733\n",
      "=== Epoch 9 === Loss: 226913880.6858\n",
      "=== Epoch 10 === Loss: 13554966633.7459\n",
      "=== Epoch 11 === Loss: 2816749.0144\n",
      "=== Epoch 12 === Loss: 566716.2600\n",
      "=== Epoch 13 === Loss: 2447986.9389\n",
      "=== Epoch 14 === Loss: 3620878.3605\n",
      "=== Epoch 15 === Loss: 26919135.0474\n",
      "=== Epoch 16 === Loss: 1662439652.6328\n",
      "=== Epoch 17 === Loss: 9285668505.7086\n",
      "=== Epoch 18 === Loss: 853158.4890\n"
     ]
    },
    {
     "name": "stderr",
     "output_type": "stream",
     "text": [
      "[I 2024-03-16 21:33:34,942] Trial 30 finished with value: 681.3809368164062 and parameters: {'lr': 0.0050334574100052275, 'batch_size': 64, 'num_layers': 1, 'hidden_units': 32}. Best is trial 18 with value: 23.77511182800293.\n"
     ]
    },
    {
     "name": "stdout",
     "output_type": "stream",
     "text": [
      "=== Epoch 19 === Loss: 796.0381\n",
      "=== Epoch 20 === Loss: 702.2338\n",
      "=== Epoch 1 === Loss: 814409465.0974\n",
      "=== Epoch 2 === Loss: 788.0994\n",
      "=== Epoch 3 === Loss: 522.6211\n",
      "=== Epoch 4 === Loss: 74689338.3515\n",
      "=== Epoch 5 === Loss: 15905958.3173\n",
      "=== Epoch 6 === Loss: 103989.3965\n",
      "=== Epoch 7 === Loss: 7116411.7517\n",
      "=== Epoch 8 === Loss: 57676501.6622\n",
      "=== Epoch 9 === Loss: 94275.9816\n",
      "=== Epoch 10 === Loss: 108484.0791\n",
      "=== Epoch 11 === Loss: 80059370.7751\n",
      "=== Epoch 12 === Loss: 36492.0876\n",
      "=== Epoch 13 === Loss: 27.0808\n",
      "=== Epoch 14 === Loss: 26.7880\n",
      "=== Epoch 15 === Loss: 26.4975\n",
      "=== Epoch 16 === Loss: 26.8569\n",
      "=== Epoch 17 === Loss: 25.9695\n",
      "=== Epoch 18 === Loss: 26.1188\n",
      "=== Epoch 19 === Loss: 809120.6210\n"
     ]
    },
    {
     "name": "stderr",
     "output_type": "stream",
     "text": [
      "[I 2024-03-16 21:33:38,643] Trial 31 finished with value: 24.06493260131836 and parameters: {'lr': 0.000519028016772998, 'batch_size': 32, 'num_layers': 3, 'hidden_units': 32}. Best is trial 18 with value: 23.77511182800293.\n"
     ]
    },
    {
     "name": "stdout",
     "output_type": "stream",
     "text": [
      "=== Epoch 20 === Loss: 53669565.9976\n",
      "=== Epoch 1 === Loss: 715222590.7503\n",
      "=== Epoch 2 === Loss: 107506801.3196\n",
      "=== Epoch 3 === Loss: 1119.1420\n",
      "=== Epoch 4 === Loss: 360.7014\n",
      "=== Epoch 5 === Loss: 8629.8772\n",
      "=== Epoch 6 === Loss: 56555.8166\n",
      "=== Epoch 7 === Loss: 49497065.7884\n",
      "=== Epoch 8 === Loss: 920.0701\n",
      "=== Epoch 9 === Loss: 86.1487\n",
      "=== Epoch 10 === Loss: 45.2465\n",
      "=== Epoch 11 === Loss: 45.0026\n",
      "=== Epoch 12 === Loss: 31.2754\n",
      "=== Epoch 13 === Loss: 33.5744\n",
      "=== Epoch 14 === Loss: 45165.4630\n",
      "=== Epoch 15 === Loss: 7322540.7516\n",
      "=== Epoch 16 === Loss: 18.2648\n",
      "=== Epoch 17 === Loss: 17.9688\n",
      "=== Epoch 18 === Loss: 18.4314\n"
     ]
    },
    {
     "name": "stderr",
     "output_type": "stream",
     "text": [
      "[I 2024-03-16 21:33:42,238] Trial 32 finished with value: 14.913835033569336 and parameters: {'lr': 0.0016263410057374317, 'batch_size': 32, 'num_layers': 3, 'hidden_units': 32}. Best is trial 32 with value: 14.913835033569336.\n"
     ]
    },
    {
     "name": "stdout",
     "output_type": "stream",
     "text": [
      "=== Epoch 19 === Loss: 16.8679\n",
      "=== Epoch 20 === Loss: 18.6806\n",
      "=== Epoch 1 === Loss: 750924658.5599\n",
      "=== Epoch 2 === Loss: 1878866.9493\n",
      "=== Epoch 3 === Loss: 1536.7503\n",
      "=== Epoch 4 === Loss: 6619.3699\n",
      "=== Epoch 5 === Loss: 5682.8872\n",
      "=== Epoch 6 === Loss: 62182.4702\n",
      "=== Epoch 7 === Loss: 387.5373\n",
      "=== Epoch 8 === Loss: 15945200.3645\n",
      "=== Epoch 9 === Loss: 31676547.2796\n",
      "=== Epoch 10 === Loss: 5350485.0003\n",
      "=== Epoch 11 === Loss: 63142.2835\n",
      "=== Epoch 12 === Loss: 95104.4791\n",
      "=== Epoch 13 === Loss: 93014.2598\n",
      "=== Epoch 14 === Loss: 1947.9027\n",
      "=== Epoch 15 === Loss: 1039507.6521\n",
      "=== Epoch 16 === Loss: 213682858.5474\n",
      "=== Epoch 17 === Loss: 1842787.9855\n",
      "=== Epoch 18 === Loss: 645.4434\n",
      "=== Epoch 19 === Loss: 22.2450\n"
     ]
    },
    {
     "name": "stderr",
     "output_type": "stream",
     "text": [
      "[I 2024-03-16 21:33:43,773] Trial 33 finished with value: 20.890974363098145 and parameters: {'lr': 0.0017920590059728174, 'batch_size': 128, 'num_layers': 3, 'hidden_units': 32}. Best is trial 32 with value: 14.913835033569336.\n"
     ]
    },
    {
     "name": "stdout",
     "output_type": "stream",
     "text": [
      "=== Epoch 20 === Loss: 32.7033\n",
      "=== Epoch 1 === Loss: 273622853.8251\n",
      "=== Epoch 2 === Loss: 33800.9892\n",
      "=== Epoch 3 === Loss: 695.0312\n",
      "=== Epoch 4 === Loss: 464.0458\n",
      "=== Epoch 5 === Loss: 365.2010\n",
      "=== Epoch 6 === Loss: 1094.1157\n",
      "=== Epoch 7 === Loss: 154.3204\n",
      "=== Epoch 8 === Loss: 963.7094\n",
      "=== Epoch 9 === Loss: 7785.8019\n",
      "=== Epoch 10 === Loss: 19973.3344\n",
      "=== Epoch 11 === Loss: 1062.8273\n",
      "=== Epoch 12 === Loss: 5899761.7496\n",
      "=== Epoch 13 === Loss: 19788933.4658\n",
      "=== Epoch 14 === Loss: 30147669.7436\n",
      "=== Epoch 15 === Loss: 17002184.8316\n",
      "=== Epoch 16 === Loss: 1032316067.7103\n",
      "=== Epoch 17 === Loss: 233692.0371\n"
     ]
    },
    {
     "name": "stderr",
     "output_type": "stream",
     "text": [
      "[I 2024-03-16 21:33:45,211] Trial 34 finished with value: 32.91203532684326 and parameters: {'lr': 0.0005875098920041916, 'batch_size': 128, 'num_layers': 3, 'hidden_units': 32}. Best is trial 32 with value: 14.913835033569336.\n"
     ]
    },
    {
     "name": "stdout",
     "output_type": "stream",
     "text": [
      "=== Epoch 18 === Loss: 91.5974\n",
      "=== Epoch 19 === Loss: 25.0941\n",
      "=== Epoch 20 === Loss: 25.7655\n",
      "=== Epoch 1 === Loss: 1775741974.2005\n",
      "=== Epoch 2 === Loss: 222268.6890\n",
      "=== Epoch 3 === Loss: 74091.8804\n",
      "=== Epoch 4 === Loss: 329.2878\n",
      "=== Epoch 5 === Loss: 7036.4728\n",
      "=== Epoch 6 === Loss: 1562.0648\n",
      "=== Epoch 7 === Loss: 29308.1760\n",
      "=== Epoch 8 === Loss: 20685.2210\n",
      "=== Epoch 9 === Loss: 132.8527\n",
      "=== Epoch 10 === Loss: 113.7957\n",
      "=== Epoch 11 === Loss: 562.8261\n",
      "=== Epoch 12 === Loss: 685.8361\n",
      "=== Epoch 13 === Loss: 7566.3604\n",
      "=== Epoch 14 === Loss: 772.9785\n",
      "=== Epoch 15 === Loss: 1116.4935\n",
      "=== Epoch 16 === Loss: 649.1385\n",
      "=== Epoch 17 === Loss: 8488.8915\n"
     ]
    },
    {
     "name": "stderr",
     "output_type": "stream",
     "text": [
      "[I 2024-03-16 21:33:46,716] Trial 35 finished with value: 25423908.549996015 and parameters: {'lr': 0.0018377457855326218, 'batch_size': 128, 'num_layers': 3, 'hidden_units': 32}. Best is trial 32 with value: 14.913835033569336.\n"
     ]
    },
    {
     "name": "stdout",
     "output_type": "stream",
     "text": [
      "=== Epoch 18 === Loss: 62024.7484\n",
      "=== Epoch 19 === Loss: 42844.6635\n",
      "=== Epoch 20 === Loss: 5403661.5468\n",
      "=== Epoch 1 === Loss: 3141326875.5728\n",
      "=== Epoch 2 === Loss: 4145250.9710\n",
      "=== Epoch 3 === Loss: 19385.5323\n",
      "=== Epoch 4 === Loss: 1121.3173\n",
      "=== Epoch 5 === Loss: 920.0832\n",
      "=== Epoch 6 === Loss: 1251.1432\n",
      "=== Epoch 7 === Loss: 988.6229\n",
      "=== Epoch 8 === Loss: 431.3439\n",
      "=== Epoch 9 === Loss: 1636.2653\n",
      "=== Epoch 10 === Loss: 2340.5241\n",
      "=== Epoch 11 === Loss: 2777.6638\n",
      "=== Epoch 12 === Loss: 2161.2954\n",
      "=== Epoch 13 === Loss: 1022.8892\n",
      "=== Epoch 14 === Loss: 471.4834\n",
      "=== Epoch 15 === Loss: 537.3222\n",
      "=== Epoch 16 === Loss: 732.8167\n",
      "=== Epoch 17 === Loss: 1008.6579\n",
      "=== Epoch 18 === Loss: 1140.8612\n",
      "=== Epoch 19 === Loss: 1213.4826\n"
     ]
    },
    {
     "name": "stderr",
     "output_type": "stream",
     "text": [
      "[I 2024-03-16 21:33:48,078] Trial 36 finished with value: 19.153911414794923 and parameters: {'lr': 0.0001401607275821676, 'batch_size': 128, 'num_layers': 3, 'hidden_units': 32}. Best is trial 32 with value: 14.913835033569336.\n"
     ]
    },
    {
     "name": "stdout",
     "output_type": "stream",
     "text": [
      "=== Epoch 20 === Loss: 1338.0512\n",
      "=== Epoch 1 === Loss: 2736540065.6397\n",
      "=== Epoch 2 === Loss: 747157.5159\n",
      "=== Epoch 3 === Loss: 18010.0391\n",
      "=== Epoch 4 === Loss: 9082.1829\n",
      "=== Epoch 5 === Loss: 4585.2400\n",
      "=== Epoch 6 === Loss: 1949.7744\n",
      "=== Epoch 7 === Loss: 836.4189\n",
      "=== Epoch 8 === Loss: 275.7735\n",
      "=== Epoch 9 === Loss: 214.3412\n",
      "=== Epoch 10 === Loss: 76.5532\n",
      "=== Epoch 11 === Loss: 61.3651\n",
      "=== Epoch 12 === Loss: 50.8399\n",
      "=== Epoch 13 === Loss: 71.0397\n",
      "=== Epoch 14 === Loss: 108.4693\n",
      "=== Epoch 15 === Loss: 83.6455\n",
      "=== Epoch 16 === Loss: 52.2466\n",
      "=== Epoch 17 === Loss: 43.0666\n"
     ]
    },
    {
     "name": "stderr",
     "output_type": "stream",
     "text": [
      "[I 2024-03-16 21:33:49,565] Trial 37 finished with value: 33.29513135864258 and parameters: {'lr': 8.702723475788547e-05, 'batch_size': 128, 'num_layers': 3, 'hidden_units': 64}. Best is trial 32 with value: 14.913835033569336.\n"
     ]
    },
    {
     "name": "stdout",
     "output_type": "stream",
     "text": [
      "=== Epoch 18 === Loss: 34.0045\n",
      "=== Epoch 19 === Loss: 37.0110\n",
      "=== Epoch 20 === Loss: 30.6781\n",
      "=== Epoch 1 === Loss: 595897750.0981\n",
      "=== Epoch 2 === Loss: 3491789.2111\n",
      "=== Epoch 3 === Loss: 24752.3299\n",
      "=== Epoch 4 === Loss: 1058.9239\n",
      "=== Epoch 5 === Loss: 864.8914\n",
      "=== Epoch 6 === Loss: 734.0599\n",
      "=== Epoch 7 === Loss: 1057.6200\n",
      "=== Epoch 8 === Loss: 545.5038\n",
      "=== Epoch 9 === Loss: 479.2205\n",
      "=== Epoch 10 === Loss: 425.1687\n",
      "=== Epoch 11 === Loss: 374.3331\n",
      "=== Epoch 12 === Loss: 331.8544\n",
      "=== Epoch 13 === Loss: 295.2933\n",
      "=== Epoch 14 === Loss: 260.9716\n",
      "=== Epoch 15 === Loss: 223.8394\n",
      "=== Epoch 16 === Loss: 190.3967\n",
      "=== Epoch 17 === Loss: 163.5166\n",
      "=== Epoch 18 === Loss: 140.3355\n",
      "=== Epoch 19 === Loss: 121.3486\n",
      "=== Epoch 20 === Loss: 102.6047\n"
     ]
    },
    {
     "name": "stderr",
     "output_type": "stream",
     "text": [
      "[I 2024-03-16 21:33:50,878] Trial 38 finished with value: 111.37722358398437 and parameters: {'lr': 0.0002763474442426123, 'batch_size': 128, 'num_layers': 3, 'hidden_units': 8}. Best is trial 32 with value: 14.913835033569336.\n"
     ]
    },
    {
     "name": "stdout",
     "output_type": "stream",
     "text": [
      "=== Epoch 1 === Loss: 9371435239.8667\n",
      "=== Epoch 2 === Loss: 2150295504.1756\n",
      "=== Epoch 3 === Loss: 720751511.6943\n",
      "=== Epoch 4 === Loss: 191522311.0515\n",
      "=== Epoch 5 === Loss: 38704224.9897\n",
      "=== Epoch 6 === Loss: 5909695.1806\n",
      "=== Epoch 7 === Loss: 692177.1511\n",
      "=== Epoch 8 === Loss: 65650.9680\n",
      "=== Epoch 9 === Loss: 8558.8087\n",
      "=== Epoch 10 === Loss: 3944.7136\n",
      "=== Epoch 11 === Loss: 3267.8208\n",
      "=== Epoch 12 === Loss: 2757.5540\n",
      "=== Epoch 13 === Loss: 2252.4158\n",
      "=== Epoch 14 === Loss: 1862.8829\n",
      "=== Epoch 15 === Loss: 1552.1876\n",
      "=== Epoch 16 === Loss: 1440.7465\n",
      "=== Epoch 17 === Loss: 1112.5277\n",
      "=== Epoch 18 === Loss: 952.1009\n",
      "=== Epoch 19 === Loss: 820.0852\n"
     ]
    },
    {
     "name": "stderr",
     "output_type": "stream",
     "text": [
      "[I 2024-03-16 21:33:52,381] Trial 39 finished with value: 525.1249593554687 and parameters: {'lr': 2.007338195515644e-05, 'batch_size': 128, 'num_layers': 3, 'hidden_units': 32}. Best is trial 32 with value: 14.913835033569336.\n"
     ]
    },
    {
     "name": "stdout",
     "output_type": "stream",
     "text": [
      "=== Epoch 20 === Loss: 714.3974\n",
      "=== Epoch 1 === Loss: 899232255.6539\n",
      "=== Epoch 2 === Loss: 32962.8208\n",
      "=== Epoch 3 === Loss: 5082.8795\n",
      "=== Epoch 4 === Loss: 58013.0844\n",
      "=== Epoch 5 === Loss: 142759563.0324\n",
      "=== Epoch 6 === Loss: 362270011.0936\n",
      "=== Epoch 7 === Loss: 714252.8914\n",
      "=== Epoch 8 === Loss: 7328.4549\n",
      "=== Epoch 9 === Loss: 70.0772\n",
      "=== Epoch 10 === Loss: 35.8562\n",
      "=== Epoch 11 === Loss: 38.0450\n",
      "=== Epoch 12 === Loss: 54.2483\n",
      "=== Epoch 13 === Loss: 88.7476\n",
      "=== Epoch 14 === Loss: 736.8870\n",
      "=== Epoch 15 === Loss: 1306.9561\n",
      "=== Epoch 16 === Loss: 552.2402\n",
      "=== Epoch 17 === Loss: 930.0351\n",
      "=== Epoch 18 === Loss: 3434.1264\n",
      "=== Epoch 19 === Loss: 8353991.3743\n"
     ]
    },
    {
     "name": "stderr",
     "output_type": "stream",
     "text": [
      "[I 2024-03-16 21:33:53,838] Trial 40 finished with value: 684123716.8990186 and parameters: {'lr': 0.0014072620606311096, 'batch_size': 128, 'num_layers': 3, 'hidden_units': 32}. Best is trial 32 with value: 14.913835033569336.\n"
     ]
    },
    {
     "name": "stdout",
     "output_type": "stream",
     "text": [
      "=== Epoch 20 === Loss: 117544051.2835\n",
      "=== Epoch 1 === Loss: 30969601.2359\n",
      "=== Epoch 2 === Loss: 9918.5687\n",
      "=== Epoch 3 === Loss: 124989.2803\n",
      "=== Epoch 4 === Loss: 49401.8481\n",
      "=== Epoch 5 === Loss: 1637061.5919\n",
      "=== Epoch 6 === Loss: 5501870.2041\n",
      "=== Epoch 7 === Loss: 23794166.7886\n",
      "=== Epoch 8 === Loss: 2028044.1519\n",
      "=== Epoch 9 === Loss: 21166.7585\n",
      "=== Epoch 10 === Loss: 217.0700\n",
      "=== Epoch 11 === Loss: 1189.1943\n",
      "=== Epoch 12 === Loss: 3644.9650\n",
      "=== Epoch 13 === Loss: 162637.4439\n",
      "=== Epoch 14 === Loss: 526304.8214\n",
      "=== Epoch 15 === Loss: 1011753.3525\n",
      "=== Epoch 16 === Loss: 2908650.6455\n",
      "=== Epoch 17 === Loss: 55999424.3527\n"
     ]
    },
    {
     "name": "stderr",
     "output_type": "stream",
     "text": [
      "[I 2024-03-16 21:33:55,299] Trial 41 finished with value: 27.376867072143554 and parameters: {'lr': 0.00033292418243529524, 'batch_size': 128, 'num_layers': 3, 'hidden_units': 32}. Best is trial 32 with value: 14.913835033569336.\n"
     ]
    },
    {
     "name": "stdout",
     "output_type": "stream",
     "text": [
      "=== Epoch 18 === Loss: 47319029.9217\n",
      "=== Epoch 19 === Loss: 66899.5884\n",
      "=== Epoch 20 === Loss: 382.2168\n",
      "=== Epoch 1 === Loss: 1314434318.6078\n",
      "=== Epoch 2 === Loss: 35582.8872\n",
      "=== Epoch 3 === Loss: 848.8291\n",
      "=== Epoch 4 === Loss: 444.2065\n",
      "=== Epoch 5 === Loss: 468.0524\n",
      "=== Epoch 6 === Loss: 759.4258\n",
      "=== Epoch 7 === Loss: 874.7329\n",
      "=== Epoch 8 === Loss: 653.9642\n",
      "=== Epoch 9 === Loss: 587.6671\n",
      "=== Epoch 10 === Loss: 593.2942\n",
      "=== Epoch 11 === Loss: 978.8723\n",
      "=== Epoch 12 === Loss: 1817.3288\n",
      "=== Epoch 13 === Loss: 4722.0940\n",
      "=== Epoch 14 === Loss: 4704.2317\n",
      "=== Epoch 15 === Loss: 2840.1774\n",
      "=== Epoch 16 === Loss: 976.3168\n",
      "=== Epoch 17 === Loss: 872.4873\n",
      "=== Epoch 18 === Loss: 648.5908\n"
     ]
    },
    {
     "name": "stderr",
     "output_type": "stream",
     "text": [
      "[I 2024-03-16 21:33:56,787] Trial 42 finished with value: 41.199667532348634 and parameters: {'lr': 0.00016728793955251626, 'batch_size': 128, 'num_layers': 3, 'hidden_units': 32}. Best is trial 32 with value: 14.913835033569336.\n"
     ]
    },
    {
     "name": "stdout",
     "output_type": "stream",
     "text": [
      "=== Epoch 19 === Loss: 616.2598\n",
      "=== Epoch 20 === Loss: 593.7319\n",
      "=== Epoch 1 === Loss: 757771623.2930\n",
      "=== Epoch 2 === Loss: 90847.7352\n",
      "=== Epoch 3 === Loss: 40021.8895\n",
      "=== Epoch 4 === Loss: 178815.4839\n",
      "=== Epoch 5 === Loss: 126375.8846\n",
      "=== Epoch 6 === Loss: 676784.0788\n",
      "=== Epoch 7 === Loss: 137339781.3144\n",
      "=== Epoch 8 === Loss: 40199840.5390\n",
      "=== Epoch 9 === Loss: 2141667.7513\n",
      "=== Epoch 10 === Loss: 39990.8833\n",
      "=== Epoch 11 === Loss: 670365.0403\n",
      "=== Epoch 12 === Loss: 2974365.4723\n",
      "=== Epoch 13 === Loss: 103683646.6989\n",
      "=== Epoch 14 === Loss: 1818619.0565\n",
      "=== Epoch 15 === Loss: 1038569.8219\n",
      "=== Epoch 16 === Loss: 1349582.8688\n",
      "=== Epoch 17 === Loss: 363139.3896\n",
      "=== Epoch 18 === Loss: 3022846.2996\n"
     ]
    },
    {
     "name": "stderr",
     "output_type": "stream",
     "text": [
      "[I 2024-03-16 21:33:58,220] Trial 43 finished with value: 37224.69725261719 and parameters: {'lr': 0.0006759604933975317, 'batch_size': 128, 'num_layers': 3, 'hidden_units': 32}. Best is trial 32 with value: 14.913835033569336.\n"
     ]
    },
    {
     "name": "stdout",
     "output_type": "stream",
     "text": [
      "=== Epoch 19 === Loss: 150566313.7408\n",
      "=== Epoch 20 === Loss: 39684858.4003\n",
      "=== Epoch 1 === Loss: 4214177711.5879\n",
      "=== Epoch 2 === Loss: 129953.3676\n",
      "=== Epoch 3 === Loss: 11834.2285\n",
      "=== Epoch 4 === Loss: 1411.3109\n",
      "=== Epoch 5 === Loss: 183.4187\n",
      "=== Epoch 6 === Loss: 7979.6838\n",
      "=== Epoch 7 === Loss: 22886.7616\n",
      "=== Epoch 8 === Loss: 108456980.8687\n",
      "=== Epoch 9 === Loss: 34048770.5889\n",
      "=== Epoch 10 === Loss: 170767.4730\n",
      "=== Epoch 11 === Loss: 1682.1655\n",
      "=== Epoch 12 === Loss: 552.9552\n",
      "=== Epoch 13 === Loss: 165809.1950\n",
      "=== Epoch 14 === Loss: 3818.0402\n",
      "=== Epoch 15 === Loss: 3110.0449\n",
      "=== Epoch 16 === Loss: 4184.8016\n",
      "=== Epoch 17 === Loss: 44609.3592\n",
      "=== Epoch 18 === Loss: 39983242.2036\n",
      "=== Epoch 19 === Loss: 2104470.4224\n"
     ]
    },
    {
     "name": "stderr",
     "output_type": "stream",
     "text": [
      "[I 2024-03-16 21:34:00,353] Trial 44 finished with value: 19.669366211853028 and parameters: {'lr': 0.0030991792665013207, 'batch_size': 64, 'num_layers': 3, 'hidden_units': 32}. Best is trial 32 with value: 14.913835033569336.\n"
     ]
    },
    {
     "name": "stdout",
     "output_type": "stream",
     "text": [
      "=== Epoch 20 === Loss: 1283.2552\n",
      "=== Epoch 1 === Loss: 1200020006.3401\n",
      "=== Epoch 2 === Loss: 8612.8628\n",
      "=== Epoch 3 === Loss: 1438779.0077\n",
      "=== Epoch 4 === Loss: 186185.0936\n",
      "=== Epoch 5 === Loss: 3450.0183\n",
      "=== Epoch 6 === Loss: 792869.1031\n",
      "=== Epoch 7 === Loss: 19121.7358\n",
      "=== Epoch 8 === Loss: 365344.9455\n",
      "=== Epoch 9 === Loss: 2511791.9516\n",
      "=== Epoch 10 === Loss: 91122330.3366\n",
      "=== Epoch 11 === Loss: 22774.5910\n",
      "=== Epoch 12 === Loss: 1139.9150\n",
      "=== Epoch 13 === Loss: 828.9226\n",
      "=== Epoch 14 === Loss: 621.1537\n",
      "=== Epoch 15 === Loss: 49.4975\n",
      "=== Epoch 16 === Loss: 321.3770\n",
      "=== Epoch 17 === Loss: 1358.6211\n",
      "=== Epoch 18 === Loss: 1020.7558\n",
      "=== Epoch 19 === Loss: 18.3741\n"
     ]
    },
    {
     "name": "stderr",
     "output_type": "stream",
     "text": [
      "[I 2024-03-16 21:34:02,695] Trial 45 finished with value: 16.853779002990724 and parameters: {'lr': 0.002805950722168937, 'batch_size': 64, 'num_layers': 3, 'hidden_units': 64}. Best is trial 32 with value: 14.913835033569336.\n"
     ]
    },
    {
     "name": "stdout",
     "output_type": "stream",
     "text": [
      "=== Epoch 20 === Loss: 16.0432\n",
      "=== Epoch 1 === Loss: 3683466370.0921\n",
      "=== Epoch 2 === Loss: 34672.9894\n",
      "=== Epoch 3 === Loss: 29332.5700\n",
      "=== Epoch 4 === Loss: 18385034.9271\n",
      "=== Epoch 5 === Loss: 9855066.1834\n",
      "=== Epoch 6 === Loss: 760.1888\n",
      "=== Epoch 7 === Loss: 14384.6994\n",
      "=== Epoch 8 === Loss: 3368.4746\n",
      "=== Epoch 9 === Loss: 86463.4388\n",
      "=== Epoch 10 === Loss: 39577.1728\n",
      "=== Epoch 11 === Loss: 300.3302\n",
      "=== Epoch 12 === Loss: 1256.6147\n",
      "=== Epoch 13 === Loss: 305534.5537\n",
      "=== Epoch 14 === Loss: 108541.2854\n",
      "=== Epoch 15 === Loss: 229911.3975\n",
      "=== Epoch 16 === Loss: 499.5421\n",
      "=== Epoch 17 === Loss: 3812.8235\n",
      "=== Epoch 18 === Loss: 210.1663\n",
      "=== Epoch 19 === Loss: 2657.1270\n"
     ]
    },
    {
     "name": "stderr",
     "output_type": "stream",
     "text": [
      "[I 2024-03-16 21:34:05,053] Trial 46 finished with value: 40519.73154891602 and parameters: {'lr': 0.003419490128407413, 'batch_size': 64, 'num_layers': 3, 'hidden_units': 64}. Best is trial 32 with value: 14.913835033569336.\n"
     ]
    },
    {
     "name": "stdout",
     "output_type": "stream",
     "text": [
      "=== Epoch 20 === Loss: 144931.2816\n",
      "=== Epoch 1 === Loss: 1874017970.9835\n",
      "=== Epoch 2 === Loss: 114043.3962\n",
      "=== Epoch 3 === Loss: 54119597.0249\n",
      "=== Epoch 4 === Loss: 150042823.2431\n",
      "=== Epoch 5 === Loss: 823295.0332\n",
      "=== Epoch 6 === Loss: 2905830.0276\n",
      "=== Epoch 7 === Loss: 78569.8305\n",
      "=== Epoch 8 === Loss: 12528.6560\n",
      "=== Epoch 9 === Loss: 52653.2258\n",
      "=== Epoch 10 === Loss: 3381.0341\n",
      "=== Epoch 11 === Loss: 1166.1448\n",
      "=== Epoch 12 === Loss: 8547153.9390\n",
      "=== Epoch 13 === Loss: 3065287.8063\n",
      "=== Epoch 14 === Loss: 26248.0834\n",
      "=== Epoch 15 === Loss: 1497.7271\n",
      "=== Epoch 16 === Loss: 8738.8566\n",
      "=== Epoch 17 === Loss: 57207.8862\n",
      "=== Epoch 18 === Loss: 15882322.8288\n",
      "=== Epoch 19 === Loss: 512179.5330\n"
     ]
    },
    {
     "name": "stderr",
     "output_type": "stream",
     "text": [
      "[I 2024-03-16 21:34:07,386] Trial 47 finished with value: 266.76976810546876 and parameters: {'lr': 0.002754634586598473, 'batch_size': 64, 'num_layers': 3, 'hidden_units': 64}. Best is trial 32 with value: 14.913835033569336.\n"
     ]
    },
    {
     "name": "stdout",
     "output_type": "stream",
     "text": [
      "=== Epoch 20 === Loss: 35.7877\n",
      "=== Epoch 1 === Loss: 891629144.8997\n",
      "=== Epoch 2 === Loss: 548382.3190\n",
      "=== Epoch 3 === Loss: 47272.7661\n",
      "=== Epoch 4 === Loss: 1997473.0349\n",
      "=== Epoch 5 === Loss: 6046991.1709\n",
      "=== Epoch 6 === Loss: 283466467.0402\n",
      "=== Epoch 7 === Loss: 16640904.7873\n",
      "=== Epoch 8 === Loss: 466956.2389\n",
      "=== Epoch 9 === Loss: 184446.6130\n",
      "=== Epoch 10 === Loss: 408683.0584\n",
      "=== Epoch 11 === Loss: 771306.0399\n",
      "=== Epoch 12 === Loss: 132864.4661\n",
      "=== Epoch 13 === Loss: 85.6150\n",
      "=== Epoch 14 === Loss: 46170.2804\n",
      "=== Epoch 15 === Loss: 8077040.8999\n",
      "=== Epoch 16 === Loss: 22097148.2392\n",
      "=== Epoch 17 === Loss: 35070.5242\n",
      "=== Epoch 18 === Loss: 127581.0277\n",
      "=== Epoch 19 === Loss: 127022.5065\n"
     ]
    },
    {
     "name": "stderr",
     "output_type": "stream",
     "text": [
      "[I 2024-03-16 21:34:09,717] Trial 48 finished with value: 139.49641314208984 and parameters: {'lr': 0.001313544044303417, 'batch_size': 64, 'num_layers': 3, 'hidden_units': 64}. Best is trial 32 with value: 14.913835033569336.\n"
     ]
    },
    {
     "name": "stdout",
     "output_type": "stream",
     "text": [
      "=== Epoch 20 === Loss: 90884.0340\n",
      "=== Epoch 1 === Loss: 3351705439.9534\n",
      "=== Epoch 2 === Loss: 196.1584\n",
      "=== Epoch 3 === Loss: 80.1951\n",
      "=== Epoch 4 === Loss: 67.0892\n",
      "=== Epoch 5 === Loss: 65.1522\n",
      "=== Epoch 6 === Loss: 60.8777\n",
      "=== Epoch 7 === Loss: 54.5441\n",
      "=== Epoch 8 === Loss: 52.8238\n",
      "=== Epoch 9 === Loss: 49.7074\n",
      "=== Epoch 10 === Loss: 525.6106\n",
      "=== Epoch 11 === Loss: 48.6002\n",
      "=== Epoch 12 === Loss: 41.2119\n",
      "=== Epoch 13 === Loss: 38.9033\n",
      "=== Epoch 14 === Loss: 40.9402\n",
      "=== Epoch 15 === Loss: 38.4957\n",
      "=== Epoch 16 === Loss: 33.4287\n",
      "=== Epoch 17 === Loss: 32.4205\n",
      "=== Epoch 18 === Loss: 28.1717\n",
      "=== Epoch 19 === Loss: 336.8008\n"
     ]
    },
    {
     "name": "stderr",
     "output_type": "stream",
     "text": [
      "[I 2024-03-16 21:34:11,075] Trial 49 finished with value: 84.72509634399414 and parameters: {'lr': 0.00453516150861289, 'batch_size': 128, 'num_layers': 3, 'hidden_units': 8}. Best is trial 32 with value: 14.913835033569336.\n"
     ]
    },
    {
     "name": "stdout",
     "output_type": "stream",
     "text": [
      "=== Epoch 20 === Loss: 106.6970\n",
      "=== Epoch 1 === Loss: 1159750165.7431\n",
      "=== Epoch 2 === Loss: 22340.7599\n",
      "=== Epoch 3 === Loss: 52442348.5941\n",
      "=== Epoch 4 === Loss: 485629.7470\n",
      "=== Epoch 5 === Loss: 206786.9345\n",
      "=== Epoch 6 === Loss: 3851.1457\n",
      "=== Epoch 7 === Loss: 141369.4112\n",
      "=== Epoch 8 === Loss: 59775.2381\n",
      "=== Epoch 9 === Loss: 12416.8631\n",
      "=== Epoch 10 === Loss: 94423.3058\n",
      "=== Epoch 11 === Loss: 183.9011\n",
      "=== Epoch 12 === Loss: 3934.6429\n",
      "=== Epoch 13 === Loss: 702503.9542\n",
      "=== Epoch 14 === Loss: 1777532.9535\n",
      "=== Epoch 15 === Loss: 6939280.7986\n",
      "=== Epoch 16 === Loss: 139310.1979\n",
      "=== Epoch 17 === Loss: 15160.9777\n",
      "=== Epoch 18 === Loss: 1633.0745\n",
      "=== Epoch 19 === Loss: 158250.4330\n"
     ]
    },
    {
     "name": "stderr",
     "output_type": "stream",
     "text": [
      "[I 2024-03-16 21:34:13,402] Trial 50 finished with value: 368.4862633496094 and parameters: {'lr': 0.0027497736659099, 'batch_size': 64, 'num_layers': 3, 'hidden_units': 64}. Best is trial 32 with value: 14.913835033569336.\n"
     ]
    },
    {
     "name": "stdout",
     "output_type": "stream",
     "text": [
      "=== Epoch 20 === Loss: 899010.6784\n",
      "=== Epoch 1 === Loss: 1745101951.9477\n",
      "=== Epoch 2 === Loss: 47318.5145\n",
      "=== Epoch 3 === Loss: 314348.7232\n",
      "=== Epoch 4 === Loss: 21811.6936\n",
      "=== Epoch 5 === Loss: 6472297.7321\n",
      "=== Epoch 6 === Loss: 60964.5065\n",
      "=== Epoch 7 === Loss: 21964550.0512\n",
      "=== Epoch 8 === Loss: 4555731.6714\n",
      "=== Epoch 9 === Loss: 51150717.4295\n",
      "=== Epoch 10 === Loss: 450985.9584\n",
      "=== Epoch 11 === Loss: 225047401.0165\n",
      "=== Epoch 12 === Loss: 240730528.1336\n",
      "=== Epoch 13 === Loss: 619.3184\n",
      "=== Epoch 14 === Loss: 22.3188\n",
      "=== Epoch 15 === Loss: 20.8648\n",
      "=== Epoch 16 === Loss: 20.2384\n",
      "=== Epoch 17 === Loss: 643.1696\n",
      "=== Epoch 18 === Loss: 1386.1630\n",
      "=== Epoch 19 === Loss: 972.9909\n"
     ]
    },
    {
     "name": "stderr",
     "output_type": "stream",
     "text": [
      "[I 2024-03-16 21:34:15,539] Trial 51 finished with value: 21.990554856567382 and parameters: {'lr': 0.000790148919145546, 'batch_size': 64, 'num_layers': 3, 'hidden_units': 32}. Best is trial 32 with value: 14.913835033569336.\n"
     ]
    },
    {
     "name": "stdout",
     "output_type": "stream",
     "text": [
      "=== Epoch 20 === Loss: 1192.6817\n",
      "=== Epoch 1 === Loss: 4969067779.0853\n",
      "=== Epoch 2 === Loss: 463108.7264\n",
      "=== Epoch 3 === Loss: 3410386.8730\n",
      "=== Epoch 4 === Loss: 917287.0431\n",
      "=== Epoch 5 === Loss: 73212687.7922\n",
      "=== Epoch 6 === Loss: 307375.3266\n",
      "=== Epoch 7 === Loss: 492.0766\n",
      "=== Epoch 8 === Loss: 384.1014\n",
      "=== Epoch 9 === Loss: 440.6597\n",
      "=== Epoch 10 === Loss: 865609.0803\n",
      "=== Epoch 11 === Loss: 56420522.3306\n",
      "=== Epoch 12 === Loss: 519093477.1489\n",
      "=== Epoch 13 === Loss: 1148987.4373\n",
      "=== Epoch 14 === Loss: 339.5026\n",
      "=== Epoch 15 === Loss: 19.8043\n",
      "=== Epoch 16 === Loss: 161.3186\n",
      "=== Epoch 17 === Loss: 320.0219\n",
      "=== Epoch 18 === Loss: 182.9922\n",
      "=== Epoch 19 === Loss: 29.8213\n"
     ]
    },
    {
     "name": "stderr",
     "output_type": "stream",
     "text": [
      "[I 2024-03-16 21:34:17,838] Trial 52 finished with value: 18.665942736206055 and parameters: {'lr': 0.002059744384114522, 'batch_size': 64, 'num_layers': 3, 'hidden_units': 32}. Best is trial 32 with value: 14.913835033569336.\n"
     ]
    },
    {
     "name": "stdout",
     "output_type": "stream",
     "text": [
      "=== Epoch 20 === Loss: 68.2632\n",
      "=== Epoch 1 === Loss: 354973761.3923\n",
      "=== Epoch 2 === Loss: 8554.5879\n",
      "=== Epoch 3 === Loss: 19675740.7898\n",
      "=== Epoch 4 === Loss: 113629440.5094\n",
      "=== Epoch 5 === Loss: 472.9771\n",
      "=== Epoch 6 === Loss: 87.5973\n",
      "=== Epoch 7 === Loss: 46.0539\n",
      "=== Epoch 8 === Loss: 487925.4727\n",
      "=== Epoch 9 === Loss: 1965.5938\n",
      "=== Epoch 10 === Loss: 381.1321\n",
      "=== Epoch 11 === Loss: 343.9409\n",
      "=== Epoch 12 === Loss: 73.6392\n",
      "=== Epoch 13 === Loss: 89.7400\n",
      "=== Epoch 14 === Loss: 214.2245\n",
      "=== Epoch 15 === Loss: 594481.0565\n",
      "=== Epoch 16 === Loss: 17815126.6023\n",
      "=== Epoch 17 === Loss: 8163265.0525\n",
      "=== Epoch 18 === Loss: 2470.1475\n",
      "=== Epoch 19 === Loss: 612.9504\n"
     ]
    },
    {
     "name": "stderr",
     "output_type": "stream",
     "text": [
      "[I 2024-03-16 21:34:19,995] Trial 53 finished with value: 22.42462462982178 and parameters: {'lr': 0.0018831165502229475, 'batch_size': 64, 'num_layers': 3, 'hidden_units': 32}. Best is trial 32 with value: 14.913835033569336.\n"
     ]
    },
    {
     "name": "stdout",
     "output_type": "stream",
     "text": [
      "=== Epoch 20 === Loss: 334.3659\n",
      "=== Epoch 1 === Loss: 4829318763.3342\n",
      "=== Epoch 2 === Loss: 7023667.8105\n",
      "=== Epoch 3 === Loss: 1097071.3482\n",
      "=== Epoch 4 === Loss: 7167.4078\n",
      "=== Epoch 5 === Loss: 16859.6351\n",
      "=== Epoch 6 === Loss: 2097391.1317\n",
      "=== Epoch 7 === Loss: 335538658.1014\n",
      "=== Epoch 8 === Loss: 12665.0065\n",
      "=== Epoch 9 === Loss: 176.7556\n",
      "=== Epoch 10 === Loss: 846.3537\n",
      "=== Epoch 11 === Loss: 1343.7250\n",
      "=== Epoch 12 === Loss: 15364.3806\n",
      "=== Epoch 13 === Loss: 1542590.8886\n",
      "=== Epoch 14 === Loss: 1581.9805\n",
      "=== Epoch 15 === Loss: 54.4145\n",
      "=== Epoch 16 === Loss: 23.2950\n",
      "=== Epoch 17 === Loss: 28.0118\n",
      "=== Epoch 18 === Loss: 52.0810\n",
      "=== Epoch 19 === Loss: 79.8079\n"
     ]
    },
    {
     "name": "stderr",
     "output_type": "stream",
     "text": [
      "[I 2024-03-16 21:34:22,367] Trial 54 finished with value: 14.02703715423584 and parameters: {'lr': 0.00224114081587386, 'batch_size': 64, 'num_layers': 3, 'hidden_units': 64}. Best is trial 54 with value: 14.02703715423584.\n"
     ]
    },
    {
     "name": "stdout",
     "output_type": "stream",
     "text": [
      "=== Epoch 20 === Loss: 55.0943\n",
      "=== Epoch 1 === Loss: 2420987547.5662\n",
      "=== Epoch 2 === Loss: 5522417.0512\n",
      "=== Epoch 3 === Loss: 15536.2299\n",
      "=== Epoch 4 === Loss: 3380073.0474\n",
      "=== Epoch 5 === Loss: 117580797.4403\n",
      "=== Epoch 6 === Loss: 56881.8224\n",
      "=== Epoch 7 === Loss: 2600392.5194\n",
      "=== Epoch 8 === Loss: 35915.3159\n",
      "=== Epoch 9 === Loss: 34468.8147\n",
      "=== Epoch 10 === Loss: 1417787.3929\n",
      "=== Epoch 11 === Loss: 41181.9655\n",
      "=== Epoch 12 === Loss: 5945.6738\n",
      "=== Epoch 13 === Loss: 13342.8867\n",
      "=== Epoch 14 === Loss: 4940.4334\n",
      "=== Epoch 15 === Loss: 13289.1876\n",
      "=== Epoch 16 === Loss: 3165389.4658\n",
      "=== Epoch 17 === Loss: 10613.3863\n",
      "=== Epoch 18 === Loss: 94582.4269\n",
      "=== Epoch 19 === Loss: 1086.9113\n"
     ]
    },
    {
     "name": "stderr",
     "output_type": "stream",
     "text": [
      "[I 2024-03-16 21:34:24,754] Trial 55 finished with value: 53.20352617431641 and parameters: {'lr': 0.004086456142297209, 'batch_size': 64, 'num_layers': 3, 'hidden_units': 64}. Best is trial 54 with value: 14.02703715423584.\n"
     ]
    },
    {
     "name": "stdout",
     "output_type": "stream",
     "text": [
      "=== Epoch 20 === Loss: 1776.8434\n",
      "=== Epoch 1 === Loss: 4018791896.3785\n",
      "=== Epoch 2 === Loss: 6525792.4032\n",
      "=== Epoch 3 === Loss: 13801742.2145\n",
      "=== Epoch 4 === Loss: 531397.4125\n",
      "=== Epoch 5 === Loss: 23555846.1676\n",
      "=== Epoch 6 === Loss: 70954134.0528\n",
      "=== Epoch 7 === Loss: 301097.6652\n",
      "=== Epoch 8 === Loss: 67923.9094\n",
      "=== Epoch 9 === Loss: 86569.4610\n",
      "=== Epoch 10 === Loss: 74185.6111\n",
      "=== Epoch 11 === Loss: 14954.7214\n",
      "=== Epoch 12 === Loss: 21754.3669\n",
      "=== Epoch 13 === Loss: 3309.0745\n",
      "=== Epoch 14 === Loss: 345.2633\n",
      "=== Epoch 15 === Loss: 274.6936\n",
      "=== Epoch 16 === Loss: 78.2424\n",
      "=== Epoch 17 === Loss: 46.1083\n",
      "=== Epoch 18 === Loss: 38.5498\n",
      "=== Epoch 19 === Loss: 39.1744\n"
     ]
    },
    {
     "name": "stderr",
     "output_type": "stream",
     "text": [
      "[I 2024-03-16 21:34:27,092] Trial 56 finished with value: 31.408571962585448 and parameters: {'lr': 0.007215849142223404, 'batch_size': 64, 'num_layers': 3, 'hidden_units': 64}. Best is trial 54 with value: 14.02703715423584.\n"
     ]
    },
    {
     "name": "stdout",
     "output_type": "stream",
     "text": [
      "=== Epoch 20 === Loss: 36.7552\n",
      "=== Epoch 1 === Loss: 5394929121.2789\n",
      "=== Epoch 2 === Loss: 464632.0244\n",
      "=== Epoch 3 === Loss: 16300731.5297\n",
      "=== Epoch 4 === Loss: 26307708.9375\n",
      "=== Epoch 5 === Loss: 534.0205\n",
      "=== Epoch 6 === Loss: 325.3117\n",
      "=== Epoch 7 === Loss: 180.9868\n",
      "=== Epoch 8 === Loss: 1606.5651\n",
      "=== Epoch 9 === Loss: 2073.0235\n",
      "=== Epoch 10 === Loss: 2202.1134\n",
      "=== Epoch 11 === Loss: 60.8617\n",
      "=== Epoch 12 === Loss: 36.3046\n",
      "=== Epoch 13 === Loss: 66.5382\n",
      "=== Epoch 14 === Loss: 49.0162\n",
      "=== Epoch 15 === Loss: 4294.7642\n",
      "=== Epoch 16 === Loss: 69833461.8115\n",
      "=== Epoch 17 === Loss: 1032.9351\n",
      "=== Epoch 18 === Loss: 382.1342\n",
      "=== Epoch 19 === Loss: 25.6298\n"
     ]
    },
    {
     "name": "stderr",
     "output_type": "stream",
     "text": [
      "[I 2024-03-16 21:34:29,452] Trial 57 finished with value: 22.96154884765625 and parameters: {'lr': 0.002452283980762449, 'batch_size': 64, 'num_layers': 3, 'hidden_units': 64}. Best is trial 54 with value: 14.02703715423584.\n"
     ]
    },
    {
     "name": "stdout",
     "output_type": "stream",
     "text": [
      "=== Epoch 20 === Loss: 192.7631\n",
      "=== Epoch 1 === Loss: 32871621144.9230\n",
      "=== Epoch 2 === Loss: 1329310.2382\n",
      "=== Epoch 3 === Loss: 2382486.4928\n",
      "=== Epoch 4 === Loss: 6846066.9747\n",
      "=== Epoch 5 === Loss: 71498.0751\n",
      "=== Epoch 6 === Loss: 15049426.3576\n",
      "=== Epoch 7 === Loss: 49731.8771\n",
      "=== Epoch 8 === Loss: 56.0289\n",
      "=== Epoch 9 === Loss: 30.2413\n",
      "=== Epoch 10 === Loss: 108.8254\n",
      "=== Epoch 11 === Loss: 722627.0326\n",
      "=== Epoch 12 === Loss: 510883.2814\n",
      "=== Epoch 13 === Loss: 40963.2033\n",
      "=== Epoch 14 === Loss: 1321567.4830\n",
      "=== Epoch 15 === Loss: 67235.8400\n",
      "=== Epoch 16 === Loss: 176385.0429\n",
      "=== Epoch 17 === Loss: 116770.7910\n",
      "=== Epoch 18 === Loss: 1294.5698\n",
      "=== Epoch 19 === Loss: 972038.8333\n"
     ]
    },
    {
     "name": "stderr",
     "output_type": "stream",
     "text": [
      "[I 2024-03-16 21:34:31,808] Trial 58 finished with value: 8260.343419003906 and parameters: {'lr': 0.010911727115339177, 'batch_size': 64, 'num_layers': 3, 'hidden_units': 64}. Best is trial 54 with value: 14.02703715423584.\n"
     ]
    },
    {
     "name": "stdout",
     "output_type": "stream",
     "text": [
      "=== Epoch 20 === Loss: 3954400.6302\n",
      "=== Epoch 1 === Loss: 3666181604.8626\n",
      "=== Epoch 2 === Loss: 125140.5221\n",
      "=== Epoch 3 === Loss: 93089.6825\n",
      "=== Epoch 4 === Loss: 61758.3920\n",
      "=== Epoch 5 === Loss: 39260.3117\n",
      "=== Epoch 6 === Loss: 20537.5066\n",
      "=== Epoch 7 === Loss: 2783.2060\n",
      "=== Epoch 8 === Loss: 1884.4826\n",
      "=== Epoch 9 === Loss: 149.9546\n",
      "=== Epoch 10 === Loss: 219.0702\n",
      "=== Epoch 11 === Loss: 501.6956\n",
      "=== Epoch 12 === Loss: 1358.3159\n",
      "=== Epoch 13 === Loss: 1857.3081\n",
      "=== Epoch 14 === Loss: 104.5782\n",
      "=== Epoch 15 === Loss: 756.5028\n",
      "=== Epoch 16 === Loss: 99032388.3981\n",
      "=== Epoch 17 === Loss: 38336767.2243\n",
      "=== Epoch 18 === Loss: 158.4874\n",
      "=== Epoch 19 === Loss: 33.0572\n"
     ]
    },
    {
     "name": "stderr",
     "output_type": "stream",
     "text": [
      "[I 2024-03-16 21:34:33,853] Trial 59 finished with value: 29.223519352416993 and parameters: {'lr': 0.0013268055539944576, 'batch_size': 64, 'num_layers': 3, 'hidden_units': 8}. Best is trial 54 with value: 14.02703715423584.\n"
     ]
    },
    {
     "name": "stdout",
     "output_type": "stream",
     "text": [
      "=== Epoch 20 === Loss: 25.6515\n",
      "=== Epoch 1 === Loss: 12913722762.4361\n",
      "=== Epoch 2 === Loss: 9642211.0144\n",
      "=== Epoch 3 === Loss: 2353984.2636\n",
      "=== Epoch 4 === Loss: 268889641.8172\n",
      "=== Epoch 5 === Loss: 23509.2847\n",
      "=== Epoch 6 === Loss: 1316.9660\n",
      "=== Epoch 7 === Loss: 795.2713\n",
      "=== Epoch 8 === Loss: 554830.5286\n",
      "=== Epoch 9 === Loss: 8869.8909\n",
      "=== Epoch 10 === Loss: 114745.0346\n",
      "=== Epoch 11 === Loss: 191200837.1594\n",
      "=== Epoch 12 === Loss: 1124566.0206\n",
      "=== Epoch 13 === Loss: 11142.6748\n",
      "=== Epoch 14 === Loss: 17755.9322\n",
      "=== Epoch 15 === Loss: 3533738.3671\n",
      "=== Epoch 16 === Loss: 1061.8760\n",
      "=== Epoch 17 === Loss: 2037.6755\n",
      "=== Epoch 18 === Loss: 543576.9758\n",
      "=== Epoch 19 === Loss: 4786908.7632\n"
     ]
    },
    {
     "name": "stderr",
     "output_type": "stream",
     "text": [
      "[I 2024-03-16 21:34:36,213] Trial 60 finished with value: 7586.54003296875 and parameters: {'lr': 0.005400019974329416, 'batch_size': 64, 'num_layers': 3, 'hidden_units': 64}. Best is trial 54 with value: 14.02703715423584.\n"
     ]
    },
    {
     "name": "stdout",
     "output_type": "stream",
     "text": [
      "=== Epoch 20 === Loss: 459845.3756\n",
      "=== Epoch 1 === Loss: 2878493378.0858\n",
      "=== Epoch 2 === Loss: 1633090676.1150\n",
      "=== Epoch 3 === Loss: 416775.0804\n",
      "=== Epoch 4 === Loss: 204031.5062\n",
      "=== Epoch 5 === Loss: 541944.4890\n",
      "=== Epoch 6 === Loss: 1276080.3589\n",
      "=== Epoch 7 === Loss: 119807.8973\n",
      "=== Epoch 8 === Loss: 6313.1153\n",
      "=== Epoch 9 === Loss: 93804.0578\n",
      "=== Epoch 10 === Loss: 118032.4042\n",
      "=== Epoch 11 === Loss: 524.5888\n",
      "=== Epoch 12 === Loss: 2525.6980\n",
      "=== Epoch 13 === Loss: 5903.2925\n",
      "=== Epoch 14 === Loss: 2282.6585\n",
      "=== Epoch 15 === Loss: 36977.3397\n",
      "=== Epoch 16 === Loss: 10521858.1950\n",
      "=== Epoch 17 === Loss: 1162398.4912\n",
      "=== Epoch 18 === Loss: 162599113.0918\n",
      "=== Epoch 19 === Loss: 24337.7941\n"
     ]
    },
    {
     "name": "stderr",
     "output_type": "stream",
     "text": [
      "[I 2024-03-16 21:34:38,358] Trial 61 finished with value: 21.111214026489257 and parameters: {'lr': 0.0020083845513485243, 'batch_size': 64, 'num_layers': 3, 'hidden_units': 32}. Best is trial 54 with value: 14.02703715423584.\n"
     ]
    },
    {
     "name": "stdout",
     "output_type": "stream",
     "text": [
      "=== Epoch 20 === Loss: 22.8951\n",
      "=== Epoch 1 === Loss: 5569804565.9115\n",
      "=== Epoch 2 === Loss: 71025.5632\n",
      "=== Epoch 3 === Loss: 65395.9322\n",
      "=== Epoch 4 === Loss: 873.5324\n",
      "=== Epoch 5 === Loss: 18314.5481\n",
      "=== Epoch 6 === Loss: 19996.2697\n",
      "=== Epoch 7 === Loss: 67660.4979\n",
      "=== Epoch 8 === Loss: 270689.0460\n",
      "=== Epoch 9 === Loss: 67749.1187\n",
      "=== Epoch 10 === Loss: 126.7074\n",
      "=== Epoch 11 === Loss: 17.7647\n",
      "=== Epoch 12 === Loss: 15.6704\n",
      "=== Epoch 13 === Loss: 14.9218\n",
      "=== Epoch 14 === Loss: 14.3776\n",
      "=== Epoch 15 === Loss: 14.0232\n",
      "=== Epoch 16 === Loss: 13.8735\n",
      "=== Epoch 17 === Loss: 14.1982\n"
     ]
    },
    {
     "name": "stderr",
     "output_type": "stream",
     "text": [
      "[I 2024-03-16 21:34:39,828] Trial 62 finished with value: 14.19062270904541 and parameters: {'lr': 0.0009812545484806496, 'batch_size': 128, 'num_layers': 3, 'hidden_units': 32}. Best is trial 54 with value: 14.02703715423584.\n"
     ]
    },
    {
     "name": "stdout",
     "output_type": "stream",
     "text": [
      "=== Epoch 18 === Loss: 15.1977\n",
      "=== Epoch 19 === Loss: 14.7112\n",
      "=== Epoch 20 === Loss: 15.3438\n",
      "=== Epoch 1 === Loss: 165698535.9903\n",
      "=== Epoch 2 === Loss: 103857.2871\n",
      "=== Epoch 3 === Loss: 33213.8584\n",
      "=== Epoch 4 === Loss: 12886.7302\n",
      "=== Epoch 5 === Loss: 13288475.2947\n",
      "=== Epoch 6 === Loss: 27080107.0731\n",
      "=== Epoch 7 === Loss: 45.1833\n",
      "=== Epoch 8 === Loss: 68.9927\n",
      "=== Epoch 9 === Loss: 80.0448\n",
      "=== Epoch 10 === Loss: 18396342.1098\n",
      "=== Epoch 11 === Loss: 1217448.3825\n",
      "=== Epoch 12 === Loss: 3568538.9953\n",
      "=== Epoch 13 === Loss: 20720862.8968\n",
      "=== Epoch 14 === Loss: 1007.4825\n",
      "=== Epoch 15 === Loss: 117832.2040\n",
      "=== Epoch 16 === Loss: 23070922.6219\n",
      "=== Epoch 17 === Loss: 1385.1557\n",
      "=== Epoch 18 === Loss: 764.5628\n",
      "=== Epoch 19 === Loss: 9685078.2483\n"
     ]
    },
    {
     "name": "stderr",
     "output_type": "stream",
     "text": [
      "[I 2024-03-16 21:34:46,518] Trial 63 finished with value: 971030.9739493964 and parameters: {'lr': 9.255113192089431e-05, 'batch_size': 16, 'num_layers': 3, 'hidden_units': 32}. Best is trial 54 with value: 14.02703715423584.\n"
     ]
    },
    {
     "name": "stdout",
     "output_type": "stream",
     "text": [
      "=== Epoch 20 === Loss: 1952191.8250\n",
      "=== Epoch 1 === Loss: 631814407.0611\n",
      "=== Epoch 2 === Loss: 2088557.0632\n",
      "=== Epoch 3 === Loss: 2504010.3386\n",
      "=== Epoch 4 === Loss: 120172399.1133\n",
      "=== Epoch 5 === Loss: 12446461.7972\n",
      "=== Epoch 6 === Loss: 513554.6657\n",
      "=== Epoch 7 === Loss: 480266.8386\n",
      "=== Epoch 8 === Loss: 10643.0365\n",
      "=== Epoch 9 === Loss: 26248.7071\n",
      "=== Epoch 10 === Loss: 691867.3869\n",
      "=== Epoch 11 === Loss: 111314185.3467\n",
      "=== Epoch 12 === Loss: 2849831.2546\n",
      "=== Epoch 13 === Loss: 2530.5905\n",
      "=== Epoch 14 === Loss: 954.2631\n",
      "=== Epoch 15 === Loss: 227.8023\n",
      "=== Epoch 16 === Loss: 23.2245\n",
      "=== Epoch 17 === Loss: 21.3379\n",
      "=== Epoch 18 === Loss: 21.5066\n"
     ]
    },
    {
     "name": "stderr",
     "output_type": "stream",
     "text": [
      "[I 2024-03-16 21:34:48,839] Trial 64 finished with value: 15.519006870117188 and parameters: {'lr': 0.0010387244698937613, 'batch_size': 64, 'num_layers': 3, 'hidden_units': 32}. Best is trial 54 with value: 14.02703715423584.\n"
     ]
    },
    {
     "name": "stdout",
     "output_type": "stream",
     "text": [
      "=== Epoch 19 === Loss: 19.0592\n",
      "=== Epoch 20 === Loss: 20.6849\n",
      "=== Epoch 1 === Loss: 179024125.6950\n",
      "=== Epoch 2 === Loss: 10978190.6751\n",
      "=== Epoch 3 === Loss: 32068.3460\n",
      "=== Epoch 4 === Loss: 29996284.4037\n",
      "=== Epoch 5 === Loss: 29343165.9547\n",
      "=== Epoch 6 === Loss: 859505.9881\n",
      "=== Epoch 7 === Loss: 101792.8420\n",
      "=== Epoch 8 === Loss: 1177.6540\n",
      "=== Epoch 9 === Loss: 725.8668\n",
      "=== Epoch 10 === Loss: 425751.1231\n",
      "=== Epoch 11 === Loss: 708830.8866\n",
      "=== Epoch 12 === Loss: 3290859.0306\n",
      "=== Epoch 13 === Loss: 36303153.6767\n",
      "=== Epoch 14 === Loss: 110824.1389\n",
      "=== Epoch 15 === Loss: 9727.5915\n",
      "=== Epoch 16 === Loss: 204466.9112\n",
      "=== Epoch 17 === Loss: 433096.1489\n",
      "=== Epoch 18 === Loss: 27403.8390\n"
     ]
    },
    {
     "name": "stderr",
     "output_type": "stream",
     "text": [
      "[I 2024-03-16 21:34:51,001] Trial 65 finished with value: 4457.006458466797 and parameters: {'lr': 0.0010346359211517034, 'batch_size': 64, 'num_layers': 3, 'hidden_units': 32}. Best is trial 54 with value: 14.02703715423584.\n"
     ]
    },
    {
     "name": "stdout",
     "output_type": "stream",
     "text": [
      "=== Epoch 19 === Loss: 1285542.2868\n",
      "=== Epoch 20 === Loss: 2507107.6142\n",
      "=== Epoch 1 === Loss: 11169507260.1943\n",
      "=== Epoch 2 === Loss: 33165.9864\n",
      "=== Epoch 3 === Loss: 192.8642\n",
      "=== Epoch 4 === Loss: 224.7125\n",
      "=== Epoch 5 === Loss: 582.8980\n",
      "=== Epoch 6 === Loss: 3693.9897\n",
      "=== Epoch 7 === Loss: 2734.1325\n",
      "=== Epoch 8 === Loss: 1396.0076\n",
      "=== Epoch 9 === Loss: 813.9518\n",
      "=== Epoch 10 === Loss: 298.7449\n",
      "=== Epoch 11 === Loss: 576.4571\n",
      "=== Epoch 12 === Loss: 229.1836\n",
      "=== Epoch 13 === Loss: 31147.8275\n",
      "=== Epoch 14 === Loss: 3672.6267\n",
      "=== Epoch 15 === Loss: 2974.3156\n",
      "=== Epoch 16 === Loss: 341.2577\n",
      "=== Epoch 17 === Loss: 3204470.7309\n",
      "=== Epoch 18 === Loss: 31596155.9685\n",
      "=== Epoch 19 === Loss: 2378.4927\n",
      "=== Epoch 20 === Loss: 2047.9623\n"
     ]
    },
    {
     "name": "stderr",
     "output_type": "stream",
     "text": [
      "[I 2024-03-16 21:34:55,039] Trial 66 finished with value: 29.52304495010376 and parameters: {'lr': 3.779020810699479e-05, 'batch_size': 32, 'num_layers': 3, 'hidden_units': 64}. Best is trial 54 with value: 14.02703715423584.\n"
     ]
    },
    {
     "name": "stdout",
     "output_type": "stream",
     "text": [
      "=== Epoch 1 === Loss: 54280771593.4241\n",
      "=== Epoch 2 === Loss: 11329211.6152\n",
      "=== Epoch 3 === Loss: 408219.7244\n",
      "=== Epoch 4 === Loss: 9933.0776\n",
      "=== Epoch 5 === Loss: 7167.6889\n",
      "=== Epoch 6 === Loss: 5160.8340\n",
      "=== Epoch 7 === Loss: 3288.2200\n",
      "=== Epoch 8 === Loss: 1937.1064\n",
      "=== Epoch 9 === Loss: 408.1909\n",
      "=== Epoch 10 === Loss: 4144.3697\n",
      "=== Epoch 11 === Loss: 3251.2416\n",
      "=== Epoch 12 === Loss: 2894.3564\n",
      "=== Epoch 13 === Loss: 2023.7274\n",
      "=== Epoch 14 === Loss: 1153.1519\n",
      "=== Epoch 15 === Loss: 759.5288\n",
      "=== Epoch 16 === Loss: 643.7041\n",
      "=== Epoch 17 === Loss: 536.0561\n",
      "=== Epoch 18 === Loss: 515.6961\n"
     ]
    },
    {
     "name": "stderr",
     "output_type": "stream",
     "text": [
      "[I 2024-03-16 21:34:56,595] Trial 67 finished with value: 46.05484449523926 and parameters: {'lr': 0.0002415765093285638, 'batch_size': 128, 'num_layers': 3, 'hidden_units': 32}. Best is trial 54 with value: 14.02703715423584.\n"
     ]
    },
    {
     "name": "stdout",
     "output_type": "stream",
     "text": [
      "=== Epoch 19 === Loss: 634.9765\n",
      "=== Epoch 20 === Loss: 692.5995\n",
      "=== Epoch 1 === Loss: 744672.3643\n",
      "=== Epoch 2 === Loss: 108214.9634\n",
      "=== Epoch 3 === Loss: 8018.1068\n",
      "=== Epoch 4 === Loss: 175915.0155\n",
      "=== Epoch 5 === Loss: 973904.7478\n",
      "=== Epoch 6 === Loss: 5946.2691\n",
      "=== Epoch 7 === Loss: 173.8398\n",
      "=== Epoch 8 === Loss: 160.8743\n",
      "=== Epoch 9 === Loss: 219.1767\n",
      "=== Epoch 10 === Loss: 398.2872\n",
      "=== Epoch 11 === Loss: 188.3077\n",
      "=== Epoch 12 === Loss: 169.8443\n",
      "=== Epoch 13 === Loss: 7085.1706\n",
      "=== Epoch 14 === Loss: 189707.2166\n",
      "=== Epoch 15 === Loss: 90727.6804\n",
      "=== Epoch 16 === Loss: 389998.9800\n",
      "=== Epoch 17 === Loss: 610631.1832\n",
      "=== Epoch 18 === Loss: 566.9905\n",
      "=== Epoch 19 === Loss: 335.8388\n"
     ]
    },
    {
     "name": "stderr",
     "output_type": "stream",
     "text": [
      "[I 2024-03-16 21:34:58,858] Trial 68 finished with value: 49.20475603515625 and parameters: {'lr': 0.00043986421595988343, 'batch_size': 64, 'num_layers': 3, 'hidden_units': 8}. Best is trial 54 with value: 14.02703715423584.\n"
     ]
    },
    {
     "name": "stdout",
     "output_type": "stream",
     "text": [
      "=== Epoch 20 === Loss: 465.2386\n",
      "=== Epoch 1 === Loss: 18897034980.8695\n",
      "=== Epoch 2 === Loss: 6402909532.6270\n",
      "=== Epoch 3 === Loss: 2306458169.6195\n",
      "=== Epoch 4 === Loss: 867871578.5285\n",
      "=== Epoch 5 === Loss: 284584443.2717\n",
      "=== Epoch 6 === Loss: 71260633.9585\n",
      "=== Epoch 7 === Loss: 10744675.3818\n",
      "=== Epoch 8 === Loss: 1054738.8907\n",
      "=== Epoch 9 === Loss: 61151.6771\n",
      "=== Epoch 10 === Loss: 2218.6829\n",
      "=== Epoch 11 === Loss: 444.8625\n",
      "=== Epoch 12 === Loss: 378.9193\n",
      "=== Epoch 13 === Loss: 351.1206\n",
      "=== Epoch 14 === Loss: 345.4951\n",
      "=== Epoch 15 === Loss: 328.3952\n",
      "=== Epoch 16 === Loss: 316.9412\n",
      "=== Epoch 17 === Loss: 285.1773\n",
      "=== Epoch 18 === Loss: 265.1870\n",
      "=== Epoch 19 === Loss: 250.6723\n"
     ]
    },
    {
     "name": "stderr",
     "output_type": "stream",
     "text": [
      "[I 2024-03-16 21:35:02,685] Trial 69 finished with value: 221.3881446044922 and parameters: {'lr': 1.1589924689796163e-05, 'batch_size': 32, 'num_layers': 3, 'hidden_units': 32}. Best is trial 54 with value: 14.02703715423584.\n"
     ]
    },
    {
     "name": "stdout",
     "output_type": "stream",
     "text": [
      "=== Epoch 20 === Loss: 249.0694\n",
      "=== Epoch 1 === Loss: 766246416.7150\n",
      "=== Epoch 2 === Loss: 1434967917.2872\n",
      "=== Epoch 3 === Loss: 27319.2415\n",
      "=== Epoch 4 === Loss: 1479.6749\n",
      "=== Epoch 5 === Loss: 94.3983\n",
      "=== Epoch 6 === Loss: 41.2625\n",
      "=== Epoch 7 === Loss: 1365994643.8137\n",
      "=== Epoch 8 === Loss: 65053.1398\n",
      "=== Epoch 9 === Loss: 4656.2713\n",
      "=== Epoch 10 === Loss: 19009500.0481\n",
      "=== Epoch 11 === Loss: 24369.5365\n",
      "=== Epoch 12 === Loss: 27890196.6656\n",
      "=== Epoch 13 === Loss: 8303.5338\n",
      "=== Epoch 14 === Loss: 9734300.3765\n",
      "=== Epoch 15 === Loss: 304298.2242\n",
      "=== Epoch 16 === Loss: 13364295.3582\n",
      "=== Epoch 17 === Loss: 6490.6998\n",
      "=== Epoch 18 === Loss: 361.9085\n",
      "=== Epoch 19 === Loss: 2002598.0547\n"
     ]
    },
    {
     "name": "stderr",
     "output_type": "stream",
     "text": [
      "[I 2024-03-16 21:35:09,372] Trial 70 finished with value: 124.23910783630372 and parameters: {'lr': 0.00039607613442658025, 'batch_size': 16, 'num_layers': 3, 'hidden_units': 32}. Best is trial 54 with value: 14.02703715423584.\n"
     ]
    },
    {
     "name": "stdout",
     "output_type": "stream",
     "text": [
      "=== Epoch 20 === Loss: 1868414.0760\n",
      "=== Epoch 1 === Loss: 260566424.8290\n",
      "=== Epoch 2 === Loss: 296219.1116\n",
      "=== Epoch 3 === Loss: 139568.2451\n",
      "=== Epoch 4 === Loss: 459961.0068\n",
      "=== Epoch 5 === Loss: 13831374.5236\n",
      "=== Epoch 6 === Loss: 24.6843\n",
      "=== Epoch 7 === Loss: 23.7348\n",
      "=== Epoch 8 === Loss: 33.6965\n",
      "=== Epoch 9 === Loss: 20.6495\n",
      "=== Epoch 10 === Loss: 33.5829\n",
      "=== Epoch 11 === Loss: 25.1829\n",
      "=== Epoch 12 === Loss: 34.5356\n",
      "=== Epoch 13 === Loss: 18.7771\n",
      "=== Epoch 14 === Loss: 16.3538\n",
      "=== Epoch 15 === Loss: 21.4046\n",
      "=== Epoch 16 === Loss: 17.5382\n",
      "=== Epoch 17 === Loss: 18.3392\n",
      "=== Epoch 18 === Loss: 25.1530\n",
      "=== Epoch 19 === Loss: 28.3850\n"
     ]
    },
    {
     "name": "stderr",
     "output_type": "stream",
     "text": [
      "[I 2024-03-16 21:35:11,763] Trial 71 finished with value: 23.84002771911621 and parameters: {'lr': 0.003414973597566186, 'batch_size': 64, 'num_layers': 3, 'hidden_units': 32}. Best is trial 54 with value: 14.02703715423584.\n"
     ]
    },
    {
     "name": "stdout",
     "output_type": "stream",
     "text": [
      "=== Epoch 20 === Loss: 28.1182\n",
      "=== Epoch 1 === Loss: 1369263006.2912\n",
      "=== Epoch 2 === Loss: 7050742.6308\n",
      "=== Epoch 3 === Loss: 66657205.4656\n",
      "=== Epoch 4 === Loss: 62785051.1801\n",
      "=== Epoch 5 === Loss: 1914634.5373\n",
      "=== Epoch 6 === Loss: 19175317.9794\n",
      "=== Epoch 7 === Loss: 3649500.9889\n",
      "=== Epoch 8 === Loss: 200635696.4690\n",
      "=== Epoch 9 === Loss: 11774.0699\n",
      "=== Epoch 10 === Loss: 15453.5007\n",
      "=== Epoch 11 === Loss: 142051.6636\n",
      "=== Epoch 12 === Loss: 70787187.0509\n",
      "=== Epoch 13 === Loss: 21711931.4147\n",
      "=== Epoch 14 === Loss: 16504.1046\n",
      "=== Epoch 15 === Loss: 70.7936\n",
      "=== Epoch 16 === Loss: 16.6320\n",
      "=== Epoch 17 === Loss: 14.6103\n",
      "=== Epoch 18 === Loss: 17.5958\n",
      "=== Epoch 19 === Loss: 15.0750\n"
     ]
    },
    {
     "name": "stderr",
     "output_type": "stream",
     "text": [
      "[I 2024-03-16 21:35:14,174] Trial 72 finished with value: 15.666455781860352 and parameters: {'lr': 0.0013320202614853388, 'batch_size': 64, 'num_layers': 3, 'hidden_units': 32}. Best is trial 54 with value: 14.02703715423584.\n"
     ]
    },
    {
     "name": "stdout",
     "output_type": "stream",
     "text": [
      "=== Epoch 20 === Loss: 14.1049\n",
      "=== Epoch 1 === Loss: 740248295.7814\n",
      "=== Epoch 2 === Loss: 9890320.5791\n",
      "=== Epoch 3 === Loss: 42503320.0724\n",
      "=== Epoch 4 === Loss: 270799428.5517\n",
      "=== Epoch 5 === Loss: 1536071.7654\n",
      "=== Epoch 6 === Loss: 17973.5710\n",
      "=== Epoch 7 === Loss: 33454.0602\n",
      "=== Epoch 8 === Loss: 32335.4753\n",
      "=== Epoch 9 === Loss: 2819692.8054\n",
      "=== Epoch 10 === Loss: 787756.1390\n",
      "=== Epoch 11 === Loss: 445747100.6812\n",
      "=== Epoch 12 === Loss: 86709407.2344\n",
      "=== Epoch 13 === Loss: 1039.1752\n",
      "=== Epoch 14 === Loss: 387.1402\n",
      "=== Epoch 15 === Loss: 26.2643\n",
      "=== Epoch 16 === Loss: 123.9676\n",
      "=== Epoch 17 === Loss: 140.9255\n",
      "=== Epoch 18 === Loss: 154.5862\n"
     ]
    },
    {
     "name": "stderr",
     "output_type": "stream",
     "text": [
      "[I 2024-03-16 21:35:16,636] Trial 73 finished with value: 17.748170191955566 and parameters: {'lr': 0.000866384276228823, 'batch_size': 64, 'num_layers': 3, 'hidden_units': 32}. Best is trial 54 with value: 14.02703715423584.\n"
     ]
    },
    {
     "name": "stdout",
     "output_type": "stream",
     "text": [
      "=== Epoch 19 === Loss: 202.9193\n",
      "=== Epoch 20 === Loss: 367.4481\n",
      "=== Epoch 1 === Loss: 898050195.2812\n",
      "=== Epoch 2 === Loss: 232976.1146\n",
      "=== Epoch 3 === Loss: 67285487.1505\n",
      "=== Epoch 4 === Loss: 301064848.7938\n",
      "=== Epoch 5 === Loss: 92160238.3672\n",
      "=== Epoch 6 === Loss: 284331910.9252\n",
      "=== Epoch 7 === Loss: 1036.7740\n",
      "=== Epoch 8 === Loss: 128.4297\n",
      "=== Epoch 9 === Loss: 60.6477\n",
      "=== Epoch 10 === Loss: 53.4381\n",
      "=== Epoch 11 === Loss: 23.4586\n",
      "=== Epoch 12 === Loss: 109.0270\n",
      "=== Epoch 13 === Loss: 209805.0588\n",
      "=== Epoch 14 === Loss: 242125938.9601\n",
      "=== Epoch 15 === Loss: 30930176.4168\n",
      "=== Epoch 16 === Loss: 102148.3375\n",
      "=== Epoch 17 === Loss: 96035.2779\n",
      "=== Epoch 18 === Loss: 6729.4063\n"
     ]
    },
    {
     "name": "stderr",
     "output_type": "stream",
     "text": [
      "[I 2024-03-16 21:35:19,043] Trial 74 finished with value: 286.24125181640625 and parameters: {'lr': 0.0008783978938542343, 'batch_size': 64, 'num_layers': 3, 'hidden_units': 32}. Best is trial 54 with value: 14.02703715423584.\n"
     ]
    },
    {
     "name": "stdout",
     "output_type": "stream",
     "text": [
      "=== Epoch 19 === Loss: 14096.0499\n",
      "=== Epoch 20 === Loss: 6680.1537\n",
      "=== Epoch 1 === Loss: 220499117.8472\n",
      "=== Epoch 2 === Loss: 106822424.0781\n",
      "=== Epoch 3 === Loss: 14848310.9357\n",
      "=== Epoch 4 === Loss: 21034.1514\n",
      "=== Epoch 5 === Loss: 134378.7961\n",
      "=== Epoch 6 === Loss: 186090942.0948\n",
      "=== Epoch 7 === Loss: 117443.5961\n",
      "=== Epoch 8 === Loss: 1260.8967\n",
      "=== Epoch 9 === Loss: 159.1382\n",
      "=== Epoch 10 === Loss: 896.8666\n",
      "=== Epoch 11 === Loss: 45.0588\n",
      "=== Epoch 12 === Loss: 978.8707\n",
      "=== Epoch 13 === Loss: 986.3481\n",
      "=== Epoch 14 === Loss: 21.6752\n",
      "=== Epoch 15 === Loss: 20.4253\n",
      "=== Epoch 16 === Loss: 18.6525\n",
      "=== Epoch 17 === Loss: 31.3431\n",
      "=== Epoch 18 === Loss: 105395.6899\n"
     ]
    },
    {
     "name": "stderr",
     "output_type": "stream",
     "text": [
      "[I 2024-03-16 21:35:21,374] Trial 75 finished with value: 2324784.144075596 and parameters: {'lr': 0.0014252031449039978, 'batch_size': 64, 'num_layers': 3, 'hidden_units': 32}. Best is trial 54 with value: 14.02703715423584.\n"
     ]
    },
    {
     "name": "stdout",
     "output_type": "stream",
     "text": [
      "=== Epoch 19 === Loss: 22321591.2338\n",
      "=== Epoch 20 === Loss: 7944033.7952\n",
      "=== Epoch 1 === Loss: 1849744480.6987\n",
      "=== Epoch 2 === Loss: 56474.2543\n",
      "=== Epoch 3 === Loss: 61878.6936\n",
      "=== Epoch 4 === Loss: 63708.9184\n",
      "=== Epoch 5 === Loss: 71506433.0504\n",
      "=== Epoch 6 === Loss: 138200709.9979\n",
      "=== Epoch 7 === Loss: 4936.6326\n",
      "=== Epoch 8 === Loss: 63.5254\n",
      "=== Epoch 9 === Loss: 32.7011\n",
      "=== Epoch 10 === Loss: 38.0924\n",
      "=== Epoch 11 === Loss: 86.8657\n",
      "=== Epoch 12 === Loss: 19.2524\n",
      "=== Epoch 13 === Loss: 15.3798\n",
      "=== Epoch 14 === Loss: 10230.0409\n",
      "=== Epoch 15 === Loss: 7913.1702\n",
      "=== Epoch 16 === Loss: 23798467.6316\n",
      "=== Epoch 17 === Loss: 1973728.4786\n",
      "=== Epoch 18 === Loss: 17024517.9421\n"
     ]
    },
    {
     "name": "stderr",
     "output_type": "stream",
     "text": [
      "[I 2024-03-16 21:35:23,772] Trial 76 finished with value: 1864075.945688164 and parameters: {'lr': 0.0011557725713136017, 'batch_size': 64, 'num_layers': 3, 'hidden_units': 32}. Best is trial 54 with value: 14.02703715423584.\n"
     ]
    },
    {
     "name": "stdout",
     "output_type": "stream",
     "text": [
      "=== Epoch 19 === Loss: 2270318.4832\n",
      "=== Epoch 20 === Loss: 59241037.2446\n",
      "=== Epoch 1 === Loss: 91682911.2926\n",
      "=== Epoch 2 === Loss: 55096.9714\n",
      "=== Epoch 3 === Loss: 1669.7537\n",
      "=== Epoch 4 === Loss: 3370.4099\n",
      "=== Epoch 5 === Loss: 35104560.6923\n",
      "=== Epoch 6 === Loss: 37404722.0226\n",
      "=== Epoch 7 === Loss: 22302.1700\n",
      "=== Epoch 8 === Loss: 13145.5366\n",
      "=== Epoch 9 === Loss: 13980.6045\n",
      "=== Epoch 10 === Loss: 14903.2777\n",
      "=== Epoch 11 === Loss: 814681.2982\n",
      "=== Epoch 12 === Loss: 23640896.8416\n",
      "=== Epoch 13 === Loss: 29120.4685\n",
      "=== Epoch 14 === Loss: 5921.1184\n",
      "=== Epoch 15 === Loss: 569.3002\n",
      "=== Epoch 16 === Loss: 1094854.3836\n",
      "=== Epoch 17 === Loss: 21675978.9154\n",
      "=== Epoch 18 === Loss: 5341284.5207\n"
     ]
    },
    {
     "name": "stderr",
     "output_type": "stream",
     "text": [
      "[I 2024-03-16 21:35:26,110] Trial 77 finished with value: 27.949382769165037 and parameters: {'lr': 0.000727276481085481, 'batch_size': 64, 'num_layers': 3, 'hidden_units': 16}. Best is trial 54 with value: 14.02703715423584.\n"
     ]
    },
    {
     "name": "stdout",
     "output_type": "stream",
     "text": [
      "=== Epoch 19 === Loss: 5783353.4336\n",
      "=== Epoch 20 === Loss: 14003.5681\n",
      "=== Epoch 1 === Loss: 711250976.7896\n",
      "=== Epoch 2 === Loss: 9185.8895\n",
      "=== Epoch 3 === Loss: 109701.7090\n",
      "=== Epoch 4 === Loss: 600.6223\n",
      "=== Epoch 5 === Loss: 4737.0930\n",
      "=== Epoch 6 === Loss: 19956949.1473\n",
      "=== Epoch 7 === Loss: 19881672.0122\n",
      "=== Epoch 8 === Loss: 218277.6967\n",
      "=== Epoch 9 === Loss: 662.8030\n",
      "=== Epoch 10 === Loss: 1054.2056\n",
      "=== Epoch 11 === Loss: 229.5932\n",
      "=== Epoch 12 === Loss: 193.6228\n",
      "=== Epoch 13 === Loss: 114.6500\n",
      "=== Epoch 14 === Loss: 102.9713\n",
      "=== Epoch 15 === Loss: 144.3442\n",
      "=== Epoch 16 === Loss: 400.4627\n",
      "=== Epoch 17 === Loss: 1446.7185\n",
      "=== Epoch 18 === Loss: 203435.6340\n"
     ]
    },
    {
     "name": "stderr",
     "output_type": "stream",
     "text": [
      "[I 2024-03-16 21:35:28,408] Trial 78 finished with value: 14.721656971435547 and parameters: {'lr': 0.002287105688405406, 'batch_size': 64, 'num_layers': 3, 'hidden_units': 32}. Best is trial 54 with value: 14.02703715423584.\n"
     ]
    },
    {
     "name": "stdout",
     "output_type": "stream",
     "text": [
      "=== Epoch 19 === Loss: 11313642.3724\n",
      "=== Epoch 20 === Loss: 1744.5162\n",
      "=== Epoch 1 === Loss: 22967829803.1482\n",
      "=== Epoch 2 === Loss: 176906410.2642\n",
      "=== Epoch 3 === Loss: 31360186693.5805\n",
      "=== Epoch 4 === Loss: 6682832.3666\n",
      "=== Epoch 5 === Loss: 21903.6918\n",
      "=== Epoch 6 === Loss: 148464.0088\n",
      "=== Epoch 7 === Loss: 265957352.0123\n",
      "=== Epoch 8 === Loss: 1213741.0937\n",
      "=== Epoch 9 === Loss: 1241052.6116\n",
      "=== Epoch 10 === Loss: 471035.0997\n",
      "=== Epoch 11 === Loss: 248638.3223\n",
      "=== Epoch 12 === Loss: 523285.7344\n",
      "=== Epoch 13 === Loss: 661518.2054\n",
      "=== Epoch 14 === Loss: 121756.3862\n",
      "=== Epoch 15 === Loss: 253184.4437\n",
      "=== Epoch 16 === Loss: 5770021.5034\n",
      "=== Epoch 17 === Loss: 21832382.1480\n",
      "=== Epoch 18 === Loss: 119733.7971\n"
     ]
    },
    {
     "name": "stderr",
     "output_type": "stream",
     "text": [
      "[I 2024-03-16 21:35:30,505] Trial 79 finished with value: 9313518.954827636 and parameters: {'lr': 0.0016178420185884283, 'batch_size': 64, 'num_layers': 2, 'hidden_units': 64}. Best is trial 54 with value: 14.02703715423584.\n"
     ]
    },
    {
     "name": "stdout",
     "output_type": "stream",
     "text": [
      "=== Epoch 19 === Loss: 40696.4271\n",
      "=== Epoch 20 === Loss: 11424698.8209\n",
      "=== Epoch 1 === Loss: 184986452.5910\n",
      "=== Epoch 2 === Loss: 60887304.2770\n",
      "=== Epoch 3 === Loss: 2419646.0015\n",
      "=== Epoch 4 === Loss: 89670.7512\n",
      "=== Epoch 5 === Loss: 78733256.4428\n",
      "=== Epoch 6 === Loss: 88340.1935\n",
      "=== Epoch 7 === Loss: 1881721.7155\n",
      "=== Epoch 8 === Loss: 92.7230\n",
      "=== Epoch 9 === Loss: 20.1948\n",
      "=== Epoch 10 === Loss: 2019.0839\n",
      "=== Epoch 11 === Loss: 169.2257\n",
      "=== Epoch 12 === Loss: 84900043.9241\n",
      "=== Epoch 13 === Loss: 2031.9472\n",
      "=== Epoch 14 === Loss: 177.0234\n",
      "=== Epoch 15 === Loss: 10467.7533\n",
      "=== Epoch 16 === Loss: 60486.1395\n",
      "=== Epoch 17 === Loss: 1339.9319\n",
      "=== Epoch 18 === Loss: 57.6999\n",
      "=== Epoch 19 === Loss: 209.2346\n"
     ]
    },
    {
     "name": "stderr",
     "output_type": "stream",
     "text": [
      "[I 2024-03-16 21:35:34,483] Trial 80 finished with value: 742.8581541357422 and parameters: {'lr': 0.0009244801073459928, 'batch_size': 32, 'num_layers': 3, 'hidden_units': 32}. Best is trial 54 with value: 14.02703715423584.\n"
     ]
    },
    {
     "name": "stdout",
     "output_type": "stream",
     "text": [
      "=== Epoch 20 === Loss: 11378.3549\n",
      "=== Epoch 1 === Loss: 1739414389.6755\n",
      "=== Epoch 2 === Loss: 9187.4414\n",
      "=== Epoch 3 === Loss: 9803.8459\n",
      "=== Epoch 4 === Loss: 9514.9455\n",
      "=== Epoch 5 === Loss: 779017.4939\n",
      "=== Epoch 6 === Loss: 134725248.5234\n",
      "=== Epoch 7 === Loss: 773710.6148\n",
      "=== Epoch 8 === Loss: 36295.2382\n",
      "=== Epoch 9 === Loss: 745.5871\n",
      "=== Epoch 10 === Loss: 1506.2040\n",
      "=== Epoch 11 === Loss: 8397879.4107\n",
      "=== Epoch 12 === Loss: 797411.9039\n",
      "=== Epoch 13 === Loss: 43528481.0859\n",
      "=== Epoch 14 === Loss: 5404139.0473\n",
      "=== Epoch 15 === Loss: 3588.8019\n",
      "=== Epoch 16 === Loss: 150.7646\n",
      "=== Epoch 17 === Loss: 62.3416\n",
      "=== Epoch 18 === Loss: 55.1540\n"
     ]
    },
    {
     "name": "stderr",
     "output_type": "stream",
     "text": [
      "[I 2024-03-16 21:35:37,014] Trial 81 finished with value: 27.96665244506836 and parameters: {'lr': 0.002420562222912548, 'batch_size': 64, 'num_layers': 3, 'hidden_units': 32}. Best is trial 54 with value: 14.02703715423584.\n"
     ]
    },
    {
     "name": "stdout",
     "output_type": "stream",
     "text": [
      "=== Epoch 19 === Loss: 37.7348\n",
      "=== Epoch 20 === Loss: 66.8299\n",
      "=== Epoch 1 === Loss: 2581820080.4175\n",
      "=== Epoch 2 === Loss: 107455325.0341\n",
      "=== Epoch 3 === Loss: 2467275.1610\n",
      "=== Epoch 4 === Loss: 518781574.9761\n",
      "=== Epoch 5 === Loss: 1397166.3720\n",
      "=== Epoch 6 === Loss: 4086.0860\n",
      "=== Epoch 7 === Loss: 9697.8185\n",
      "=== Epoch 8 === Loss: 849469.8484\n",
      "=== Epoch 9 === Loss: 150829.3287\n",
      "=== Epoch 10 === Loss: 5016348.4487\n",
      "=== Epoch 11 === Loss: 267188364.0237\n",
      "=== Epoch 12 === Loss: 1332.2749\n",
      "=== Epoch 13 === Loss: 8252.2785\n",
      "=== Epoch 14 === Loss: 140501.4467\n",
      "=== Epoch 15 === Loss: 6903959.3443\n",
      "=== Epoch 16 === Loss: 24356.2661\n",
      "=== Epoch 17 === Loss: 706.3111\n",
      "=== Epoch 18 === Loss: 1077.5848\n"
     ]
    },
    {
     "name": "stderr",
     "output_type": "stream",
     "text": [
      "[I 2024-03-16 21:35:39,380] Trial 82 finished with value: 16.58948635787964 and parameters: {'lr': 0.0021430798749808616, 'batch_size': 64, 'num_layers': 3, 'hidden_units': 32}. Best is trial 54 with value: 14.02703715423584.\n"
     ]
    },
    {
     "name": "stdout",
     "output_type": "stream",
     "text": [
      "=== Epoch 19 === Loss: 314.0300\n",
      "=== Epoch 20 === Loss: 48.9679\n",
      "=== Epoch 1 === Loss: 208239485.7844\n",
      "=== Epoch 2 === Loss: 122442838.6028\n",
      "=== Epoch 3 === Loss: 3581989.4604\n",
      "=== Epoch 4 === Loss: 430297.6151\n",
      "=== Epoch 5 === Loss: 573947186.4760\n",
      "=== Epoch 6 === Loss: 233406.6130\n",
      "=== Epoch 7 === Loss: 538.2989\n",
      "=== Epoch 8 === Loss: 828.1005\n",
      "=== Epoch 9 === Loss: 334.6475\n",
      "=== Epoch 10 === Loss: 678.8883\n",
      "=== Epoch 11 === Loss: 780.1520\n",
      "=== Epoch 12 === Loss: 1348.5966\n",
      "=== Epoch 13 === Loss: 2186.6392\n",
      "=== Epoch 14 === Loss: 249.4158\n",
      "=== Epoch 15 === Loss: 120.5729\n",
      "=== Epoch 16 === Loss: 284.3200\n",
      "=== Epoch 17 === Loss: 5019405.4391\n",
      "=== Epoch 18 === Loss: 295751349.3030\n"
     ]
    },
    {
     "name": "stderr",
     "output_type": "stream",
     "text": [
      "[I 2024-03-16 21:35:41,624] Trial 83 finished with value: 25.79019315979004 and parameters: {'lr': 0.0006339019457901325, 'batch_size': 64, 'num_layers': 3, 'hidden_units': 32}. Best is trial 54 with value: 14.02703715423584.\n"
     ]
    },
    {
     "name": "stdout",
     "output_type": "stream",
     "text": [
      "=== Epoch 19 === Loss: 6382.8774\n",
      "=== Epoch 20 === Loss: 56.2455\n",
      "=== Epoch 1 === Loss: 2178901455.9990\n",
      "=== Epoch 2 === Loss: 882700.6058\n",
      "=== Epoch 3 === Loss: 67144.5641\n",
      "=== Epoch 4 === Loss: 771899.2649\n",
      "=== Epoch 5 === Loss: 72087345.2408\n",
      "=== Epoch 6 === Loss: 211869008.9286\n",
      "=== Epoch 7 === Loss: 166421.5006\n",
      "=== Epoch 8 === Loss: 14133.9557\n",
      "=== Epoch 9 === Loss: 96.4422\n",
      "=== Epoch 10 === Loss: 779483.4763\n",
      "=== Epoch 11 === Loss: 19384790.7098\n",
      "=== Epoch 12 === Loss: 592071.9764\n",
      "=== Epoch 13 === Loss: 133564.8775\n",
      "=== Epoch 14 === Loss: 36446.1280\n",
      "=== Epoch 15 === Loss: 4651.3469\n",
      "=== Epoch 16 === Loss: 18063.0957\n",
      "=== Epoch 17 === Loss: 23368.3340\n",
      "=== Epoch 18 === Loss: 174891272.1770\n",
      "=== Epoch 19 === Loss: 6439.1302\n"
     ]
    },
    {
     "name": "stderr",
     "output_type": "stream",
     "text": [
      "[I 2024-03-16 21:35:44,047] Trial 84 finished with value: 19.909594593505858 and parameters: {'lr': 0.0022361716823096956, 'batch_size': 64, 'num_layers': 3, 'hidden_units': 32}. Best is trial 54 with value: 14.02703715423584.\n"
     ]
    },
    {
     "name": "stdout",
     "output_type": "stream",
     "text": [
      "=== Epoch 20 === Loss: 18.7383\n",
      "=== Epoch 1 === Loss: 9994258190.3580\n",
      "=== Epoch 2 === Loss: 7386.9399\n",
      "=== Epoch 3 === Loss: 1300892.4746\n",
      "=== Epoch 4 === Loss: 21065.2860\n",
      "=== Epoch 5 === Loss: 29859.7808\n",
      "=== Epoch 6 === Loss: 1082.0833\n",
      "=== Epoch 7 === Loss: 27.4085\n",
      "=== Epoch 8 === Loss: 396834.6228\n",
      "=== Epoch 9 === Loss: 312929620.4473\n",
      "=== Epoch 10 === Loss: 23349580.7474\n",
      "=== Epoch 11 === Loss: 105757.0207\n",
      "=== Epoch 12 === Loss: 23842.1057\n",
      "=== Epoch 13 === Loss: 6047.8430\n",
      "=== Epoch 14 === Loss: 82912484.9852\n",
      "=== Epoch 15 === Loss: 603752695.8522\n",
      "=== Epoch 16 === Loss: 8807448.2349\n",
      "=== Epoch 17 === Loss: 6187.3195\n",
      "=== Epoch 18 === Loss: 34.2779\n",
      "=== Epoch 19 === Loss: 44.5858\n"
     ]
    },
    {
     "name": "stderr",
     "output_type": "stream",
     "text": [
      "[I 2024-03-16 21:35:46,236] Trial 85 finished with value: 19.264104075927733 and parameters: {'lr': 0.001516899854510665, 'batch_size': 64, 'num_layers': 3, 'hidden_units': 32}. Best is trial 54 with value: 14.02703715423584.\n"
     ]
    },
    {
     "name": "stdout",
     "output_type": "stream",
     "text": [
      "=== Epoch 20 === Loss: 54.0392\n",
      "=== Epoch 1 === Loss: 381094377.3486\n",
      "=== Epoch 2 === Loss: 261049.6891\n",
      "=== Epoch 3 === Loss: 9595.7797\n",
      "=== Epoch 4 === Loss: 128977.7569\n",
      "=== Epoch 5 === Loss: 14243085.5529\n",
      "=== Epoch 6 === Loss: 11460774.3428\n",
      "=== Epoch 7 === Loss: 1314166.8675\n",
      "=== Epoch 8 === Loss: 326162.1267\n",
      "=== Epoch 9 === Loss: 11237143.8982\n",
      "=== Epoch 10 === Loss: 34960561.0517\n",
      "=== Epoch 11 === Loss: 437.7846\n",
      "=== Epoch 12 === Loss: 45.4472\n",
      "=== Epoch 13 === Loss: 36.8502\n",
      "=== Epoch 14 === Loss: 32.7923\n",
      "=== Epoch 15 === Loss: 176.3397\n",
      "=== Epoch 16 === Loss: 492.7898\n",
      "=== Epoch 17 === Loss: 630.6518\n",
      "=== Epoch 18 === Loss: 144.6524\n",
      "=== Epoch 19 === Loss: 6054.4004\n"
     ]
    },
    {
     "name": "stderr",
     "output_type": "stream",
     "text": [
      "[I 2024-03-16 21:35:48,406] Trial 86 finished with value: 18.728261094665527 and parameters: {'lr': 0.0011140621578688988, 'batch_size': 64, 'num_layers': 3, 'hidden_units': 32}. Best is trial 54 with value: 14.02703715423584.\n"
     ]
    },
    {
     "name": "stdout",
     "output_type": "stream",
     "text": [
      "=== Epoch 20 === Loss: 6443.0431\n",
      "=== Epoch 1 === Loss: 2443519568.6668\n",
      "=== Epoch 2 === Loss: 5735.2364\n",
      "=== Epoch 3 === Loss: 49607693.4711\n",
      "=== Epoch 4 === Loss: 1659938.6310\n",
      "=== Epoch 5 === Loss: 173.5247\n",
      "=== Epoch 6 === Loss: 894.3044\n",
      "=== Epoch 7 === Loss: 1793.3543\n",
      "=== Epoch 8 === Loss: 108.6242\n",
      "=== Epoch 9 === Loss: 718.4915\n",
      "=== Epoch 10 === Loss: 967188.2960\n",
      "=== Epoch 11 === Loss: 67198945.4026\n",
      "=== Epoch 12 === Loss: 31587.5815\n",
      "=== Epoch 13 === Loss: 21.2631\n",
      "=== Epoch 14 === Loss: 23.8272\n",
      "=== Epoch 15 === Loss: 17.4520\n",
      "=== Epoch 16 === Loss: 15.3789\n",
      "=== Epoch 17 === Loss: 19.1822\n",
      "=== Epoch 18 === Loss: 17.4204\n",
      "=== Epoch 19 === Loss: 18.6393\n"
     ]
    },
    {
     "name": "stderr",
     "output_type": "stream",
     "text": [
      "[I 2024-03-16 21:35:50,571] Trial 87 finished with value: 26.478791759033204 and parameters: {'lr': 0.0040220252135450855, 'batch_size': 64, 'num_layers': 3, 'hidden_units': 32}. Best is trial 54 with value: 14.02703715423584.\n"
     ]
    },
    {
     "name": "stdout",
     "output_type": "stream",
     "text": [
      "=== Epoch 20 === Loss: 16.4901\n",
      "=== Epoch 1 === Loss: 1208323578.3875\n",
      "=== Epoch 2 === Loss: 633528894.9901\n",
      "=== Epoch 3 === Loss: 2318.7120\n",
      "=== Epoch 4 === Loss: 29481.5277\n",
      "=== Epoch 5 === Loss: 21685.8681\n",
      "=== Epoch 6 === Loss: 4800897.4120\n",
      "=== Epoch 7 === Loss: 183441187.2648\n",
      "=== Epoch 8 === Loss: 775269.6151\n",
      "=== Epoch 9 === Loss: 23080.8394\n",
      "=== Epoch 10 === Loss: 181344.8392\n",
      "=== Epoch 11 === Loss: 407.6263\n",
      "=== Epoch 12 === Loss: 37.7181\n",
      "=== Epoch 13 === Loss: 106.3707\n",
      "=== Epoch 14 === Loss: 24016131.8222\n",
      "=== Epoch 15 === Loss: 386.7330\n",
      "=== Epoch 16 === Loss: 687.3459\n",
      "=== Epoch 17 === Loss: 1238.3042\n",
      "=== Epoch 18 === Loss: 168.3249\n",
      "=== Epoch 19 === Loss: 858.1419\n"
     ]
    },
    {
     "name": "stderr",
     "output_type": "stream",
     "text": [
      "[I 2024-03-16 21:35:54,629] Trial 88 finished with value: 92.12445666870117 and parameters: {'lr': 0.0008760769694884203, 'batch_size': 32, 'num_layers': 3, 'hidden_units': 64}. Best is trial 54 with value: 14.02703715423584.\n"
     ]
    },
    {
     "name": "stdout",
     "output_type": "stream",
     "text": [
      "=== Epoch 20 === Loss: 694.7534\n",
      "=== Epoch 1 === Loss: 62223884.4107\n",
      "=== Epoch 2 === Loss: 145191.8595\n",
      "=== Epoch 3 === Loss: 546.4100\n",
      "=== Epoch 4 === Loss: 310.1920\n",
      "=== Epoch 5 === Loss: 188.4377\n",
      "=== Epoch 6 === Loss: 122.3718\n",
      "=== Epoch 7 === Loss: 87.2870\n",
      "=== Epoch 8 === Loss: 74.8605\n",
      "=== Epoch 9 === Loss: 64.7571\n",
      "=== Epoch 10 === Loss: 56.7087\n",
      "=== Epoch 11 === Loss: 50.3272\n",
      "=== Epoch 12 === Loss: 41.2877\n",
      "=== Epoch 13 === Loss: 36.5957\n",
      "=== Epoch 14 === Loss: 32.9360\n",
      "=== Epoch 15 === Loss: 30.8547\n",
      "=== Epoch 16 === Loss: 28.6942\n",
      "=== Epoch 17 === Loss: 26.7808\n",
      "=== Epoch 18 === Loss: 25.5869\n"
     ]
    },
    {
     "name": "stderr",
     "output_type": "stream",
     "text": [
      "[I 2024-03-16 21:35:56,706] Trial 89 finished with value: 20.55333334106445 and parameters: {'lr': 0.00047860498617197415, 'batch_size': 64, 'num_layers': 3, 'hidden_units': 8}. Best is trial 54 with value: 14.02703715423584.\n"
     ]
    },
    {
     "name": "stdout",
     "output_type": "stream",
     "text": [
      "=== Epoch 19 === Loss: 24.1419\n",
      "=== Epoch 20 === Loss: 23.0409\n",
      "=== Epoch 1 === Loss: 37028903692.0199\n",
      "=== Epoch 2 === Loss: 5592480629.2208\n",
      "=== Epoch 3 === Loss: 122230.6146\n",
      "=== Epoch 4 === Loss: 764148.8143\n",
      "=== Epoch 5 === Loss: 840874.1195\n",
      "=== Epoch 6 === Loss: 215994907.7828\n",
      "=== Epoch 7 === Loss: 11681122.6557\n",
      "=== Epoch 8 === Loss: 460458.2641\n",
      "=== Epoch 9 === Loss: 49652877.2236\n",
      "=== Epoch 10 === Loss: 32096.0802\n",
      "=== Epoch 11 === Loss: 3480.8527\n",
      "=== Epoch 12 === Loss: 6054.7311\n",
      "=== Epoch 13 === Loss: 29097.5740\n",
      "=== Epoch 14 === Loss: 151015.6014\n",
      "=== Epoch 15 === Loss: 403868.8356\n",
      "=== Epoch 16 === Loss: 5888.5408\n",
      "=== Epoch 17 === Loss: 1842.4635\n",
      "=== Epoch 18 === Loss: 944.3548\n",
      "=== Epoch 19 === Loss: 624.4053\n"
     ]
    },
    {
     "name": "stderr",
     "output_type": "stream",
     "text": [
      "[I 2024-03-16 21:36:01,154] Trial 90 finished with value: 475.0260783789063 and parameters: {'lr': 0.0058878078841121334, 'batch_size': 16, 'num_layers': 1, 'hidden_units': 16}. Best is trial 54 with value: 14.02703715423584.\n"
     ]
    },
    {
     "name": "stdout",
     "output_type": "stream",
     "text": [
      "=== Epoch 20 === Loss: 409.0029\n",
      "=== Epoch 1 === Loss: 1232522647.5977\n",
      "=== Epoch 2 === Loss: 43792.2306\n",
      "=== Epoch 3 === Loss: 26622.8635\n",
      "=== Epoch 4 === Loss: 401993.9002\n",
      "=== Epoch 5 === Loss: 207462.6229\n",
      "=== Epoch 6 === Loss: 21891354.7485\n",
      "=== Epoch 7 === Loss: 287752983.0739\n",
      "=== Epoch 8 === Loss: 8716.7970\n",
      "=== Epoch 9 === Loss: 2027.4651\n",
      "=== Epoch 10 === Loss: 11976.4056\n",
      "=== Epoch 11 === Loss: 138.8735\n",
      "=== Epoch 12 === Loss: 1030.9692\n",
      "=== Epoch 13 === Loss: 8350.6351\n",
      "=== Epoch 14 === Loss: 353.2244\n",
      "=== Epoch 15 === Loss: 99.7410\n",
      "=== Epoch 16 === Loss: 253438.3536\n",
      "=== Epoch 17 === Loss: 136131.8917\n",
      "=== Epoch 18 === Loss: 135573.8882\n",
      "=== Epoch 19 === Loss: 1987007.9389\n"
     ]
    },
    {
     "name": "stderr",
     "output_type": "stream",
     "text": [
      "[I 2024-03-16 21:36:03,380] Trial 91 finished with value: 1390.7163135644532 and parameters: {'lr': 0.002080799591667992, 'batch_size': 64, 'num_layers': 3, 'hidden_units': 32}. Best is trial 54 with value: 14.02703715423584.\n"
     ]
    },
    {
     "name": "stdout",
     "output_type": "stream",
     "text": [
      "=== Epoch 20 === Loss: 392634.4593\n",
      "=== Epoch 1 === Loss: 2316201175.1564\n",
      "=== Epoch 2 === Loss: 366911.0170\n",
      "=== Epoch 3 === Loss: 2512.3220\n",
      "=== Epoch 4 === Loss: 10393.4357\n",
      "=== Epoch 5 === Loss: 5696856.9725\n",
      "=== Epoch 6 === Loss: 237550872.0295\n",
      "=== Epoch 7 === Loss: 366367.8930\n",
      "=== Epoch 8 === Loss: 33470.9818\n",
      "=== Epoch 9 === Loss: 215.1175\n",
      "=== Epoch 10 === Loss: 3163.4137\n",
      "=== Epoch 11 === Loss: 3928.8289\n",
      "=== Epoch 12 === Loss: 12565.4033\n",
      "=== Epoch 13 === Loss: 3154.1893\n",
      "=== Epoch 14 === Loss: 942.0736\n",
      "=== Epoch 15 === Loss: 205.1690\n",
      "=== Epoch 16 === Loss: 29.3549\n",
      "=== Epoch 17 === Loss: 43.3898\n",
      "=== Epoch 18 === Loss: 55.9946\n",
      "=== Epoch 19 === Loss: 31.4182\n"
     ]
    },
    {
     "name": "stderr",
     "output_type": "stream",
     "text": [
      "[I 2024-03-16 21:36:05,796] Trial 92 finished with value: 28.343093494873045 and parameters: {'lr': 0.0030791007537275825, 'batch_size': 64, 'num_layers': 3, 'hidden_units': 32}. Best is trial 54 with value: 14.02703715423584.\n"
     ]
    },
    {
     "name": "stdout",
     "output_type": "stream",
     "text": [
      "=== Epoch 20 === Loss: 22.2052\n",
      "=== Epoch 1 === Loss: 16879251888.5768\n",
      "=== Epoch 2 === Loss: 12426195.3722\n",
      "=== Epoch 3 === Loss: 111524294.2403\n",
      "=== Epoch 4 === Loss: 2867.2090\n",
      "=== Epoch 5 === Loss: 3212.5433\n",
      "=== Epoch 6 === Loss: 6871253.0460\n",
      "=== Epoch 7 === Loss: 970442391.6135\n",
      "=== Epoch 8 === Loss: 4556450.1131\n",
      "=== Epoch 9 === Loss: 479.9882\n",
      "=== Epoch 10 === Loss: 93.7927\n",
      "=== Epoch 11 === Loss: 32.5414\n",
      "=== Epoch 12 === Loss: 52.4728\n",
      "=== Epoch 13 === Loss: 199.1728\n",
      "=== Epoch 14 === Loss: 1971.2717\n",
      "=== Epoch 15 === Loss: 2038.9441\n",
      "=== Epoch 16 === Loss: 590.6670\n",
      "=== Epoch 17 === Loss: 6014.9221\n",
      "=== Epoch 18 === Loss: 3931.5066\n",
      "=== Epoch 19 === Loss: 151.0644\n"
     ]
    },
    {
     "name": "stderr",
     "output_type": "stream",
     "text": [
      "[I 2024-03-16 21:36:08,082] Trial 93 finished with value: 33.42227666442871 and parameters: {'lr': 0.0017030936739157035, 'batch_size': 64, 'num_layers': 3, 'hidden_units': 32}. Best is trial 54 with value: 14.02703715423584.\n"
     ]
    },
    {
     "name": "stdout",
     "output_type": "stream",
     "text": [
      "=== Epoch 20 === Loss: 110.8758\n",
      "=== Epoch 1 === Loss: 1173404870.0563\n",
      "=== Epoch 2 === Loss: 910568103.8740\n",
      "=== Epoch 3 === Loss: 1237085.2547\n",
      "=== Epoch 4 === Loss: 7182.7659\n",
      "=== Epoch 5 === Loss: 65.0431\n",
      "=== Epoch 6 === Loss: 74.3908\n",
      "=== Epoch 7 === Loss: 22.8143\n",
      "=== Epoch 8 === Loss: 23.9720\n",
      "=== Epoch 9 === Loss: 21.9878\n",
      "=== Epoch 10 === Loss: 25.0463\n",
      "=== Epoch 11 === Loss: 75.9689\n",
      "=== Epoch 12 === Loss: 8850349.8587\n",
      "=== Epoch 13 === Loss: 604781988.0727\n",
      "=== Epoch 14 === Loss: 2671359.1849\n",
      "=== Epoch 15 === Loss: 49861.8155\n",
      "=== Epoch 16 === Loss: 5590.6526\n",
      "=== Epoch 17 === Loss: 14375.9326\n",
      "=== Epoch 18 === Loss: 7594.7618\n",
      "=== Epoch 19 === Loss: 11031344.8635\n"
     ]
    },
    {
     "name": "stderr",
     "output_type": "stream",
     "text": [
      "[I 2024-03-16 21:36:10,420] Trial 94 finished with value: 82405.41317680664 and parameters: {'lr': 0.0012886730935169355, 'batch_size': 64, 'num_layers': 3, 'hidden_units': 32}. Best is trial 54 with value: 14.02703715423584.\n"
     ]
    },
    {
     "name": "stdout",
     "output_type": "stream",
     "text": [
      "=== Epoch 20 === Loss: 865345.4336\n",
      "=== Epoch 1 === Loss: 1332481024.7736\n",
      "=== Epoch 2 === Loss: 10071.8012\n",
      "=== Epoch 3 === Loss: 7198.4253\n",
      "=== Epoch 4 === Loss: 178356.5200\n",
      "=== Epoch 5 === Loss: 749208.8480\n",
      "=== Epoch 6 === Loss: 14624047.8142\n",
      "=== Epoch 7 === Loss: 418880.5426\n",
      "=== Epoch 8 === Loss: 1736.3717\n",
      "=== Epoch 9 === Loss: 152995.1606\n",
      "=== Epoch 10 === Loss: 7563809.1803\n",
      "=== Epoch 11 === Loss: 30160634.8853\n",
      "=== Epoch 12 === Loss: 42810.4017\n",
      "=== Epoch 13 === Loss: 317.4792\n",
      "=== Epoch 14 === Loss: 182.4640\n",
      "=== Epoch 15 === Loss: 885.0085\n",
      "=== Epoch 16 === Loss: 27605.0442\n",
      "=== Epoch 17 === Loss: 1956100.8786\n",
      "=== Epoch 18 === Loss: 182098.4336\n",
      "=== Epoch 19 === Loss: 15635630.0916\n"
     ]
    },
    {
     "name": "stderr",
     "output_type": "stream",
     "text": [
      "[I 2024-03-16 21:36:12,750] Trial 95 finished with value: 14.71664364944458 and parameters: {'lr': 0.0024019602383421558, 'batch_size': 64, 'num_layers': 3, 'hidden_units': 32}. Best is trial 54 with value: 14.02703715423584.\n"
     ]
    },
    {
     "name": "stdout",
     "output_type": "stream",
     "text": [
      "=== Epoch 20 === Loss: 588.8384\n",
      "=== Epoch 1 === Loss: 3605267641.5033\n",
      "=== Epoch 2 === Loss: 853963.1398\n",
      "=== Epoch 3 === Loss: 164.2529\n",
      "=== Epoch 4 === Loss: 151.7184\n",
      "=== Epoch 5 === Loss: 1725.3150\n",
      "=== Epoch 6 === Loss: 19632.4637\n",
      "=== Epoch 7 === Loss: 39834316.8254\n",
      "=== Epoch 8 === Loss: 361644721.2703\n",
      "=== Epoch 9 === Loss: 3932.2394\n",
      "=== Epoch 10 === Loss: 711.8710\n",
      "=== Epoch 11 === Loss: 322.4730\n",
      "=== Epoch 12 === Loss: 278.1856\n",
      "=== Epoch 13 === Loss: 248.6349\n",
      "=== Epoch 14 === Loss: 1672.1089\n",
      "=== Epoch 15 === Loss: 24090.9571\n",
      "=== Epoch 16 === Loss: 894.3184\n",
      "=== Epoch 17 === Loss: 132.5747\n",
      "=== Epoch 18 === Loss: 798.8206\n",
      "=== Epoch 19 === Loss: 2385.1319\n"
     ]
    },
    {
     "name": "stderr",
     "output_type": "stream",
     "text": [
      "[I 2024-03-16 21:36:15,147] Trial 96 finished with value: 201.25384829101563 and parameters: {'lr': 0.003882569230389552, 'batch_size': 64, 'num_layers': 3, 'hidden_units': 32}. Best is trial 54 with value: 14.02703715423584.\n"
     ]
    },
    {
     "name": "stdout",
     "output_type": "stream",
     "text": [
      "=== Epoch 20 === Loss: 349.7673\n",
      "=== Epoch 1 === Loss: 2555558788.5393\n",
      "=== Epoch 2 === Loss: 19239456.8146\n",
      "=== Epoch 3 === Loss: 97711270.1424\n",
      "=== Epoch 4 === Loss: 24264766.6083\n",
      "=== Epoch 5 === Loss: 2302218.8698\n",
      "=== Epoch 6 === Loss: 153684863.5605\n",
      "=== Epoch 7 === Loss: 56907989.8085\n",
      "=== Epoch 8 === Loss: 588641.6398\n",
      "=== Epoch 9 === Loss: 1954582.6447\n",
      "=== Epoch 10 === Loss: 44599907.2314\n",
      "=== Epoch 11 === Loss: 63920016.2425\n",
      "=== Epoch 12 === Loss: 2225.5764\n",
      "=== Epoch 13 === Loss: 183.6516\n",
      "=== Epoch 14 === Loss: 217.6501\n",
      "=== Epoch 15 === Loss: 16.2392\n",
      "=== Epoch 16 === Loss: 13.7102\n",
      "=== Epoch 17 === Loss: 13.5043\n",
      "=== Epoch 18 === Loss: 14.8561\n"
     ]
    },
    {
     "name": "stderr",
     "output_type": "stream",
     "text": [
      "[I 2024-03-16 21:36:17,980] Trial 97 finished with value: 22.697917439117433 and parameters: {'lr': 0.002592902552086331, 'batch_size': 64, 'num_layers': 3, 'hidden_units': 64}. Best is trial 54 with value: 14.02703715423584.\n"
     ]
    },
    {
     "name": "stdout",
     "output_type": "stream",
     "text": [
      "=== Epoch 19 === Loss: 22.2022\n",
      "=== Epoch 20 === Loss: 28.0697\n",
      "=== Epoch 1 === Loss: 825311963.5062\n",
      "=== Epoch 2 === Loss: 298241469.9192\n",
      "=== Epoch 3 === Loss: 466201637.6533\n",
      "=== Epoch 4 === Loss: 424.9078\n",
      "=== Epoch 5 === Loss: 2953.0227\n",
      "=== Epoch 6 === Loss: 24516.3375\n",
      "=== Epoch 7 === Loss: 353.2240\n",
      "=== Epoch 8 === Loss: 1674.9088\n",
      "=== Epoch 9 === Loss: 412079118.7909\n",
      "=== Epoch 10 === Loss: 54451.6490\n",
      "=== Epoch 11 === Loss: 12728.2495\n",
      "=== Epoch 12 === Loss: 3801.7111\n",
      "=== Epoch 13 === Loss: 52.3935\n",
      "=== Epoch 14 === Loss: 344.0013\n",
      "=== Epoch 15 === Loss: 99.5440\n",
      "=== Epoch 16 === Loss: 7217.0303\n",
      "=== Epoch 17 === Loss: 23362219.1238\n",
      "=== Epoch 18 === Loss: 1036209.4172\n"
     ]
    },
    {
     "name": "stderr",
     "output_type": "stream",
     "text": [
      "[I 2024-03-16 21:36:21,831] Trial 98 finished with value: 4590.328951821289 and parameters: {'lr': 0.0006492044003745622, 'batch_size': 32, 'num_layers': 3, 'hidden_units': 32}. Best is trial 54 with value: 14.02703715423584.\n"
     ]
    },
    {
     "name": "stdout",
     "output_type": "stream",
     "text": [
      "=== Epoch 19 === Loss: 118116.7138\n",
      "=== Epoch 20 === Loss: 38768948.6840\n",
      "=== Epoch 1 === Loss: 1662815337.5821\n",
      "=== Epoch 2 === Loss: 540.1309\n",
      "=== Epoch 3 === Loss: 8999.8063\n",
      "=== Epoch 4 === Loss: 3083435.1883\n",
      "=== Epoch 5 === Loss: 33874275.0221\n",
      "=== Epoch 6 === Loss: 23528403.2011\n",
      "=== Epoch 7 === Loss: 111060816.4430\n",
      "=== Epoch 8 === Loss: 1455.6550\n",
      "=== Epoch 9 === Loss: 303.4697\n",
      "=== Epoch 10 === Loss: 147.3477\n",
      "=== Epoch 11 === Loss: 2757.4334\n",
      "=== Epoch 12 === Loss: 8572.9910\n",
      "=== Epoch 13 === Loss: 22204.9008\n",
      "=== Epoch 14 === Loss: 3997096.4291\n",
      "=== Epoch 15 === Loss: 320852687.4493\n",
      "=== Epoch 16 === Loss: 5581.0803\n",
      "=== Epoch 17 === Loss: 300.4973\n",
      "=== Epoch 18 === Loss: 444.6299\n"
     ]
    },
    {
     "name": "stderr",
     "output_type": "stream",
     "text": [
      "[I 2024-03-16 21:36:24,154] Trial 99 finished with value: 21.48162201873779 and parameters: {'lr': 0.0011058942055892766, 'batch_size': 64, 'num_layers': 3, 'hidden_units': 32}. Best is trial 54 with value: 14.02703715423584.\n"
     ]
    },
    {
     "name": "stdout",
     "output_type": "stream",
     "text": [
      "=== Epoch 19 === Loss: 288.3860\n",
      "=== Epoch 20 === Loss: 241.5807\n",
      "Best trial:\n",
      "Value: 14.02703715423584\n",
      "Params: \n",
      "lr: 0.00224114081587386\n",
      "batch_size: 64\n",
      "num_layers: 3\n",
      "hidden_units: 64\n"
     ]
    }
   ],
   "source": [
    "import optuna\n",
    "import torch\n",
    "import torch.optim as optim\n",
    "import torch.nn as nn\n",
    "from torch.utils.data import DataLoader\n",
    "\n",
    "class DynamicModel(nn.Module):\n",
    "    def __init__(self, input_size, num_layers, hidden_units, output_size):\n",
    "        super(DynamicModel, self).__init__()\n",
    "        self.layers = nn.ModuleList()\n",
    "        for i in range(num_layers):\n",
    "            in_features = input_size if i == 0 else hidden_units\n",
    "            self.layers.append(nn.Linear(in_features, hidden_units))\n",
    "        self.final = nn.Linear(hidden_units, output_size)\n",
    "\n",
    "    def forward(self, x):\n",
    "        for layer in self.layers:\n",
    "            x = torch.relu(layer(x))\n",
    "        return self.final(x)\n",
    "\n",
    "def objective(trial):\n",
    "    lr = trial.suggest_loguniform('lr', 1e-5, 1e-1)\n",
    "    batch_size = trial.suggest_categorical('batch_size', [1, 2, 4, 8, 16, 32, 64])\n",
    "    num_layers = trial.suggest_int('num_layers', 1, 3)\n",
    "    hidden_units = trial.suggest_int('hidden_units', 5, 50)\n",
    "    optimizer_name = trial.suggest_categorical('optimizer', ['Adam', 'RMSprop'])\n",
    "    loss_function = trial.suggest_categorical('loss_function', ['L1', 'MSE', 'SmoothL1'])\n",
    "\n",
    "    model = DynamicModel(13, num_layers, hidden_units, 1)\n",
    "    optimizer = {\"Adam\": optim.Adam, \"RMSprop\": optim.RMSprop}[optimizer_name](model.parameters(), lr=lr)\n",
    "    criterion = {\"L1\": nn.L1Loss(), \"MSE\": nn.MSELoss(), \"SmoothL1\": nn.SmoothL1Loss()}[loss_function]\n",
    "\n",
    "    train_loader = DataLoader(train_dataset, batch_size=batch_size, shuffle=True)\n",
    "    test_loader = DataLoader(test_dataset, batch_size=batch_size, shuffle=False)\n",
    "\n",
    "    model.train()\n",
    "    for epoch in range(20):\n",
    "        for inputs, targets in train_loader:\n",
    "            optimizer.zero_grad()\n",
    "            outputs = model(inputs)\n",
    "            loss = criterion(outputs, targets)\n",
    "            loss.backward()\n",
    "            optimizer.step()\n",
    "            running_loss += loss.item() * inputs.size(0)\n",
    "        epoch_loss = running_loss / len(train_loader.dataset)\n",
    "        # Make sure the print statement is visible\n",
    "        print(f'=== Epoch {epoch+1} === Loss: {epoch_loss:.4f}')\n",
    "\n",
    "    model.eval()\n",
    "    criterion2 = nn.L1Loss()\n",
    "    total_loss = 0.0\n",
    "    n_samples = 0\n",
    "    with torch.no_grad():\n",
    "        for inputs, targets in test_loader:\n",
    "            outputs = model(inputs)\n",
    "            loss = criterion2(outputs, targets)\n",
    "            total_loss += loss.item() * inputs.size(0)\n",
    "            n_samples += inputs.size(0)\n",
    "    avg_loss = total_loss / n_samples\n",
    "\n",
    "    # Here, save the best model state dict to the trial\n",
    "    trial.set_user_attr('best_model_state', model.state_dict())\n",
    "\n",
    "    return avg_loss\n",
    "\n",
    "study = optuna.create_study(direction='minimize', sampler=optuna.samplers.TPESampler())\n",
    "study.optimize(objective, n_trials=100)\n",
    "\n",
    "# Retrieve and save the best model state\n",
    "best_model_state = study.best_trials[-1].user_attrs['best_model_state']\n",
    "torch.save(best_model_state, 'best_model.pth')\n",
    "\n",
    "# Load the best model for prediction\n",
    "model = DynamicModel(13, study.best_trial.params['num_layers'], study.best_trial.params['hidden_units'], 1)\n",
    "model.load_state_dict(torch.load('saved_models/best_model.pth'))\n",
    "\n",
    "print('Best trial (minimizing selected loss function):')\n",
    "print(f'Value (Loss): {study.best_trial.value}')\n",
    "print('Params: ')\n",
    "for key, value in study.best_trial.params.items():\n",
    "    print(f'{key}: {value}')\n"
   ]
  },
  {
   "cell_type": "code",
   "execution_count": 36,
   "metadata": {},
   "outputs": [
    {
     "name": "stdout",
     "output_type": "stream",
     "text": [
      "----------------------------------------------------------------\n",
      "        Layer (type)               Output Shape         Param #\n",
      "================================================================\n",
      "            Linear-1                    [-1, 5]              70\n",
      "            Linear-2                    [-1, 5]              30\n",
      "            Linear-3                    [-1, 1]               6\n",
      "================================================================\n",
      "Total params: 106\n",
      "Trainable params: 106\n",
      "Non-trainable params: 0\n",
      "----------------------------------------------------------------\n",
      "Input size (MB): 0.00\n",
      "Forward/backward pass size (MB): 0.00\n",
      "Params size (MB): 0.00\n",
      "Estimated Total Size (MB): 0.00\n",
      "----------------------------------------------------------------\n"
     ]
    }
   ],
   "source": [
    "from torchsummary import summary\n",
    "\n",
    "\n",
    "# Create a new model instance with the architecture parameters of the best model\n",
    "model = DynamicModel(\n",
    "    input_size=13,\n",
    "    num_layers=study.best_trial.params['num_layers'],\n",
    "    hidden_units=study.best_trial.params['hidden_units'],\n",
    "    output_size=1\n",
    ")\n",
    "\n",
    "# Load the best model's state dictionary\n",
    "model.load_state_dict(torch.load('saved_models/best_model.pth'))\n",
    "\n",
    "model.to('cuda')\n",
    "\n",
    "# Print the model summary\n",
    "# You need to know the input size of your model; for example, (13,) for 13 input features\n",
    "summary(model, input_size=(13,))"
   ]
  },
  {
   "cell_type": "code",
   "execution_count": 37,
   "metadata": {},
   "outputs": [
    {
     "data": {
      "image/png": "[encoded data removed]",
      "text/plain": [
       "<Figure size 1000x600 with 1 Axes>"
      ]
     },
     "metadata": {},
     "output_type": "display_data"
    }
   ],
   "source": [
    "model.eval()  # Set the model to evaluation mode\n",
    "model.to('cpu')  # Ensure the model is on CPU\n",
    "predicted_accuracies = []\n",
    "actual_accuracies = []\n",
    "\n",
    "with torch.no_grad():  # No need to track gradients\n",
    "    for i in range(len(inputs_test)):  # Assuming you want to use all test inputs\n",
    "        input_tensor = inputs_test[i].unsqueeze(0).to('cpu')  # Add batch dimension and ensure it's on CPU\n",
    "        predicted_accuracy = model(input_tensor)  # Predict\n",
    "        predicted_accuracies.append(predicted_accuracy.item())\n",
    "        actual_accuracies.append(targets_test[i].item())\n",
    "\n",
    "import matplotlib.pyplot as plt\n",
    "import seaborn as sns\n",
    "import numpy as np  # Ensure numpy is imported\n",
    "from scipy.stats import spearmanr\n",
    "\n",
    "# Convert lists to numpy arrays for plotting\n",
    "predicted_accuracies_np = np.array(predicted_accuracies)\n",
    "actual_accuracies_np = np.array(actual_accuracies)\n",
    "\n",
    "# Calculate Spearman's rank correlation\n",
    "spearman_corr, _ = spearmanr(predicted_accuracies_np, actual_accuracies_np)\n",
    "\n",
    "# Set up the matplotlib figure\n",
    "plt.figure(figsize=(10, 6))\n",
    "\n",
    "# Generate a scatter plot\n",
    "sns.scatterplot(x=actual_accuracies_np, y=predicted_accuracies_np)\n",
    "\n",
    "# Beautify the plot\n",
    "plt.title(f'Predicted vs. Actual Test Accuracies\\nSpearman\\'s Rank Correlation: {spearman_corr:.2f}', fontsize=15)\n",
    "plt.xlabel('Actual Test Accuracy', fontsize=12)\n",
    "plt.ylabel('Predicted Test Accuracy', fontsize=12)\n",
    "plt.grid(True, which='both', linestyle='--', linewidth=0.5)\n",
    "\n",
    "# Optional: Plot a line of best fit\n",
    "sns.regplot(x=actual_accuracies_np, y=predicted_accuracies_np, scatter=False, ci=None, color=\"red\")\n",
    "plt.xlim([0, 100])  # Adjust these limits if necessary\n",
    "plt.ylim([0, 100])  # Adjust these limits if necessary\n",
    "plt.show()\n"
   ]
  },
  {
   "cell_type": "markdown",
   "metadata": {},
   "source": [
    "## Evaluation on model transfer to other datasets"
   ]
  },
  {
   "cell_type": "markdown",
   "metadata": {},
   "source": [
    "If network is trained on CIFAR10 how well do the models to transfer to CIFAR100 without retraining"
   ]
  },
  {
   "cell_type": "code",
   "execution_count": null,
   "metadata": {},
   "outputs": [],
   "source": [
    "file = '/home/laurie2905/mase_ADL/mase/NASLib/naslib/data/zc_nasbench201.json'\n",
    "with open(file, 'r') as f:\n",
    "    data = json.load(f)\n",
    "    data = data['cifar100']\n",
    "\n",
    "\n",
    "targets = [data[arch]['val_accuracy'] for arch in data.keys()]\n",
    "inputs = []\n",
    "\n",
    "for arch in data.keys():\n",
    "\n",
    "    inputs.append([data[arch].get(metric_name, 0)['score'] for metric_name in ['epe_nas', 'fisher', 'grad_norm', 'grasp', 'jacov', 'l2_norm', 'nwot','plain','snip','synflow','zen','flops','params'] ])\n",
    "    "
   ]
  },
  {
   "cell_type": "code",
   "execution_count": null,
   "metadata": {},
   "outputs": [],
   "source": [
    "from torchsummary import summary\n",
    "\n",
    "\n",
    "# Create a new model instance with the architecture parameters of the best model\n",
    "model = DynamicModel(\n",
    "    input_size=13,\n",
    "    num_layers=study.best_trial.params['num_layers'],\n",
    "    hidden_units=study.best_trial.params['hidden_units'],\n",
    "    output_size=1\n",
    ")\n",
    "\n",
    "# Load the best model's state dictionary\n",
    "model.load_state_dict(torch.load('saved_models/best_model.pth'))\n",
    "\n",
    "model.to('cuda')\n",
    "\n",
    "# Print the model summary\n",
    "# You need to know the input size of your model; for example, (13,) for 13 input features\n",
    "summary(model, input_size=(13,))"
   ]
  },
  {
   "cell_type": "code",
   "execution_count": null,
   "metadata": {},
   "outputs": [],
   "source": [
    "model.eval()  # Set the model to evaluation mode\n",
    "model.to('cpu')  # Ensure the model is on CPU\n",
    "predicted_accuracies = []\n",
    "actual_accuracies = []\n",
    "\n",
    "with torch.no_grad():  # No need to track gradients\n",
    "    for i in range(len(inputs_test)):  # Assuming you want to use all test inputs\n",
    "        input_tensor = inputs_test[i].unsqueeze(0).to('cpu')  # Add batch dimension and ensure it's on CPU\n",
    "        predicted_accuracy = model(input_tensor)  # Predict\n",
    "        predicted_accuracies.append(predicted_accuracy.item())\n",
    "        actual_accuracies.append(targets_test[i].item())\n",
    "\n",
    "import matplotlib.pyplot as plt\n",
    "import seaborn as sns\n",
    "import numpy as np  # Ensure numpy is imported\n",
    "from scipy.stats import spearmanr\n",
    "\n",
    "# Convert lists to numpy arrays for plotting\n",
    "predicted_accuracies_np = np.array(predicted_accuracies)\n",
    "actual_accuracies_np = np.array(actual_accuracies)\n",
    "\n",
    "# Calculate Spearman's rank correlation\n",
    "spearman_corr, _ = spearmanr(predicted_accuracies_np, actual_accuracies_np)\n",
    "\n",
    "# Set up the matplotlib figure\n",
    "plt.figure(figsize=(10, 6))\n",
    "\n",
    "# Generate a scatter plot\n",
    "sns.scatterplot(x=actual_accuracies_np, y=predicted_accuracies_np)\n",
    "\n",
    "# Beautify the plot\n",
    "plt.title(f'Predicted vs. Actual Test Accuracies\\nSpearman\\'s Rank Correlation: {spearman_corr:.2f}', fontsize=15)\n",
    "plt.xlabel('Actual Test Accuracy', fontsize=12)\n",
    "plt.ylabel('Predicted Test Accuracy', fontsize=12)\n",
    "plt.grid(True, which='both', linestyle='--', linewidth=0.5)\n",
    "\n",
    "# Optional: Plot a line of best fit\n",
    "sns.regplot(x=actual_accuracies_np, y=predicted_accuracies_np, scatter=False, ci=None, color=\"red\")\n",
    "plt.xlim([0, 100])  # Adjust these limits if necessary\n",
    "plt.ylim([0, 100])  # Adjust these limits if necessary\n",
    "plt.show()\n"
   ]
  }
 ],
 "metadata": {
  "kernelspec": {
   "display_name": "mase_env",
   "language": "python",
   "name": "python3"
  },
  "language_info": {
   "codemirror_mode": {
    "name": "ipython",
    "version": 3
   },
   "file_extension": ".py",
   "mimetype": "text/x-python",
   "name": "python",
   "nbconvert_exporter": "python",
   "pygments_lexer": "ipython3",
   "version": "3.10.6"
  }
 },
 "nbformat": 4,
 "nbformat_minor": 2
}
