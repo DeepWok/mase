{
 "cells": [
  {
   "cell_type": "code",
   "execution_count": 1,
   "metadata": {},
   "outputs": [
    {
     "name": "stderr",
     "output_type": "stream",
     "text": [
      "/rds/general/user/jj21/home/miniforge3/envs/adls-project/lib/python3.11/site-packages/tqdm/auto.py:21: TqdmWarning: IProgress not found. Please update jupyter and ipywidgets. See https://ipywidgets.readthedocs.io/en/stable/user_install.html\n",
      "  from .autonotebook import tqdm as notebook_tqdm\n"
     ]
    }
   ],
   "source": [
    "from difflogic import LogicLayer, GroupSum\n",
    "import torch\n",
    "from chop import MaseGraph"
   ]
  },
  {
   "cell_type": "code",
   "execution_count": 2,
   "metadata": {},
   "outputs": [],
   "source": [
    "# import os\n",
    "# import sys\n",
    "\n",
    "# \"Add dot (pydot) to path if needed:\"\n",
    "\n",
    "# new_path = os.path.expanduser(\"~/miniforge3/envs/adls-project/bin/\")\n",
    "# if new_path not in sys.path:\n",
    "#     sys.path.append(new_path)\n",
    "\n",
    "# # Add to environment PATH as well\n",
    "# os.environ[\"PATH\"] = new_path + os.pathsep + os.environ[\"PATH\"]"
   ]
  },
  {
   "cell_type": "code",
   "execution_count": 3,
   "metadata": {},
   "outputs": [],
   "source": [
    "model = torch.nn.Sequential(\n",
    "    torch.nn.Flatten(),\n",
    "    LogicLayer(400, 8_000),\n",
    "    LogicLayer(8_000, 8_000),\n",
    "    LogicLayer(8_000, 8_000),\n",
    "    LogicLayer(8_000, 8_000),\n",
    "    LogicLayer(8_000, 8_000),\n",
    "    LogicLayer(8_000, 8_000),\n",
    "    GroupSum(k=10, tau=20)\n",
    ")"
   ]
  },
  {
   "cell_type": "code",
   "execution_count": 4,
   "metadata": {},
   "outputs": [],
   "source": [
    "mg = MaseGraph(model)\n",
    "\n",
    "mg.draw(\"DLG.svg\")"
   ]
  },
  {
   "cell_type": "code",
   "execution_count": 5,
   "metadata": {},
   "outputs": [],
   "source": [
    "def eval(model, loader, mode):\n",
    "    orig_mode = model.training\n",
    "    with torch.no_grad():\n",
    "        model.train(mode=mode)\n",
    "        res = np.mean(\n",
    "            [\n",
    "                (model(x.to('cpu').round()).argmax(-1) == y.to('cpu')).to(torch.float32).mean().item()\n",
    "                for x, y in loader\n",
    "            ]\n",
    "        )\n",
    "        model.train(mode=orig_mode)\n",
    "    return res.item()"
   ]
  },
  {
   "cell_type": "code",
   "execution_count": 6,
   "metadata": {},
   "outputs": [
    {
     "name": "stdout",
     "output_type": "stream",
     "text": [
      "Downloading https://ossci-datasets.s3.amazonaws.com/mnist/train-images-idx3-ubyte.gz\n"
     ]
    },
    {
     "name": "stderr",
     "output_type": "stream",
     "text": [
      "100%|██████████| 9.91M/9.91M [00:00<00:00, 14.5MB/s]\n"
     ]
    },
    {
     "name": "stdout",
     "output_type": "stream",
     "text": [
      "\n",
      "Downloading https://ossci-datasets.s3.amazonaws.com/mnist/train-labels-idx1-ubyte.gz\n"
     ]
    },
    {
     "name": "stderr",
     "output_type": "stream",
     "text": [
      "100%|██████████| 28.9k/28.9k [00:00<00:00, 379kB/s]\n"
     ]
    },
    {
     "name": "stdout",
     "output_type": "stream",
     "text": [
      "\n",
      "Downloading https://ossci-datasets.s3.amazonaws.com/mnist/t10k-images-idx3-ubyte.gz\n"
     ]
    },
    {
     "name": "stderr",
     "output_type": "stream",
     "text": [
      "100%|██████████| 1.65M/1.65M [00:00<00:00, 3.54MB/s]\n"
     ]
    },
    {
     "name": "stdout",
     "output_type": "stream",
     "text": [
      "\n",
      "Downloading https://ossci-datasets.s3.amazonaws.com/mnist/t10k-labels-idx1-ubyte.gz\n"
     ]
    },
    {
     "name": "stderr",
     "output_type": "stream",
     "text": [
      "100%|██████████| 4.54k/4.54k [00:00<00:00, 2.99MB/s]\n"
     ]
    },
    {
     "name": "stdout",
     "output_type": "stream",
     "text": [
      "\n",
      "Accuracy:  0.9751000040769577\n"
     ]
    }
   ],
   "source": [
    "import mnist_dataset\n",
    "import numpy as np\n",
    "\n",
    "train_set = mnist_dataset.MNIST('./data-mnist', train=True, download=True, remove_border=True)\n",
    "test_set = mnist_dataset.MNIST('./data-mnist', train=False, remove_border=True)\n",
    "\n",
    "train_loader = torch.utils.data.DataLoader(train_set, batch_size=100, shuffle=True, pin_memory=True, drop_last=True, num_workers=4)\n",
    "test_loader = torch.utils.data.DataLoader(test_set, batch_size=100, shuffle=False, pin_memory=True, drop_last=True)\n",
    "\n",
    "state_dict = torch.load(\"best_model_full.pth\", map_location=torch.device('cpu'))  # Load the dictionary\n",
    "# state_dict = torch.load(\"best_model.pth\", map_location=torch.device('cpu'))  # Load the dictionary\n",
    "mg.model.load_state_dict(state_dict)  # Apply the weights\n",
    "\n",
    "mg.model.eval()\n",
    "\n",
    "print(\"Accuracy: \", eval(mg.model, test_loader, mode=False))"
   ]
  },
  {
   "cell_type": "code",
   "execution_count": null,
   "metadata": {},
   "outputs": [],
   "source": []
  }
 ],
 "metadata": {
  "kernelspec": {
   "display_name": "adls-project",
   "language": "python",
   "name": "adls-project"
  },
  "language_info": {
   "codemirror_mode": {
    "name": "ipython",
    "version": 3
   },
   "file_extension": ".py",
   "mimetype": "text/x-python",
   "name": "python",
   "nbconvert_exporter": "python",
   "pygments_lexer": "ipython3",
   "version": "3.11.11"
  }
 },
 "nbformat": 4,
 "nbformat_minor": 5
}
