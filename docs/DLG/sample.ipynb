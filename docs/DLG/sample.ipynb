{
 "cells": [
  {
   "cell_type": "code",
   "execution_count": 1,
   "metadata": {},
   "outputs": [
    {
     "name": "stderr",
     "output_type": "stream",
     "text": [
      "/rds/general/user/jj21/home/miniforge3/envs/adls-project/lib/python3.11/site-packages/tqdm/auto.py:21: TqdmWarning: IProgress not found. Please update jupyter and ipywidgets. See https://ipywidgets.readthedocs.io/en/stable/user_install.html\n",
      "  from .autonotebook import tqdm as notebook_tqdm\n"
     ]
    }
   ],
   "source": [
    "from difflogic import LogicLayer, GroupSum\n",
    "import torch\n",
    "from chop import MaseGraph"
   ]
  },
  {
   "cell_type": "code",
   "execution_count": 2,
   "metadata": {},
   "outputs": [],
   "source": [
    "# import os\n",
    "# import sys\n",
    "\n",
    "# \"Add dot (pydot) to path if needed:\"\n",
    "\n",
    "# new_path = os.path.expanduser(\"~/miniforge3/envs/adls-project/bin/\")\n",
    "# if new_path not in sys.path:\n",
    "#     sys.path.append(new_path)\n",
    "\n",
    "# # Add to environment PATH as well\n",
    "# os.environ[\"PATH\"] = new_path + os.pathsep + os.environ[\"PATH\"]"
   ]
  },
  {
   "cell_type": "code",
   "execution_count": 3,
   "metadata": {},
   "outputs": [],
   "source": [
    "model = torch.nn.Sequential(\n",
    "    torch.nn.Flatten(),\n",
    "    LogicLayer(400, 8_000),\n",
    "    LogicLayer(8_000, 8_000),\n",
    "    LogicLayer(8_000, 8_000),\n",
    "    LogicLayer(8_000, 8_000),\n",
    "    LogicLayer(8_000, 8_000),\n",
    "    LogicLayer(8_000, 8_000),\n",
    "    GroupSum(k=10, tau=20)\n",
    ")"
   ]
  },
  {
   "cell_type": "code",
   "execution_count": 4,
   "metadata": {},
   "outputs": [],
   "source": [
    "mg = MaseGraph(model)\n",
    "\n",
    "# mg.draw(\"DLG.svg\")"
   ]
  },
  {
   "cell_type": "code",
   "execution_count": 5,
   "metadata": {},
   "outputs": [],
   "source": [
    "def eval(model, loader, mode):\n",
    "    orig_mode = model.training\n",
    "    with torch.no_grad():\n",
    "        model.train(mode=mode)\n",
    "        res = np.mean(\n",
    "            [\n",
    "                (model(x.to('cpu').round()).argmax(-1) == y.to('cpu')).to(torch.float32).mean().item()\n",
    "                for x, y in loader\n",
    "            ]\n",
    "        )\n",
    "        model.train(mode=orig_mode)\n",
    "    return res.item()"
   ]
  },
  {
   "cell_type": "code",
   "execution_count": 6,
   "metadata": {},
   "outputs": [
    {
     "name": "stdout",
     "output_type": "stream",
     "text": [
      "Downloading https://ossci-datasets.s3.amazonaws.com/mnist/train-images-idx3-ubyte.gz\n"
     ]
    },
    {
     "name": "stderr",
     "output_type": "stream",
     "text": [
      "100%|██████████| 9.91M/9.91M [00:00<00:00, 14.3MB/s]\n"
     ]
    },
    {
     "name": "stdout",
     "output_type": "stream",
     "text": [
      "\n",
      "Downloading https://ossci-datasets.s3.amazonaws.com/mnist/train-labels-idx1-ubyte.gz\n"
     ]
    },
    {
     "name": "stderr",
     "output_type": "stream",
     "text": [
      "100%|██████████| 28.9k/28.9k [00:00<00:00, 382kB/s]\n"
     ]
    },
    {
     "name": "stdout",
     "output_type": "stream",
     "text": [
      "\n",
      "Downloading https://ossci-datasets.s3.amazonaws.com/mnist/t10k-images-idx3-ubyte.gz\n"
     ]
    },
    {
     "name": "stderr",
     "output_type": "stream",
     "text": [
      "100%|██████████| 1.65M/1.65M [00:00<00:00, 3.58MB/s]\n"
     ]
    },
    {
     "name": "stdout",
     "output_type": "stream",
     "text": [
      "\n",
      "Downloading https://ossci-datasets.s3.amazonaws.com/mnist/t10k-labels-idx1-ubyte.gz\n"
     ]
    },
    {
     "name": "stderr",
     "output_type": "stream",
     "text": [
      "100%|██████████| 4.54k/4.54k [00:00<00:00, 6.59MB/s]\n"
     ]
    },
    {
     "name": "stdout",
     "output_type": "stream",
     "text": [
      "\n",
      "Accuracy:  0.9751000040769577\n"
     ]
    }
   ],
   "source": [
    "import mnist_dataset\n",
    "import numpy as np\n",
    "\n",
    "train_set = mnist_dataset.MNIST('./data-mnist', train=True, download=True, remove_border=True)\n",
    "test_set = mnist_dataset.MNIST('./data-mnist', train=False, remove_border=True)\n",
    "\n",
    "train_loader = torch.utils.data.DataLoader(train_set, batch_size=100, shuffle=True, pin_memory=True, drop_last=True, num_workers=4)\n",
    "test_loader = torch.utils.data.DataLoader(test_set, batch_size=100, shuffle=False, pin_memory=True, drop_last=True)\n",
    "\n",
    "state_dict = torch.load(\"best_model_full.pth\", map_location=torch.device('cpu'))  # Load the dictionary\n",
    "mg.model.load_state_dict(state_dict)  # Apply the weights\n",
    "\n",
    "mg.model.eval()\n",
    "\n",
    "print(\"Accuracy: \", eval(mg.model, test_loader, mode=False))"
   ]
  },
  {
   "cell_type": "code",
   "execution_count": 11,
   "metadata": {},
   "outputs": [],
   "source": [
    "import chop.passes as passes\n",
    "\n",
    "mg, _ = passes.init_metadata_analysis_pass(mg)\n",
    "# mg, _ = passes.add_common_metadata_analysis_pass(\n",
    "#     mg,\n",
    "#     pass_args={\n",
    "#         \"dummy_in\": [ x[0] for x in iter(test_loader)][0],\n",
    "#         \"add_value\": False,\n",
    "#     },\n",
    "# )"
   ]
  },
  {
   "cell_type": "code",
   "execution_count": 12,
   "metadata": {},
   "outputs": [],
   "source": [
    "mg.draw(\"DLG_test.svg\")"
   ]
  },
  {
   "cell_type": "code",
   "execution_count": 46,
   "metadata": {},
   "outputs": [],
   "source": [
    "import types\n",
    "\n",
    "@torch.fx.wrap\n",
    "def indices_placeholder(inp, indices_a, indices_b):\n",
    "    return inp[..., indicies_a], inp[..., indicies_b]\n",
    "\n",
    "@torch.fx.wrap\n",
    "def neuron_placeholder(a, b, op):\n",
    "    # Define a dictionary for vectorized operations\n",
    "    return a\n",
    "\n",
    "@torch.fx.wrap\n",
    "def groupsum_placeholder(inp):\n",
    "    # Define a dictionary for vectorized operations\n",
    "    return \"Just placeholder\"\n",
    "\n",
    "\n",
    "def test_pass(\n",
    "    graph,\n",
    "    pass_args={\"model\":\"None\", \"state_dict\":{}},\n",
    "):\n",
    "    model = pass_args[\"model\"]\n",
    "    \n",
    "    new_graph = torch.fx.Graph()\n",
    "    given_params = model.state_dict()\n",
    "    if (pass_args[\"state_dict\"]):\n",
    "        given_params = pass_args[\"state_dict\"]\n",
    "    \n",
    "    last_node = None\n",
    "    \n",
    "    # Step 1: Copy input placeholder nodes\n",
    "    for node in graph.nodes:\n",
    "        if node.op == \"placeholder\":  # Detect input nodes\n",
    "            last_node = new_graph.placeholder(node.name)  # Copy placeholder\n",
    "            break\n",
    "    \n",
    "    for name, module in model.named_modules():\n",
    "        \n",
    "        if isinstance(module, torch.nn.Sequential):  \n",
    "            continue  # Skip Sequential containers\n",
    "        \n",
    "        elif isinstance(module, torch.nn.Flatten):\n",
    "            continue\n",
    "        \n",
    "        elif isinstance(module, LogicLayer):\n",
    "            name_param = \"indices\"\n",
    "            param_id = name + \".\" + name_param\n",
    "            indices_a = given_params[param_id][0]\n",
    "            indices_b = given_params[param_id][1]\n",
    "            last_node = new_graph.call_function(indices_placeholder, args=(last_node,), kwargs={\"indices_a\":indices_a, \"indices_b\":indices_b})\n",
    "            \n",
    "            name_param = \"weights\"\n",
    "            param_id = name + \".\" + name_param\n",
    "            w = given_params[param_id]\n",
    "            last_node = new_graph.call_function(neuron_placeholder, args=(last_node,), kwargs={\"op\":w})\n",
    "        elif isinstance(module, GroupSum):\n",
    "            last_node = new_graph.call_function(groupsum_placeholder, args=(last_node,))\n",
    "        \n",
    "        else:\n",
    "            raise NotImplementedError(name, module)\n",
    "        \n",
    "    \n",
    "    for node in graph.nodes:\n",
    "        if node.op == \"output\":  # Detect input nodes\n",
    "            last_node = new_graph.output(last_node)  # Copy placeholder\n",
    "            break \n",
    "    \n",
    "    mg.fx_graph = new_graph\n",
    "    \n",
    "    return mg, None\n",
    "                    \n",
    "                    \n",
    "                    \n",
    "#     nodes = set({})\n",
    "#     for node in mg.fx_graph.nodes:\n",
    "#         if (node.op == \"call_module\"):\n",
    "#             pass\n",
    "#         elif (node.op == \"call_method\" and long not in node.target ):\n",
    "#             if len(node.args) > 1:\n",
    "#                 raise \"What?\"\n",
    "#             node.replace_all_uses_with(node.args[0])\n",
    "#         elif (isinstance(node.target, types.BuiltinFunctionType):\n",
    "#              node.replace_all_uses_with(node.args[0]) \n",
    "            \n",
    "            \n",
    "#     return graph, None"
   ]
  },
  {
   "cell_type": "code",
   "execution_count": 47,
   "metadata": {},
   "outputs": [],
   "source": [
    "mg_test, test = test_pass(mg, pass_args={\"model\":model, \"state_dict\":state_dict})\n",
    "mg_test.draw(\"DLG_test.svg\")"
   ]
  }
 ],
 "metadata": {
  "kernelspec": {
   "display_name": "adls-project",
   "language": "python",
   "name": "adls-project"
  },
  "language_info": {
   "codemirror_mode": {
    "name": "ipython",
    "version": 3
   },
   "file_extension": ".py",
   "mimetype": "text/x-python",
   "name": "python",
   "nbconvert_exporter": "python",
   "pygments_lexer": "ipython3",
   "version": "3.11.11"
  }
 },
 "nbformat": 4,
 "nbformat_minor": 5
}
