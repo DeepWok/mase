{
 "cells": [
  {
   "cell_type": "code",
   "execution_count": 1,
   "metadata": {},
   "outputs": [
    {
     "name": "stderr",
     "output_type": "stream",
     "text": [
      "/usr/local/lib/python3.11/dist-packages/tqdm/auto.py:21: TqdmWarning: IProgress not found. Please update jupyter and ipywidgets. See https://ipywidgets.readthedocs.io/en/stable/user_install.html\n",
      "  from .autonotebook import tqdm as notebook_tqdm\n"
     ]
    }
   ],
   "source": [
    "from difflogic import LogicLayer, GroupSum\n",
    "import torch\n",
    "from chop import MaseGraph"
   ]
  },
  {
   "cell_type": "code",
   "execution_count": 2,
   "metadata": {},
   "outputs": [],
   "source": [
    "# import os\n",
    "# import sys\n",
    "\n",
    "# \"Add dot (pydot) to path if needed:\"\n",
    "\n",
    "# new_path = os.path.expanduser(\"~/miniforge3/envs/adls-project/bin/\")\n",
    "# if new_path not in sys.path:\n",
    "#     sys.path.append(new_path)\n",
    "\n",
    "# # Add to environment PATH as well\n",
    "# os.environ[\"PATH\"] = new_path + os.pathsep + os.environ[\"PATH\"]"
   ]
  },
  {
   "cell_type": "code",
   "execution_count": 3,
   "metadata": {},
   "outputs": [],
   "source": [
    "model = torch.nn.Sequential(\n",
    "    torch.nn.Flatten(),\n",
    "    LogicLayer(4, 4),\n",
    "    GroupSum(k=2, tau=20)\n",
    ")"
   ]
  },
  {
   "cell_type": "code",
   "execution_count": 4,
   "id": "717e90b5",
   "metadata": {},
   "outputs": [],
   "source": [
    "CUSTOM_OPS = {\n",
    "    \"modules\": {\n",
    "        LogicLayer: {\n",
    "            \"args\": {\n",
    "                \"input\": \"data_in\"\n",
    "            },\n",
    "            \"toolchain\": \"INTERNAL_RTL\",\n",
    "            \"module\": \"fixed_difflogic_logic\",\n",
    "            \"dependence_files\": [\n",
    "                \"difflogic_layers/rtl/fixed_difflogic_logic.sv\",\n",
    "                \"difflogic_layers/rtl/fixed_difflogic_logic_neuron.sv\"\n",
    "            ],\n",
    "        },\n",
    "        GroupSum: {\n",
    "            \"args\": {\n",
    "                \"input\": \"data_in\"\n",
    "            },\n",
    "            \"toolchain\": \"INTERNAL_RTL\",\n",
    "            \"module\": \"difflogic_groupsum\",\n",
    "            \"dependence_files\": [],\n",
    "        },\n",
    "    },\n",
    "    \"functions\": {},\n",
    "}\n",
    "\n",
    "mg = MaseGraph(model, custom_ops=CUSTOM_OPS)\n",
    "\n",
    "# mg.draw(\"DLG.svg\")"
   ]
  },
  {
   "cell_type": "code",
   "execution_count": 5,
   "id": "aab316a1",
   "metadata": {},
   "outputs": [],
   "source": [
    "def eval(model, loader, mode):\n",
    "    orig_mode = model.training\n",
    "    with torch.no_grad():\n",
    "        model.train(mode=mode)\n",
    "        res = np.mean(\n",
    "            [\n",
    "                (model(x.to('cpu').round()).argmax(-1) == y.to('cpu')).to(torch.float32).mean().item()\n",
    "                for x, y in loader\n",
    "            ]\n",
    "        )\n",
    "        model.train(mode=orig_mode)\n",
    "    return res.item()"
   ]
  },
  {
   "cell_type": "code",
   "execution_count": 6,
   "id": "1e5ba446",
   "metadata": {},
   "outputs": [],
   "source": [
    "import mnist_dataset\n",
    "import numpy as np\n",
    "\n",
    "train_set = mnist_dataset.MNIST('./data-mnist', train=True, download=True, remove_border=True)\n",
    "test_set = mnist_dataset.MNIST('./data-mnist', train=False, remove_border=True)\n",
    "\n",
    "train_loader = torch.utils.data.DataLoader(train_set, batch_size=100, shuffle=True, pin_memory=True, drop_last=True, num_workers=4)\n",
    "test_loader = torch.utils.data.DataLoader(test_set, batch_size=100, shuffle=False, pin_memory=True, drop_last=True)\n",
    "\n",
    "state_dict = torch.load(\"best_model_full.pth\", map_location=torch.device('cpu'))  # Load the dictionary\n",
    "# mg.model.load_state_dict(state_dict, strict=False)  # Apply the weights\n",
    "\n",
    "# mg.model.eval()\n",
    "\n",
    "# print(\"Accuracy: \", eval(mg.model, test_loader, mode=False))"
   ]
  },
  {
   "cell_type": "code",
   "execution_count": 7,
   "id": "97323016",
   "metadata": {},
   "outputs": [],
   "source": [
    "import types\n",
    "\n",
    "def test_pass(\n",
    "    graph,\n",
    "    pass_args={\"model\":\"None\", \"state_dict\":{}},\n",
    "):\n",
    "#     model = pass_args[\"model\"]\n",
    "#     given_params = model.state_dict()\n",
    "#     if (pass_args[\"state_dict\"]):\n",
    "#         given_params = pass_args[\"state_dict\"]\n",
    "    \n",
    "    \n",
    "    # Step 1: Copy input placeholder nodes\n",
    "    for node in graph.nodes:\n",
    "        print(node.op)\n",
    "        print(node.meta[\"mase\"].parameters)\n",
    "        print()\n",
    "#         if \"LogicLayer\" in node.op:  # Detect input nodes\n",
    "            \n",
    "    \n",
    "\n",
    "    return mg, None\n",
    "                    \n",
    "                    \n",
    "                    \n",
    "#     nodes = set({})\n",
    "#     for node in mg.fx_graph.nodes:\n",
    "#         if (node.op == \"call_module\"):\n",
    "#             pass\n",
    "#         elif (node.op == \"call_method\" and long not in node.target ):\n",
    "#             if len(node.args) > 1:\n",
    "#                 raise \"What?\"\n",
    "#             node.replace_all_uses_with(node.args[0])\n",
    "#         elif (isinstance(node.target, types.BuiltinFunctionType):\n",
    "#              node.replace_all_uses_with(node.args[0]) \n",
    "            \n",
    "            \n",
    "#     return graph, None"
   ]
  },
  {
   "cell_type": "code",
   "execution_count": 8,
   "id": "e0dce582",
   "metadata": {},
   "outputs": [
    {
     "name": "stderr",
     "output_type": "stream",
     "text": [
      "/usr/local/lib/python3.11/dist-packages/torch/utils/data/dataloader.py:665: UserWarning: 'pin_memory' argument is set as true but no accelerator is found, then device pinned memory won't be used.\n",
      "  warnings.warn(warn_msg)\n"
     ]
    },
    {
     "name": "stdout",
     "output_type": "stream",
     "text": [
      "tensor([[[[0.0000, 0.0000, 0.3294, 0.7255, 0.6235, 0.5922, 0.2353, 0.1412,\n",
      "           0.0000, 0.0000, 0.0000, 0.0000, 0.0000, 0.0000, 0.0000, 0.0000,\n",
      "           0.0000, 0.0000, 0.0000, 0.0000],\n",
      "          [0.0000, 0.0000, 0.8706, 0.9961, 0.9961, 0.9961, 0.9961, 0.9451,\n",
      "           0.7765, 0.7765, 0.7765, 0.7765, 0.7765, 0.7765, 0.7765, 0.7765,\n",
      "           0.6667, 0.2039, 0.0000, 0.0000],\n",
      "          [0.0000, 0.0000, 0.2627, 0.4471, 0.2824, 0.4471, 0.6392, 0.8902,\n",
      "           0.9961, 0.8824, 0.9961, 0.9961, 0.9961, 0.9804, 0.8980, 0.9961,\n",
      "           0.9961, 0.5490, 0.0000, 0.0000],\n",
      "          [0.0000, 0.0000, 0.0000, 0.0000, 0.0000, 0.0000, 0.0000, 0.0667,\n",
      "           0.2588, 0.0549, 0.2627, 0.2627, 0.2627, 0.2314, 0.0824, 0.9255,\n",
      "           0.9961, 0.4157, 0.0000, 0.0000],\n",
      "          [0.0000, 0.0000, 0.0000, 0.0000, 0.0000, 0.0000, 0.0000, 0.0000,\n",
      "           0.0000, 0.0000, 0.0000, 0.0000, 0.0000, 0.0000, 0.3255, 0.9922,\n",
      "           0.8196, 0.0706, 0.0000, 0.0000],\n",
      "          [0.0000, 0.0000, 0.0000, 0.0000, 0.0000, 0.0000, 0.0000, 0.0000,\n",
      "           0.0000, 0.0000, 0.0000, 0.0000, 0.0000, 0.0863, 0.9137, 1.0000,\n",
      "           0.3255, 0.0000, 0.0000, 0.0000],\n",
      "          [0.0000, 0.0000, 0.0000, 0.0000, 0.0000, 0.0000, 0.0000, 0.0000,\n",
      "           0.0000, 0.0000, 0.0000, 0.0000, 0.0000, 0.5059, 0.9961, 0.9333,\n",
      "           0.1725, 0.0000, 0.0000, 0.0000],\n",
      "          [0.0000, 0.0000, 0.0000, 0.0000, 0.0000, 0.0000, 0.0000, 0.0000,\n",
      "           0.0000, 0.0000, 0.0000, 0.0000, 0.2314, 0.9765, 0.9961, 0.2431,\n",
      "           0.0000, 0.0000, 0.0000, 0.0000],\n",
      "          [0.0000, 0.0000, 0.0000, 0.0000, 0.0000, 0.0000, 0.0000, 0.0000,\n",
      "           0.0000, 0.0000, 0.0000, 0.0000, 0.5216, 0.9961, 0.7333, 0.0196,\n",
      "           0.0000, 0.0000, 0.0000, 0.0000],\n",
      "          [0.0000, 0.0000, 0.0000, 0.0000, 0.0000, 0.0000, 0.0000, 0.0000,\n",
      "           0.0000, 0.0000, 0.0000, 0.0353, 0.8039, 0.9725, 0.2275, 0.0000,\n",
      "           0.0000, 0.0000, 0.0000, 0.0000],\n",
      "          [0.0000, 0.0000, 0.0000, 0.0000, 0.0000, 0.0000, 0.0000, 0.0000,\n",
      "           0.0000, 0.0000, 0.0000, 0.4941, 0.9961, 0.7137, 0.0000, 0.0000,\n",
      "           0.0000, 0.0000, 0.0000, 0.0000],\n",
      "          [0.0000, 0.0000, 0.0000, 0.0000, 0.0000, 0.0000, 0.0000, 0.0000,\n",
      "           0.0000, 0.0000, 0.2941, 0.9843, 0.9412, 0.2235, 0.0000, 0.0000,\n",
      "           0.0000, 0.0000, 0.0000, 0.0000],\n",
      "          [0.0000, 0.0000, 0.0000, 0.0000, 0.0000, 0.0000, 0.0000, 0.0000,\n",
      "           0.0000, 0.0745, 0.8667, 0.9961, 0.6510, 0.0000, 0.0000, 0.0000,\n",
      "           0.0000, 0.0000, 0.0000, 0.0000],\n",
      "          [0.0000, 0.0000, 0.0000, 0.0000, 0.0000, 0.0000, 0.0000, 0.0000,\n",
      "           0.0118, 0.7961, 0.9961, 0.8588, 0.1373, 0.0000, 0.0000, 0.0000,\n",
      "           0.0000, 0.0000, 0.0000, 0.0000],\n",
      "          [0.0000, 0.0000, 0.0000, 0.0000, 0.0000, 0.0000, 0.0000, 0.0000,\n",
      "           0.1490, 0.9961, 0.9961, 0.3020, 0.0000, 0.0000, 0.0000, 0.0000,\n",
      "           0.0000, 0.0000, 0.0000, 0.0000],\n",
      "          [0.0000, 0.0000, 0.0000, 0.0000, 0.0000, 0.0000, 0.0000, 0.1216,\n",
      "           0.8784, 0.9961, 0.4510, 0.0039, 0.0000, 0.0000, 0.0000, 0.0000,\n",
      "           0.0000, 0.0000, 0.0000, 0.0000],\n",
      "          [0.0000, 0.0000, 0.0000, 0.0000, 0.0000, 0.0000, 0.0000, 0.5216,\n",
      "           0.9961, 0.9961, 0.2039, 0.0000, 0.0000, 0.0000, 0.0000, 0.0000,\n",
      "           0.0000, 0.0000, 0.0000, 0.0000],\n",
      "          [0.0000, 0.0000, 0.0000, 0.0000, 0.0000, 0.0000, 0.2392, 0.9490,\n",
      "           0.9961, 0.9961, 0.2039, 0.0000, 0.0000, 0.0000, 0.0000, 0.0000,\n",
      "           0.0000, 0.0000, 0.0000, 0.0000],\n",
      "          [0.0000, 0.0000, 0.0000, 0.0000, 0.0000, 0.0000, 0.4745, 0.9961,\n",
      "           0.9961, 0.8588, 0.1569, 0.0000, 0.0000, 0.0000, 0.0000, 0.0000,\n",
      "           0.0000, 0.0000, 0.0000, 0.0000],\n",
      "          [0.0000, 0.0000, 0.0000, 0.0000, 0.0000, 0.0000, 0.4745, 0.9961,\n",
      "           0.8118, 0.0706, 0.0000, 0.0000, 0.0000, 0.0000, 0.0000, 0.0000,\n",
      "           0.0000, 0.0000, 0.0000, 0.0000]]]])\n"
     ]
    }
   ],
   "source": [
    "import chop.passes as passes\n",
    "\n",
    "dummy_in_loader = torch.utils.data.DataLoader(test_set, batch_size=1, shuffle=False, pin_memory=True, drop_last=True)\n",
    "image, label = next(iter(dummy_in_loader))\n",
    "print(image)\n",
    "image = torch.randn((1,2,2))\n",
    "# image = image.cpu().squeeze(0) \n",
    "\n",
    "mg_test, _ = passes.init_metadata_analysis_pass(mg)\n",
    "mg_test, _ = passes.add_common_metadata_analysis_pass(\n",
    "    mg_test,\n",
    "    pass_args={\n",
    "        \"dummy_in\": {\"input_1\": image}, #input name Hardcoded here, change\n",
    "#         \"add_value\": False,\n",
    "    },\n",
    ")\n",
    "\n",
    "# There is error below, need to fix\n",
    "# mg_test, _ = passes.add_hardware_metadata_analysis_pass(mg_test)\n",
    "\n",
    "\n",
    "mg_test.draw(\"DLG_test.svg\")\n",
    "\n",
    "\n",
    "# below pass just prints out the metadata for us to debug\n",
    "# test_pass(mg)"
   ]
  },
  {
   "cell_type": "markdown",
   "id": "d7a69c0c",
   "metadata": {},
   "source": [
    "# Hardware Stuff!"
   ]
  },
  {
   "cell_type": "code",
   "execution_count": 9,
   "id": "dfc35c07",
   "metadata": {},
   "outputs": [
    {
     "name": "stdout",
     "output_type": "stream",
     "text": [
      "{'mase': <chop.ir.graph.mase_metadata.MaseMetadata object at 0x7fff5b920c10>}\n",
      "{'nn_module_stack': OrderedDict([('0', ('0', <class 'torch.nn.modules.flatten.Flatten'>))]), 'mase': <chop.ir.graph.mase_metadata.MaseMetadata object at 0x7fff5ed74d50>}\n",
      "{'nn_module_stack': OrderedDict([('1', ('1', <class 'difflogic.difflogic.LogicLayer'>))]), 'mase': <chop.ir.graph.mase_metadata.MaseMetadata object at 0x7ffff81a3d90>}\n",
      "{'nn_module_stack': OrderedDict([('2', ('2', <class 'difflogic.difflogic.GroupSum'>))]), 'mase': <chop.ir.graph.mase_metadata.MaseMetadata object at 0x7fff5b94d410>}\n",
      "{'mase': <chop.ir.graph.mase_metadata.MaseMetadata object at 0x7fff5b94e5d0>}\n"
     ]
    }
   ],
   "source": [
    "for node in mg_test.nodes:\n",
    "    print(node.meta)"
   ]
  },
  {
   "cell_type": "code",
   "execution_count": 10,
   "id": "48fd362e",
   "metadata": {},
   "outputs": [
    {
     "name": "stdout",
     "output_type": "stream",
     "text": [
      "DEBUG:  None\n",
      "DEBUG:  difflogic_groupsum\n"
     ]
    }
   ],
   "source": [
    "from chop.passes.graph.analysis import add_hardware_metadata_analysis_pass\n",
    "mg_test, _ = add_hardware_metadata_analysis_pass(mg_test)"
   ]
  },
  {
   "cell_type": "code",
   "execution_count": 11,
   "id": "50b3bef1",
   "metadata": {},
   "outputs": [],
   "source": [
    "def print_hardware_metadata(graph, args={}):\n",
    "    for node in graph.nodes:\n",
    "        print(node.op)\n",
    "        for k, v in node.meta[\"mase\"][\"hardware\"].items():\n",
    "            print(f\"{k}: {v}\")\n",
    "        print()\n",
    "    return mg, None"
   ]
  },
  {
   "cell_type": "code",
   "execution_count": 12,
   "id": "acdb91d7",
   "metadata": {},
   "outputs": [],
   "source": [
    "from chop.passes.graph.transforms import emit_internal_rtl_transform_pass\n",
    "\n",
    "mg_test, _ = emit_internal_rtl_transform_pass(mg_test)"
   ]
  },
  {
   "cell_type": "code",
   "execution_count": 13,
   "id": "26c830b1",
   "metadata": {},
   "outputs": [
    {
     "name": "stdout",
     "output_type": "stream",
     "text": [
      "placeholder\n",
      "is_implicit: True\n",
      "device_id: 0\n",
      "max_parallelism: [4, 4, 4, 4]\n",
      "\n",
      "call_module\n",
      "is_implicit: False\n",
      "device_id: -1\n",
      "interface: {}\n",
      "toolchain: INTERNAL_HLS\n",
      "module: None\n",
      "dependence_files: []\n",
      "max_parallelism: [4, 4, 4, 4]\n",
      "verilog_param: {'DATA_IN_0_PRECISION_0': 32, 'DATA_IN_0_TENSOR_SIZE_DIM_0': 2, 'DATA_IN_0_PARALLELISM_DIM_0': 2, 'DATA_IN_0_TENSOR_SIZE_DIM_1': 2, 'DATA_IN_0_PARALLELISM_DIM_1': 2, 'DATA_IN_0_TENSOR_SIZE_DIM_2': 1, 'DATA_IN_0_PARALLELISM_DIM_2': 1, 'DATA_OUT_0_PRECISION_0': 32, 'DATA_OUT_0_TENSOR_SIZE_DIM_0': 4, 'DATA_OUT_0_PARALLELISM_DIM_0': 4, 'DATA_OUT_0_TENSOR_SIZE_DIM_1': 1, 'DATA_OUT_0_PARALLELISM_DIM_1': 1}\n",
      "\n",
      "call_module\n",
      "is_implicit: False\n",
      "device_id: -1\n",
      "interface: {}\n",
      "toolchain: INTERNAL_RTL\n",
      "module: fixed_difflogic_logic\n",
      "dependence_files: ['difflogic_layers/rtl/fixed_difflogic_logic.sv', 'difflogic_layers/rtl/fixed_difflogic_logic_neuron.sv']\n",
      "max_parallelism: [4, 4, 4, 4]\n",
      "verilog_param: {'DATA_IN_0_TENSOR_SIZE_DIM_0': 4, 'DATA_OUT_0_TENSOR_SIZE_DIM_0': 4, 'LAYER_OP_CODES': [13, 7, 13, 11], 'IND_A': [3, 0, 2, 0], 'IND_B': [1, 2, 1, 3]}\n",
      "\n",
      "call_module\n",
      "is_implicit: False\n",
      "device_id: -1\n",
      "interface: {}\n",
      "toolchain: INTERNAL_RTL\n",
      "module: difflogic_groupsum\n",
      "dependence_files: []\n",
      "max_parallelism: [4, 4, 4, 4]\n",
      "verilog_param: {'DATA_IN_0_PRECISION_0': 32, 'DATA_IN_0_TENSOR_SIZE_DIM_0': 4, 'DATA_IN_0_PARALLELISM_DIM_0': 4, 'DATA_IN_0_TENSOR_SIZE_DIM_1': 1, 'DATA_IN_0_PARALLELISM_DIM_1': 1, 'DATA_OUT_0_PRECISION_0': 32, 'DATA_OUT_0_TENSOR_SIZE_DIM_0': 2, 'DATA_OUT_0_PARALLELISM_DIM_0': 2, 'DATA_OUT_0_TENSOR_SIZE_DIM_1': 1, 'DATA_OUT_0_PARALLELISM_DIM_1': 1}\n",
      "\n",
      "output\n",
      "is_implicit: True\n",
      "device_id: 0\n",
      "max_parallelism: [4, 4, 4, 4]\n",
      "\n"
     ]
    }
   ],
   "source": [
    "mg_test, _ = print_hardware_metadata(mg_test)"
   ]
  },
  {
   "cell_type": "code",
   "execution_count": 14,
   "id": "d74212db",
   "metadata": {},
   "outputs": [],
   "source": [
    "from chop.passes.graph.transforms import emit_bram_transform_pass\n",
    "\n",
    "mg_test, _ = emit_bram_transform_pass(mg_test)"
   ]
  },
  {
   "cell_type": "code",
   "execution_count": 15,
   "id": "714f4374",
   "metadata": {},
   "outputs": [],
   "source": [
    "from chop.passes.graph.transforms import emit_verilog_top_transform_pass\n",
    "\n",
    "mg_test, _ = emit_verilog_top_transform_pass(mg_test)"
   ]
  },
  {
   "cell_type": "code",
   "execution_count": null,
   "id": "73fb7284",
   "metadata": {},
   "outputs": [],
   "source": []
  }
 ],
 "metadata": {
  "kernelspec": {
   "display_name": "Python 3",
   "language": "python",
   "name": "python3"
  },
  "language_info": {
   "codemirror_mode": {
    "name": "ipython",
    "version": 3
   },
   "file_extension": ".py",
   "mimetype": "text/x-python",
   "name": "python",
   "nbconvert_exporter": "python",
   "pygments_lexer": "ipython3",
   "version": "3.11.11"
  }
 },
 "nbformat": 4,
 "nbformat_minor": 5
}
