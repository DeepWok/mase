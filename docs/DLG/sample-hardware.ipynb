{
 "cells": [
  {
   "cell_type": "markdown",
   "metadata": {},
   "source": [
    "**1 Set up initial network**"
   ]
  },
  {
   "cell_type": "code",
   "execution_count": 1,
   "metadata": {},
   "outputs": [
    {
     "name": "stderr",
     "output_type": "stream",
     "text": [
      "/usr/local/lib/python3.11/dist-packages/tqdm/auto.py:21: TqdmWarning: IProgress not found. Please update jupyter and ipywidgets. See https://ipywidgets.readthedocs.io/en/stable/user_install.html\n",
      "  from .autonotebook import tqdm as notebook_tqdm\n"
     ]
    }
   ],
   "source": [
    "import torch\n",
    "from difflogic import LogicLayer, GroupSum\n",
    "from chop import MaseGraph\n",
    "from chop.passes import *\n",
    "\n",
    "\n",
    "# setup basic network\n",
    "\n",
    "model = torch.nn.Sequential(\n",
    "    torch.nn.Flatten(),\n",
    "    LogicLayer(4, 4),\n",
    "    GroupSum(k=2, tau=20)\n",
    ")\n",
    "\n",
    "CUSTOM_OPS = {\n",
    "    \"modules\": {\n",
    "        LogicLayer: {\n",
    "            \"args\": {\n",
    "                \"input\": \"data_in\"\n",
    "            },\n",
    "            \"toolchain\": \"INTERNAL_RTL\",\n",
    "            \"module\": \"fixed_difflogic_logic\",\n",
    "            \"dependence_files\": [\n",
    "                \"difflogic_layers/rtl/fixed_difflogic_logic.sv\",\n",
    "                \"difflogic_layers/rtl/fixed_difflogic_logic_neuron.sv\",\n",
    "            ],\n",
    "        },\n",
    "        GroupSum: {\n",
    "            \"args\": {\n",
    "                \"input\": \"data_in\"\n",
    "            },\n",
    "            \"toolchain\": \"INTERNAL_RTL\",\n",
    "            \"module\": \"fixed_difflogic_groupsum\",\n",
    "            \"dependence_files\": [\n",
    "                \"difflogic_layers/rtl/fixed_difflogic_groupsum.sv\",\n",
    "            ],\n",
    "        },\n",
    "    },\n",
    "    \"functions\": {},\n",
    "}\n",
    "\n",
    "mg = MaseGraph(model, custom_ops=CUSTOM_OPS)\n",
    "mg.draw(\"out-svg/dlg_init.svg\")\n",
    "\n",
    "\n",
    "# add input data and analyse\n",
    "\n",
    "image = torch.randn((1,2,2))\n",
    "\n",
    "mg, _ = init_metadata_analysis_pass(mg)\n",
    "mg, _ = add_common_metadata_analysis_pass(mg, pass_args={\"dummy_in\": {\"input_1\": image} })\n",
    "mg.draw(\"out-svg/dlg_post_common.svg\")"
   ]
  },
  {
   "cell_type": "markdown",
   "metadata": {},
   "source": [
    "**2 Set up hardware passes**"
   ]
  },
  {
   "cell_type": "code",
   "execution_count": 2,
   "metadata": {},
   "outputs": [],
   "source": [
    "from collections import OrderedDict\n",
    "\n",
    "def difflogic_hardware_metadata_optimize_pass(graph, args={}):\n",
    "    \n",
    "    def _is_logiclayer(node):\n",
    "        return node.meta[\"mase\"][\"common\"][\"mase_op\"] == \"user_defined_module\"\n",
    "    \n",
    "    for node in graph.nodes:\n",
    "        if _is_logiclayer(node):\n",
    "            pre_common_args_md = node.meta[\"mase\"][\"common\"][\"args\"]\n",
    "            post_common_args_md = {}\n",
    "            node.meta[\"mase\"][\"hardware\"][\"difflogic_args\"] = {}\n",
    "            for k, v in pre_common_args_md.items():\n",
    "                if \"data_in\" not in k:\n",
    "                    node.meta[\"mase\"][\"hardware\"][\"difflogic_args\"][k] = v\n",
    "                else:\n",
    "                    post_common_args_md[k] = v\n",
    "            post_common_args_md = OrderedDict(post_common_args_md)\n",
    "            node.meta[\"mase\"][\"common\"][\"args\"] = post_common_args_md\n",
    "    return (graph, None)"
   ]
  },
  {
   "cell_type": "code",
   "execution_count": 3,
   "metadata": {},
   "outputs": [],
   "source": [
    "from chop.passes.graph.analysis.add_metadata.add_hardware_metadata import *\n",
    "\n",
    "def difflogic_hardware_force_fixed_flatten_pass(graph, args={}):\n",
    "    for node in graph.nodes:\n",
    "        if node.meta[\"mase\"][\"common\"][\"mase_op\"] == \"flatten\":\n",
    "            # add_component source\n",
    "            node.meta[\"mase\"][\"hardware\"][\"toolchain\"] = \"INTERNAL_RTL\"\n",
    "            node.meta[\"mase\"][\"hardware\"][\"module\"] = \"fixed_difflogic_flatten\"\n",
    "            node.meta[\"mase\"][\"hardware\"][\"dependence_files\"] = [\"difflogic_layers/rtl/fixed_difflogic_flatten.sv\"]\n",
    "            # else\n",
    "            add_verilog_param(node)\n",
    "            add_extra_verilog_param(node, graph)\n",
    "            graph.meta[\"mase\"][\"hardware\"][\"verilog_sources\"] += node.meta[\"mase\"][\"hardware\"][\"dependence_files\"]\n",
    "    return (graph, None)"
   ]
  },
  {
   "cell_type": "code",
   "execution_count": 4,
   "metadata": {},
   "outputs": [],
   "source": [
    "from collections import OrderedDict\n",
    "\n",
    "def difflogic_annotate_io_nodes(graph, args={}):\n",
    "    \n",
    "    def _is_io_node(node):\n",
    "        return node.op in [\"placeholder\", \"output\"]\n",
    "    \n",
    "    for node in graph.nodes:\n",
    "        if _is_io_node(node):\n",
    "            node.meta[\"mase\"][\"hardware\"][\"difflogic\"] = True\n",
    "    return (graph, None)"
   ]
  },
  {
   "cell_type": "code",
   "execution_count": 5,
   "metadata": {},
   "outputs": [],
   "source": [
    "def print_metadata_pass(graph, args={}):\n",
    "    if len(args) != 0:\n",
    "        for node in graph.nodes:\n",
    "            print(node.op)\n",
    "            for k, v in node.meta[\"mase\"][args[\"metadata_key\"]].items():\n",
    "                print(f\"{k}: {v}\")\n",
    "            print()\n",
    "    else:\n",
    "        for node in graph.nodes:\n",
    "            print(node.op)\n",
    "            for k, v in node.meta[\"mase\"][\"common\"].items():\n",
    "                print(f\"{k}: {v}\")\n",
    "            print()\n",
    "    return mg, None"
   ]
  },
  {
   "cell_type": "code",
   "execution_count": 6,
   "metadata": {},
   "outputs": [],
   "source": [
    "mg, _ = difflogic_hardware_metadata_optimize_pass(mg)"
   ]
  },
  {
   "cell_type": "code",
   "execution_count": 7,
   "metadata": {},
   "outputs": [],
   "source": [
    "mg, _ = difflogic_annotate_io_nodes(mg)"
   ]
  },
  {
   "cell_type": "code",
   "execution_count": 8,
   "metadata": {},
   "outputs": [],
   "source": [
    "mg, _ = add_hardware_metadata_analysis_pass(mg)"
   ]
  },
  {
   "cell_type": "code",
   "execution_count": 9,
   "metadata": {},
   "outputs": [],
   "source": [
    "mg, _ = difflogic_hardware_force_fixed_flatten_pass(mg)"
   ]
  },
  {
   "cell_type": "code",
   "execution_count": 10,
   "metadata": {},
   "outputs": [],
   "source": [
    "mg, _ = emit_verilog_top_transform_pass(mg)\n",
    "mg, _ = emit_internal_rtl_transform_pass(mg)\n",
    "mg, _ = emit_bram_transform_pass(mg)"
   ]
  },
  {
   "cell_type": "code",
   "execution_count": 11,
   "metadata": {},
   "outputs": [
    {
     "name": "stdout",
     "output_type": "stream",
     "text": [
      "placeholder\n",
      "is_implicit: True\n",
      "difflogic: True\n",
      "device_id: 0\n",
      "max_parallelism: [4, 4, 4, 4]\n",
      "\n",
      "call_module\n",
      "is_implicit: False\n",
      "device_id: -1\n",
      "interface: {}\n",
      "toolchain: INTERNAL_RTL\n",
      "module: fixed_difflogic_flatten\n",
      "dependence_files: ['difflogic_layers/rtl/fixed_difflogic_flatten.sv']\n",
      "max_parallelism: [4, 4, 4, 4]\n",
      "verilog_param: {'DATA_IN_0_TENSOR_SIZE_DIM_0': 2, 'DATA_IN_0_TENSOR_SIZE_DIM_1': 2, 'DATA_OUT_0_TENSOR_SIZE_DIM_0': 4}\n",
      "\n",
      "call_module\n",
      "difflogic_args: {'weights': {'type': 'float', 'precision': [32], 'shape': [4, 16], 'from': None, 'value': Parameter containing:\n",
      "tensor([[-1.1258, -1.1524, -0.2506, -0.4339,  0.8487,  0.6920, -0.3160, -2.1152,\n",
      "          0.3223, -1.2633,  0.3500,  0.3081,  0.1198,  1.2377,  1.1168, -0.2473],\n",
      "        [-1.3527, -1.6959,  0.5667,  0.7935,  0.5988, -1.5551, -0.3414,  1.8530,\n",
      "          0.7502, -0.5855, -0.1734,  0.1835,  1.3894,  1.5863,  0.9463, -0.8437],\n",
      "        [-0.6136,  0.0316, -0.4927,  0.2484,  0.4397,  0.1124,  0.6408,  0.4412,\n",
      "         -0.1023,  0.7924, -0.2897,  0.0525,  0.5229,  2.3022, -1.4689, -1.5867],\n",
      "        [-0.6731,  0.8728,  1.0554,  0.1778, -0.2303, -0.3918,  0.5433, -0.3952,\n",
      "         -0.4462,  0.7440,  1.5210,  3.4105, -1.5312, -1.2341,  1.8197, -0.5515]],\n",
      "       requires_grad=True)}, 'indices': {'type': 'float', 'precision': [32], 'shape': [2, 4], 'from': None, 'value': Parameter containing:\n",
      "tensor([[3, 0, 2, 0],\n",
      "        [1, 2, 1, 3]])}}\n",
      "is_implicit: False\n",
      "device_id: -1\n",
      "interface: {}\n",
      "toolchain: INTERNAL_RTL\n",
      "module: fixed_difflogic_logic\n",
      "dependence_files: ['difflogic_layers/rtl/fixed_difflogic_logic.sv', 'difflogic_layers/rtl/fixed_difflogic_logic_neuron.sv']\n",
      "max_parallelism: [4, 4, 4, 4]\n",
      "verilog_param: {'DATA_IN_0_TENSOR_SIZE_DIM_0': 4, 'DATA_OUT_0_TENSOR_SIZE_DIM_0': 4, 'LAYER_OP_CODES': [13, 7, 13, 11], 'IND_A': [3, 0, 2, 0], 'IND_B': [1, 2, 1, 3]}\n",
      "\n",
      "call_module\n",
      "difflogic_args: {}\n",
      "is_implicit: False\n",
      "device_id: -1\n",
      "interface: {}\n",
      "toolchain: INTERNAL_RTL\n",
      "module: fixed_difflogic_groupsum\n",
      "dependence_files: ['difflogic_layers/rtl/fixed_difflogic_groupsum.sv']\n",
      "max_parallelism: [4, 4, 4, 4]\n",
      "verilog_param: {'DATA_IN_0_TENSOR_SIZE_DIM_0': 4, 'DATA_OUT_0_TENSOR_SIZE_DIM_0': 2}\n",
      "\n",
      "output\n",
      "is_implicit: True\n",
      "difflogic: True\n",
      "device_id: 0\n",
      "max_parallelism: [4, 4, 4, 4]\n",
      "\n"
     ]
    },
    {
     "data": {
      "text/plain": [
       "(<chop.ir.graph.mase_graph.MaseGraph at 0x7fff5dd35f90>, None)"
      ]
     },
     "execution_count": 11,
     "metadata": {},
     "output_type": "execute_result"
    }
   ],
   "source": [
    "print_metadata_pass(mg, {\"metadata_key\": \"hardware\"})"
   ]
  },
  {
   "cell_type": "code",
   "execution_count": null,
   "metadata": {},
   "outputs": [],
   "source": []
  }
 ],
 "metadata": {
  "kernelspec": {
   "display_name": "Python 3",
   "language": "python",
   "name": "python3"
  },
  "language_info": {
   "codemirror_mode": {
    "name": "ipython",
    "version": 3
   },
   "file_extension": ".py",
   "mimetype": "text/x-python",
   "name": "python",
   "nbconvert_exporter": "python",
   "pygments_lexer": "ipython3",
   "version": "3.11.11"
  }
 },
 "nbformat": 4,
 "nbformat_minor": 2
}
