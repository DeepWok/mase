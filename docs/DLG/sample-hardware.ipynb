{
 "cells": [
  {
   "cell_type": "markdown",
   "metadata": {},
   "source": [
    "**1 Set up initial network**"
   ]
  },
  {
   "cell_type": "code",
   "execution_count": 1,
   "metadata": {},
   "outputs": [
    {
     "name": "stderr",
     "output_type": "stream",
     "text": [
      "/usr/local/lib/python3.11/dist-packages/tqdm/auto.py:21: TqdmWarning: IProgress not found. Please update jupyter and ipywidgets. See https://ipywidgets.readthedocs.io/en/stable/user_install.html\n",
      "  from .autonotebook import tqdm as notebook_tqdm\n",
      "/usr/local/lib/python3.11/dist-packages/torch/utils/data/dataloader.py:665: UserWarning: 'pin_memory' argument is set as true but no accelerator is found, then device pinned memory won't be used.\n",
      "  warnings.warn(warn_msg)\n"
     ]
    }
   ],
   "source": [
    "import torch\n",
    "from difflogic import LogicLayer, GroupSum\n",
    "from chop import MaseGraph\n",
    "from chop.passes import *\n",
    "import mnist_dataset\n",
    "\n",
    "\n",
    "# setup basic network\n",
    "\n",
    "model = torch.nn.Sequential(\n",
    "    torch.nn.Flatten(),\n",
    "    LogicLayer(400, 8_000),\n",
    "    LogicLayer(8_000, 8_000),\n",
    "    LogicLayer(8_000, 8_000),\n",
    "    LogicLayer(8_000, 8_000),\n",
    "    LogicLayer(8_000, 8_000),\n",
    "    LogicLayer(8_000, 8_000),\n",
    "    GroupSum(k=10, tau=20)\n",
    ")\n",
    "model.eval()\n",
    "\n",
    "CUSTOM_OPS = {\n",
    "    \"modules\": {\n",
    "        LogicLayer: {\n",
    "            \"args\": {\n",
    "                \"input\": \"data_in\"\n",
    "            },\n",
    "            \"toolchain\": \"INTERNAL_RTL\",\n",
    "            \"module\": \"fixed_difflogic_logic\",\n",
    "            \"dependence_files\": [\n",
    "                \"difflogic_layers/rtl/fixed_difflogic_logic.sv\",\n",
    "                \"difflogic_layers/rtl/fixed_difflogic_logic_neuron.sv\",\n",
    "            ],\n",
    "        },\n",
    "        GroupSum: {\n",
    "            \"args\": {\n",
    "                \"input\": \"data_in\"\n",
    "            },\n",
    "            \"toolchain\": \"INTERNAL_RTL\",\n",
    "            \"module\": \"fixed_difflogic_groupsum\",\n",
    "            \"dependence_files\": [\n",
    "                \"difflogic_layers/rtl/fixed_difflogic_groupsum.sv\",\n",
    "            ],\n",
    "        },\n",
    "    },\n",
    "    \"functions\": {},\n",
    "}\n",
    "\n",
    "mg = MaseGraph(model, custom_ops=CUSTOM_OPS)\n",
    "mg.draw(\"out-svg/dlg_init.svg\")\n",
    "\n",
    "\n",
    "# load weights\n",
    "\n",
    "state_dict = torch.load(\"best_model_full.pth\", map_location=torch.device('cpu'))\n",
    "mg.model.load_state_dict(state_dict, strict=False)\n",
    "\n",
    "\n",
    "# add input data and analyse\n",
    "\n",
    "train_set = mnist_dataset.MNIST('./data-mnist', train=True, download=True, remove_border=True)\n",
    "test_set = mnist_dataset.MNIST('./data-mnist', train=False, remove_border=True)\n",
    "train_loader = torch.utils.data.DataLoader(train_set, batch_size=100, shuffle=True, pin_memory=True, drop_last=True, num_workers=4)\n",
    "test_loader = torch.utils.data.DataLoader(test_set, batch_size=100, shuffle=False, pin_memory=True, drop_last=True)\n",
    "dummy_in_loader = torch.utils.data.DataLoader(test_set, batch_size=1, shuffle=False, pin_memory=True, drop_last=True)\n",
    "image, label = next(iter(dummy_in_loader))\n",
    "image = image.cpu().squeeze(0) \n",
    "\n",
    "mg, _ = init_metadata_analysis_pass(mg)\n",
    "mg, _ = add_common_metadata_analysis_pass(mg, pass_args={\"dummy_in\": {\"input_1\": image} })\n",
    "mg.draw(\"out-svg/dlg_post_common.svg\")"
   ]
  },
  {
   "cell_type": "markdown",
   "metadata": {},
   "source": [
    "**2 Add additional hardware metadata hints**"
   ]
  },
  {
   "cell_type": "code",
   "execution_count": 2,
   "metadata": {},
   "outputs": [],
   "source": [
    "from collections import OrderedDict\n",
    "\n",
    "def difflogic_hardware_metadata_optimize_pass(graph, args={}):\n",
    "    \n",
    "    def _is_logiclayer(node):\n",
    "        return node.meta[\"mase\"][\"common\"][\"mase_op\"] == \"user_defined_module\"\n",
    "    \n",
    "    for node in graph.nodes:\n",
    "        if _is_logiclayer(node):\n",
    "            pre_common_args_md = node.meta[\"mase\"][\"common\"][\"args\"]\n",
    "            post_common_args_md = {}\n",
    "            node.meta[\"mase\"][\"hardware\"][\"difflogic_args\"] = {}\n",
    "            for k, v in pre_common_args_md.items():\n",
    "                if \"data_in\" not in k:\n",
    "                    node.meta[\"mase\"][\"hardware\"][\"difflogic_args\"][k] = v\n",
    "                else:\n",
    "                    post_common_args_md[k] = v\n",
    "            post_common_args_md = OrderedDict(post_common_args_md)\n",
    "            node.meta[\"mase\"][\"common\"][\"args\"] = post_common_args_md\n",
    "    return (graph, None)"
   ]
  },
  {
   "cell_type": "code",
   "execution_count": 3,
   "metadata": {},
   "outputs": [],
   "source": [
    "from chop.passes.graph.analysis.add_metadata.add_hardware_metadata import *\n",
    "\n",
    "def difflogic_hardware_force_fixed_flatten_pass(graph, args={}):\n",
    "    for node in graph.nodes:\n",
    "        if node.meta[\"mase\"][\"common\"][\"mase_op\"] == \"flatten\":\n",
    "            # add_component source\n",
    "            node.meta[\"mase\"][\"hardware\"][\"toolchain\"] = \"INTERNAL_RTL\"\n",
    "            node.meta[\"mase\"][\"hardware\"][\"module\"] = \"fixed_difflogic_flatten\"\n",
    "            node.meta[\"mase\"][\"hardware\"][\"dependence_files\"] = [\"difflogic_layers/rtl/fixed_difflogic_flatten.sv\"]\n",
    "            # else\n",
    "            add_verilog_param(node)\n",
    "            add_extra_verilog_param(node, graph)\n",
    "            graph.meta[\"mase\"][\"hardware\"][\"verilog_sources\"] += node.meta[\"mase\"][\"hardware\"][\"dependence_files\"]\n",
    "    return (graph, None)"
   ]
  },
  {
   "cell_type": "code",
   "execution_count": 4,
   "metadata": {},
   "outputs": [],
   "source": [
    "from collections import OrderedDict\n",
    "\n",
    "def difflogic_annotate_io_nodes(graph, args={}):\n",
    "    \n",
    "    def _is_io_node(node):\n",
    "        return node.op in [\"placeholder\", \"output\"]\n",
    "    \n",
    "    for node in graph.nodes:\n",
    "        if _is_io_node(node):\n",
    "            node.meta[\"mase\"][\"hardware\"][\"difflogic\"] = True\n",
    "    return (graph, None)"
   ]
  },
  {
   "cell_type": "code",
   "execution_count": 5,
   "metadata": {},
   "outputs": [],
   "source": [
    "def print_metadata_pass(graph, args={}):\n",
    "    if len(args) != 0:\n",
    "        for node in graph.nodes:\n",
    "            print(node.op)\n",
    "            for k, v in node.meta[\"mase\"][args[\"metadata_key\"]].items():\n",
    "                print(f\"{k}: {v}\")\n",
    "            print()\n",
    "    else:\n",
    "        for node in graph.nodes:\n",
    "            print(node.op)\n",
    "            for k, v in node.meta[\"mase\"][\"common\"].items():\n",
    "                print(f\"{k}: {v}\")\n",
    "            print()\n",
    "    return mg, None"
   ]
  },
  {
   "cell_type": "markdown",
   "metadata": {},
   "source": [
    "**3 Run metadata passes and generate hardware**"
   ]
  },
  {
   "cell_type": "code",
   "execution_count": 6,
   "metadata": {},
   "outputs": [],
   "source": [
    "mg, _ = difflogic_hardware_metadata_optimize_pass(mg)"
   ]
  },
  {
   "cell_type": "code",
   "execution_count": 7,
   "metadata": {},
   "outputs": [],
   "source": [
    "mg, _ = difflogic_annotate_io_nodes(mg)"
   ]
  },
  {
   "cell_type": "code",
   "execution_count": 8,
   "metadata": {},
   "outputs": [],
   "source": [
    "mg, _ = add_hardware_metadata_analysis_pass(mg)"
   ]
  },
  {
   "cell_type": "code",
   "execution_count": 9,
   "metadata": {},
   "outputs": [],
   "source": [
    "mg, _ = difflogic_hardware_force_fixed_flatten_pass(mg)"
   ]
  },
  {
   "cell_type": "code",
   "execution_count": 10,
   "metadata": {},
   "outputs": [],
   "source": [
    "# mg, _ = emit_verilog_top_transform_pass(mg)\n",
    "# mg, _ = emit_internal_rtl_transform_pass(mg)\n",
    "# mg, _ = emit_bram_transform_pass(mg)"
   ]
  },
  {
   "cell_type": "markdown",
   "metadata": {},
   "source": [
    "**4 Generate cocotb testbench**"
   ]
  },
  {
   "cell_type": "code",
   "execution_count": 11,
   "metadata": {},
   "outputs": [],
   "source": [
    "mg, _ = mg, _ = emit_cocotb_transform_pass(mg)"
   ]
  },
  {
   "cell_type": "code",
   "execution_count": 12,
   "metadata": {},
   "outputs": [
    {
     "name": "stdout",
     "output_type": "stream",
     "text": [
      "INFO: Running command /workspace/mase-DLG/docs/DLG/sim_build/top in directory /workspace/mase-DLG/docs/DLG/sim_build\n",
      "     -.--ns INFO     gpi                                ..mbed/gpi_embed.cpp:76   in set_program_name_in_venv        Did not detect Python virtual environment. Using system-wide Python interpreter\n",
      "     -.--ns INFO     gpi                                ../gpi/GpiCommon.cpp:101  in gpi_print_registered_impl       VPI registered\n",
      "     0.00ns INFO     cocotb                             Running on Verilator version 5.020 2024-01-01\n",
      "     0.00ns INFO     cocotb                             Running tests with cocotb v1.8.0 from /usr/local/lib/python3.11/dist-packages/cocotb\n",
      "     0.00ns INFO     cocotb                             Seeding Python random module with 1741386020\n",
      "     0.00ns INFO     cocotb.regression                  Found test mase_top_tb.test.test\n",
      "     0.00ns INFO     cocotb.regression                  running test (1/1)\n"
     ]
    },
    {
     "name": "stderr",
     "output_type": "stream",
     "text": [
      "/workspace/mase-DLG/src/mase_cocotb/driver.py:25: DeprecationWarning: This method is now private.\n",
      "  self._thread = cocotb.scheduler.add(self._send_thread())\n",
      "/workspace/mase-DLG/src/mase_cocotb/monitor.py:27: DeprecationWarning: This method is now private.\n",
      "  self._thread = cocotb.scheduler.add(self._recv_thread())\n"
     ]
    },
    {
     "name": "stdout",
     "output_type": "stream",
     "text": [
      "    60.00ns DEBUG    cocotb.driver.StreamDriver         Sent [230050, 919659, 97477, 390107, 212246, 944643, 870411, 90183, 308384, 142909, 299939, 621614, 137563, 598942, 334009, 971226, 1028603, 715500, 985208, 624381]\n",
      "    80.00ns DEBUG    cocotb.monitor.StreamMonitor       Observed output beat [375, 332, 412, 355, 387, 354, 378, 310, 441, 364]\n",
      "    80.00ns DEBUG    cocotb.monitor.StreamMonitor       Got [375, 332, 412, 355, 387, 354, 378, 310, 441, 364], Expected tensor([[19.5411, 16.4514, 20.4034, 18.0571, 18.8035, 17.7964, 18.5596, 16.7195,\n",
      "                                                                 21.8254, 18.3072]])\n",
      "    80.00ns INFO     cocotb.monitor.StreamMonitor       Monitor has been drained.\n",
      "    80.00ns INFO     cocotb.regression                  test passed\n",
      "    80.00ns INFO     cocotb.regression                  **************************************************************************************\n",
      "                                                        ** TEST                          STATUS  SIM TIME (ns)  REAL TIME (s)  RATIO (ns/s) **\n",
      "                                                        **************************************************************************************\n",
      "                                                        ** mase_top_tb.test.test          PASS          80.00           7.00         11.42  **\n",
      "                                                        **************************************************************************************\n",
      "                                                        ** TESTS=1 PASS=1 FAIL=0 SKIP=0                 80.00           7.16         11.17  **\n",
      "                                                        **************************************************************************************\n",
      "                                                        \n"
     ]
    },
    {
     "name": "stderr",
     "output_type": "stream",
     "text": [
      "/usr/lib/python3.11/tempfile.py:1073: ResourceWarning: Implicitly cleaning up <TemporaryDirectory '/tmp/tmp91dig4ay'>\n",
      "  _warnings.warn(warn_message, ResourceWarning)\n"
     ]
    },
    {
     "name": "stdout",
     "output_type": "stream",
     "text": [
      "- :0: Verilog $finish\n"
     ]
    },
    {
     "name": "stderr",
     "output_type": "stream",
     "text": [
      "\u001b[32mINFO    \u001b[0m \u001b[34mTest finished. Time taken: 9.91s\u001b[0m\n"
     ]
    },
    {
     "name": "stdout",
     "output_type": "stream",
     "text": [
      "INFO: Results file: /workspace/mase-DLG/docs/DLG/sim_build/results.xml\n"
     ]
    }
   ],
   "source": [
    "from chop.actions import simulate\n",
    "simulate(skip_build=True, skip_test=False, build_jobs=10, unroll_count=10000)"
   ]
  },
  {
   "cell_type": "code",
   "execution_count": null,
   "metadata": {},
   "outputs": [],
   "source": []
  }
 ],
 "metadata": {
  "kernelspec": {
   "display_name": "Python 3",
   "language": "python",
   "name": "python3"
  },
  "language_info": {
   "codemirror_mode": {
    "name": "ipython",
    "version": 3
   },
   "file_extension": ".py",
   "mimetype": "text/x-python",
   "name": "python",
   "nbconvert_exporter": "python",
   "pygments_lexer": "ipython3",
   "version": "3.11.11"
  }
 },
 "nbformat": 4,
 "nbformat_minor": 2
}
