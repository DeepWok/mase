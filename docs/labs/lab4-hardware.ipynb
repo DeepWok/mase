{
 "cells": [
  {
   "cell_type": "markdown",
   "metadata": {},
   "source": [
    "<br />\n",
    "<div align=\"center\">\n",
    "  <a href=\"https://deepwok.github.io/\">\n",
    "    <img src=\"../imgs/deepwok.png\" alt=\"Logo\" width=\"160\" height=\"160\">\n",
    "  </a>\n",
    "\n",
    "  <h1 align=\"center\">Lab 4 for Advanced Deep Learning Systems (ADLS) - Hardware Stream</h1>\n",
    "\n",
    "  <p align=\"center\">\n",
    "    ELEC70109/EE9-AML3-10/EE9-AO25\n",
    "    <br />\n",
    "\t\tWritten by\n",
    "    <a href=\"https://aaron-zhao123.github.io/\">Aaron Zhao, Pedro Gimenes </a>\n",
    "  </p>\n",
    "</div>"
   ]
  },
  {
   "cell_type": "markdown",
   "metadata": {},
   "source": [
    "# General introduction\n",
    "\n",
    "In this lab, you will learn how to emit SystemVerilog code for a neural network that's been transformed and optimized by MASE. Then, you'll design some hardware for a new Pytorch layer, and simulate the hardware using your new module."
   ]
  },
  {
   "cell_type": "markdown",
   "metadata": {},
   "source": [
    "# The Hardware Emit pass\n",
    "\n",
    "The `emit_verilog` transform pass generates a top-level RTL file and testbench file according to the `MaseGraph`, which includes a hardware implementation of each layer in the network. This top-level file instantiates modules from the `components` library in MASE and/or modules generated using [HLS](https://en.wikipedia.org/wiki/High-level_synthesis), when internal components are not available. The hardware can then be simulated using [Verilator](https://www.veripool.org/verilator/), or deployed on an FPGA.\n",
    "\n",
    "First, add Machop to your system PATH (if you haven't already done so) and import the required libraries."
   ]
  },
  {
   "cell_type": "code",
   "execution_count": 1,
   "metadata": {},
   "outputs": [
    {
     "name": "stderr",
     "output_type": "stream",
     "text": [
      "/Users/pg519/anaconda3/envs/mase/lib/python3.10/site-packages/tqdm/auto.py:21: TqdmWarning: IProgress not found. Please update jupyter and ipywidgets. See https://ipywidgets.readthedocs.io/en/stable/user_install.html\n",
      "  from .autonotebook import tqdm as notebook_tqdm\n",
      "\u001b[32mINFO    \u001b[0m \u001b[34mSet logging level to debug\u001b[0m\n"
     ]
    },
    {
     "name": "stdout",
     "output_type": "stream",
     "text": [
      "/opt/homebrew/bin /Users/pg519/mase-tools-cli/machop /Users/pg519/anaconda3/envs/mase/bin /Users/pg519/anaconda3/condabin /opt/homebrew/bin /usr/local/bin /System/Cryptexes/App/usr/bin /usr/bin /bin /usr/sbin /sbin /var/run/com.apple.security.cryptexd/codex.system/bootstrap/usr/local/bin /var/run/com.apple.security.cryptexd/codex.system/bootstrap/usr/bin /var/run/com.apple.security.cryptexd/codex.system/bootstrap/usr/appleinternal/bin /opt/X11/bin /Library/TeX/texbin\n",
      "Usage:\n",
      "        verilator --help\n",
      "        verilator --version\n",
      "        verilator --binary -j 0 [options] [source_files.v]... [opt_c_files.cpp/c/cc/a/o/so]\n",
      "        verilator --cc [options] [source_files.v]... [opt_c_files.cpp/c/cc/a/o/so]\n",
      "        verilator --sc [options] [source_files.v]... [opt_c_files.cpp/c/cc/a/o/so]\n",
      "        verilator --lint-only -Wall [source_files.v]...\n",
      "\n"
     ]
    }
   ],
   "source": [
    "import os, sys\n",
    "\n",
    "from chop.ir.graph.mase_graph import MaseGraph\n",
    "\n",
    "from chop.passes.graph.analysis import (\n",
    "    init_metadata_analysis_pass,\n",
    "    add_common_metadata_analysis_pass,\n",
    "    add_hardware_metadata_analysis_pass,\n",
    "    report_node_type_analysis_pass,\n",
    ")\n",
    "\n",
    "from chop.passes.graph.transforms import (\n",
    "    emit_verilog_top_transform_pass,\n",
    "    emit_internal_rtl_transform_pass,\n",
    "    emit_bram_transform_pass,\n",
    "    emit_cocotb_transform_pass,\n",
    "    quantize_transform_pass,\n",
    ")\n",
    "\n",
    "from chop.tools.logger import set_logging_verbosity\n",
    "\n",
    "set_logging_verbosity(\"debug\")\n",
    "\n",
    "import toml\n",
    "import torch\n",
    "import torch.nn as nn\n",
    "\n",
    "# TO DO: remove\n",
    "import os\n",
    "os.environ[\"PATH\"] = \"/opt/homebrew/bin:\" + os.environ[\"PATH\"]\n",
    "!echo $PATH\n",
    "!verilator"
   ]
  },
  {
   "cell_type": "markdown",
   "metadata": {},
   "source": [
    "Now, define the neural network. We're using a model which can be used to perform digit classification on the MNIST dataset."
   ]
  },
  {
   "cell_type": "code",
   "execution_count": 2,
   "metadata": {},
   "outputs": [],
   "source": [
    "class MLP(torch.nn.Module):\n",
    "    \"\"\"\n",
    "    Toy FC model for digit recognition on MNIST\n",
    "    \"\"\"\n",
    "\n",
    "    def __init__(self) -> None:\n",
    "        super().__init__()\n",
    "\n",
    "        self.fc1 = nn.Linear(4, 10)\n",
    "\n",
    "    def forward(self, x):\n",
    "        x = torch.flatten(x, start_dim=1, end_dim=-1)\n",
    "        x = torch.nn.functional.relu(self.fc1(x))\n",
    "        return x"
   ]
  },
  {
   "cell_type": "markdown",
   "metadata": {},
   "source": [
    "Now, we'll generate a MaseGraph and add metadata. "
   ]
  },
  {
   "cell_type": "code",
   "execution_count": 3,
   "metadata": {},
   "outputs": [
    {
     "name": "stderr",
     "output_type": "stream",
     "text": [
      "/Users/pg519/anaconda3/envs/mase/lib/python3.10/site-packages/torch/overrides.py:110: UserWarning: 'has_cuda' is deprecated, please use 'torch.backends.cuda.is_built()'\n",
      "  torch.has_cuda,\n",
      "/Users/pg519/anaconda3/envs/mase/lib/python3.10/site-packages/torch/overrides.py:111: UserWarning: 'has_cudnn' is deprecated, please use 'torch.backends.cudnn.is_available()'\n",
      "  torch.has_cudnn,\n",
      "/Users/pg519/anaconda3/envs/mase/lib/python3.10/site-packages/torch/overrides.py:117: UserWarning: 'has_mps' is deprecated, please use 'torch.backends.mps.is_built()'\n",
      "  torch.has_mps,\n",
      "/Users/pg519/anaconda3/envs/mase/lib/python3.10/site-packages/torch/overrides.py:118: UserWarning: 'has_mkldnn' is deprecated, please use 'torch.backends.mkldnn.is_available()'\n",
      "  torch.has_mkldnn,\n",
      "\u001b[36mDEBUG   \u001b[0m \u001b[34mgraph():\n",
      "    %x : [num_users=1] = placeholder[target=x]\n",
      "    %flatten : [num_users=1] = call_function[target=torch.flatten](args = (%x,), kwargs = {start_dim: 1, end_dim: -1})\n",
      "    %fc1 : [num_users=1] = call_module[target=fc1](args = (%flatten,), kwargs = {})\n",
      "    %relu : [num_users=1] = call_function[target=torch.nn.functional.relu](args = (%fc1,), kwargs = {inplace: False})\n",
      "    return relu\u001b[0m\n"
     ]
    }
   ],
   "source": [
    "mlp = MLP()\n",
    "mg = MaseGraph(model=mlp)\n",
    "\n",
    "# Provide a dummy input for the graph so it can use for tracing\n",
    "batch_size = 1\n",
    "x = torch.randn((batch_size, 2, 2))\n",
    "dummy_in = {\"x\": x}\n",
    "\n",
    "mg, _ = init_metadata_analysis_pass(mg, None)\n",
    "mg, _ = add_common_metadata_analysis_pass(\n",
    "    mg, {\"dummy_in\": dummy_in, \"add_value\": False}\n",
    ")"
   ]
  },
  {
   "cell_type": "markdown",
   "metadata": {},
   "source": [
    "Before running `emit_verilog`, we'll quantize the model to fixed precision. Refer back to [lab 2](https://github.com/DeepWok/mase/blob/main/docs/labs/lab2.md) if you've forgotten how this works. Check that the data type for each node is correct after quantization."
   ]
  },
  {
   "cell_type": "code",
   "execution_count": 4,
   "metadata": {},
   "outputs": [
    {
     "name": "stderr",
     "output_type": "stream",
     "text": [
      "\u001b[32mINFO    \u001b[0m \u001b[34mInspecting graph [add_common_node_type_analysis_pass]\u001b[0m\n",
      "\u001b[32mINFO    \u001b[0m \u001b[34m\n",
      "Node name    Fx Node op     Mase type            Mase op      Value type\n",
      "-----------  -------------  -------------------  -----------  ------------\n",
      "x            placeholder    placeholder          placeholder  NA\n",
      "flatten      call_function  implicit_func        flatten      float\n",
      "fc1          call_module    module_related_func  linear       fixed\n",
      "relu         call_function  module_related_func  relu         fixed\n",
      "output       output         output               output       NA\u001b[0m\n"
     ]
    }
   ],
   "source": [
    "config_file = os.path.join(\n",
    "    os.path.abspath(\"\"),\n",
    "    \"..\",\n",
    "    \"..\",\n",
    "    \"machop\",\n",
    "    \"configs\",\n",
    "    \"tests\",\n",
    "    \"quantize\",\n",
    "    \"fixed.toml\",\n",
    ")\n",
    "with open(config_file, \"r\") as f:\n",
    "    quan_args = toml.load(f)[\"passes\"][\"quantize\"]\n",
    "mg, _ = quantize_transform_pass(mg, quan_args)\n",
    "\n",
    "_ = report_node_type_analysis_pass(mg)\n",
    "\n",
    "# Update the metadata\n",
    "for node in mg.fx_graph.nodes:\n",
    "    for arg, arg_info in node.meta[\"mase\"][\"common\"][\"args\"].items():\n",
    "        if isinstance(arg_info, dict):\n",
    "            arg_info[\"type\"] = \"fixed\"\n",
    "            arg_info[\"precision\"] = [8, 3]\n",
    "    for result, result_info in node.meta[\"mase\"][\"common\"][\"results\"].items():\n",
    "        if isinstance(result_info, dict):\n",
    "            result_info[\"type\"] = \"fixed\"\n",
    "            result_info[\"precision\"] = [8, 3]"
   ]
  },
  {
   "cell_type": "markdown",
   "metadata": {},
   "source": [
    "At this point, it's important to run the `add_hardware_metadata` analysis pass. This adds all the required metadata which is later used by the `emit_verilog` pass, including:\n",
    "\n",
    "1. The node's toolchain, which defines whether we use internal Verilog modules from the `components` library or the HLS flow.\n",
    "2. The Verilog parameters associated with each node.\n",
    "\n",
    "> **_TASK:_** Read [this page](https://jianyicheng.github.io/mase-tools/modules/analysis/add_metadata.html#add-hardware-metadata-analysis-pass) for more information on the hardware metadata pass."
   ]
  },
  {
   "cell_type": "code",
   "execution_count": 5,
   "metadata": {},
   "outputs": [],
   "source": [
    "mg, _ = add_hardware_metadata_analysis_pass(mg, None)"
   ]
  },
  {
   "cell_type": "markdown",
   "metadata": {},
   "source": [
    "Finally, run the emit verilog pass to generate the SystemVerilog files."
   ]
  },
  {
   "cell_type": "code",
   "execution_count": 6,
   "metadata": {},
   "outputs": [
    {
     "name": "stderr",
     "output_type": "stream",
     "text": [
      "\u001b[32mINFO    \u001b[0m \u001b[34mEmitting Verilog...\u001b[0m\n",
      "\u001b[32mINFO    \u001b[0m \u001b[34mEmitting internal components...\u001b[0m\n"
     ]
    }
   ],
   "source": [
    "mg, _ = emit_verilog_top_transform_pass(mg)\n",
    "mg, _ = emit_internal_rtl_transform_pass(mg)"
   ]
  },
  {
   "cell_type": "markdown",
   "metadata": {},
   "source": [
    "The generated files should now be found under `top/hardware`. \n",
    "\n",
    "> **_TASK:_** Read through `top/hardware/rtl/top.sv` and make sure you understand how our MLP model maps to this hardware design. \n",
    "\n",
    "You will notice the following instantiated modules:\n",
    "\n",
    "* `fixed_linear`: this is found under `components/linear/fixed_linear.sv` and implements each Linear layer in the model.\n",
    "* `fc<layer number>_weight/bias_source`: these are [BRAM](https://nandland.com/lesson-15-what-is-a-block-ram-bram/) memories which drive the weights and biases into the linear layers for computation.\n",
    "* `fixed_relu`: found under `components/activations/fixed_relu.sv`, implements the ReLU activation.\n",
    "\n",
    "As of now, we can't yet run a simulation on the model, as we haven't yet generated the memory components. To do this, run the `emit_bram` transform pass as follows, which will generate the memory initialization files and SystemVerilog modules to drive weights and biases into the linear layers. Finally, the `emit_verilog_tb` transform pass will generate the testbench files.\n"
   ]
  },
  {
   "cell_type": "code",
   "execution_count": 7,
   "metadata": {},
   "outputs": [
    {
     "name": "stderr",
     "output_type": "stream",
     "text": [
      "\u001b[32mINFO    \u001b[0m \u001b[34mEmitting BRAM...\u001b[0m\n",
      "\u001b[36mDEBUG   \u001b[0m \u001b[34mEmitting DAT file for node: fc1, parameter: weight\u001b[0m\n",
      "\u001b[36mDEBUG   \u001b[0m \u001b[34mROM module weight successfully written into /Users/pg519/.mase/top/hardware/rtl/fc1_weight_source.sv\u001b[0m\n",
      "\u001b[36mDEBUG   \u001b[0m \u001b[34mInit data weight successfully written into /Users/pg519/.mase/top/hardware/rtl/fc1_weight_rom.dat\u001b[0m\n",
      "\u001b[36mDEBUG   \u001b[0m \u001b[34mEmitting DAT file for node: fc1, parameter: bias\u001b[0m\n",
      "\u001b[36mDEBUG   \u001b[0m \u001b[34mROM module bias successfully written into /Users/pg519/.mase/top/hardware/rtl/fc1_bias_source.sv\u001b[0m\n",
      "\u001b[36mDEBUG   \u001b[0m \u001b[34mInit data bias successfully written into /Users/pg519/.mase/top/hardware/rtl/fc1_bias_rom.dat\u001b[0m\n"
     ]
    }
   ],
   "source": [
    "mg, _ = emit_bram_transform_pass(mg)"
   ]
  },
  {
   "cell_type": "code",
   "execution_count": 8,
   "metadata": {},
   "outputs": [
    {
     "name": "stderr",
     "output_type": "stream",
     "text": [
      "\u001b[32mINFO    \u001b[0m \u001b[34mEmitting testbench...\u001b[0m\n"
     ]
    }
   ],
   "source": [
    "mg, _ = emit_cocotb_transform_pass(mg)"
   ]
  },
  {
   "cell_type": "markdown",
   "metadata": {},
   "source": [
    "> **_TASK:_** Now, you're ready to launch a simulation by calling the simulate action as follows."
   ]
  },
  {
   "cell_type": "code",
   "execution_count": 9,
   "metadata": {},
   "outputs": [
    {
     "name": "stderr",
     "output_type": "stream",
     "text": [
      "/Users/pg519/mase-tools-emit-verilog-test/machop/chop/actions/simulate.py:3: UserWarning: Python runners and associated APIs are an experimental feature and subject to change.\n",
      "  from cocotb.runner import get_runner, get_results\n",
      "%Warning-TIMESCALEMOD: /Users/pg519/mase-tools-emit-verilog-test/mase_components/activations/rtl/fixed_relu.sv:1:8: Timescale missing on this module as other modules have it (IEEE 1800-2017 3.14.2.3)\n",
      "    1 | module fixed_relu #(\n",
      "      |        ^~~~~~~~~~\n",
      "                       /Users/pg519/.mase/top/hardware/rtl/top.sv:167:1: ... note: In file included from 'top.sv'\n",
      "                       /Users/pg519/.mase/top/hardware/rtl/top.sv:8:8: ... Location of module with timescale\n",
      "    8 | module top #(\n",
      "      |        ^~~\n",
      "                       ... For warning description see https://verilator.org/warn/TIMESCALEMOD?v=5.018\n",
      "                       ... Use \"/* verilator lint_off TIMESCALEMOD */\" and lint_on around source to disable this message.\n",
      "%Warning-SELRANGE: /Users/pg519/mase-tools-emit-verilog-test/mase_components/activations/rtl/fixed_relu.sv:34:49: Selection index out of range: 4 outside 3:0\n",
      "                                                                                                                : ... note: In instance 'top.relu_inst'\n",
      "   34 |       if ($signed(data_in_0[i]) <= 0) data_out_0[i] = '0;\n",
      "      |                                                 ^\n",
      "                   /Users/pg519/.mase/top/hardware/rtl/top.sv:167:1: ... note: In file included from 'top.sv'\n",
      "%Warning-SELRANGE: /Users/pg519/mase-tools-emit-verilog-test/mase_components/activations/rtl/fixed_relu.sv:35:22: Selection index out of range: 4 outside 3:0\n",
      "                                                                                                                : ... note: In instance 'top.relu_inst'\n",
      "   35 |       else data_out_0[i] = data_in_0[i];\n",
      "      |                      ^\n",
      "                   /Users/pg519/.mase/top/hardware/rtl/top.sv:167:1: ... note: In file included from 'top.sv'\n",
      "%Warning-SELRANGE: /Users/pg519/mase-tools-emit-verilog-test/mase_components/activations/rtl/fixed_relu.sv:35:37: Selection index out of range: 4 outside 3:0\n",
      "                                                                                                                : ... note: In instance 'top.relu_inst'\n",
      "   35 |       else data_out_0[i] = data_in_0[i];\n",
      "      |                                     ^\n",
      "                   /Users/pg519/.mase/top/hardware/rtl/top.sv:167:1: ... note: In file included from 'top.sv'\n",
      "%Warning-SELRANGE: /Users/pg519/mase-tools-emit-verilog-test/mase_components/activations/rtl/fixed_relu.sv:34:28: Selection index out of range: 4 outside 3:0\n",
      "                                                                                                                : ... note: In instance 'top.relu_inst'\n",
      "   34 |       if ($signed(data_in_0[i]) <= 0) data_out_0[i] = '0;\n",
      "      |                            ^\n",
      "                   /Users/pg519/.mase/top/hardware/rtl/top.sv:167:1: ... note: In file included from 'top.sv'\n",
      "%Warning-SELRANGE: /Users/pg519/mase-tools-emit-verilog-test/mase_components/activations/rtl/fixed_relu.sv:34:49: Selection index out of range: 5 outside 3:0\n",
      "                                                                                                                : ... note: In instance 'top.relu_inst'\n",
      "   34 |       if ($signed(data_in_0[i]) <= 0) data_out_0[i] = '0;\n",
      "      |                                                 ^\n",
      "                   /Users/pg519/.mase/top/hardware/rtl/top.sv:167:1: ... note: In file included from 'top.sv'\n",
      "%Warning-SELRANGE: /Users/pg519/mase-tools-emit-verilog-test/mase_components/activations/rtl/fixed_relu.sv:35:22: Selection index out of range: 5 outside 3:0\n",
      "                                                                                                                : ... note: In instance 'top.relu_inst'\n",
      "   35 |       else data_out_0[i] = data_in_0[i];\n",
      "      |                      ^\n",
      "                   /Users/pg519/.mase/top/hardware/rtl/top.sv:167:1: ... note: In file included from 'top.sv'\n",
      "%Warning-SELRANGE: /Users/pg519/mase-tools-emit-verilog-test/mase_components/activations/rtl/fixed_relu.sv:35:37: Selection index out of range: 5 outside 3:0\n",
      "                                                                                                                : ... note: In instance 'top.relu_inst'\n",
      "   35 |       else data_out_0[i] = data_in_0[i];\n",
      "      |                                     ^\n",
      "                   /Users/pg519/.mase/top/hardware/rtl/top.sv:167:1: ... note: In file included from 'top.sv'\n",
      "%Warning-SELRANGE: /Users/pg519/mase-tools-emit-verilog-test/mase_components/activations/rtl/fixed_relu.sv:34:28: Selection index out of range: 5 outside 3:0\n",
      "                                                                                                                : ... note: In instance 'top.relu_inst'\n",
      "   34 |       if ($signed(data_in_0[i]) <= 0) data_out_0[i] = '0;\n",
      "      |                            ^\n",
      "                   /Users/pg519/.mase/top/hardware/rtl/top.sv:167:1: ... note: In file included from 'top.sv'\n",
      "%Warning-SELRANGE: /Users/pg519/mase-tools-emit-verilog-test/mase_components/activations/rtl/fixed_relu.sv:34:49: Selection index out of range: 6 outside 3:0\n",
      "                                                                                                                : ... note: In instance 'top.relu_inst'\n",
      "   34 |       if ($signed(data_in_0[i]) <= 0) data_out_0[i] = '0;\n",
      "      |                                                 ^\n",
      "                   /Users/pg519/.mase/top/hardware/rtl/top.sv:167:1: ... note: In file included from 'top.sv'\n",
      "%Warning-SELRANGE: /Users/pg519/mase-tools-emit-verilog-test/mase_components/activations/rtl/fixed_relu.sv:35:22: Selection index out of range: 6 outside 3:0\n",
      "                                                                                                                : ... note: In instance 'top.relu_inst'\n",
      "   35 |       else data_out_0[i] = data_in_0[i];\n",
      "      |                      ^\n",
      "                   /Users/pg519/.mase/top/hardware/rtl/top.sv:167:1: ... note: In file included from 'top.sv'\n",
      "%Warning-SELRANGE: /Users/pg519/mase-tools-emit-verilog-test/mase_components/activations/rtl/fixed_relu.sv:35:37: Selection index out of range: 6 outside 3:0\n",
      "                                                                                                                : ... note: In instance 'top.relu_inst'\n",
      "   35 |       else data_out_0[i] = data_in_0[i];\n",
      "      |                                     ^\n",
      "                   /Users/pg519/.mase/top/hardware/rtl/top.sv:167:1: ... note: In file included from 'top.sv'\n",
      "%Warning-SELRANGE: /Users/pg519/mase-tools-emit-verilog-test/mase_components/activations/rtl/fixed_relu.sv:34:28: Selection index out of range: 6 outside 3:0\n",
      "                                                                                                                : ... note: In instance 'top.relu_inst'\n",
      "   34 |       if ($signed(data_in_0[i]) <= 0) data_out_0[i] = '0;\n",
      "      |                            ^\n",
      "                   /Users/pg519/.mase/top/hardware/rtl/top.sv:167:1: ... note: In file included from 'top.sv'\n",
      "%Warning-SELRANGE: /Users/pg519/mase-tools-emit-verilog-test/mase_components/activations/rtl/fixed_relu.sv:34:49: Selection index out of range: 7 outside 3:0\n",
      "                                                                                                                : ... note: In instance 'top.relu_inst'\n",
      "   34 |       if ($signed(data_in_0[i]) <= 0) data_out_0[i] = '0;\n",
      "      |                                                 ^\n",
      "                   /Users/pg519/.mase/top/hardware/rtl/top.sv:167:1: ... note: In file included from 'top.sv'\n",
      "%Warning-SELRANGE: /Users/pg519/mase-tools-emit-verilog-test/mase_components/activations/rtl/fixed_relu.sv:35:22: Selection index out of range: 7 outside 3:0\n",
      "                                                                                                                : ... note: In instance 'top.relu_inst'\n",
      "   35 |       else data_out_0[i] = data_in_0[i];\n",
      "      |                      ^\n",
      "                   /Users/pg519/.mase/top/hardware/rtl/top.sv:167:1: ... note: In file included from 'top.sv'\n",
      "%Warning-SELRANGE: /Users/pg519/mase-tools-emit-verilog-test/mase_components/activations/rtl/fixed_relu.sv:35:37: Selection index out of range: 7 outside 3:0\n",
      "                                                                                                                : ... note: In instance 'top.relu_inst'\n",
      "   35 |       else data_out_0[i] = data_in_0[i];\n",
      "      |                                     ^\n",
      "                   /Users/pg519/.mase/top/hardware/rtl/top.sv:167:1: ... note: In file included from 'top.sv'\n",
      "%Warning-SELRANGE: /Users/pg519/mase-tools-emit-verilog-test/mase_components/activations/rtl/fixed_relu.sv:34:28: Selection index out of range: 7 outside 3:0\n",
      "                                                                                                                : ... note: In instance 'top.relu_inst'\n",
      "   34 |       if ($signed(data_in_0[i]) <= 0) data_out_0[i] = '0;\n",
      "      |                            ^\n",
      "                   /Users/pg519/.mase/top/hardware/rtl/top.sv:167:1: ... note: In file included from 'top.sv'\n",
      "%Warning-SELRANGE: /Users/pg519/mase-tools-emit-verilog-test/mase_components/activations/rtl/fixed_relu.sv:34:49: Selection index out of range: 8 outside 3:0\n",
      "                                                                                                                : ... note: In instance 'top.relu_inst'\n",
      "   34 |       if ($signed(data_in_0[i]) <= 0) data_out_0[i] = '0;\n",
      "      |                                                 ^\n",
      "                   /Users/pg519/.mase/top/hardware/rtl/top.sv:167:1: ... note: In file included from 'top.sv'\n",
      "%Warning-SELRANGE: /Users/pg519/mase-tools-emit-verilog-test/mase_components/activations/rtl/fixed_relu.sv:35:22: Selection index out of range: 8 outside 3:0\n",
      "                                                                                                                : ... note: In instance 'top.relu_inst'\n",
      "   35 |       else data_out_0[i] = data_in_0[i];\n",
      "      |                      ^\n",
      "                   /Users/pg519/.mase/top/hardware/rtl/top.sv:167:1: ... note: In file included from 'top.sv'\n",
      "%Warning-SELRANGE: /Users/pg519/mase-tools-emit-verilog-test/mase_components/activations/rtl/fixed_relu.sv:35:37: Selection index out of range: 8 outside 3:0\n",
      "                                                                                                                : ... note: In instance 'top.relu_inst'\n",
      "   35 |       else data_out_0[i] = data_in_0[i];\n",
      "      |                                     ^\n",
      "                   /Users/pg519/.mase/top/hardware/rtl/top.sv:167:1: ... note: In file included from 'top.sv'\n",
      "%Warning-SELRANGE: /Users/pg519/mase-tools-emit-verilog-test/mase_components/activations/rtl/fixed_relu.sv:34:28: Selection index out of range: 8 outside 3:0\n",
      "                                                                                                                : ... note: In instance 'top.relu_inst'\n",
      "   34 |       if ($signed(data_in_0[i]) <= 0) data_out_0[i] = '0;\n",
      "      |                            ^\n",
      "                   /Users/pg519/.mase/top/hardware/rtl/top.sv:167:1: ... note: In file included from 'top.sv'\n",
      "%Warning-SELRANGE: /Users/pg519/mase-tools-emit-verilog-test/mase_components/activations/rtl/fixed_relu.sv:34:49: Selection index out of range: 9 outside 3:0\n",
      "                                                                                                                : ... note: In instance 'top.relu_inst'\n",
      "   34 |       if ($signed(data_in_0[i]) <= 0) data_out_0[i] = '0;\n",
      "      |                                                 ^\n",
      "                   /Users/pg519/.mase/top/hardware/rtl/top.sv:167:1: ... note: In file included from 'top.sv'\n",
      "%Warning-SELRANGE: /Users/pg519/mase-tools-emit-verilog-test/mase_components/activations/rtl/fixed_relu.sv:35:22: Selection index out of range: 9 outside 3:0\n",
      "                                                                                                                : ... note: In instance 'top.relu_inst'\n",
      "   35 |       else data_out_0[i] = data_in_0[i];\n",
      "      |                      ^\n",
      "                   /Users/pg519/.mase/top/hardware/rtl/top.sv:167:1: ... note: In file included from 'top.sv'\n",
      "%Warning-SELRANGE: /Users/pg519/mase-tools-emit-verilog-test/mase_components/activations/rtl/fixed_relu.sv:35:37: Selection index out of range: 9 outside 3:0\n",
      "                                                                                                                : ... note: In instance 'top.relu_inst'\n",
      "   35 |       else data_out_0[i] = data_in_0[i];\n",
      "      |                                     ^\n",
      "                   /Users/pg519/.mase/top/hardware/rtl/top.sv:167:1: ... note: In file included from 'top.sv'\n",
      "%Warning-SELRANGE: /Users/pg519/mase-tools-emit-verilog-test/mase_components/activations/rtl/fixed_relu.sv:34:28: Selection index out of range: 9 outside 3:0\n",
      "                                                                                                                : ... note: In instance 'top.relu_inst'\n",
      "   34 |       if ($signed(data_in_0[i]) <= 0) data_out_0[i] = '0;\n",
      "      |                            ^\n",
      "                   /Users/pg519/.mase/top/hardware/rtl/top.sv:167:1: ... note: In file included from 'top.sv'\n",
      "%Warning-SELRANGE: /Users/pg519/.mase/top/hardware/rtl/fc1_bias_source.sv:107:20: Selection index out of range: 1 outside 0:0\n",
      "                                                                                : ... note: In instance 'top.fc1_bias_source_0'\n",
      "  107 |     assign data_out[j] = data_vector[BIAS_PRECISION_0*j+BIAS_PRECISION_0-1:BIAS_PRECISION_0*j];\n",
      "      |                    ^\n",
      "                   /Users/pg519/.mase/top/hardware/rtl/top.sv:144:1: ... note: In file included from 'top.sv'\n",
      "%Warning-SELRANGE: /Users/pg519/.mase/top/hardware/rtl/fc1_bias_source.sv:107:20: Selection index out of range: 2 outside 0:0\n",
      "                                                                                : ... note: In instance 'top.fc1_bias_source_0'\n",
      "  107 |     assign data_out[j] = data_vector[BIAS_PRECISION_0*j+BIAS_PRECISION_0-1:BIAS_PRECISION_0*j];\n",
      "      |                    ^\n",
      "                   /Users/pg519/.mase/top/hardware/rtl/top.sv:144:1: ... note: In file included from 'top.sv'\n",
      "%Warning-SELRANGE: /Users/pg519/.mase/top/hardware/rtl/fc1_bias_source.sv:107:20: Selection index out of range: 3 outside 0:0\n",
      "                                                                                : ... note: In instance 'top.fc1_bias_source_0'\n",
      "  107 |     assign data_out[j] = data_vector[BIAS_PRECISION_0*j+BIAS_PRECISION_0-1:BIAS_PRECISION_0*j];\n",
      "      |                    ^\n",
      "                   /Users/pg519/.mase/top/hardware/rtl/top.sv:144:1: ... note: In file included from 'top.sv'\n",
      "%Warning-SELRANGE: /Users/pg519/.mase/top/hardware/rtl/fc1_bias_source.sv:107:20: Selection index out of range: 4 outside 0:0\n",
      "                                                                                : ... note: In instance 'top.fc1_bias_source_0'\n",
      "  107 |     assign data_out[j] = data_vector[BIAS_PRECISION_0*j+BIAS_PRECISION_0-1:BIAS_PRECISION_0*j];\n",
      "      |                    ^\n",
      "                   /Users/pg519/.mase/top/hardware/rtl/top.sv:144:1: ... note: In file included from 'top.sv'\n",
      "%Warning-SELRANGE: /Users/pg519/.mase/top/hardware/rtl/fc1_bias_source.sv:107:20: Selection index out of range: 5 outside 0:0\n",
      "                                                                                : ... note: In instance 'top.fc1_bias_source_0'\n",
      "  107 |     assign data_out[j] = data_vector[BIAS_PRECISION_0*j+BIAS_PRECISION_0-1:BIAS_PRECISION_0*j];\n",
      "      |                    ^\n",
      "                   /Users/pg519/.mase/top/hardware/rtl/top.sv:144:1: ... note: In file included from 'top.sv'\n",
      "%Warning-SELRANGE: /Users/pg519/.mase/top/hardware/rtl/fc1_bias_source.sv:107:20: Selection index out of range: 6 outside 0:0\n",
      "                                                                                : ... note: In instance 'top.fc1_bias_source_0'\n",
      "  107 |     assign data_out[j] = data_vector[BIAS_PRECISION_0*j+BIAS_PRECISION_0-1:BIAS_PRECISION_0*j];\n",
      "      |                    ^\n",
      "                   /Users/pg519/.mase/top/hardware/rtl/top.sv:144:1: ... note: In file included from 'top.sv'\n",
      "%Warning-SELRANGE: /Users/pg519/.mase/top/hardware/rtl/fc1_bias_source.sv:107:20: Selection index out of range: 7 outside 0:0\n",
      "                                                                                : ... note: In instance 'top.fc1_bias_source_0'\n",
      "  107 |     assign data_out[j] = data_vector[BIAS_PRECISION_0*j+BIAS_PRECISION_0-1:BIAS_PRECISION_0*j];\n",
      "      |                    ^\n",
      "                   /Users/pg519/.mase/top/hardware/rtl/top.sv:144:1: ... note: In file included from 'top.sv'\n",
      "%Warning-SELRANGE: /Users/pg519/.mase/top/hardware/rtl/fc1_bias_source.sv:107:20: Selection index out of range: 8 outside 0:0\n",
      "                                                                                : ... note: In instance 'top.fc1_bias_source_0'\n",
      "  107 |     assign data_out[j] = data_vector[BIAS_PRECISION_0*j+BIAS_PRECISION_0-1:BIAS_PRECISION_0*j];\n",
      "      |                    ^\n",
      "                   /Users/pg519/.mase/top/hardware/rtl/top.sv:144:1: ... note: In file included from 'top.sv'\n",
      "%Warning-SELRANGE: /Users/pg519/.mase/top/hardware/rtl/fc1_bias_source.sv:107:20: Selection index out of range: 9 outside 0:0\n",
      "                                                                                : ... note: In instance 'top.fc1_bias_source_0'\n",
      "  107 |     assign data_out[j] = data_vector[BIAS_PRECISION_0*j+BIAS_PRECISION_0-1:BIAS_PRECISION_0*j];\n",
      "      |                    ^\n",
      "                   /Users/pg519/.mase/top/hardware/rtl/top.sv:144:1: ... note: In file included from 'top.sv'\n"
     ]
    },
    {
     "name": "stdout",
     "output_type": "stream",
     "text": [
      "INFO: Running command perl /opt/homebrew/bin/verilator -cc --exe -Mdir /Users/pg519/mase-tools-emit-verilog-test/docs/labs/sim_build -DCOCOTB_SIM=1 --top-module top --vpi --public-flat-rw --prefix Vtop -o top -LDFLAGS '-Wl,-rpath,/Users/pg519/anaconda3/envs/mase/lib/python3.10/site-packages/cocotb/libs -L/Users/pg519/anaconda3/envs/mase/lib/python3.10/site-packages/cocotb/libs -lcocotbvpi_verilator' -Wno-fatal -Wno-lint -Wno-style --trace -I/Users/pg519/.mase/top/hardware/rtl -I/Users/pg519/mase-tools-emit-verilog-test/mase_components/activations/rtl -I/Users/pg519/mase-tools-emit-verilog-test/mase_components/attention/rtl -I/Users/pg519/mase-tools-emit-verilog-test/mase_components/fixed_arith/rtl -I/Users/pg519/mase-tools-emit-verilog-test/mase_components/binary_arith/rtl -I/Users/pg519/mase-tools-emit-verilog-test/mase_components/cast/rtl -I/Users/pg519/mase-tools-emit-verilog-test/mase_components/linear/rtl -I/Users/pg519/mase-tools-emit-verilog-test/mase_components/conv/rtl -I/Users/pg519/mase-tools-emit-verilog-test/mase_components/__pycache__/rtl -I/Users/pg519/mase-tools-emit-verilog-test/mase_components/testbench/rtl -I/Users/pg519/mase-tools-emit-verilog-test/mase_components/common/rtl -I/Users/pg519/mase-tools-emit-verilog-test/mase_components/ViT/rtl -I/Users/pg519/mase-tools-emit-verilog-test/mase_components/hls/rtl -I/Users/pg519/mase-tools-emit-verilog-test/mase_components/matmul/rtl -I/Users/pg519/mase-tools-emit-verilog-test/mase_components/sim/rtl /Users/pg519/anaconda3/envs/mase/lib/python3.10/site-packages/cocotb/share/lib/verilator/verilator.cpp /Users/pg519/.mase/top/hardware/rtl/top.sv in directory /Users/pg519/mase-tools-emit-verilog-test/docs/labs/sim_build\n",
      "INFO: Running command make -C /Users/pg519/mase-tools-emit-verilog-test/docs/labs/sim_build -f Vtop.mk in directory /Users/pg519/mase-tools-emit-verilog-test/docs/labs/sim_build\n",
      "c++  -I.  -MMD -I/opt/homebrew/Cellar/verilator/5.018/share/verilator/include -I/opt/homebrew/Cellar/verilator/5.018/share/verilator/include/vltstd -DVM_COVERAGE=0 -DVM_SC=0 -DVM_TRACE=1 -DVM_TRACE_FST=0 -DVM_TRACE_VCD=1 -faligned-new -fbracket-depth=4096 -fcf-protection=none -Qunused-arguments -Wno-bool-operation -Wno-c++11-narrowing -Wno-constant-logical-operand -Wno-non-pod-varargs -Wno-overloaded-virtual -Wno-parentheses-equality -Wno-shadow -Wno-sign-compare -Wno-tautological-bitwise-compare -Wno-uninitialized -Wno-unused-but-set-parameter -Wno-unused-but-set-variable -Wno-unused-parameter -Wno-unused-variable      -std=gnu++17 -Os -c -o verilator.o /Users/pg519/anaconda3/envs/mase/lib/python3.10/site-packages/cocotb/share/lib/verilator/verilator.cpp\n",
      "c++ -Os  -I.  -MMD -I/opt/homebrew/Cellar/verilator/5.018/share/verilator/include -I/opt/homebrew/Cellar/verilator/5.018/share/verilator/include/vltstd -DVM_COVERAGE=0 -DVM_SC=0 -DVM_TRACE=1 -DVM_TRACE_FST=0 -DVM_TRACE_VCD=1 -faligned-new -fbracket-depth=4096 -fcf-protection=none -Qunused-arguments -Wno-bool-operation -Wno-c++11-narrowing -Wno-constant-logical-operand -Wno-non-pod-varargs -Wno-overloaded-virtual -Wno-parentheses-equality -Wno-shadow -Wno-sign-compare -Wno-tautological-bitwise-compare -Wno-uninitialized -Wno-unused-but-set-parameter -Wno-unused-but-set-variable -Wno-unused-parameter -Wno-unused-variable      -std=gnu++17 -c -o verilated.o /opt/homebrew/Cellar/verilator/5.018/share/verilator/include/verilated.cpp\n",
      "c++ -Os  -I.  -MMD -I/opt/homebrew/Cellar/verilator/5.018/share/verilator/include -I/opt/homebrew/Cellar/verilator/5.018/share/verilator/include/vltstd -DVM_COVERAGE=0 -DVM_SC=0 -DVM_TRACE=1 -DVM_TRACE_FST=0 -DVM_TRACE_VCD=1 -faligned-new -fbracket-depth=4096 -fcf-protection=none -Qunused-arguments -Wno-bool-operation -Wno-c++11-narrowing -Wno-constant-logical-operand -Wno-non-pod-varargs -Wno-overloaded-virtual -Wno-parentheses-equality -Wno-shadow -Wno-sign-compare -Wno-tautological-bitwise-compare -Wno-uninitialized -Wno-unused-but-set-parameter -Wno-unused-but-set-variable -Wno-unused-parameter -Wno-unused-variable      -std=gnu++17 -c -o verilated_dpi.o /opt/homebrew/Cellar/verilator/5.018/share/verilator/include/verilated_dpi.cpp\n",
      "c++ -Os  -I.  -MMD -I/opt/homebrew/Cellar/verilator/5.018/share/verilator/include -I/opt/homebrew/Cellar/verilator/5.018/share/verilator/include/vltstd -DVM_COVERAGE=0 -DVM_SC=0 -DVM_TRACE=1 -DVM_TRACE_FST=0 -DVM_TRACE_VCD=1 -faligned-new -fbracket-depth=4096 -fcf-protection=none -Qunused-arguments -Wno-bool-operation -Wno-c++11-narrowing -Wno-constant-logical-operand -Wno-non-pod-varargs -Wno-overloaded-virtual -Wno-parentheses-equality -Wno-shadow -Wno-sign-compare -Wno-tautological-bitwise-compare -Wno-uninitialized -Wno-unused-but-set-parameter -Wno-unused-but-set-variable -Wno-unused-parameter -Wno-unused-variable      -std=gnu++17 -c -o verilated_vpi.o /opt/homebrew/Cellar/verilator/5.018/share/verilator/include/verilated_vpi.cpp\n",
      "c++ -Os  -I.  -MMD -I/opt/homebrew/Cellar/verilator/5.018/share/verilator/include -I/opt/homebrew/Cellar/verilator/5.018/share/verilator/include/vltstd -DVM_COVERAGE=0 -DVM_SC=0 -DVM_TRACE=1 -DVM_TRACE_FST=0 -DVM_TRACE_VCD=1 -faligned-new -fbracket-depth=4096 -fcf-protection=none -Qunused-arguments -Wno-bool-operation -Wno-c++11-narrowing -Wno-constant-logical-operand -Wno-non-pod-varargs -Wno-overloaded-virtual -Wno-parentheses-equality -Wno-shadow -Wno-sign-compare -Wno-tautological-bitwise-compare -Wno-uninitialized -Wno-unused-but-set-parameter -Wno-unused-but-set-variable -Wno-unused-parameter -Wno-unused-variable      -std=gnu++17 -c -o verilated_vcd_c.o /opt/homebrew/Cellar/verilator/5.018/share/verilator/include/verilated_vcd_c.cpp\n",
      "c++ -Os  -I.  -MMD -I/opt/homebrew/Cellar/verilator/5.018/share/verilator/include -I/opt/homebrew/Cellar/verilator/5.018/share/verilator/include/vltstd -DVM_COVERAGE=0 -DVM_SC=0 -DVM_TRACE=1 -DVM_TRACE_FST=0 -DVM_TRACE_VCD=1 -faligned-new -fbracket-depth=4096 -fcf-protection=none -Qunused-arguments -Wno-bool-operation -Wno-c++11-narrowing -Wno-constant-logical-operand -Wno-non-pod-varargs -Wno-overloaded-virtual -Wno-parentheses-equality -Wno-shadow -Wno-sign-compare -Wno-tautological-bitwise-compare -Wno-uninitialized -Wno-unused-but-set-parameter -Wno-unused-but-set-variable -Wno-unused-parameter -Wno-unused-variable      -std=gnu++17 -c -o verilated_threads.o /opt/homebrew/Cellar/verilator/5.018/share/verilator/include/verilated_threads.cpp\n",
      "python3 /opt/homebrew/Cellar/verilator/5.018/share/verilator/bin/verilator_includer -DVL_INCLUDE_OPT=include Vtop.cpp Vtop___024root__DepSet_h4b98a05d__0.cpp Vtop___024root__DepSet_h6944321b__0.cpp Vtop_fixed_dot_product__I8_W8__DepSet_h09d0b93c__0.cpp Vtop__Dpi.cpp Vtop__Trace__0.cpp Vtop__ConstPool_0.cpp Vtop___024root__Slow.cpp Vtop___024root__DepSet_h4b98a05d__0__Slow.cpp Vtop___024root__DepSet_h6944321b__0__Slow.cpp Vtop_fixed_dot_product__I8_W8__Slow.cpp Vtop_fixed_dot_product__I8_W8__DepSet_h09d0b93c__0__Slow.cpp Vtop__Syms.cpp Vtop__Trace__0__Slow.cpp > Vtop__ALL.cpp\n",
      "c++ -Os  -I.  -MMD -I/opt/homebrew/Cellar/verilator/5.018/share/verilator/include -I/opt/homebrew/Cellar/verilator/5.018/share/verilator/include/vltstd -DVM_COVERAGE=0 -DVM_SC=0 -DVM_TRACE=1 -DVM_TRACE_FST=0 -DVM_TRACE_VCD=1 -faligned-new -fbracket-depth=4096 -fcf-protection=none -Qunused-arguments -Wno-bool-operation -Wno-c++11-narrowing -Wno-constant-logical-operand -Wno-non-pod-varargs -Wno-overloaded-virtual -Wno-parentheses-equality -Wno-shadow -Wno-sign-compare -Wno-tautological-bitwise-compare -Wno-uninitialized -Wno-unused-but-set-parameter -Wno-unused-but-set-variable -Wno-unused-parameter -Wno-unused-variable      -std=gnu++17 -c -o Vtop__ALL.o Vtop__ALL.cpp\n",
      "echo \"\" > Vtop__ALL.verilator_deplist.tmp\n",
      "Archive ar -rcs Vtop__ALL.a Vtop__ALL.o\n",
      "c++   -Wl,-U,__Z15vl_time_stamp64v,-U,__Z13sc_time_stampv   verilator.o verilated.o verilated_dpi.o verilated_vpi.o verilated_vcd_c.o verilated_threads.o Vtop__ALL.a   -Wl,-rpath,/Users/pg519/anaconda3/envs/mase/lib/python3.10/site-packages/cocotb/libs -L/Users/pg519/anaconda3/envs/mase/lib/python3.10/site-packages/cocotb/libs -lcocotbvpi_verilator  -pthread -lpthread   -o top\n",
      "rm Vtop__ALL.verilator_deplist.tmp\n",
      "INFO: Running command /Users/pg519/mase-tools-emit-verilog-test/docs/labs/sim_build/top in directory /Users/pg519/mase-tools-emit-verilog-test/docs/labs/sim_build\n",
      "     -.--ns INFO     gpi                                ..mbed/gpi_embed.cpp:78   in set_program_name_in_venv        Did not detect Python virtual environment. Using system-wide Python interpreter\n",
      "     -.--ns INFO     gpi                                ../gpi/GpiCommon.cpp:101  in gpi_print_registered_impl       VPI registered\n",
      "     0.00ns INFO     cocotb                             Running on Verilator version 5.018 2023-10-30\n",
      "     0.00ns INFO     cocotb                             Running tests with cocotb v1.8.0 from /Users/pg519/anaconda3/envs/mase/lib/python3.10/site-packages/cocotb\n",
      "     0.00ns INFO     cocotb                             Seeding Python random module with 1706136010\n",
      "     0.00ns INFO     cocotb.regression                  Found test mase_top_tb.test.test\n",
      "     0.00ns INFO     cocotb.regression                  running test (1/1)\n"
     ]
    },
    {
     "name": "stderr",
     "output_type": "stream",
     "text": [
      "/Users/pg519/anaconda3/envs/mase/lib/python3.10/site-packages/_pytest/assertion/rewrite.py:186: DeprecationWarning: The distutils package is deprecated and slated for removal in Python 3.12. Use setuptools or check PEP 632 for potential alternatives\n",
      "  exec(co, module.__dict__)\n",
      "/Users/pg519/anaconda3/envs/mase/lib/python3.10/site-packages/einops/_torch_specific.py:108: ImportWarning: allow_ops_in_compiled_graph failed to import torch: ensure pytorch >=2.0\n",
      "  warnings.warn(\"allow_ops_in_compiled_graph failed to import torch: ensure pytorch >=2.0\", ImportWarning)\n",
      "/Users/pg519/anaconda3/envs/mase/lib/python3.10/site-packages/_pytest/assertion/rewrite.py:186: DeprecationWarning: pkg_resources is deprecated as an API. See https://setuptools.pypa.io/en/latest/pkg_resources.html\n",
      "  exec(co, module.__dict__)\n",
      "/Users/pg519/anaconda3/envs/mase/lib/python3.10/site-packages/pkg_resources/__init__.py:2868: DeprecationWarning: Deprecated call to `pkg_resources.declare_namespace('sphinxcontrib')`.\n",
      "Implementing implicit namespace packages (as specified in PEP 420) is preferred to `pkg_resources.declare_namespace`. See https://setuptools.pypa.io/en/latest/references/keywords.html#keyword-namespace-packages\n",
      "  declare_namespace(pkg)\n",
      "/Users/pg519/anaconda3/envs/mase/lib/python3.10/site-packages/timm/models/helpers.py:7: DeprecationWarning: Importing from timm.models.helpers is deprecated, please import via timm.models\n",
      "  warnings.warn(f\"Importing from {__name__} is deprecated, please import via timm.models\", DeprecationWarning)\n",
      "/Users/pg519/anaconda3/envs/mase/lib/python3.10/site-packages/timm/models/layers/__init__.py:49: DeprecationWarning: Importing from timm.models.layers is deprecated, please import via timm.layers\n",
      "  warnings.warn(f\"Importing from {__name__} is deprecated, please import via timm.layers\", DeprecationWarning)\n",
      "/Users/pg519/anaconda3/envs/mase/lib/python3.10/site-packages/lightning_fabric/__init__.py:40: Deprecated call to `pkg_resources.declare_namespace('lightning_fabric')`.\n",
      "Implementing implicit namespace packages (as specified in PEP 420) is preferred to `pkg_resources.declare_namespace`. See https://setuptools.pypa.io/en/latest/references/keywords.html#keyword-namespace-packages\n",
      "/Users/pg519/anaconda3/envs/mase/lib/python3.10/site-packages/pytorch_lightning/__init__.py:37: Deprecated call to `pkg_resources.declare_namespace('pytorch_lightning')`.\n",
      "Implementing implicit namespace packages (as specified in PEP 420) is preferred to `pkg_resources.declare_namespace`. See https://setuptools.pypa.io/en/latest/references/keywords.html#keyword-namespace-packages\n",
      "/Users/pg519/anaconda3/envs/mase/lib/python3.10/site-packages/torch/overrides.py:110: UserWarning: 'has_cuda' is deprecated, please use 'torch.backends.cuda.is_built()'\n",
      "  torch.has_cuda,\n",
      "/Users/pg519/anaconda3/envs/mase/lib/python3.10/site-packages/torch/overrides.py:111: UserWarning: 'has_cudnn' is deprecated, please use 'torch.backends.cudnn.is_available()'\n",
      "  torch.has_cudnn,\n",
      "/Users/pg519/anaconda3/envs/mase/lib/python3.10/site-packages/torch/overrides.py:117: UserWarning: 'has_mps' is deprecated, please use 'torch.backends.mps.is_built()'\n",
      "  torch.has_mps,\n",
      "/Users/pg519/anaconda3/envs/mase/lib/python3.10/site-packages/torch/overrides.py:118: UserWarning: 'has_mkldnn' is deprecated, please use 'torch.backends.mkldnn.is_available()'\n",
      "  torch.has_mkldnn,\n",
      "/Users/pg519/.mase/top/hardware/test/mase_top_tb/test.py:14: RuntimeWarning: coroutine 'Testbench.initialize' was never awaited\n",
      "  tb.initialize()\n"
     ]
    },
    {
     "name": "stdout",
     "output_type": "stream",
     "text": [
      "100000.00ns INFO     cocotb.regression                  test passed\n",
      "100000.00ns INFO     cocotb.regression                  **************************************************************************************\n",
      "                                                        ** TEST                          STATUS  SIM TIME (ns)  REAL TIME (s)  RATIO (ns/s) **\n",
      "                                                        **************************************************************************************\n",
      "                                                        ** mase_top_tb.test.test          PASS      100000.00          21.44       4663.85  **\n",
      "                                                        **************************************************************************************\n",
      "                                                        ** TESTS=1 PASS=1 FAIL=0 SKIP=0             100000.00          22.42       4459.35  **\n",
      "                                                        **************************************************************************************\n",
      "                                                        \n"
     ]
    },
    {
     "name": "stderr",
     "output_type": "stream",
     "text": [
      "/Users/pg519/anaconda3/envs/mase/lib/python3.10/tempfile.py:860: ResourceWarning: Implicitly cleaning up <TemporaryDirectory '/var/folders/j9/f0j7c7_d70d_nxw3wttw4tj00000gp/T/tmp4_6b1jhowandb'>\n",
      "  _warnings.warn(warn_message, ResourceWarning)\n",
      "/Users/pg519/anaconda3/envs/mase/lib/python3.10/tempfile.py:860: ResourceWarning: Implicitly cleaning up <TemporaryDirectory '/var/folders/j9/f0j7c7_d70d_nxw3wttw4tj00000gp/T/tmpachargj8wandb-artifacts'>\n",
      "  _warnings.warn(warn_message, ResourceWarning)\n",
      "/Users/pg519/anaconda3/envs/mase/lib/python3.10/tempfile.py:860: ResourceWarning: Implicitly cleaning up <TemporaryDirectory '/var/folders/j9/f0j7c7_d70d_nxw3wttw4tj00000gp/T/tmpcxyzhv_5wandb-media'>\n",
      "  _warnings.warn(warn_message, ResourceWarning)\n",
      "/Users/pg519/anaconda3/envs/mase/lib/python3.10/tempfile.py:860: ResourceWarning: Implicitly cleaning up <TemporaryDirectory '/var/folders/j9/f0j7c7_d70d_nxw3wttw4tj00000gp/T/tmpxppwqryxwandb-media'>\n",
      "  _warnings.warn(warn_message, ResourceWarning)\n",
      "/Users/pg519/anaconda3/envs/mase/lib/python3.10/tempfile.py:860: ResourceWarning: Implicitly cleaning up <TemporaryDirectory '/var/folders/j9/f0j7c7_d70d_nxw3wttw4tj00000gp/T/tmpuqxxws2r'>\n",
      "  _warnings.warn(warn_message, ResourceWarning)\n"
     ]
    },
    {
     "name": "stdout",
     "output_type": "stream",
     "text": [
      "- :0: Verilog $finish\n",
      "INFO: Results file: /Users/pg519/mase-tools-emit-verilog-test/docs/labs/sim_build/results.xml\n"
     ]
    }
   ],
   "source": [
    "from chop.actions import simulate\n",
    "\n",
    "simulate(skip_build=False, skip_test=False)"
   ]
  },
  {
   "cell_type": "markdown",
   "metadata": {},
   "source": [
    "# Main Task\n",
    "\n",
    "Pytorch has a number of layers which are available to users to define neural network models. At the moment, `emit_verilog` supports generating Verilog for models including Linear layers and the ReLU activation.\n",
    "\n",
    "> **_MAIN TASK:_** choose another layer type from the [Pytorch list](https://pytorch.org/docs/stable/nn.html#non-linear-activations-weighted-sum-nonlinearity) and write a SystemVerilog file to implement that layer in hardware. Then, change the generated `top.sv` file to inject that layer within the design. For example, you may replace the ReLU activations with [Leaky ReLU](https://pytorch.org/docs/stable/generated/torch.nn.RReLU.html#torch.nn.RReLU). Re-run the simulation and observe the effect on latency and accuracy."
   ]
  }
 ],
 "metadata": {
  "kernelspec": {
   "display_name": "mase",
   "language": "python",
   "name": "python3"
  },
  "language_info": {
   "codemirror_mode": {
    "name": "ipython",
    "version": 3
   },
   "file_extension": ".py",
   "mimetype": "text/x-python",
   "name": "python",
   "nbconvert_exporter": "python",
   "pygments_lexer": "ipython3",
   "version": "3.10.13"
  }
 },
 "nbformat": 4,
 "nbformat_minor": 2
}
