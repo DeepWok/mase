{
 "cells": [
  {
   "cell_type": "code",
   "execution_count": null,
   "metadata": {},
   "outputs": [],
   "source": [
    "\n",
    "#!/usr/bin/env python3\n",
    "\n",
    "# This script tests the fixed point linear\n",
    "import os, logging\n",
    "\n",
    "import cocotb\n",
    "from cocotb.log import SimLog\n",
    "from cocotb.triggers import *\n",
    "\n",
    "from mase_cocotb.testbench import Testbench\n",
    "from mase_cocotb.interfaces.streaming import (\n",
    "    MultiSignalStreamDriver,\n",
    "    MultiSignalStreamMonitor,\n",
    ")\n",
    "\n",
    "from mase_cocotb.runner import mase_runner\n",
    "from utils import mxint_quantize\n",
    "\n",
    "import torch\n",
    "from math import ceil, log2\n",
    "import random\n",
    "\n",
    "logger = logging.getLogger(\"testbench\")\n",
    "logger.setLevel(logging.DEBUG)\n",
    "\n",
    "torch.manual_seed(10)"
   ]
  }
 ],
 "metadata": {
  "kernelspec": {
   "display_name": "mase",
   "language": "python",
   "name": "python3"
  },
  "language_info": {
   "name": "python",
   "version": "3.11.9"
  }
 },
 "nbformat": 4,
 "nbformat_minor": 2
}
