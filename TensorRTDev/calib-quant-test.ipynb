{
 "cells": [
  {
   "cell_type": "markdown",
   "metadata": {},
   "source": [
    "!!!!!!!!!!!!!!!!!!!!!!!!!!!!!!!!!!!!!!!!!!!!!!!!!!!!!!!!!!!!!!!!!!!!!!!!!!!!!!!!!!!\n",
    "pip install --no-cache-dir --index-url https://pypi.nvidia.com pytorch-quantization !!!!!!!!!!!!!!!!!!!!!!!!!!!!!!!!!!!!!!!!!!!!!!!!!!!!!!!!!!!!!!!!!!!!!!!!!!!!!!!!!!!\n",
    " ./ch transform --config configs/examples/toy_uniform_tensorRT.toml --load /root/mase/TensorRTDev/jsc-tiny_classification_jsc_2024-03-03/software/training_ckpts/best.ckpt --load-type pl\n",
    "./ch train --config configs/examples/toy_uniform_tensorRT.toml\n",
    "!!!!!!!!!!!!!!!!!!!!!!!!!!!!!!!!!!!!!!!!!!!!!!!!!!!!!!!!!!!!!!!!!!!!!!!!!!!!!!!!!!!"
   ]
  },
  {
   "cell_type": "markdown",
   "metadata": {},
   "source": [
    "sudo apt update && sudo apt upgrade -y \n",
    "\n",
    "wget https://repo.continuum.io/archive/Anaconda3-2023.09-0-Linux-x86_64.sh \n",
    "\n",
    "bash Anaconda3-2023.09-0-Linux-x86_64.sh \n",
    "\n",
    "Close and reopen terminal\n",
    "\n",
    "source /root/.bashrc\n",
    "\n",
    "conda config --set auto_activate_base false\n",
    "\n",
    "git clone https://github.com/mau-mar/mase/\n",
    "\n",
    "cd mase\n",
    "\n",
    "bash scripts/init-conda.sh\n",
    "\n",
    "source /opt/conda/etc/profile.d/conda.sh\n",
    "\n",
    "conda activate mase\n",
    "\n",
    "conda config --add channels conda-forge\n",
    "\n",
    "git checkout origin/mauro-tensorRT-integration\n",
    "\n",
    "cuda-python\n",
    "absl-py\n",
    "scipy\n",
    "prettytable\n",
    "sphinx-glpi-theme\n",
    "\n",
    "./ch train --config configs/examples/toy_uniform_tensorRT.toml"
   ]
  },
  {
   "cell_type": "code",
   "execution_count": 26,
   "metadata": {},
   "outputs": [
    {
     "name": "stderr",
     "output_type": "stream",
     "text": [
      "\u001b[32mINFO    \u001b[0m \u001b[34mSet logging level to info\u001b[0m\n",
      "I0303 17:49:03.953003 140004999563072 logger.py:44] Set logging level to info\n"
     ]
    },
    {
     "name": "stdout",
     "output_type": "stream",
     "text": [
      "2.1.3\n"
     ]
    }
   ],
   "source": [
    "import sys\n",
    "import logging\n",
    "import os\n",
    "from pathlib import Path\n",
    "from pprint import pprint as pp\n",
    "\n",
    "# # figure out the correct path\n",
    "machop_path = Path(\".\").resolve().parent /\"machop\"\n",
    "assert machop_path.exists(), \"Failed to find machop at: {}\".format(machop_path)\n",
    "sys.path.append(str(machop_path))\n",
    "import torch\n",
    "import torch.nn as nn\n",
    "import torch.nn.functional as F\n",
    "import torch.optim as optim\n",
    "import torch.utils.data as data\n",
    "import torchvision\n",
    "import torchvision.transforms as transforms\n",
    "import torchvision.datasets as datasets\n",
    "import torch_tensorrt\n",
    "\n",
    "from torch.utils.tensorboard import SummaryWriter\n",
    "\n",
    "import pytorch_quantization\n",
    "from pytorch_quantization import nn as quant_nn\n",
    "from pytorch_quantization import quant_modules\n",
    "from pytorch_quantization.tensor_quant import QuantDescriptor\n",
    "from pytorch_quantization import calib\n",
    "from tqdm import tqdm\n",
    "\n",
    "print(pytorch_quantization.__version__)\n",
    "\n",
    "from chop.dataset import MaseDataModule, get_dataset_info\n",
    "from chop.tools.logger import set_logging_verbosity\n",
    "\n",
    "from chop.passes.graph import (\n",
    "    save_node_meta_param_interface_pass,\n",
    "    report_node_meta_param_analysis_pass,\n",
    "    profile_statistics_analysis_pass,\n",
    "    add_common_metadata_analysis_pass,\n",
    "    init_metadata_analysis_pass,\n",
    "    add_software_metadata_analysis_pass,\n",
    "    tensorrt_quantize_transform_pass,\n",
    "    tensorrt_calibrate_transform_pass\n",
    "    )\n",
    "from chop.tools.get_input import InputGenerator\n",
    "from chop.tools.checkpoint_load import load_model\n",
    "from chop.ir import MaseGraph\n",
    "\n",
    "from chop.models import get_model_info, get_model\n",
    "\n",
    "set_logging_verbosity(\"info\")\n"
   ]
  },
  {
   "cell_type": "code",
   "execution_count": 27,
   "metadata": {},
   "outputs": [],
   "source": [
    "model_name = \"jsc-tiny\"\n",
    "dataset_name = \"jsc\"\n",
    "max_epochs = 1\n",
    "batch_size = 256\n",
    "learning_rate = 1e-3\n",
    "accelerator = \"gpu\"\n",
    "\n",
    "data_module = MaseDataModule(\n",
    "    name=dataset_name,\n",
    "    batch_size=batch_size,\n",
    "    model_name=model_name,\n",
    "    num_workers=0,\n",
    ")\n",
    "data_module.prepare_data()\n",
    "data_module.setup()"
   ]
  },
  {
   "cell_type": "code",
   "execution_count": 28,
   "metadata": {},
   "outputs": [
    {
     "name": "stderr",
     "output_type": "stream",
     "text": [
      "\u001b[32mINFO    \u001b[0m \u001b[34mLoaded pytorch lightning checkpoint from /root/mase/TensorRTDev/jsc-tiny_classification_jsc_2024-03-03/software/training_ckpts/best.ckpt\u001b[0m\n",
      "I0303 17:49:23.019363 140004999563072 checkpoint_load.py:85] Loaded pytorch lightning checkpoint from /root/mase/TensorRTDev/jsc-tiny_classification_jsc_2024-03-03/software/training_ckpts/best.ckpt\n"
     ]
    }
   ],
   "source": [
    "# 📝️ change this CHECKPOINT_PATH to the one you trained in Lab1\n",
    "CHECKPOINT_PATH = \"/root/mase/TensorRTDev/jsc-tiny_classification_jsc_2024-03-03/software/training_ckpts/best.ckpt\"\n",
    "model_info = get_model_info(model_name)\n",
    "# quant_modules.initialize()\n",
    "model = get_model(\n",
    "    model_name,\n",
    "    task=\"cls\",\n",
    "    dataset_info=data_module.dataset_info,\n",
    "    pretrained=False)\n",
    "\n",
    "model = load_model(load_name=CHECKPOINT_PATH, load_type=\"pl\", model=model)"
   ]
  },
  {
   "cell_type": "code",
   "execution_count": 29,
   "metadata": {},
   "outputs": [],
   "source": [
    "mg = MaseGraph(model=model)"
   ]
  },
  {
   "cell_type": "code",
   "execution_count": 30,
   "metadata": {},
   "outputs": [
    {
     "name": "stdout",
     "output_type": "stream",
     "text": [
      "{'model': 'jsc-tiny', 'dataset': 'jsc', 'max_epochs': 1, 'batch_size': 256, 'learning_rate': 0.001, 'accelerator': 'gpu', 'passes': {'tensorrt-calibrate': {'by': 'type', 'calibrator': 'percentile', 'percentiles': [99], 'report': True}, 'tensorrt-quantize': {'by': 'type', 'default': {'config': {'name': 'integer', 'data_in_width': 8, 'data_in_frac_width': 4, 'weight_width': 8, 'weight_frac_width': 9, 'bias_width': 8, 'bias_frac_width': 9}}}}}\n"
     ]
    }
   ],
   "source": [
    "import toml\n",
    "\n",
    "# Path to your TOML file\n",
    "toml_file_path = '/root/mase/machop/configs/examples/toy_uniform_tensorRT.toml'\n",
    "\n",
    "# Reading TOML file and converting it into a Python dictionary\n",
    "with open(toml_file_path, 'r') as toml_file:\n",
    "    pass_args = toml.load(toml_file)\n",
    "\n",
    "print(pass_args)\n",
    "\n",
    "\n",
    "# pass_args = {\n",
    "#     \"by\": \"name\",\n",
    "#     \"default\": {\"config\": {\"name\": None}},\n",
    "#     \"feature_layers_0\": {\n",
    "#         \"config\": {\n",
    "#             \"name\": \"quantize\",\n",
    "#             \"input\": {\n",
    "#                 \"calibrator\": \"histogram\",\n",
    "#                 \"quantize_axis\": None,\n",
    "#             },\n",
    "#             \"weight\": {\n",
    "#                 \"calibrator\": \"histogram\",\n",
    "#                 \"quantize_axis\": None,\n",
    "#             },\n",
    "#         }\n",
    "#     },\n",
    "#     \"classifier_0\": {\n",
    "#         \"config\": {\n",
    "#             \"name\": \"quantize\",\n",
    "#             \"input\": {\n",
    "#                 \"calibrator\": \"histogram\",\n",
    "#                 \"quantize_axis\": None,\n",
    "#             },\n",
    "#             \"weight\": {\n",
    "#                 \"calibrator\": \"histogram\",\n",
    "#                 \"quantize_axis\": None,\n",
    "#             },\n",
    "#         }\n",
    "#     },\n",
    "# }"
   ]
  },
  {
   "cell_type": "code",
   "execution_count": 31,
   "metadata": {},
   "outputs": [],
   "source": [
    "# get the input generator\n",
    "input_generator = InputGenerator(\n",
    "    data_module=data_module,\n",
    "    model_info=model_info,\n",
    "    task=\"cls\",\n",
    "    which_dataloader=\"val\",\n",
    ")\n",
    "\n",
    "# a demonstration of how to feed an input value to the model\n",
    "dummy_in = next(iter(input_generator))\n",
    "# _ = model(**dummy_in)\n",
    "\n",
    "\n",
    "mg, _ = init_metadata_analysis_pass(mg, None)\n",
    "mg, _ = add_common_metadata_analysis_pass(mg, {\"dummy_in\": dummy_in})\n",
    "mg, _ = add_software_metadata_analysis_pass(mg, None)"
   ]
  },
  {
   "cell_type": "code",
   "execution_count": 32,
   "metadata": {},
   "outputs": [
    {
     "ename": "KeyError",
     "evalue": "'by'",
     "output_type": "error",
     "traceback": [
      "\u001b[0;31m---------------------------------------------------------------------------\u001b[0m",
      "\u001b[0;31mKeyError\u001b[0m                                  Traceback (most recent call last)",
      "Cell \u001b[0;32mIn[32], line 1\u001b[0m\n\u001b[0;32m----> 1\u001b[0m mg \u001b[38;5;241m=\u001b[39m \u001b[43mtensorrt_calibrate_transform_pass\u001b[49m\u001b[43m(\u001b[49m\u001b[43mmg\u001b[49m\u001b[43m,\u001b[49m\u001b[43m \u001b[49m\u001b[43mpass_args\u001b[49m\u001b[43m)\u001b[49m\n",
      "File \u001b[0;32m~/mase/machop/chop/passes/graph/transforms/tensorrt/quantize/calibrate.py:21\u001b[0m, in \u001b[0;36mtensorrt_calibrate_transform_pass\u001b[0;34m(graph, pass_args)\u001b[0m\n\u001b[1;32m     20\u001b[0m \u001b[38;5;28;01mdef\u001b[39;00m \u001b[38;5;21mtensorrt_calibrate_transform_pass\u001b[39m(graph, pass_args\u001b[38;5;241m=\u001b[39m\u001b[38;5;28;01mNone\u001b[39;00m):\n\u001b[0;32m---> 21\u001b[0m     by \u001b[38;5;241m=\u001b[39m \u001b[43mpass_args\u001b[49m\u001b[38;5;241;43m.\u001b[39;49m\u001b[43mpop\u001b[49m\u001b[43m(\u001b[49m\u001b[38;5;124;43m\"\u001b[39;49m\u001b[38;5;124;43mby\u001b[39;49m\u001b[38;5;124;43m\"\u001b[39;49m\u001b[43m)\u001b[49m\n\u001b[1;32m     22\u001b[0m     calibrator \u001b[38;5;241m=\u001b[39m Calibrator()\n\u001b[1;32m     23\u001b[0m     \u001b[38;5;28;01mmatch\u001b[39;00m by:\n",
      "\u001b[0;31mKeyError\u001b[0m: 'by'"
     ]
    }
   ],
   "source": [
    "mg = tensorrt_calibrate_transform_pass(mg, pass_args)"
   ]
  },
  {
   "cell_type": "code",
   "execution_count": 26,
   "metadata": {},
   "outputs": [],
   "source": [
    "mg = fake_quantize_transform_pass(mg, pass_args)"
   ]
  },
  {
   "cell_type": "code",
   "execution_count": 27,
   "metadata": {},
   "outputs": [],
   "source": [
    "pass_args_calibrate = {\n",
    "    \"calibrator\": \"percentile\",\n",
    "    \"percentiles\": [99],\n",
    "}"
   ]
  },
  {
   "cell_type": "code",
   "execution_count": 29,
   "metadata": {},
   "outputs": [
    {
     "name": "stderr",
     "output_type": "stream",
     "text": [
      "W0302 02:11:17.498290 140441676842816 tensor_quantizer.py:174] Disable HistogramCalibrator\n",
      "W0302 02:11:17.498744 140441676842816 tensor_quantizer.py:174] Disable HistogramCalibrator\n",
      "W0302 02:11:17.499680 140441676842816 tensor_quantizer.py:174] Disable HistogramCalibrator\n",
      "W0302 02:11:17.500155 140441676842816 tensor_quantizer.py:174] Disable HistogramCalibrator\n",
      "W0302 02:11:17.501498 140441676842816 tensor_quantizer.py:238] Load calibrated amax, shape=torch.Size([]).\n",
      "W0302 02:11:17.502479 140441676842816 tensor_quantizer.py:238] Load calibrated amax, shape=torch.Size([]).\n",
      "W0302 02:11:17.503285 140441676842816 tensor_quantizer.py:238] Load calibrated amax, shape=torch.Size([]).\n",
      "W0302 02:11:17.503906 140441676842816 tensor_quantizer.py:238] Load calibrated amax, shape=torch.Size([]).\n"
     ]
    },
    {
     "name": "stdout",
     "output_type": "stream",
     "text": [
      "feature_layers.0._input_quantizer       : TensorQuantizer(8bit fake per-tensor amax=2.9944 calibrator=HistogramCalibrator scale=1.0 quant)\n",
      "feature_layers.0._weight_quantizer      : TensorQuantizer(8bit fake per-tensor amax=0.1947 calibrator=HistogramCalibrator scale=1.0 quant)\n",
      "classifier.0._input_quantizer           : TensorQuantizer(8bit fake per-tensor amax=4.6854 calibrator=HistogramCalibrator scale=1.0 quant)\n",
      "classifier.0._weight_quantizer          : TensorQuantizer(8bit fake per-tensor amax=0.0126 calibrator=HistogramCalibrator scale=1.0 quant)\n",
      "Succeeded calibrating model in pyTorch!\n"
     ]
    }
   ],
   "source": [
    "graph_calibration_pass(mg, data_module.train_dataloader(), pass_args_calibrate)"
   ]
  },
  {
   "cell_type": "code",
   "execution_count": 28,
   "metadata": {},
   "outputs": [
    {
     "name": "stdout",
     "output_type": "stream",
     "text": [
      "0 GraphModule(\n",
      "  (feature_layers): Module(\n",
      "    (0): QuantConv2d(\n",
      "      3, 128, kernel_size=(3, 3), stride=(1, 1), padding=(1, 1)\n",
      "      (_input_quantizer): TensorQuantizer(8bit fake per-tensor amax=dynamic calibrator=HistogramCalibrator scale=1.0 quant)\n",
      "      (_weight_quantizer): TensorQuantizer(8bit fake per-tensor amax=dynamic calibrator=HistogramCalibrator scale=1.0 quant)\n",
      "    )\n",
      "    (1): BatchNorm2d(128, eps=1e-05, momentum=0.9, affine=True, track_running_stats=True)\n",
      "    (2): ReLU(inplace=True)\n",
      "    (3): Conv2d(128, 128, kernel_size=(3, 3), stride=(1, 1), padding=(1, 1))\n",
      "    (4): BatchNorm2d(128, eps=1e-05, momentum=0.9, affine=True, track_running_stats=True)\n",
      "    (5): ReLU(inplace=True)\n",
      "    (6): MaxPool2d(kernel_size=2, stride=2, padding=0, dilation=1, ceil_mode=False)\n",
      "    (7): Conv2d(128, 256, kernel_size=(3, 3), stride=(1, 1), padding=(1, 1))\n",
      "    (8): BatchNorm2d(256, eps=1e-05, momentum=0.9, affine=True, track_running_stats=True)\n",
      "    (9): ReLU(inplace=True)\n",
      "    (10): Conv2d(256, 256, kernel_size=(3, 3), stride=(1, 1), padding=(1, 1))\n",
      "    (11): BatchNorm2d(256, eps=1e-05, momentum=0.9, affine=True, track_running_stats=True)\n",
      "    (12): ReLU(inplace=True)\n",
      "    (13): MaxPool2d(kernel_size=2, stride=2, padding=0, dilation=1, ceil_mode=False)\n",
      "    (14): Conv2d(256, 512, kernel_size=(3, 3), stride=(1, 1), padding=(1, 1))\n",
      "    (15): BatchNorm2d(512, eps=1e-05, momentum=0.9, affine=True, track_running_stats=True)\n",
      "    (16): ReLU(inplace=True)\n",
      "    (17): Conv2d(512, 512, kernel_size=(3, 3), stride=(1, 1), padding=(1, 1))\n",
      "    (18): BatchNorm2d(512, eps=1e-05, momentum=0.9, affine=True, track_running_stats=True)\n",
      "    (19): ReLU(inplace=True)\n",
      "    (20): MaxPool2d(kernel_size=2, stride=2, padding=0, dilation=1, ceil_mode=False)\n",
      "  )\n",
      "  (classifier): Module(\n",
      "    (0): QuantLinear(\n",
      "      in_features=8192, out_features=1024, bias=True\n",
      "      (_input_quantizer): TensorQuantizer(8bit fake per-tensor amax=dynamic calibrator=HistogramCalibrator scale=1.0 quant)\n",
      "      (_weight_quantizer): TensorQuantizer(8bit fake per-tensor amax=dynamic calibrator=HistogramCalibrator scale=1.0 quant)\n",
      "    )\n",
      "    (1): ReLU(inplace=True)\n",
      "    (2): Linear(in_features=1024, out_features=1024, bias=True)\n",
      "    (3): ReLU(inplace=True)\n",
      "  )\n",
      "  (last_layer): Linear(in_features=1024, out_features=10, bias=True)\n",
      ")\n",
      "\n",
      "\n",
      "\n",
      "def forward(self, x : torch.Tensor) -> torch.Tensor:\n",
      "    feature_layers_0 = getattr(self.feature_layers, \"0\")(x);  x = None\n",
      "    feature_layers_1 = getattr(self.feature_layers, \"1\")(feature_layers_0);  feature_layers_0 = None\n",
      "    feature_layers_2 = getattr(self.feature_layers, \"2\")(feature_layers_1);  feature_layers_1 = None\n",
      "    feature_layers_3 = getattr(self.feature_layers, \"3\")(feature_layers_2);  feature_layers_2 = None\n",
      "    feature_layers_4 = getattr(self.feature_layers, \"4\")(feature_layers_3);  feature_layers_3 = None\n",
      "    feature_layers_5 = getattr(self.feature_layers, \"5\")(feature_layers_4);  feature_layers_4 = None\n",
      "    feature_layers_6 = getattr(self.feature_layers, \"6\")(feature_layers_5);  feature_layers_5 = None\n",
      "    feature_layers_7 = getattr(self.feature_layers, \"7\")(feature_layers_6);  feature_layers_6 = None\n",
      "    feature_layers_8 = getattr(self.feature_layers, \"8\")(feature_layers_7);  feature_layers_7 = None\n",
      "    feature_layers_9 = getattr(self.feature_layers, \"9\")(feature_layers_8);  feature_layers_8 = None\n",
      "    feature_layers_10 = getattr(self.feature_layers, \"10\")(feature_layers_9);  feature_layers_9 = None\n",
      "    feature_layers_11 = getattr(self.feature_layers, \"11\")(feature_layers_10);  feature_layers_10 = None\n",
      "    feature_layers_12 = getattr(self.feature_layers, \"12\")(feature_layers_11);  feature_layers_11 = None\n",
      "    feature_layers_13 = getattr(self.feature_layers, \"13\")(feature_layers_12);  feature_layers_12 = None\n",
      "    feature_layers_14 = getattr(self.feature_layers, \"14\")(feature_layers_13);  feature_layers_13 = None\n",
      "    feature_layers_15 = getattr(self.feature_layers, \"15\")(feature_layers_14);  feature_layers_14 = None\n",
      "    feature_layers_16 = getattr(self.feature_layers, \"16\")(feature_layers_15);  feature_layers_15 = None\n",
      "    feature_layers_17 = getattr(self.feature_layers, \"17\")(feature_layers_16);  feature_layers_16 = None\n",
      "    feature_layers_18 = getattr(self.feature_layers, \"18\")(feature_layers_17);  feature_layers_17 = None\n",
      "    feature_layers_19 = getattr(self.feature_layers, \"19\")(feature_layers_18);  feature_layers_18 = None\n",
      "    feature_layers_20 = getattr(self.feature_layers, \"20\")(feature_layers_19);  feature_layers_19 = None\n",
      "    view = feature_layers_20.view(-1, 8192);  feature_layers_20 = None\n",
      "    classifier_0 = getattr(self.classifier, \"0\")(view);  view = None\n",
      "    classifier_1 = getattr(self.classifier, \"1\")(classifier_0);  classifier_0 = None\n",
      "    classifier_2 = getattr(self.classifier, \"2\")(classifier_1);  classifier_1 = None\n",
      "    classifier_3 = getattr(self.classifier, \"3\")(classifier_2);  classifier_2 = None\n",
      "    last_layer = self.last_layer(classifier_3);  classifier_3 = None\n",
      "    return last_layer\n",
      "    \n",
      "# To see more debug info, please use `graph_module.print_readable()`\n",
      "1 Module(\n",
      "  (0): QuantConv2d(\n",
      "    3, 128, kernel_size=(3, 3), stride=(1, 1), padding=(1, 1)\n",
      "    (_input_quantizer): TensorQuantizer(8bit fake per-tensor amax=dynamic calibrator=HistogramCalibrator scale=1.0 quant)\n",
      "    (_weight_quantizer): TensorQuantizer(8bit fake per-tensor amax=dynamic calibrator=HistogramCalibrator scale=1.0 quant)\n",
      "  )\n",
      "  (1): BatchNorm2d(128, eps=1e-05, momentum=0.9, affine=True, track_running_stats=True)\n",
      "  (2): ReLU(inplace=True)\n",
      "  (3): Conv2d(128, 128, kernel_size=(3, 3), stride=(1, 1), padding=(1, 1))\n",
      "  (4): BatchNorm2d(128, eps=1e-05, momentum=0.9, affine=True, track_running_stats=True)\n",
      "  (5): ReLU(inplace=True)\n",
      "  (6): MaxPool2d(kernel_size=2, stride=2, padding=0, dilation=1, ceil_mode=False)\n",
      "  (7): Conv2d(128, 256, kernel_size=(3, 3), stride=(1, 1), padding=(1, 1))\n",
      "  (8): BatchNorm2d(256, eps=1e-05, momentum=0.9, affine=True, track_running_stats=True)\n",
      "  (9): ReLU(inplace=True)\n",
      "  (10): Conv2d(256, 256, kernel_size=(3, 3), stride=(1, 1), padding=(1, 1))\n",
      "  (11): BatchNorm2d(256, eps=1e-05, momentum=0.9, affine=True, track_running_stats=True)\n",
      "  (12): ReLU(inplace=True)\n",
      "  (13): MaxPool2d(kernel_size=2, stride=2, padding=0, dilation=1, ceil_mode=False)\n",
      "  (14): Conv2d(256, 512, kernel_size=(3, 3), stride=(1, 1), padding=(1, 1))\n",
      "  (15): BatchNorm2d(512, eps=1e-05, momentum=0.9, affine=True, track_running_stats=True)\n",
      "  (16): ReLU(inplace=True)\n",
      "  (17): Conv2d(512, 512, kernel_size=(3, 3), stride=(1, 1), padding=(1, 1))\n",
      "  (18): BatchNorm2d(512, eps=1e-05, momentum=0.9, affine=True, track_running_stats=True)\n",
      "  (19): ReLU(inplace=True)\n",
      "  (20): MaxPool2d(kernel_size=2, stride=2, padding=0, dilation=1, ceil_mode=False)\n",
      ")\n",
      "2 QuantConv2d(\n",
      "  3, 128, kernel_size=(3, 3), stride=(1, 1), padding=(1, 1)\n",
      "  (_input_quantizer): TensorQuantizer(8bit fake per-tensor amax=dynamic calibrator=HistogramCalibrator scale=1.0 quant)\n",
      "  (_weight_quantizer): TensorQuantizer(8bit fake per-tensor amax=dynamic calibrator=HistogramCalibrator scale=1.0 quant)\n",
      ")\n",
      "3 TensorQuantizer(8bit fake per-tensor amax=dynamic calibrator=HistogramCalibrator scale=1.0 quant)\n",
      "4 TensorQuantizer(8bit fake per-tensor amax=dynamic calibrator=HistogramCalibrator scale=1.0 quant)\n",
      "5 BatchNorm2d(128, eps=1e-05, momentum=0.9, affine=True, track_running_stats=True)\n",
      "6 ReLU(inplace=True)\n",
      "7 Conv2d(128, 128, kernel_size=(3, 3), stride=(1, 1), padding=(1, 1))\n",
      "8 BatchNorm2d(128, eps=1e-05, momentum=0.9, affine=True, track_running_stats=True)\n",
      "9 ReLU(inplace=True)\n",
      "10 MaxPool2d(kernel_size=2, stride=2, padding=0, dilation=1, ceil_mode=False)\n",
      "11 Conv2d(128, 256, kernel_size=(3, 3), stride=(1, 1), padding=(1, 1))\n",
      "12 BatchNorm2d(256, eps=1e-05, momentum=0.9, affine=True, track_running_stats=True)\n",
      "13 ReLU(inplace=True)\n",
      "14 Conv2d(256, 256, kernel_size=(3, 3), stride=(1, 1), padding=(1, 1))\n",
      "15 BatchNorm2d(256, eps=1e-05, momentum=0.9, affine=True, track_running_stats=True)\n",
      "16 ReLU(inplace=True)\n",
      "17 MaxPool2d(kernel_size=2, stride=2, padding=0, dilation=1, ceil_mode=False)\n",
      "18 Conv2d(256, 512, kernel_size=(3, 3), stride=(1, 1), padding=(1, 1))\n",
      "19 BatchNorm2d(512, eps=1e-05, momentum=0.9, affine=True, track_running_stats=True)\n",
      "20 ReLU(inplace=True)\n",
      "21 Conv2d(512, 512, kernel_size=(3, 3), stride=(1, 1), padding=(1, 1))\n",
      "22 BatchNorm2d(512, eps=1e-05, momentum=0.9, affine=True, track_running_stats=True)\n",
      "23 ReLU(inplace=True)\n",
      "24 MaxPool2d(kernel_size=2, stride=2, padding=0, dilation=1, ceil_mode=False)\n",
      "25 Module(\n",
      "  (0): QuantLinear(\n",
      "    in_features=8192, out_features=1024, bias=True\n",
      "    (_input_quantizer): TensorQuantizer(8bit fake per-tensor amax=dynamic calibrator=HistogramCalibrator scale=1.0 quant)\n",
      "    (_weight_quantizer): TensorQuantizer(8bit fake per-tensor amax=dynamic calibrator=HistogramCalibrator scale=1.0 quant)\n",
      "  )\n",
      "  (1): ReLU(inplace=True)\n",
      "  (2): Linear(in_features=1024, out_features=1024, bias=True)\n",
      "  (3): ReLU(inplace=True)\n",
      ")\n",
      "26 QuantLinear(\n",
      "  in_features=8192, out_features=1024, bias=True\n",
      "  (_input_quantizer): TensorQuantizer(8bit fake per-tensor amax=dynamic calibrator=HistogramCalibrator scale=1.0 quant)\n",
      "  (_weight_quantizer): TensorQuantizer(8bit fake per-tensor amax=dynamic calibrator=HistogramCalibrator scale=1.0 quant)\n",
      ")\n",
      "27 TensorQuantizer(8bit fake per-tensor amax=dynamic calibrator=HistogramCalibrator scale=1.0 quant)\n",
      "28 TensorQuantizer(8bit fake per-tensor amax=dynamic calibrator=HistogramCalibrator scale=1.0 quant)\n",
      "29 ReLU(inplace=True)\n",
      "30 Linear(in_features=1024, out_features=1024, bias=True)\n",
      "31 ReLU(inplace=True)\n",
      "32 Linear(in_features=1024, out_features=10, bias=True)\n"
     ]
    }
   ],
   "source": [
    "# for node in mg.fx_graph.nodes:\n",
    "#     print(node.target)\n",
    "# print(mg.model)\n",
    "i = 0\n",
    "for name, module in mg.model.named_modules():\n",
    "    print(i,module)\n",
    "    i += 1"
   ]
  }
 ],
 "metadata": {
  "kernelspec": {
   "display_name": "mase",
   "language": "python",
   "name": "python3"
  },
  "language_info": {
   "codemirror_mode": {
    "name": "ipython",
    "version": 3
   },
   "file_extension": ".py",
   "mimetype": "text/x-python",
   "name": "python",
   "nbconvert_exporter": "python",
   "pygments_lexer": "ipython3",
   "version": "3.11.4"
  }
 },
 "nbformat": 4,
 "nbformat_minor": 2
}
