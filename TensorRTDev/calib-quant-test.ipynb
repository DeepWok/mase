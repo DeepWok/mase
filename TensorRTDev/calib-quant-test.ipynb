{
 "cells": [
  {
   "cell_type": "markdown",
   "metadata": {},
   "source": [
    "!!!!!!!!!!!!!!!!!!!!!!!!!!!!!!!!!!!!!!!!!!!!!!!!!!!!!!!!!!!!!!!!!!!!!!!!!!!!!!!!!!!\n",
    "pip install --no-cache-dir --index-url https://pypi.nvidia.com pytorch-quantization !!!!!!!!!!!!!!!!!!!!!!!!!!!!!!!!!!!!!!!!!!!!!!!!!!!!!!!!!!!!!!!!!!!!!!!!!!!!!!!!!!!\n",
    " ./ch transform --config configs/examples/toy_uniform_tensorRT.toml --load /root/mase/TensorRTDev/jsc-tiny_classification_jsc_2024-03-03/software/training_ckpts/best.ckpt --load-type pl\n",
    "./ch train --config configs/examples/toy_uniform_tensorRT.toml\n",
    "!!!!!!!!!!!!!!!!!!!!!!!!!!!!!!!!!!!!!!!!!!!!!!!!!!!!!!!!!!!!!!!!!!!!!!!!!!!!!!!!!!!"
   ]
  },
  {
   "cell_type": "markdown",
   "metadata": {},
   "source": [
    "sudo apt update && sudo apt upgrade -y \n",
    "\n",
    "wget https://repo.continuum.io/archive/Anaconda3-2023.09-0-Linux-x86_64.sh \n",
    "\n",
    "bash Anaconda3-2023.09-0-Linux-x86_64.sh \n",
    "\n",
    "Close and reopen terminal\n",
    "\n",
    "source /root/.bashrc\n",
    "\n",
    "conda config --set auto_activate_base false\n",
    "\n",
    "git clone https://github.com/mau-mar/mase/\n",
    "\n",
    "cd mase\n",
    "\n",
    "bash scripts/init-conda.sh\n",
    "\n",
    "source /opt/conda/etc/profile.d/conda.sh\n",
    "\n",
    "conda activate mase\n",
    "\n",
    "conda config --add channels conda-forge\n",
    "\n",
    "git checkout origin/mauro-tensorRT-integration\n",
    "\n",
    "cuda-python\n",
    "absl-py\n",
    "scipy\n",
    "prettytable\n",
    "sphinx-glpi-theme\n",
    "\n",
    "./ch train --config configs/examples/toy_uniform_tensorRT.toml"
   ]
  },
  {
   "cell_type": "code",
   "execution_count": 1,
   "metadata": {},
   "outputs": [
    {
     "name": "stderr",
     "output_type": "stream",
     "text": [
      "/opt/conda/envs/mase/lib/python3.11/site-packages/tqdm/auto.py:21: TqdmWarning: IProgress not found. Please update jupyter and ipywidgets. See https://ipywidgets.readthedocs.io/en/stable/user_install.html\n",
      "  from .autonotebook import tqdm as notebook_tqdm\n"
     ]
    },
    {
     "name": "stdout",
     "output_type": "stream",
     "text": [
      "2.1.3\n"
     ]
    },
    {
     "name": "stderr",
     "output_type": "stream",
     "text": [
      "\u001b[32mINFO    \u001b[0m \u001b[34mSet logging level to info\u001b[0m\n",
      "WARNING: Logging before flag parsing goes to stderr.\n",
      "I0309 20:09:30.304821 140462377215808 logger.py:44] Set logging level to info\n"
     ]
    }
   ],
   "source": [
    "import sys\n",
    "import logging\n",
    "import os\n",
    "from pathlib import Path\n",
    "from pprint import pprint as pp\n",
    "\n",
    "# # figure out the correct path\n",
    "machop_path = Path(\".\").resolve().parent /\"machop\"\n",
    "assert machop_path.exists(), \"Failed to find machop at: {}\".format(machop_path)\n",
    "sys.path.append(str(machop_path))\n",
    "import torch\n",
    "import torch.nn as nn\n",
    "import torch.nn.functional as F\n",
    "import torch.optim as optim\n",
    "import torch.utils.data as data\n",
    "import torchvision\n",
    "import torchvision.transforms as transforms\n",
    "import torchvision.datasets as datasets\n",
    "import torch_tensorrt\n",
    "import copy\n",
    "from torch.utils.tensorboard import SummaryWriter\n",
    "\n",
    "import pytorch_quantization\n",
    "from pytorch_quantization import nn as quant_nn\n",
    "from pytorch_quantization import quant_modules\n",
    "from pytorch_quantization.tensor_quant import QuantDescriptor\n",
    "from pytorch_quantization import calib\n",
    "from tqdm import tqdm\n",
    "\n",
    "print(pytorch_quantization.__version__)\n",
    "\n",
    "from chop.dataset import MaseDataModule, get_dataset_info\n",
    "from chop.tools.logger import set_logging_verbosity\n",
    "\n",
    "from chop.passes.graph import (\n",
    "    save_node_meta_param_interface_pass,\n",
    "    report_node_meta_param_analysis_pass,\n",
    "    profile_statistics_analysis_pass,\n",
    "    add_common_metadata_analysis_pass,\n",
    "    init_metadata_analysis_pass,\n",
    "    add_software_metadata_analysis_pass,\n",
    "    tensorrt_calibrate_transform_pass,\n",
    "    tensorrt_fake_quantize_transform_pass,\n",
    "    tensorrt_train_transform_pass,\n",
    "    tensorrt_quantize_transform_pass,\n",
    "    tensorrt_analysis_pass,\n",
    "    )\n",
    "from chop.passes.graph.utils import deepcopy_mase_graph\n",
    "from chop.tools.get_input import InputGenerator\n",
    "from chop.tools.checkpoint_load import load_model\n",
    "from chop.ir import MaseGraph\n",
    "\n",
    "from chop.models import get_model_info, get_model\n",
    "\n",
    "set_logging_verbosity(\"info\")"
   ]
  },
  {
   "cell_type": "code",
   "execution_count": 2,
   "metadata": {},
   "outputs": [
    {
     "name": "stderr",
     "output_type": "stream",
     "text": [
      "\u001b[32mINFO    \u001b[0m \u001b[34mLoaded pytorch lightning checkpoint from /root/mase/TensorRTDev/jsc-tiny_classification_jsc_2024-03-05/software/training_ckpts/best.ckpt\u001b[0m\n",
      "I0309 20:10:17.797180 140462377215808 checkpoint_load.py:85] Loaded pytorch lightning checkpoint from /root/mase/TensorRTDev/jsc-tiny_classification_jsc_2024-03-05/software/training_ckpts/best.ckpt\n"
     ]
    }
   ],
   "source": [
    "model_name = \"jsc-tiny\"\n",
    "dataset_name = \"jsc\"\n",
    "max_epochs = 1\n",
    "batch_size = 256\n",
    "learning_rate = 1e-3\n",
    "accelerator = \"gpu\"\n",
    "\n",
    "data_module = MaseDataModule(\n",
    "    name=dataset_name,\n",
    "    batch_size=batch_size,\n",
    "    model_name=model_name,\n",
    "    num_workers=0,\n",
    ")\n",
    "data_module.prepare_data()\n",
    "data_module.setup()\n",
    "\n",
    "# 📝️ change this CHECKPOINT_PATH to the one you trained in Lab1\n",
    "CHECKPOINT_PATH = \"/root/mase/TensorRTDev/jsc-tiny_classification_jsc_2024-03-05/software/training_ckpts/best.ckpt\"\n",
    "#CHECKPOINT_PATH = \"/root/mase/TensorRTDev/jsc-trt_classification_jsc_2024-03-05/software/training_ckpts/best.ckpt\"\n",
    "#CHECKPOINT_PATH = \"/root/mase/TensorRTDev/jsc-toy_classification_jsc_2024-03-05/software/training_ckpts/best.ckpt\"\n",
    "\n",
    "model_info = get_model_info(model_name)\n",
    "# quant_modules.initialize()\n",
    "model = get_model(\n",
    "    model_name,\n",
    "    task=\"cls\",\n",
    "    dataset_info=data_module.dataset_info,\n",
    "    pretrained=False)\n",
    "\n",
    "model = load_model(load_name=CHECKPOINT_PATH, load_type=\"pl\", model=model)\n",
    "\n",
    "input_generator = InputGenerator(\n",
    "    data_module=data_module,\n",
    "    model_info=model_info,\n",
    "    task=\"cls\",\n",
    "    which_dataloader=\"train\",\n",
    ")\n",
    "\n",
    "dummy_in = next(iter(input_generator))\n",
    "_ = model(**dummy_in)\n",
    "\n",
    "# generate the mase graph and initialize node metadata\n",
    "mg = MaseGraph(model=model)\n",
    "\n",
    "mg, _ = init_metadata_analysis_pass(mg, None)\n",
    "mg, _ = add_common_metadata_analysis_pass(mg, {\"dummy_in\": dummy_in})\n",
    "mg, _ = add_software_metadata_analysis_pass(mg, None)\n",
    "\n",
    "for inputs in data_module.train_dataloader():\n",
    "    xs, ys = inputs\n",
    "    preds = mg.model(xs)"
   ]
  },
  {
   "cell_type": "code",
   "execution_count": 3,
   "metadata": {},
   "outputs": [
    {
     "name": "stdout",
     "output_type": "stream",
     "text": [
      "TensorRT Quantize Config: {'by': 'type', 'calibrator': ['percentile', 'max', 'mse', 'entropy'], 'num_calibration_batches': 100, 'percentiles': [99], 'report': True, 'linear': {'config': {'quantize': True, 'precision': 'FP16'}, 'input': {'calibrator': 'histogram', 'quantize_axis': False}, 'weight': {'calibrator': 'histogram', 'quantize_axis': False}}, 'default': {'config': {'quantize': True, 'precision': 'FP16', 'input': {'calibrator': 'histogram', 'quantize_axis': False}, 'weight': {'calibrator': 'histogram', 'quantize_axis': False}}}}\n",
      "TensorRT Train Config: {'qat_epochs': 10}\n",
      "TensorRT Analysis Config: {'num_batches': 20, 'num_GPU_warmup_batches': 5}\n"
     ]
    }
   ],
   "source": [
    "import toml\n",
    "\n",
    "# Path to your TOML file\n",
    "toml_file_path = '/root/mase/machop/configs/examples/jsc_trt_quantization.toml'\n",
    "\n",
    "# Reading TOML file and converting it into a Python dictionary\n",
    "with open(toml_file_path, 'r') as toml_file:\n",
    "    pass_args = toml.load(toml_file)\n",
    "\n",
    "# Extract the 'passes.tensorrt-quantize' section and its children\n",
    "tensorrt_quantize_config = pass_args.get('passes', {}).get('tensorrt-quantize', {})\n",
    "# Extract the 'passes.tensorrt-train' section and its children\n",
    "tensorrt_train_config = pass_args.get('passes', {}).get('tensorrt-train', {})\n",
    "# Extract the 'passes.tensorrt-analysis' section and its children\n",
    "tensorrt_analysis_config = pass_args.get('passes', {}).get('tensorrt-analysis', {})\n",
    "\n",
    "# Print or return the extracted section\n",
    "print(\"TensorRT Quantize Config:\", tensorrt_quantize_config)\n",
    "print(\"TensorRT Train Config:\", tensorrt_train_config)\n",
    "print(\"TensorRT Analysis Config:\", tensorrt_analysis_config)"
   ]
  },
  {
   "cell_type": "code",
   "execution_count": 4,
   "metadata": {},
   "outputs": [],
   "source": [
    "configs = [tensorrt_quantize_config, tensorrt_train_config, tensorrt_analysis_config]\n",
    "for config in configs:\n",
    "    config['batch_size'] = pass_args['batch_size']\n",
    "    config['data_module'] = data_module\n",
    "    config['accelerator'] = 'cuda' if pass_args['accelerator'] == 'gpu' else pass_args['accelerator']\n",
    "    if config['accelerator'] == 'gpu':\n",
    "        os.environ['CUDA_MODULE_LOADING'] = 'LAZY'"
   ]
  },
  {
   "cell_type": "code",
   "execution_count": 5,
   "metadata": {},
   "outputs": [
    {
     "name": "stderr",
     "output_type": "stream",
     "text": [
      "W0309 20:11:15.883367 140462377215808 tensor_quantizer.py:174] Disable MaxCalibrator\n",
      "W0309 20:11:15.890764 140462377215808 tensor_quantizer.py:174] Disable MaxCalibrator\n",
      "W0309 20:11:15.892544 140462377215808 tensor_quantizer.py:238] Load calibrated amax, shape=torch.Size([]).\n",
      "W0309 20:11:15.894035 140462377215808 tensor_quantizer.py:239] Call .cuda() if running on GPU after loading calibrated amax.\n",
      "\u001b[32mINFO    \u001b[0m \u001b[34mseq_blocks.2._input_quantizer           : TensorQuantizer(8bit fake per-tensor amax=36.6832 calibrator=MaxCalibrator scale=1.0 quant)\u001b[0m\n",
      "I0309 20:11:15.896220 140462377215808 calibrate.py:61] seq_blocks.2._input_quantizer           : TensorQuantizer(8bit fake per-tensor amax=36.6832 calibrator=MaxCalibrator scale=1.0 quant)\n",
      "W0309 20:11:15.901113 140462377215808 tensor_quantizer.py:238] Load calibrated amax, shape=torch.Size([5, 1]).\n",
      "\u001b[32mINFO    \u001b[0m \u001b[34mseq_blocks.2._weight_quantizer          : TensorQuantizer(8bit fake axis=0 amax=[1.1850, 5.9336](5) calibrator=MaxCalibrator scale=1.0 quant)\u001b[0m\n",
      "I0309 20:11:15.903123 140462377215808 calibrate.py:61] seq_blocks.2._weight_quantizer          : TensorQuantizer(8bit fake axis=0 amax=[1.1850, 5.9336](5) calibrator=MaxCalibrator scale=1.0 quant)\n",
      "W0309 20:11:15.905548 140462377215808 tensor_quantizer.py:238] Load calibrated amax, shape=torch.Size([]).\n",
      "\u001b[32mINFO    \u001b[0m \u001b[34mseq_blocks.2._input_quantizer           : TensorQuantizer(8bit fake per-tensor amax=36.6832 calibrator=MaxCalibrator scale=1.0 quant)\u001b[0m\n",
      "I0309 20:11:15.906603 140462377215808 calibrate.py:61] seq_blocks.2._input_quantizer           : TensorQuantizer(8bit fake per-tensor amax=36.6832 calibrator=MaxCalibrator scale=1.0 quant)\n",
      "W0309 20:11:15.908337 140462377215808 tensor_quantizer.py:238] Load calibrated amax, shape=torch.Size([5, 1]).\n",
      "\u001b[32mINFO    \u001b[0m \u001b[34mseq_blocks.2._weight_quantizer          : TensorQuantizer(8bit fake axis=0 amax=[1.1850, 5.9336](5) calibrator=MaxCalibrator scale=1.0 quant)\u001b[0m\n",
      "I0309 20:11:15.909732 140462377215808 calibrate.py:61] seq_blocks.2._weight_quantizer          : TensorQuantizer(8bit fake axis=0 amax=[1.1850, 5.9336](5) calibrator=MaxCalibrator scale=1.0 quant)\n",
      "W0309 20:11:15.912006 140462377215808 tensor_quantizer.py:238] Load calibrated amax, shape=torch.Size([]).\n",
      "\u001b[32mINFO    \u001b[0m \u001b[34mseq_blocks.2._input_quantizer           : TensorQuantizer(8bit fake per-tensor amax=36.6832 calibrator=MaxCalibrator scale=1.0 quant)\u001b[0m\n",
      "I0309 20:11:15.912940 140462377215808 calibrate.py:61] seq_blocks.2._input_quantizer           : TensorQuantizer(8bit fake per-tensor amax=36.6832 calibrator=MaxCalibrator scale=1.0 quant)\n",
      "W0309 20:11:15.914931 140462377215808 tensor_quantizer.py:238] Load calibrated amax, shape=torch.Size([5, 1]).\n",
      "\u001b[32mINFO    \u001b[0m \u001b[34mseq_blocks.2._weight_quantizer          : TensorQuantizer(8bit fake axis=0 amax=[1.1850, 5.9336](5) calibrator=MaxCalibrator scale=1.0 quant)\u001b[0m\n",
      "I0309 20:11:15.916394 140462377215808 calibrate.py:61] seq_blocks.2._weight_quantizer          : TensorQuantizer(8bit fake axis=0 amax=[1.1850, 5.9336](5) calibrator=MaxCalibrator scale=1.0 quant)\n",
      "W0309 20:11:15.918475 140462377215808 tensor_quantizer.py:238] Load calibrated amax, shape=torch.Size([]).\n",
      "\u001b[32mINFO    \u001b[0m \u001b[34mseq_blocks.2._input_quantizer           : TensorQuantizer(8bit fake per-tensor amax=36.6832 calibrator=MaxCalibrator scale=1.0 quant)\u001b[0m\n",
      "I0309 20:11:15.920030 140462377215808 calibrate.py:61] seq_blocks.2._input_quantizer           : TensorQuantizer(8bit fake per-tensor amax=36.6832 calibrator=MaxCalibrator scale=1.0 quant)\n",
      "W0309 20:11:15.923085 140462377215808 tensor_quantizer.py:238] Load calibrated amax, shape=torch.Size([5, 1]).\n",
      "\u001b[32mINFO    \u001b[0m \u001b[34mseq_blocks.2._weight_quantizer          : TensorQuantizer(8bit fake axis=0 amax=[1.1850, 5.9336](5) calibrator=MaxCalibrator scale=1.0 quant)\u001b[0m\n",
      "I0309 20:11:15.925659 140462377215808 calibrate.py:61] seq_blocks.2._weight_quantizer          : TensorQuantizer(8bit fake axis=0 amax=[1.1850, 5.9336](5) calibrator=MaxCalibrator scale=1.0 quant)\n",
      "\u001b[32mINFO    \u001b[0m \u001b[34mSucceeded in calibrating the model in PyTorch!\u001b[0m\n",
      "I0309 20:11:15.929156 140462377215808 calibrate.py:106] Succeeded in calibrating the model in PyTorch!\n",
      "\u001b[32mINFO    \u001b[0m \u001b[34mConverting PyTorch model to ONNX...\u001b[0m\n",
      "I0309 20:11:15.938366 140462377215808 quantize.py:119] Converting PyTorch model to ONNX...\n",
      "/opt/conda/envs/mase/lib/python3.11/site-packages/pytorch_quantization/tensor_quant.py:363: TracerWarning: Converting a tensor to a Python boolean might cause the trace to be incorrect. We can't record the data flow of Python values, so this value will be treated as a constant in the future. This means that the trace might not generalize to other inputs!\n",
      "  if min_amax < 0:\n",
      "/opt/conda/envs/mase/lib/python3.11/site-packages/pytorch_quantization/tensor_quant.py:366: TracerWarning: torch.tensor results are registered as constants in the trace. You can safely ignore this warning if you use this function to create tensors out of constant variables that would be the same every time you call this function. In any other case, this might cause the trace to be incorrect.\n",
      "  max_bound = torch.tensor((2.0**(num_bits - 1 + int(unsigned))) - 1.0, device=amax.device)\n",
      "/opt/conda/envs/mase/lib/python3.11/site-packages/pytorch_quantization/tensor_quant.py:376: TracerWarning: Converting a tensor to a Python boolean might cause the trace to be incorrect. We can't record the data flow of Python values, so this value will be treated as a constant in the future. This means that the trace might not generalize to other inputs!\n",
      "  if min_amax <= epsilon:  # Treat amax smaller than minimum representable of fp16 0\n",
      "/opt/conda/envs/mase/lib/python3.11/site-packages/pytorch_quantization/tensor_quant.py:382: TracerWarning: Converting a tensor to a Python boolean might cause the trace to be incorrect. We can't record the data flow of Python values, so this value will be treated as a constant in the future. This means that the trace might not generalize to other inputs!\n",
      "  if min_amax <= epsilon:\n",
      "\u001b[32mINFO    \u001b[0m \u001b[34mONNX Conversion Complete. Stored ONNX model to /root/mase/mase_output/TensorRT/Quantization/ONNX/2024_03_09/version_3/model.onnx\u001b[0m\n",
      "I0309 20:11:16.102861 140462377215808 quantize.py:129] ONNX Conversion Complete. Stored ONNX model to /root/mase/mase_output/TensorRT/Quantization/ONNX/2024_03_09/version_3/model.onnx\n",
      "\u001b[32mINFO    \u001b[0m \u001b[34mConverting PyTorch model to TensorRT...\u001b[0m\n",
      "I0309 20:11:16.105064 140462377215808 quantize.py:72] Converting PyTorch model to TensorRT...\n"
     ]
    },
    {
     "name": "stdout",
     "output_type": "stream",
     "text": [
      "[03/09/2024-20:11:24] [TRT] [W] CUDA lazy loading is not enabled. Enabling it can significantly reduce device memory usage and speed up TensorRT initialization. See \"Lazy Loading\" section of CUDA documentation https://docs.nvidia.com/cuda/cuda-c-programming-guide/index.html#lazy-loading\n"
     ]
    },
    {
     "name": "stderr",
     "output_type": "stream",
     "text": [
      "\u001b[32mINFO    \u001b[0m \u001b[34mTensorRT Conversion Complete. Stored trt model to /root/mase/mase_output/TensorRT/Quantization/TRT/2024_03_09/version_0/model.trt\u001b[0m\n",
      "I0309 20:12:21.418328 140462377215808 quantize.py:114] TensorRT Conversion Complete. Stored trt model to /root/mase/mase_output/TensorRT/Quantization/TRT/2024_03_09/version_0/model.trt\n"
     ]
    },
    {
     "name": "stdout",
     "output_type": "stream",
     "text": [
      "[03/09/2024-20:12:21] [TRT] [W] CUDA lazy loading is not enabled. Enabling it can significantly reduce device memory usage and speed up TensorRT initialization. See \"Lazy Loading\" section of CUDA documentation https://docs.nvidia.com/cuda/cuda-c-programming-guide/index.html#lazy-loading\n",
      "[ 0]Input -> DataType.FLOAT (256, 16) (256, 16) input\n",
      "[ 1]Output-> DataType.FLOAT (256, 5) (256, 5) 35\n"
     ]
    },
    {
     "name": "stderr",
     "output_type": "stream",
     "text": [
      "\u001b[32mINFO    \u001b[0m \u001b[34m\n",
      "TensorRT Engine Input/Output Information:\n",
      "Index | Type    | DataType | Static Shape         | Dynamic Shape        | Name\n",
      "------|---------|----------|----------------------|----------------------|-----------------------\n",
      "0     | Input   | FLOAT    | (256, 16)              | (256, 16)              | input\n",
      "1     | Output  | FLOAT    | (256, 5)               | (256, 5)               | 35\u001b[0m\n",
      "I0309 20:15:51.802461 140462377215808 <string>:27] \n",
      "TensorRT Engine Input/Output Information:\n",
      "Index | Type    | DataType | Static Shape         | Dynamic Shape        | Name\n",
      "------|---------|----------|----------------------|----------------------|-----------------------\n",
      "0     | Input   | FLOAT    | (256, 16)              | (256, 16)              | input\n",
      "1     | Output  | FLOAT    | (256, 5)               | (256, 5)               | 35\n",
      "\u001b[32mINFO    \u001b[0m \u001b[34m\n",
      "TensorRT Engine Input/Output Information:\n",
      "Index | Type    | DataType | Static Shape         | Dynamic Shape        | Name\n",
      "------|---------|----------|----------------------|----------------------|-----------------------\n",
      "0     | Input   | FLOAT    | (256, 16)              | (256, 16)              | input\n",
      "1     | Output  | FLOAT    | (256, 5)               | (256, 5)               | 35\u001b[0m\n",
      "I0309 20:16:25.061238 140462377215808 <string>:4] \n",
      "TensorRT Engine Input/Output Information:\n",
      "Index | Type    | DataType | Static Shape         | Dynamic Shape        | Name\n",
      "------|---------|----------|----------------------|----------------------|-----------------------\n",
      "0     | Input   | FLOAT    | (256, 16)              | (256, 16)              | input\n",
      "1     | Output  | FLOAT    | (256, 5)               | (256, 5)               | 35\n",
      "\u001b[32mINFO    \u001b[0m \u001b[34m\n",
      "TensorRT Engine Input/Output Information:\n",
      "Index | Type    | DataType | Static Shape         | Dynamic Shape        | Name\n",
      "------|---------|----------|----------------------|----------------------|-----------------------\n",
      "0     | Input   | FLOAT    | (256, 16)              | (256, 16)              | input\n",
      "1     | Output  | FLOAT    | (256, 5)               | (256, 5)               | 35\u001b[0m\n",
      "I0309 20:17:02.178348 140462377215808 <string>:2] \n",
      "TensorRT Engine Input/Output Information:\n",
      "Index | Type    | DataType | Static Shape         | Dynamic Shape        | Name\n",
      "------|---------|----------|----------------------|----------------------|-----------------------\n",
      "0     | Input   | FLOAT    | (256, 16)              | (256, 16)              | input\n",
      "1     | Output  | FLOAT    | (256, 5)               | (256, 5)               | 35\n"
     ]
    },
    {
     "name": "stdout",
     "output_type": "stream",
     "text": [
      "[03/09/2024-20:18:23] [TRT] [W] The getMaxBatchSize() function should not be used with an engine built from a network created with NetworkDefinitionCreationFlag::kEXPLICIT_BATCH flag. This function will always return 1.\n"
     ]
    },
    {
     "ename": "TypeError",
     "evalue": "get_binding_shape(): incompatible function arguments. The following argument types are supported:\n    1. (self: tensorrt_bindings.tensorrt.IExecutionContext, binding: int) -> tensorrt_bindings.tensorrt.Dims\n\nInvoked with: <tensorrt_bindings.tensorrt.IExecutionContext object at 0x7fbd1d131230>, 'input'",
     "output_type": "error",
     "traceback": [
      "\u001b[0;31m---------------------------------------------------------------------------\u001b[0m",
      "\u001b[0;31mTypeError\u001b[0m                                 Traceback (most recent call last)",
      "Cell \u001b[0;32mIn[5], line 20\u001b[0m\n\u001b[1;32m     17\u001b[0m mg, trt_meta \u001b[38;5;241m=\u001b[39m tensorrt_quantize_transform_pass(mg, pass_args\u001b[38;5;241m=\u001b[39mtensorrt_quantize_config)\n\u001b[1;32m     19\u001b[0m \u001b[38;5;66;03m# Compare original tensorrt with quantized graph\u001b[39;00m\n\u001b[0;32m---> 20\u001b[0m mg_model_og, _ \u001b[38;5;241m=\u001b[39m \u001b[43mtensorrt_analysis_pass\u001b[49m\u001b[43m(\u001b[49m\u001b[43mmg_model_og\u001b[49m\u001b[43m,\u001b[49m\u001b[43m \u001b[49m\u001b[43mtrt_meta\u001b[49m\u001b[43m[\u001b[49m\u001b[38;5;124;43m'\u001b[39;49m\u001b[38;5;124;43mtrt_graph_path\u001b[39;49m\u001b[38;5;124;43m'\u001b[39;49m\u001b[43m]\u001b[49m\u001b[43m,\u001b[49m\u001b[43m \u001b[49m\u001b[43mpass_args\u001b[49m\u001b[38;5;241;43m=\u001b[39;49m\u001b[43mtensorrt_analysis_config\u001b[49m\u001b[43m)\u001b[49m\n",
      "File \u001b[0;32m~/mase/machop/chop/passes/graph/transforms/tensorrt/quantize/analysis.py:57\u001b[0m, in \u001b[0;36mtensorrt_analysis_pass\u001b[0;34m(original_model, trt_engine_path, pass_args)\u001b[0m\n\u001b[1;32m     56\u001b[0m \u001b[38;5;28;01mdef\u001b[39;00m \u001b[38;5;21mtensorrt_analysis_pass\u001b[39m(original_model, trt_engine_path, pass_args\u001b[38;5;241m=\u001b[39m\u001b[38;5;28;01mNone\u001b[39;00m):\n\u001b[0;32m---> 57\u001b[0m     analysis \u001b[38;5;241m=\u001b[39m \u001b[43mQuantizationAnalysis\u001b[49m\u001b[43m(\u001b[49m\u001b[43moriginal_model\u001b[49m\u001b[43m,\u001b[49m\u001b[43m \u001b[49m\u001b[43mtrt_engine_path\u001b[49m\u001b[43m,\u001b[49m\u001b[43m \u001b[49m\u001b[43mpass_args\u001b[49m\u001b[43m)\u001b[49m\n\u001b[1;32m     58\u001b[0m     results \u001b[38;5;241m=\u001b[39m analysis\u001b[38;5;241m.\u001b[39mevaluate()\n\u001b[1;32m     59\u001b[0m     \u001b[38;5;28;01mreturn\u001b[39;00m original_model, results\n",
      "File \u001b[0;32m~/mase/machop/chop/passes/graph/transforms/tensorrt/quantize/analysis.py:85\u001b[0m, in \u001b[0;36mQuantizationAnalysis.__init__\u001b[0;34m(self, original_model, trt_engine_path, config)\u001b[0m\n\u001b[1;32m     81\u001b[0m     self.logger = logging.getLogger(__name__)\n\u001b[1;32m     82\u001b[0m     self.summarize()\n\u001b[1;32m     84\u001b[0m def summarize(self):\n\u001b[0;32m---> 85\u001b[0m     # Initialize list to collect IO information\n\u001b[1;32m     86\u001b[0m     io_info_lines = [\n\u001b[1;32m     87\u001b[0m         \"Index | Type    | DataType | Static Shape         | Dynamic Shape        | Name\",\n\u001b[1;32m     88\u001b[0m         \"------|---------|----------|----------------------|----------------------|-----------------------\"\n\u001b[1;32m     89\u001b[0m     ]\n\u001b[1;32m     91\u001b[0m     # Collecting input and output information\n",
      "File \u001b[0;32m~/mase/machop/chop/passes/graph/transforms/tensorrt/quantize/analysis.py:99\u001b[0m, in \u001b[0;36msummarize\u001b[0;34m(self)\u001b[0m\n\u001b[1;32m     96\u001b[0m dynamic_shape = self.context.get_binding_shape(self.lTensorName[i])\n\u001b[1;32m     97\u001b[0m name = self.lTensorName[i]\n\u001b[0;32m---> 99\u001b[0m # Translate TensorRT data type to string\n\u001b[1;32m    100\u001b[0m dtype_str = str(dtype).split('.')[-1]  # Convert from DataType.FLOAT to FLOAT\n\u001b[1;32m    102\u001b[0m # Format the IO information\n",
      "\u001b[0;31mTypeError\u001b[0m: get_binding_shape(): incompatible function arguments. The following argument types are supported:\n    1. (self: tensorrt_bindings.tensorrt.IExecutionContext, binding: int) -> tensorrt_bindings.tensorrt.Dims\n\nInvoked with: <tensorrt_bindings.tensorrt.IExecutionContext object at 0x7fbd1d131230>, 'input'"
     ]
    }
   ],
   "source": [
    "'''  \n",
    "./ch transform --config configs/examples/jsc_trt_quantization.toml --load ../TensorRTDev/jsc-tiny_classification_jsc_2024-03-05/software/training_ckpts/best.ckpt --load-type pl\n",
    "./ch transform --config configs/examples/jsc_trt_quantization.toml --load ../TensorRTDev/jsc-trt_classification_jsc_2024-03-05/software/training_ckpts/best.ckpt --load-type pl\n",
    "./ch transform --config configs/examples/jsc_trt_quantization.toml --load ../TensorRTDev/jsc-toy_classification_jsc_2024-03-05/software/training_ckpts/best.ckpt --load-type pl\n",
    "'''\n",
    "# Restart kernel and re-run previous cells to avoid any issues\n",
    "# mg_og = deepcopy_mase_graph(mg)\n",
    "mg_original = copy.deepcopy(mg.model)\n",
    "\n",
    "# Calibrate model (passing data samples to the quantizer and deciding the best amax for activations)\n",
    "mg, _ = tensorrt_calibrate_transform_pass(mg, pass_args=tensorrt_quantize_config)\n",
    "\n",
    "# # Conduct QAT\n",
    "# mg, _ = tensorrt_train_transform_pass(mg, pass_args=tensorrt_train_config)\n",
    "\n",
    "# Convert and store to ONNX and then TensorRT\n",
    "mg, trt_meta = tensorrt_quantize_transform_pass(mg, pass_args=tensorrt_quantize_config)\n",
    "\n",
    "# Compare original tensorrt with quantized graph\n",
    "mg_original, _ = tensorrt_analysis_pass(mg_original, trt_meta['trt_graph_path'], pass_args=tensorrt_analysis_config)"
   ]
  }
 ],
 "metadata": {
  "kernelspec": {
   "display_name": "mase",
   "language": "python",
   "name": "python3"
  },
  "language_info": {
   "codemirror_mode": {
    "name": "ipython",
    "version": 3
   },
   "file_extension": ".py",
   "mimetype": "text/x-python",
   "name": "python",
   "nbconvert_exporter": "python",
   "pygments_lexer": "ipython3",
   "version": "3.11.4"
  }
 },
 "nbformat": 4,
 "nbformat_minor": 2
}
