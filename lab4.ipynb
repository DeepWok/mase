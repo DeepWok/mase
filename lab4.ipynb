{
 "cells": [
  {
   "cell_type": "markdown",
   "metadata": {},
   "source": [
    "## **torch.compile**"
   ]
  },
  {
   "cell_type": "code",
   "execution_count": 1,
   "metadata": {},
   "outputs": [],
   "source": [
    "import torch\n",
    "import time\n",
    "from chop.models import get_model\n",
    "from chop.dataset import get_dataset_info\n",
    "\n",
    "\n",
    "def timed_gpu(fn):\n",
    "    start = torch.cuda.Event(enable_timing=True)\n",
    "    end = torch.cuda.Event(enable_timing=True)\n",
    "    start.record()\n",
    "    result = fn()\n",
    "    end.record()\n",
    "    torch.cuda.synchronize()\n",
    "    return result, start.elapsed_time(end) / 1000\n",
    "\n",
    "\n",
    "def timed_cpu(fn):\n",
    "    start = time.time()\n",
    "    result = fn()\n",
    "    return result, time.time() - start\n",
    "\n",
    "\n",
    "def get_data():\n",
    "    return torch.randn(128, 3, 224, 224)\n",
    "\n",
    "\n",
    "def time_model(fn, n=1000, device=\"cpu\"):\n",
    "    times = []\n",
    "    data = get_data().to(device)\n",
    "    for _ in range(n):\n",
    "        if device == \"cpu\":\n",
    "            _, t = timed_cpu(lambda: fn(data.cpu()))\n",
    "        else:\n",
    "            _, t = timed_gpu(lambda: fn(data))\n",
    "        times.append(t)\n",
    "    avg_time = sum(times) / len(times)\n",
    "    return avg_time\n",
    "\n",
    "cifar10_info = get_dataset_info(\"imagenet\")\n",
    "model = get_model(\"resnet18\", pretrained=True, dataset_info=cifar10_info)\n",
    "image = torch.randn(64, 3, 224, 224)\n",
    "\n",
    "opt_model = torch.compile(model)"
   ]
  },
  {
   "cell_type": "code",
   "execution_count": 4,
   "metadata": {},
   "outputs": [
    {
     "name": "stdout",
     "output_type": "stream",
     "text": [
      "Original model: 2.1772 s\n",
      "Optimized model: 1.5918 s\n"
     ]
    }
   ],
   "source": [
    "device = \"cpu\"\n",
    "n = 5\n",
    "\n",
    "model.to(device)\n",
    "opt_model.to(device)\n",
    "avg_t = time_model(model, n=n, device=device)\n",
    "opt_avg_t = time_model(opt_model, n=n, device=device)\n",
    "print(f\"Original model: {avg_t:.4f} s\")\n",
    "print(f\"Optimized model: {opt_avg_t:.4f} s\")"
   ]
  },
  {
   "cell_type": "code",
   "execution_count": 8,
   "metadata": {},
   "outputs": [
    {
     "name": "stdout",
     "output_type": "stream",
     "text": [
      "Original model: 0.0761 s\n",
      "Optimized model: 0.0666 s\n"
     ]
    }
   ],
   "source": [
    "device = \"cuda\"\n",
    "n = 5\n",
    "\n",
    "model.to(device)\n",
    "opt_model.to(device)\n",
    "avg_t = time_model(model, n=n, device=device)\n",
    "opt_avg_t = time_model(opt_model, n=n, device=device)\n",
    "print(f\"Original model: {avg_t:.4f} s\")\n",
    "print(f\"Optimized model: {opt_avg_t:.4f} s\")"
   ]
  },
  {
   "cell_type": "markdown",
   "metadata": {},
   "source": [
    "## **kernel fusion**"
   ]
  },
  {
   "cell_type": "code",
   "execution_count": 73,
   "metadata": {},
   "outputs": [],
   "source": [
    "import math\n",
    "import torch\n",
    "import torch.nn.functional as F\n",
    "\n",
    "\n",
    "class ScaledDotProductAttention(torch.nn.Module):\n",
    "    def __init__(self):\n",
    "        super(ScaledDotProductAttention, self).__init__()\n",
    "\n",
    "    def forward(self, query, key, value):\n",
    "        scale_factor = 1 / math.sqrt(query.size(-1))\n",
    "        score = query @ key.transpose(-2, -1) * scale_factor\n",
    "        attn = F.softmax(score, -1)\n",
    "        context = attn @ value\n",
    "        return context\n",
    "\n",
    "\n",
    "class ScaledDotProductAttentionFused(torch.nn.Module):\n",
    "    def forward(self, query, key, value):\n",
    "        return F.scaled_dot_product_attention(query, key, value)"
   ]
  },
  {
   "cell_type": "code",
   "execution_count": 74,
   "metadata": {},
   "outputs": [
    {
     "name": "stdout",
     "output_type": "stream",
     "text": [
      "tensor(1.) tensor(1.)\n"
     ]
    }
   ],
   "source": [
    "\"\"\" forward \"\"\"\n",
    "device = \"cpu\"  \n",
    "dtype = torch.float32  \n",
    "\n",
    "query = torch.ones(32, 8, 128, 64, dtype=dtype, device=device)\n",
    "key = torch.ones(32, 8, 128, 64, dtype=dtype, device=device)\n",
    "value = torch.ones(32, 8, 128, 64, dtype=dtype, device=device)\n",
    "\n",
    "y1 = ScaledDotProductAttention()(query, key, value)\n",
    "y2 = ScaledDotProductAttentionFused()(query, key, value)\n",
    "print(y1[0, 0, 0, 0], y2[0, 0, 0, 0])\n"
   ]
  },
  {
   "cell_type": "code",
   "execution_count": 75,
   "metadata": {},
   "outputs": [],
   "source": [
    "model_navie = ScaledDotProductAttention()\n",
    "model_fused = ScaledDotProductAttentionFused()\n"
   ]
  },
  {
   "cell_type": "code",
   "execution_count": 76,
   "metadata": {},
   "outputs": [],
   "source": [
    "def timed_gpu(fn):\n",
    "    start = torch.cuda.Event(enable_timing=True)\n",
    "    end = torch.cuda.Event(enable_timing=True)\n",
    "    start.record()\n",
    "    result = fn()\n",
    "    end.record()\n",
    "    torch.cuda.synchronize()\n",
    "    return result, start.elapsed_time(end) / 1000\n",
    "\n",
    "\n",
    "def timed_cpu(fn):\n",
    "    start = time.time()\n",
    "    result = fn()\n",
    "    return result, time.time() - start\n",
    "\n",
    "\n",
    "def get_data():\n",
    "    query = torch.ones(32, 8, 128, 64, dtype=dtype, device=device)\n",
    "    key = torch.ones(32, 8, 128, 64, dtype=dtype, device=device)\n",
    "    value = torch.ones(32, 8, 128, 64, dtype=dtype, device=device)\n",
    "    return query, key, value\n",
    "\n",
    "\n",
    "def time_model(fn, n=1000, device=\"cpu\"):\n",
    "    times = []\n",
    "    query, key, value = get_data()\n",
    "    query = query.to(device)\n",
    "    key = key.to(device)    \n",
    "    value = value.to(device)    \n",
    "    for _ in range(n):\n",
    "        if device == \"cpu\":\n",
    "            _, t = timed_cpu(lambda: fn(query.cpu(), key.cpu(), value.cpu()))\n",
    "        else:\n",
    "            _, t = timed_gpu(lambda: fn(query, key, value))\n",
    "        times.append(t)\n",
    "    avg_time = sum(times) / len(times)\n",
    "    return avg_time"
   ]
  },
  {
   "cell_type": "code",
   "execution_count": 62,
   "metadata": {},
   "outputs": [],
   "source": [
    "import torch\n",
    "import time\n",
    "n = 5"
   ]
  },
  {
   "cell_type": "code",
   "execution_count": 97,
   "metadata": {},
   "outputs": [
    {
     "name": "stdout",
     "output_type": "stream",
     "text": [
      "Original model: 0.0144 s\n",
      "Optimized model: 0.0068 s\n"
     ]
    }
   ],
   "source": [
    "device = \"cpu\"\n",
    "model_navie.to(device)\n",
    "model_fused.to(device)\n",
    "avg_t = time_model(model_navie, n=n, device=device)\n",
    "fused_avg_t = time_model(model_fused, n=n, device=device)\n",
    "print(f\"Original model: {avg_t:.4f} s\")\n",
    "print(f\"Optimized model: {fused_avg_t:.4f} s\")"
   ]
  },
  {
   "cell_type": "code",
   "execution_count": 111,
   "metadata": {},
   "outputs": [
    {
     "name": "stdout",
     "output_type": "stream",
     "text": [
      "Original model: 0.0058 s\n",
      "Optimized model: 0.0031 s\n"
     ]
    }
   ],
   "source": [
    "device = \"cuda\"\n",
    "model_navie.to(device)\n",
    "model_fused.to(device)\n",
    "avg_t = time_model(model_navie, n=n, device=device)\n",
    "fused_avg_t = time_model(model_fused, n=n, device=device)\n",
    "print(f\"Original model: {avg_t:.4f} s\")\n",
    "print(f\"Optimized model: {fused_avg_t:.4f} s\")"
   ]
  },
  {
   "cell_type": "markdown",
   "metadata": {},
   "source": [
    "## **Custom kernel**"
   ]
  },
  {
   "cell_type": "code",
   "execution_count": null,
   "metadata": {},
   "outputs": [],
   "source": []
  }
 ],
 "metadata": {
  "kernelspec": {
   "display_name": "mase",
   "language": "python",
   "name": "python3"
  },
  "language_info": {
   "codemirror_mode": {
    "name": "ipython",
    "version": 3
   },
   "file_extension": ".py",
   "mimetype": "text/x-python",
   "name": "python",
   "nbconvert_exporter": "python",
   "pygments_lexer": "ipython3",
   "version": "3.11.11"
  }
 },
 "nbformat": 4,
 "nbformat_minor": 2
}
