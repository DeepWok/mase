{
 "cells": [
  {
   "cell_type": "code",
   "execution_count": 12,
   "metadata": {},
   "outputs": [],
   "source": [
    "# For training model\n",
    "import torch\n",
    "import torch.nn as nn\n",
    "import torch.optim as optim\n",
    "import torch.utils.data\n",
    "import torch.nn.functional as F\n",
    "from torch.utils.data import TensorDataset, DataLoader\n",
    "from torch.optim.lr_scheduler import ExponentialLR\n",
    "# For utilities\n",
    "import numpy as np\n",
    "import networkx as nx\n",
    "import math\n",
    "import json\n",
    "import pickle\n",
    "import time\n",
    "import ast\n",
    "import matplotlib.pyplot as plt\n",
    "from einops import rearrange"
   ]
  },
  {
   "cell_type": "code",
   "execution_count": 13,
   "metadata": {},
   "outputs": [],
   "source": [
    "# Load proxy score data from json file\n",
    "file_path = r'/home/ansonhon/mase_project/machop/naslib/data/zc_nasbenchnlp8901.json'\n",
    "with open(file_path, 'r') as file:\n",
    "    data = json.load(file)"
   ]
  },
  {
   "cell_type": "code",
   "execution_count": 14,
   "metadata": {},
   "outputs": [],
   "source": [
    "# load model actual accuracy from pickle file\n",
    "file_path = r'/home/ansonhon/mase_project/machop/naslib/data/nb_nlp.pickle'\n",
    "# Open the file in read mode and load\n",
    "with open(file_path, 'rb') as file:\n",
    "    targets = pickle.load(file)"
   ]
  },
  {
   "cell_type": "code",
   "execution_count": 15,
   "metadata": {},
   "outputs": [],
   "source": [
    "data_key_list = list(data.keys())\n",
    "targets_key_list = list(targets.keys())"
   ]
  },
  {
   "cell_type": "code",
   "execution_count": 16,
   "metadata": {},
   "outputs": [
    {
     "name": "stdout",
     "output_type": "stream",
     "text": [
      "355\n"
     ]
    }
   ],
   "source": [
    "### Write data into two arrays\n",
    "val_loss_list = []\n",
    "score_list = []\n",
    "compact_list = []\n",
    "proxy_name_list = ['grasp', 'l2_norm', 'nwot', 'params', 'flops']\n",
    "for key in data_key_list:\n",
    "    key_tuple = ast.literal_eval(key)\n",
    "    if key_tuple in targets_key_list:\n",
    "        # Record final validation loss into list\n",
    "        val_loss = targets[key_tuple]['val_losses'][-1]\n",
    "        val_loss_list.append(val_loss)\n",
    "\n",
    "        # Record small proxy score into list\n",
    "        mini_list = []\n",
    "        for proxy_name in proxy_name_list:\n",
    "            mini_list.append(data[key][proxy_name])\n",
    "        score_list.append([mini_list])\n",
    "\n",
    "        # Record compact/hash into list\n",
    "        compact_list.append(key_tuple)\n",
    "\n",
    "print(len(score_list))"
   ]
  },
  {
   "cell_type": "code",
   "execution_count": 18,
   "metadata": {},
   "outputs": [],
   "source": [
    "class NeuralModel(nn.Module):\n",
    "    def __init__(self, input_size):\n",
    "        super(NeuralModel, self).__init__()\n",
    "        self.linear1 = nn.Linear(input_size, 64)\n",
    "        self.sigmoid = nn.Sigmoid()\n",
    "        self.linear2 = nn.Linear(64, 128)\n",
    "        self.relu = nn.ReLU()\n",
    "        self.linear3 = nn.Linear(128, 1)\n",
    "\n",
    "    def forward(self, x):\n",
    "        x = self.relu(self.linear1(x))\n",
    "        x = self.relu(self.linear2(x))\n",
    "        x = self.linear3(x)\n",
    "        return x"
   ]
  },
  {
   "cell_type": "code",
   "execution_count": 19,
   "metadata": {},
   "outputs": [
    {
     "name": "stderr",
     "output_type": "stream",
     "text": [
      "/tmp/ipykernel_1397/2713344997.py:7: RuntimeWarning: invalid value encountered in divide\n",
      "  z_normalized_data = (data_numpy - mean) / (std_dev)\n"
     ]
    }
   ],
   "source": [
    "data_numpy = np.array(score_list)\n",
    "data_numpy = np.where(np.isinf(data_numpy) & (data_numpy < 0), 0, data_numpy)\n",
    "data_numpy = rearrange(data_numpy, 'n 1 d -> n d')\n",
    "# z-normalize data\n",
    "mean = np.mean(data_numpy, axis=0)\n",
    "std_dev = np.std(data_numpy, axis=0)                                 \n",
    "z_normalized_data = (data_numpy - mean) / (std_dev)\n",
    "z_normalized_data = np.where(np.isnan(z_normalized_data), 0, z_normalized_data)\n",
    "z_normalized_data[:,4] = 1\n",
    "\n",
    "target_numpy = np.array(val_loss_list)\n",
    "data_tensor = torch.tensor(z_normalized_data, dtype=torch.float32)\n",
    "target_tensor = torch.tensor(target_numpy, dtype=torch.float32)"
   ]
  },
  {
   "cell_type": "code",
   "execution_count": 20,
   "metadata": {},
   "outputs": [
    {
     "name": "stdout",
     "output_type": "stream",
     "text": [
      "Epoch [1/50], Train Loss: 8.8767\n",
      "Epoch [2/50], Train Loss: 3.4976\n",
      "Epoch [3/50], Train Loss: 13.1082\n",
      "Epoch [4/50], Train Loss: 16.2431\n",
      "Epoch [5/50], Train Loss: 16.6447\n",
      "Epoch [6/50], Train Loss: 11.7721\n",
      "Epoch [7/50], Train Loss: 11.0280\n",
      "Epoch [8/50], Train Loss: 8.5229\n",
      "Epoch [9/50], Train Loss: 5.0902\n",
      "Epoch [10/50], Train Loss: 4.7980\n",
      "Epoch [11/50], Train Loss: 6.7445\n",
      "Epoch [12/50], Train Loss: 2.0092\n",
      "Epoch [13/50], Train Loss: 3.6189\n",
      "Epoch [14/50], Train Loss: 4.7117\n",
      "Epoch [15/50], Train Loss: 3.0479\n",
      "Epoch [16/50], Train Loss: 2.5107\n",
      "Epoch [17/50], Train Loss: 2.4664\n",
      "Epoch [18/50], Train Loss: 2.3417\n",
      "Epoch [19/50], Train Loss: 1.5737\n",
      "Epoch [20/50], Train Loss: 0.8899\n",
      "Epoch [21/50], Train Loss: 0.8903\n",
      "Epoch [22/50], Train Loss: 1.3932\n",
      "Epoch [23/50], Train Loss: 0.7084\n",
      "Epoch [24/50], Train Loss: 1.3234\n",
      "Epoch [25/50], Train Loss: 3.0664\n",
      "Epoch [26/50], Train Loss: 1.4384\n",
      "Epoch [27/50], Train Loss: 142.4664\n",
      "Epoch [28/50], Train Loss: 1.5493\n",
      "Epoch [29/50], Train Loss: 1.7411\n",
      "Epoch [30/50], Train Loss: 1.1772\n",
      "Epoch [31/50], Train Loss: 1.3604\n",
      "Epoch [32/50], Train Loss: 0.1616\n",
      "Epoch [33/50], Train Loss: 0.8047\n",
      "Epoch [34/50], Train Loss: 0.1066\n",
      "Epoch [35/50], Train Loss: 0.3013\n",
      "Epoch [36/50], Train Loss: 0.0689\n",
      "Epoch [37/50], Train Loss: 1.3750\n",
      "Epoch [38/50], Train Loss: 1.2639\n",
      "Epoch [39/50], Train Loss: 1.7987\n",
      "Epoch [40/50], Train Loss: 0.4899\n",
      "Epoch [41/50], Train Loss: 1.3982\n",
      "Epoch [42/50], Train Loss: 0.9545\n",
      "Epoch [43/50], Train Loss: 1.2287\n",
      "Epoch [44/50], Train Loss: 0.3937\n",
      "Epoch [45/50], Train Loss: 0.7381\n",
      "Epoch [46/50], Train Loss: 1.5525\n",
      "Epoch [47/50], Train Loss: 0.3494\n",
      "Epoch [48/50], Train Loss: 0.4346\n",
      "Epoch [49/50], Train Loss: 0.9009\n",
      "Epoch [50/50], Train Loss: 0.8616\n",
      "Test Loss: 0.8744\n"
     ]
    }
   ],
   "source": [
    "# Split data into train and test sets\n",
    "test_size = int(0.1 * len(data_tensor))  # 10% of the data for testing\n",
    "indices = np.arange(len(data_tensor))\n",
    "np.random.shuffle(indices)\n",
    "train_indices, test_indices = indices[test_size:], indices[:test_size]\n",
    "\n",
    "data_train, data_test = data_tensor[train_indices], data_tensor[test_indices]\n",
    "target_train, target_test = target_tensor[train_indices], target_tensor[test_indices]\n",
    "\n",
    "# Define hyperparameters\n",
    "input_size = 5  # Dimension of the data\n",
    "initial_learning_rate = 0.1\n",
    "batch_size = 8\n",
    "num_epochs = 50\n",
    "gamma = 0.9\n",
    "\n",
    "# Create DataLoader for training and testing sets\n",
    "train_dataset = TensorDataset(data_train, target_train)\n",
    "train_loader = DataLoader(train_dataset, batch_size=batch_size, shuffle=True)\n",
    "\n",
    "test_dataset = TensorDataset(data_test, target_test)\n",
    "test_loader = DataLoader(test_dataset, batch_size=batch_size, shuffle=False)\n",
    "\n",
    "# Initialize the model\n",
    "model = NeuralModel(input_size)\n",
    "\n",
    "# Define loss function and optimizer\n",
    "criterion = nn.MSELoss()\n",
    "optimizer = optim.Adam(model.parameters(), lr=initial_learning_rate)\n",
    "scheduler = ExponentialLR(optimizer, gamma=gamma)\n",
    "\n",
    "# Training loop\n",
    "test_losses = []\n",
    "final_output = []\n",
    "final_targets = []\n",
    "for epoch in range(num_epochs):\n",
    "    model.train()  # Set model to training mode\n",
    "    for inputs, targets in train_loader:\n",
    "        # Forward pass\n",
    "        outputs = model(inputs)\n",
    "        # print(\"outputs: \", outputs)\n",
    "        # print(\"targets: \", targets)\n",
    "        # Compute loss\n",
    "        loss = criterion(outputs, targets)\n",
    "        # Backward pass and optimization\n",
    "        optimizer.zero_grad()\n",
    "        loss.backward()\n",
    "        optimizer.step()\n",
    "\n",
    "    scheduler.step()\n",
    "    # Print progress\n",
    "    print(f'Epoch [{epoch+1}/{num_epochs}], Train Loss: {loss.item():.4f}')\n",
    "\n",
    "    # Evaluation on test set\n",
    "    model.eval()  # Set model to evaluation mode\n",
    "    test_loss = 0.0\n",
    "    with torch.no_grad():\n",
    "        for inputs, targets in test_loader:\n",
    "            outputs = model(inputs)\n",
    "            test_loss += criterion(outputs, targets).item()\n",
    "            if epoch == 99:\n",
    "                final_output.append(outputs)\n",
    "                final_targets.append(targets)\n",
    "\n",
    "\n",
    "        test_losses.append(test_loss/len(test_loader))\n",
    "\n",
    "print(f'Test Loss: {test_loss / len(test_loader):.4f}')"
   ]
  },
  {
   "cell_type": "code",
   "execution_count": 21,
   "metadata": {},
   "outputs": [
    {
     "data": {
      "image/png": "[encoded data removed]",
      "text/plain": [
       "<Figure size 640x480 with 1 Axes>"
      ]
     },
     "metadata": {},
     "output_type": "display_data"
    }
   ],
   "source": [
    "plt.plot(test_losses)\n",
    "plt.title('Test losses')\n",
    "plt.xlabel('Epoch')\n",
    "plt.ylabel('MSE of final loss value prediction')\n",
    "plt.show()"
   ]
  },
  {
   "cell_type": "code",
   "execution_count": 22,
   "metadata": {},
   "outputs": [],
   "source": [
    "model.eval()\n",
    "inputs_list = []\n",
    "predictions = []\n",
    "targets_list = []\n",
    "with torch.no_grad():\n",
    "    for inputs, targets in train_loader:\n",
    "        inputs_list.append(np.array(inputs[0][0]))\n",
    "        targets_list.append(targets)\n",
    "        outputs = model(inputs)\n",
    "        predictions.append(outputs)\n",
    "        \n",
    "    "
   ]
  },
  {
   "cell_type": "code",
   "execution_count": 23,
   "metadata": {},
   "outputs": [],
   "source": [
    "model.eval()\n",
    "inputs_list = []\n",
    "predictions = []\n",
    "with torch.no_grad():\n",
    "    for inputs, target in test_loader:\n",
    "        inputs_list.append(inputs)\n",
    "        outputs = model(inputs)\n",
    "        predictions.append(outputs)"
   ]
  },
  {
   "cell_type": "code",
   "execution_count": 24,
   "metadata": {},
   "outputs": [],
   "source": [
    "# corr_predictions_np = np.array(predictions)\n",
    "concat_inputs = torch.cat(inputs_list, dim = 0)\n",
    "inputs_np = concat_inputs.numpy()\n",
    "\n",
    "targets_np = np.array(target_test)\n",
    "\n",
    "concat_predictions = torch.cat(predictions, dim = 0)\n",
    "predictions_np = concat_predictions.numpy()"
   ]
  },
  {
   "cell_type": "code",
   "execution_count": 25,
   "metadata": {},
   "outputs": [],
   "source": [
    "predictions_np = rearrange(predictions_np, 'a 1 -> a')"
   ]
  },
  {
   "cell_type": "code",
   "execution_count": 26,
   "metadata": {},
   "outputs": [],
   "source": [
    "grasp = inputs_np[:,0]\n",
    "l2_norm = inputs_np[:,1]\n",
    "nwot = inputs_np[:,2]\n",
    "params = inputs_np[:,3]\n",
    "flops = inputs_np[:,4]\n",
    "\n",
    "corr_to_plot = np.stack((grasp, l2_norm, params,  predictions_np, targets_np), axis = 1)"
   ]
  },
  {
   "cell_type": "code",
   "execution_count": 27,
   "metadata": {},
   "outputs": [
    {
     "data": {
      "image/png": "[encoded data removed]",
      "text/plain": [
       "<Figure size 800x600 with 2 Axes>"
      ]
     },
     "metadata": {},
     "output_type": "display_data"
    }
   ],
   "source": [
    "correlation_matrix = np.corrcoef(corr_to_plot, rowvar=False)\n",
    "# Plot correlation matrix\n",
    "plt.figure(figsize=(8, 6))\n",
    "plt.imshow(correlation_matrix, cmap='viridis', interpolation='nearest')\n",
    "plt.colorbar(label='Correlation')\n",
    "plt.title('Correlation Matrix')\n",
    "plt.xticks(np.arange(5), ['grasp', 'l2_norm',  'params',  'predictions', 'val loss' ])\n",
    "plt.yticks(np.arange(5), ['grasp', 'l2_norm',  'params',  'predictions', 'val loss' ])\n",
    "plt.show()"
   ]
  }
 ],
 "metadata": {
  "kernelspec": {
   "display_name": "mase",
   "language": "python",
   "name": "python3"
  },
  "language_info": {
   "codemirror_mode": {
    "name": "ipython",
    "version": 3
   },
   "file_extension": ".py",
   "mimetype": "text/x-python",
   "name": "python",
   "nbconvert_exporter": "python",
   "pygments_lexer": "ipython3",
   "version": "3.10.13"
  }
 },
 "nbformat": 4,
 "nbformat_minor": 2
}
